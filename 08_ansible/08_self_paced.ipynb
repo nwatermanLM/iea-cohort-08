{
 "cells": [
  {
   "cell_type": "markdown",
   "metadata": {},
   "source": [
    "# 10/05\n",
    "\n",
    "Finish any of the Ansible Labs you have not yet completed.\n",
    "\t\n",
    "Continue working on your Astronomy API lab, the bonus challenges, or unit tests for the lab.\n",
    "\t\n",
    "Practice your git workflow.  Make sure your class materials and your Astronomy Lab are checked in and pushed to Github!\n",
    "\t\n",
    "Try the Ansible lab bonus and add SSH keys to your 2 VMs I have assigned.  Be sure to remove your password from your inventory file once you have verified key access.\n",
    "\t\n",
    "Ansible has a ton of modules to help you perform various tasks.  Look over the list of modules (we've been using the \"builtin\" group) to see what is available for your specific team's needs.  Note there are modules to help with various cloud providers and hardware devices in addition to just regular Linux / Windows \"hosts\"\n",
    "\thttps://docs.ansible.com/ansible/latest/collections/index_module.html\n",
    "\t\n",
    "Take a deeper look at the \"template\" module in particular.  This module allows you to use an existing Jinja2 template, inject variable values, and copy the resulting file to the target machine.  Experiment with making a small playbook that uses this module and consider how it could be used to deploy complex configuration files to target machines.\n",
    "\thttps://docs.ansible.com/ansible/latest/collections/ansible/builtin/template_module.html#ansible-collections-ansible-builtin-template-module\n",
    "\t\n",
    "Examine the data discovered in the \"ansible_facts\" variable you are provided.  See if you can use the \"debug\" module to print out some ansible_facts about your assigned VMs.\n",
    "\thttps://docs.ansible.com/ansible/latest/user_guide/playbooks_vars_facts.html#ansible-facts\n",
    "\t\n",
    "Read through the Jinja2 template syntax to get a better understanding of what it is capable of in Ansible, or look at the Jinja2 project documentation itself:\n",
    "\thttps://docs.ansible.com/ansible/latest/user_guide/playbooks_templating.html#playbooks-templating\n",
    "\thttps://jinja.palletsprojects.com/en/3.1.x/templates/\n",
    "\t\n",
    "Try experimenting with Jinja2 templating.  See if you can create a template for an email message, a spreadsheet, a report, or anything else you might find useful.  Since Jinja2 just treats the template as text and only looks at it's own syntax, you could even template some Python code and run the template results!\n",
    "\t\n",
    "Write a basic playbook that will \"deploy\" your Astronomy Lab script to one of your Ansible VMs.  Consider how you might handle the following:\t\n",
    "Ensuring the file is properly copied to the target host, especially if it has changed recently.\t\n",
    "Creating a virtual environment if necessary.\t\n",
    "Ensuring all the dependencies for your script (requests, etc.) are installed on the target host.\t\t\n",
    "Executing the script on the target host to verify it has been deployed correctly (smoke test)"
   ]
  },
  {
   "cell_type": "markdown",
   "metadata": {},
   "source": [
    "# 10/6\n",
    "\n",
    "Finish any of your Ansible Labs you have not already completed.\n",
    "\t\n",
    "Practice your git workflow and make sure your labs are committed and pushed to Github!\n",
    "\t\n",
    "Take a look at the \"Deploying a WebApp\" lab for Ansible in our materials.  This is going to be a longer more involved lab to simulate the actual deployment setup of a Python web application and database.  I'll go over the instructions in detail tomorrow and give you all as much time as possible to work on it before we close up for this session.\n",
    "\t\n",
    "Take a look the Sample Ansible Setup we discussed and the various subdirectories you can store your data in.  Consider how this would affect your team workflow if you were maintaining a set of playbooks to manage your infrastructure.  https://docs.ansible.com/ansible/latest/user_guide/sample_setup.html\n",
    "\t\n",
    "Read through the Ansible User guide documentation on the various extra Playbook features we used today to see more details and examples:\t\n",
    "Handlers: https://docs.ansible.com/ansible/latest/user_guide/playbooks_handlers.html\t\n",
    "Loops: https://docs.ansible.com/ansible/latest/user_guide/playbooks_loops.html\t\n",
    "Conditionals: https://docs.ansible.com/ansible/latest/user_guide/playbooks_conditionals.html\t\n",
    "Blocks: https://docs.ansible.com/ansible/latest/user_guide/playbooks_blocks.html\n",
    "\t\n",
    "We had some questions this afternoon around Ansible's parallel nature and how to control it.  Try experimenting with the -f option for ansible-playbook and see if you can understand the result of using more or less forks when running your playbook.  You can read some details here as well:\n",
    "\thttps://docs.ansible.com/ansible/latest/user_guide/playbooks_strategies.html\n",
    "\t\n",
    "Variables, as we saw yesterday and today, play a big part of the way Ansible works.  See if you can register some variables from tasks or create some variables in your playbooks from previous labs and try overriding the variables using the variable precedence.\n",
    "\tPractice Python by trying one of my previously suggested code katas\n",
    "\tWork on a code kata or side project of your choosing"
   ]
  },
  {
   "cell_type": "markdown",
   "metadata": {},
   "source": [
    "# 10/07\n",
    "\n",
    "Finish any of the labs you didn't finish this week, or start into your final Ansible lab (\"Deploying a Web App\").  We will not be doing the AWX lab, but you're welcome to look it over if you're curious.\n",
    "\t\n",
    "Finish your Astronomy API lab from last week.  We will share solutions when we come back in Session 3.  If you've finished the basics, try some of the bonuses, or try adding unit tests.\n",
    "\t\n",
    "Take a look at some of the roles available on Ansible Galaxy (https://galaxy.ansible.com/home) to see if any might prove useful to you and your team.\n",
    "\t\n",
    "Taking a few tasks we've built before (like our playbook4.yml from the previous lab), see if you can create your own role incorporating those tasks, and include it from other playbook.  Don't forget that ansible-galaxy role init can help you get started!\n",
    "\t\n",
    "Jeff Geerling, who we saw as the author of several roles we looked at today, is a great resource for Ansible material (and Raspberry Pi stuff).  Take a look at some of his videos on YouTube here (https://www.youtube.com/c/jeffgeerling) or his Ansible book:  https://www.ansiblefordevops.com/\n",
    "\t\n",
    "Keep your Python skills sharp by trying a code kata I've suggested before.  Try doing one with Test Driven Development to see if your solution comes out different than you expected.\n",
    "\t\n",
    "Use Ansible to deploy a Python script to your lab VMs.  Be sure to check out some of the Python-specific modules that might help you, like the \"pip\" module:  https://docs.ansible.com/ansible/latest/collections/ansible/builtin/pip_module.html#ansible-collections-ansible-builtin-pip-module\n",
    "\tNOTE:  The pip module has a parameter for virtualenvs that may prove useful.\n",
    "\t\n",
    "Consider that Ansible can be used without an inventory, as it just defaults to an inventory that contains \"localhost\".  Could you write a playbook that will automatically set up a new development machine if you keep your preferences and configuration files in a Github repo?  Give it a try.\n",
    "\t\n",
    "Have a great break and I'll see you again in Session 3 on 2022-10-17"
   ]
  }
 ],
 "metadata": {
  "language_info": {
   "name": "python"
  },
  "orig_nbformat": 4
 },
 "nbformat": 4,
 "nbformat_minor": 2
}
