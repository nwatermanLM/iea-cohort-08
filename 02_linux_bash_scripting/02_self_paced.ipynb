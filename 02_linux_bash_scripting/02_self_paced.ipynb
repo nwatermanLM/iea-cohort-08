{
 "cells": [
  {
   "cell_type": "markdown",
   "metadata": {},
   "source": [
    "# 8/12\n",
    "\n",
    "Read through the details of the Linux Filesystem Hierarchy standard to see any additional directories we didn't specifically discuss.  https://en.wikipedia.org/wiki/Filesystem_Hierarchy_Standard\n",
    "\t\n",
    "The Linux kernel supports a number of filesystems (actual drivers that store / read files) out of the box, and there are even more available via various packages.  You can read about some of them here:\n",
    "\thttps://wiki.archlinux.org/title/file_systems\n",
    "\t\n",
    "\thttps://opensource.com/article/18/4/ext4-filesystem\n",
    "\t\n",
    "It may be a bit early, and we will go over several more of the commands used here, but a fun way to practice your filesystem navigation and bash commands is a game called Bash Crawl.  It's done in the style of a text-based adventure, but you navigate the filesystem as if it were the rooms of the dungeoun.  Try it out!\n",
    "\thttps://gitlab.com/slackermedia/bashcrawl"
   ]
  },
  {
   "cell_type": "markdown",
   "metadata": {},
   "source": []
  }
 ],
 "metadata": {
  "language_info": {
   "name": "python"
  },
  "orig_nbformat": 4
 },
 "nbformat": 4,
 "nbformat_minor": 2
}
