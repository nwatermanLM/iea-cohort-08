{
 "cells": [
  {
   "cell_type": "markdown",
   "metadata": {},
   "source": [
    "# 9/29\n",
    "\n",
    "Today we introduced the idea of code quality tools.  Explore the documentation for pycodestyle, flake8, pylint, or black to see how they report or enforce coding style.\n",
    "\t\n",
    "Install one or more of the code quality tools we discussed and try running them against your code.  See if you can understand and correct for any error messages you get.\n",
    "\t\n",
    "Automated testing is a big topic, but a huge number of books have been written on the topic.  In addition to books like The Phoenix Project take a look at books by Martin Fowler, Kent Beck, Robert C. Martin, and other noteworthy software engineering leader to see their views and studies on automated testing.\n",
    "\tHere are a few blog posts on the topic to get you started:\n",
    "\thttps://tidyfirst.substack.com/p/desirable-unit-tests\n",
    "\thttps://blog.cleancoder.com/uncle-bob/2017/05/05/TestDefinitions.html\n",
    "\thttps://martinfowler.com/bliki/UnitTest.html\n",
    "\t\n",
    "Pytest is one of the most popular Python unit testing frameworks, but there are several more.  Feel free to explore other testing tools for Python:\n",
    "\t\n",
    "Doctest: https://docs.python.org/3/library/doctest.html\n",
    "\t\t\n",
    "Nose: https://docs.nose2.io/en/latest/\n",
    "\t\t\n",
    "Robot: https://robotframework.org/robotframework/latest/RobotFrameworkUserGuide.html\n",
    "\t\n",
    "Look back at your previous labs or side projects.  Choose a function and see if you can begin thinking about how you might test it.  If it seems difficult to test your function, how might you change the function to make it easier to test?\n",
    "\t\n",
    "Consider a higher severity issue you may have dealt with in the past with your team, related to code or configuration.  Do you think that having an automated test for the software could have prevented this issue from occurring before it got to production?\n",
    "\t\n",
    "Code Kata Suggestion: Bank OCR (https://codingdojo.org/kata/BankOCR/)\n",
    "\t\n",
    "Previous Kata suggestions: Supermarket Pricing, Fizz Buzz, Look and Say, Anagrams, Valid Parentheses, Tom Swift Under the Milkwood, Word Chains, Harry Potter, Alphabet Cipher, Conway's Game of Life, Bowling Game.\n",
    "\t\n",
    "Try writing unit tests for any of the katas you've created before.\n",
    "\n",
    "Consider what we've learned so far about Python, including conditionals, loops, lists, and dictionaries. You should now have the tools to build yourself a small game as a practice exercise. Try looking at the rules for a classic board game or card game like Checkers, Go, \"War\" (card game), or Black Jack. Consider how you might model information about the pieces, the board, the players, etc. using the tools we've learned and start a text-only version of one of these games"
   ]
  },
  {
   "cell_type": "markdown",
   "metadata": {},
   "source": [
    "# 9/30\n",
    "\n",
    "Explore TDD further.  Try one of the code katas I've suggested, or any of our prior labs, and do it using the TDD techniques we studied today.\n",
    "\t\n",
    "Take a look at some of the code from Python's standard library or one of the third party libraries we've discussed (like requests, pip, pytest, etc).  Find the repository on Github and see if you can locate their unit tests.\n",
    "\t\n",
    "Peruse Github for various open source projects.  Many projects integrate their testing environment with Github and display badges indicating the level of test coverage they have and if their latest build passed all the tests.\n",
    "\t\n",
    "Take a look at the book \"Test Driven Development by Example\" by Kent Beck.  This is an excellent book that taught me about the TDD techniques.  If you'd like to see the code samples in Python, someone has translated from Java to Python and provided git tags for each example here:  https://github.com/jdodds/py-tdd-by-example\n",
    "\t\n",
    "Explore other Python books on Pytest and TDD:  https://pragprog.com/titles/bopytest2/python-testing-with-pytest-second-edition/\n",
    "\t\n",
    "The Pytest website itself has excellent resources for digging deeper, including talks and tutorials here:  https://docs.pytest.org/en/7.1.x/talks.html\n",
    "\t\n",
    "Consider code you have written or your team has written in the past.  How is it tested?  How might you begin building automated tests for it?"
   ]
  }
 ],
 "metadata": {
  "language_info": {
   "name": "python"
  },
  "orig_nbformat": 4
 },
 "nbformat": 4,
 "nbformat_minor": 2
}
