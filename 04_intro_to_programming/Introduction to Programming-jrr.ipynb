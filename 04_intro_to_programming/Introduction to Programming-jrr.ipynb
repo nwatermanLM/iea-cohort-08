{
 "cells": [
  {
   "cell_type": "markdown",
   "metadata": {
    "slideshow": {
     "slide_type": "slide"
    }
   },
   "source": [
    "# Introduction to Programming\n",
    "# ...Using Python\n",
    "### JR Rickerson\n",
    "### (jrrickerson@redrivetstudios.com)\n"
   ]
  },
  {
   "cell_type": "markdown",
   "metadata": {},
   "source": [
    "## Agenda\n",
    "    - Quick Refresher on git / Github\n",
    "    - Intro to Programming with Python"
   ]
  },
  {
   "cell_type": "markdown",
   "metadata": {
    "slideshow": {
     "slide_type": "subslide"
    }
   },
   "source": [
    "# About This Course\n",
    "* This course is obviously not going to teach the same content as that of a Computer Science curriculum, but...\n",
    " * You'll learn how to write code, i.e., how to turn a __problem statement__ into code which will _solve_ that problem"
   ]
  },
  {
   "cell_type": "markdown",
   "metadata": {
    "slideshow": {
     "slide_type": "subslide"
    }
   },
   "source": [
    "* At its essence, that is ALL coding is about–converting a problem into code which solves that problem\n",
    "* It is _not_ easy–it will be challenging!\n",
    "* It will require a change in thinking!\n",
    "* ...and it will be fun!\n"
   ]
  },
  {
   "cell_type": "markdown",
   "metadata": {
    "slideshow": {
     "slide_type": "subslide"
    }
   },
   "source": [
    "# Now pull this notebook, so you can follow along...\n",
    "* Open a terminal window\n",
    "* Change directories to your class materials\n",
    "* Pull from the upstream remote\n",
    "* Start the notebook with `jupyter notebook` as before"
   ]
  },
  {
   "cell_type": "markdown",
   "metadata": {},
   "source": [
    "## Git - Adding an upstream remote\n",
    "### Why?\n",
    "* We have an original repository we created a fork from\n",
    "* We have made changes to our fork\n",
    "* Other contributors have also made changes to the original\n",
    "\n",
    "### How?\n",
    "`git checkout master` (make sure we're on master)  \n",
    "`git remote add upstream https://<repo url>`  \n",
    "`git pull upstream master`  "
   ]
  },
  {
   "cell_type": "code",
   "execution_count": null,
   "metadata": {
    "scrolled": true
   },
   "outputs": [],
   "source": [
    "!git remote -v"
   ]
  },
  {
   "cell_type": "markdown",
   "metadata": {
    "slideshow": {
     "slide_type": "subslide"
    }
   },
   "source": [
    "## Launching Jupyter\n",
    "\n",
    "* On a Mac:\n",
    "  * In __Terminal__, type  \n",
    "  __`jupyter notebook`__  \n",
    "   \n",
    "   \n",
    "* On Windows:\n",
    "  * In the __cmd__ window, type  \n",
    "  __`jupyter notebook`__\n",
    "\n",
    "\n",
    "* Navigate to the new directory you pulled with git, and click on __`Introduction to Programming.ipynb`__"
   ]
  },
  {
   "cell_type": "markdown",
   "metadata": {
    "collapsed": true,
    "slideshow": {
     "slide_type": "subslide"
    }
   },
   "source": [
    "# How to get around on Jupyter:\n",
    "* Each place for you to enter text is called a _cell_\n",
    "* Usually you enter __`Python`__ code, but you can also enter text in a _markup_ language called __`Markdown`__ (that's what's going on in _this_ cell)\n",
    "* To \"run\" the code in the cell, hit __Shift-Return__ (i.e., hold down __Shift__ key, then hit __Return__)\n",
    "* Try it with the cell below..."
   ]
  },
  {
   "cell_type": "code",
   "execution_count": 1,
   "metadata": {},
   "outputs": [
    {
     "name": "stdout",
     "output_type": "stream",
     "text": [
      "4\n"
     ]
    }
   ],
   "source": [
    "x = 4\n",
    "print(x)"
   ]
  },
  {
   "cell_type": "markdown",
   "metadata": {
    "slideshow": {
     "slide_type": "subslide"
    }
   },
   "source": [
    "* we'll work inside the Jupyter notebook and you'll be able to take it with you as a living, breathing document of your work in this class\n",
    "* the __Insert__ menu will allow you to add a cell above or below the current cell\n",
    "* the __Kernel__ menu will allow you to \"talk\" to the Python interpreter on your machine\n",
    "  * (when you type into a cell, you are \"talking\" to the web browser, and the web browser sends the text to the __`Python`__ interpreter to be \"run\")\n",
    "  * the __Kernel__ menu will allow you to _restart_ your __`Python`__ interpreter in case something goes wrong and it stops responding to you\n",
    "  "
   ]
  },
  {
   "cell_type": "markdown",
   "metadata": {
    "slideshow": {
     "slide_type": "slide"
    }
   },
   "source": [
    "# Basics of Computer Architecture"
   ]
  },
  {
   "cell_type": "markdown",
   "metadata": {
    "slideshow": {
     "slide_type": "subslide"
    }
   },
   "source": [
    "## Bits, Bytes, and Binary\n",
    "* a _bit_ (\"binary digit\") is the basic unit of information in computing (and digital communications)\n",
    "* a bit can have only one of two values, 0 or 1\n",
    "* the two values can also be interpreted as logical values (true/false, yes/no), etc.\n",
    "* a _byte_ is 8 bits, which you can think of a single character on the US keyboard\n",
    "![alt text](images/byte.png)\n",
    "\n"
   ]
  },
  {
   "cell_type": "markdown",
   "metadata": {
    "slideshow": {
     "slide_type": "subslide"
    }
   },
   "source": [
    "## Basics of Computer Architecture\n",
    "* in simplest terms, a computer consists of a __CPU__ (Central Processing Unit, or \"brain\") and memory\n",
    "* the job of the CPU is to _execute_ (or \"run\") instructions (or \"code\")\n",
    "* there are two types of instructions:\n",
    "  * those that transfer data from memory to the CPU (_load_) or vice versa (_store_)\n",
    "  * those that operate on data stored in the CPU (e.g., arithmetic operations such as addition or subtraction, or branching)\n",
    "* the CPU has a _clock speed_, which is the speed at which the CPU's internal clock _pulses_, i.e., the speed at which the CPU can do work\n",
    "  * e.g., 2.9 GHz (Gigahertz) = 2.9 billion cycles per second\n",
    "  * think of the clock speed as a drumbeat which signals when the next instruction can execute\n"
   ]
  },
  {
   "cell_type": "markdown",
   "metadata": {
    "collapsed": true,
    "slideshow": {
     "slide_type": "subslide"
    }
   },
   "source": [
    "## Block Diagram of a Simple CPU\n",
    "\n",
    "![alt text](images/block.png)\n",
    "* the ALU (arithmetic logic unit) handles operations on integers (whole numbers)\n",
    "* the FPU (floating point unit or \"math coprocessor\") handles operations on floating point (fractional) numbers\n",
    "* registers are memory \"slots\" in the CPU which hold data that the ALU or FPU manipulates"
   ]
  },
  {
   "cell_type": "markdown",
   "metadata": {
    "collapsed": true,
    "slideshow": {
     "slide_type": "subslide"
    }
   },
   "source": [
    "## Types of Computer Memory\n",
    "\n",
    "![alt text](images/computer-memory-pyramid.gif)\n",
    "\n",
    "* RAM = Random Access Memory\n",
    "  * \"short term\" memory\n",
    "  * stuff is stored in RAM while power is applied (i.e., computer is on)\n",
    "* secondary storage - hard drives, USB drives, flash drives, etc.\n",
    "  * \"long term\" memory\n",
    "  * data persists even when power is off\n",
    "* virtual memory\n",
    "  * a software trick which enables the computer to seem like it has more memory than it actually has\n",
    "  * unused blocks of memory are moved to the hard drive or other secondary storage device\n",
    "* cache\n",
    "  * super-fast memory inside the CPU used to keep data close by so the CPU doesn't have to continually move data in and out (cf. a web browser cache which holds images so that the next time you visit a website the browser doesn't have to download the image from the site, it can just grab it from the cache)"
   ]
  },
  {
   "cell_type": "markdown",
   "metadata": {
    "collapsed": true,
    "slideshow": {
     "slide_type": "subslide"
    }
   },
   "source": [
    "## How an Application is Run\n",
    "* The application (e.g., Microsoft Word) is stored on your hard drive or other secondary storage\n",
    "* When you double click on an application, the operating system (OS X, Windows, etc.) loads the application (or a portion of it) into RAM (details are OS-specific and not important for our discussion)\n"
   ]
  },
  {
   "cell_type": "markdown",
   "metadata": {
    "slideshow": {
     "slide_type": "subslide"
    }
   },
   "source": [
    "* An executable application such as Microsoft Word is a series of _instructions_ in a language that the CPU can understand (\"assembly language\" or \"machine language\")\n",
    "* The instructions are decoded and executed by the CPU\n",
    "* Note that modern computers (such as our laptops) have CPUs which are multi-core\n",
    "  * This means that the CPU itself has 2 or more _cores_, or processing units\n",
    "  * In other words, if your laptop has a dual-core CPU, it can run 2 things at once\n",
    "  * Of course, we are used to \"running\" many more applications simultaneously (e.g., web browser, mail client, Word, iTunes, etc.) but that is just an illusion–the operating system is _multi-tasking_ by running each \"runnable\" _process_ for a little while and then switching to the next one\n",
    "  * It does this fast enough that it appears that they are running simultaneously"
   ]
  },
  {
   "cell_type": "markdown",
   "metadata": {
    "slideshow": {
     "slide_type": "slide"
    }
   },
   "source": [
    "# What is Computer Programming?"
   ]
  },
  {
   "cell_type": "markdown",
   "metadata": {
    "slideshow": {
     "slide_type": "subslide"
    }
   },
   "source": [
    "## What is Computer Programming?\n",
    "* _Programming_ (or \"coding\") is a process that begins with the formulation of a (computing) problem and ends with the creation of an executable computer program\n",
    "* A (computer) _program_ is a set of statements or instructions that tells the computer what to do\n",
    "* In order to write a program, programmers often begin with an algorithm...\n",
    "\n"
   ]
  },
  {
   "cell_type": "markdown",
   "metadata": {
    "slideshow": {
     "slide_type": "subslide"
    }
   },
   "source": [
    "## What's an Algorithm?\n",
    "* An _algorithm_ is a process or set of rules to be followed in calculations or other problem-solving operations (usually, but not always by a computer)\n",
    "* For example, an algorithm for converting Fahrenheit temperatures into Celsius looks like this:\n",
    "  1. Subtract 32 from the Fahrenheit temperature\n",
    "  2. Multiply the result by 5/9\n",
    "* An algorithm for washing your hair...\n",
    "  1. Lather\n",
    "  2. Rinse\n",
    "  3. Repeat\n",
    "* An algorithm for getting a ping-pong ball out of a deep hole with a small diameter...\n",
    "  1. Fill the hole with water\n",
    "* In other words, an algorithm is like a recipe, listing each of the steps required to solve the problem"
   ]
  },
  {
   "cell_type": "markdown",
   "metadata": {
    "slideshow": {
     "slide_type": "subslide"
    }
   },
   "source": [
    "## What's Pseudocode?\n",
    "* a notation resembling a simplified programming language, often like a mixture of English and programming language constructs\n",
    "* often used to write down an algorithm in order to translate it into code\n",
    "* we will write pseudocode before we write our programs"
   ]
  },
  {
   "cell_type": "markdown",
   "metadata": {
    "slideshow": {
     "slide_type": "subslide"
    }
   },
   "source": [
    "## Debugging\n",
    "* the process of finding and fixing errors (typically called \"bugs\")\n",
    "* popularized by Grace Hopper, Ph.D., a Navy rear admiral and one of the first computer programmers\n",
    "* posthumously awarded the Presidential Medal of Freedom in 2016\n",
    "* https://en.wikipedia.org/wiki/Grace_Hopper\n"
   ]
  },
  {
   "cell_type": "markdown",
   "metadata": {
    "slideshow": {
     "slide_type": "subslide"
    }
   },
   "source": [
    "![alt text](images/H96566k.jpg)"
   ]
  },
  {
   "cell_type": "markdown",
   "metadata": {
    "slideshow": {
     "slide_type": "subslide"
    }
   },
   "source": [
    "## How Do Computers Understand Programming Languages?\n",
    "* the short answer is–\"they don't\"\n",
    "* programs we write in just about every programming language are either\n",
    "  * __translated__ into _machine language_ (the numeric equivalent of assembly language) or an intermediate language called _bytecode_\n",
    "    * this process is called _compilation_\n",
    "    * the tool which performs the compilation is called a _compiler_\n",
    "    * the language is referred to as a _compiled language_ (e.g., C/C++, Fortran)\n",
    "    * we can see the compilation process in action at http://godbolt.org/\n",
    "  * __interpreted__ by a program called an _interpreter_\n",
    "    * __`bash`__, which you may be familiar with, is an interpreted language\n",
    "  * __transpiled__ into another language (and then compiled or interpreted)\n",
    "    * e.g., CoffeeScript => JavaScript (and others), Eiffel => C++\n",
    "  \n"
   ]
  },
  {
   "cell_type": "markdown",
   "metadata": {
    "collapsed": true,
    "slideshow": {
     "slide_type": "subslide"
    }
   },
   "source": [
    "## Is Python a Compiled or Interpreted Language?\n",
    "* short answer–\"It's both!\"\n",
    "* __`Python`__ is first compiled into an \"intermediate\" language called _bytecode_\n",
    "* then the bytecode is interpreted by the __`Python`__ Virtual Machine (VM)\n",
    "* __`Java`__ works in a similar way in that it is first compiled into bytecode (a different bytecode than what __`Python`__ uses) and then interpreted by the __`Java`__ VM\n",
    "* this is a bit of an oversimplification, but we are not trying to be compiler/programming language experts"
   ]
  },
  {
   "cell_type": "markdown",
   "metadata": {
    "slideshow": {
     "slide_type": "subslide"
    }
   },
   "source": [
    "## Source Code vs. Object Code\n",
    "* _source code_ is collection of computer instructions written using a human-readable programming language\n",
    "  * source code may (and should) include _comments_\n",
    "  * source is plain text\n",
    "  * humans write source code\n",
    "* _object code_ consists of machine-readable instructions\n",
    "  * it's the output of a compiler, i.e., it's the compiled version of source code\n",
    "  * therefore, computers write object code\n",
    "  * files of object code (\"object files\") can be linked together to create executables (applications)\n",
    "  * on Linux and Linux-like systems, you will find files whose names end in __`.so`__–these are _shared object_ or \"library\" files"
   ]
  },
  {
   "cell_type": "markdown",
   "metadata": {
    "slideshow": {
     "slide_type": "subslide"
    }
   },
   "source": [
    "## Syntax Errors\n",
    "* __syntax__ = the set of rules that defines the combinations of symbols that are considered to be a correctly-written (valid) program\n",
    "* a __syntax error__ is an error in syntax, i.e., a violation of the rules that define a valid program\n",
    "* syntax in programming is more like grammar in English\n",
    "  * The dog chases the cat\n",
    "  * The dogs chases the cat (_syntax error–subject/verb agreement_)\n",
    "* syntax errors are caught by the compiler or interpreter\n",
    "  * sometimes called __compile time__ errors\n",
    "    * remember that in a compiled language, compilation is a completely independent step from running the program\n",
    "  * a program can only run if it's __syntactically correct__"
   ]
  },
  {
   "cell_type": "markdown",
   "metadata": {
    "slideshow": {
     "slide_type": "subslide"
    }
   },
   "source": [
    "## Runtime Errors\n",
    "* as the name suggests, these are errors that occur when you run the program, as opposed to when you compile the program\n",
    "* with an interpreted language such as Python, the distinction between syntax and runtime errors is not as obvious–in both cases the interpreter will stop interpreting your code and will report an error\n",
    "* runtime errors are often called __exceptions__"
   ]
  },
  {
   "cell_type": "markdown",
   "metadata": {
    "slideshow": {
     "slide_type": "subslide"
    }
   },
   "source": [
    "## Semantic Errors\n",
    "* a __semantic error__ occurs when your program is syntactically correct, but you told the computer to do the wrong thing\n",
    "* for example, if you wrote a program to convert Fahrenheit to Celsius and you added 32 to the temperature instead of subtracting\n",
    "  * the program will run, but it will give you the wrong result\n",
    "  * remember that the computer will do what you tell it to do, but that doesn't mean it's what you want it to do! \n",
    "* a semantic error _may_ cause a runtime error, but usually they don't, and they can be difficult to debug"
   ]
  },
  {
   "cell_type": "markdown",
   "metadata": {
    "collapsed": true,
    "slideshow": {
     "slide_type": "slide"
    }
   },
   "source": [
    "# Introducing Python"
   ]
  },
  {
   "cell_type": "markdown",
   "metadata": {
    "slideshow": {
     "slide_type": "subslide"
    }
   },
   "source": [
    "## Introducing Python\n",
    "* Python is a _high-level_ language, meaning it is\n",
    "  * easy to get started with\n",
    "  * fun to use"
   ]
  },
  {
   "cell_type": "markdown",
   "metadata": {
    "slideshow": {
     "slide_type": "subslide"
    }
   },
   "source": [
    "* there are two ways to use Python: interactive (or \"command line\") mode, and script (or program) mode\n",
    "* we'll start in interactive mode\n",
    "* type the following into the next cell of this notebook, then hit __`SHIFT-RETURN`__ to send the text to Python\n",
    "\n",
    "   __`2 + 2`__"
   ]
  },
  {
   "cell_type": "code",
   "execution_count": 5,
   "metadata": {},
   "outputs": [
    {
     "data": {
      "text/plain": [
       "4"
      ]
     },
     "execution_count": 5,
     "metadata": {},
     "output_type": "execute_result"
    }
   ],
   "source": [
    "2 + 2"
   ]
  },
  {
   "cell_type": "markdown",
   "metadata": {
    "slideshow": {
     "slide_type": "subslide"
    }
   },
   "source": [
    "## Let's try a few other calculations using Python..."
   ]
  },
  {
   "cell_type": "code",
   "execution_count": 6,
   "metadata": {},
   "outputs": [
    {
     "data": {
      "text/plain": [
       "100.0"
      ]
     },
     "execution_count": 6,
     "metadata": {},
     "output_type": "execute_result"
    }
   ],
   "source": [
    "# the '#' symbol precedes a comment...\n",
    "# ...which is text that Python ignores\n",
    "# so let's convert Fahrenheit to Celsius...\n",
    "(212 - 32) * 5 / 9"
   ]
  },
  {
   "cell_type": "code",
   "execution_count": 7,
   "metadata": {},
   "outputs": [
    {
     "data": {
      "text/plain": [
       "1000000000000000000000000000000000000000000000000000000000000000000000000000000"
      ]
     },
     "execution_count": 7,
     "metadata": {},
     "output_type": "execute_result"
    }
   ],
   "source": [
    "# roughly the number of atoms in the universe\n",
    "10 ** 78"
   ]
  },
  {
   "cell_type": "code",
   "execution_count": 8,
   "metadata": {},
   "outputs": [
    {
     "data": {
      "text/plain": [
       "1.3333333333333333"
      ]
     },
     "execution_count": 8,
     "metadata": {},
     "output_type": "execute_result"
    }
   ],
   "source": [
    "4 / 3"
   ]
  },
  {
   "cell_type": "code",
   "execution_count": 9,
   "metadata": {},
   "outputs": [
    {
     "data": {
      "text/plain": [
       "1"
      ]
     },
     "execution_count": 9,
     "metadata": {},
     "output_type": "execute_result"
    }
   ],
   "source": [
    "# // is integer division (technically it's \"floor division\", but we can\n",
    "# ignore the difference for now)\n",
    "4 // 3"
   ]
  },
  {
   "cell_type": "markdown",
   "metadata": {
    "slideshow": {
     "slide_type": "subslide"
    }
   },
   "source": [
    "## Writing Our First Program\n",
    "* when learning a new programming language, it's customary to write a _hello world_ program, that is, a program which simply prints out \"Hello, world!\"\n",
    "* type the following into the next cell and then hit __`SHIFT-RETURN`__\n",
    "\n",
    "    __`print('Hello, world!')`__"
   ]
  },
  {
   "cell_type": "code",
   "execution_count": 12,
   "metadata": {
    "scrolled": true
   },
   "outputs": [
    {
     "name": "stdout",
     "output_type": "stream",
     "text": [
      "Hello, world!\n"
     ]
    }
   ],
   "source": [
    "print('Hello, world!')"
   ]
  },
  {
   "cell_type": "markdown",
   "metadata": {
    "slideshow": {
     "slide_type": "subslide"
    }
   },
   "source": [
    "## Analzying our First Program\n",
    "* We used Python's builtin __`print`__ _function_ to print text to the screen\n",
    "* OK...so what's a function?"
   ]
  },
  {
   "cell_type": "markdown",
   "metadata": {
    "slideshow": {
     "slide_type": "subslide"
    }
   },
   "source": [
    "## What is a Function?\n",
    "* a function is a named sequence of program statements that perform a specific task (in this case, the task was outputting to the screen)\n",
    "* a function can be used in a program wherever that particular task is needed\n",
    "* we can create our own functions, or we can rely on builtin functions as above"
   ]
  },
  {
   "cell_type": "markdown",
   "metadata": {
    "slideshow": {
     "slide_type": "subslide"
    }
   },
   "source": [
    "## What is a Function? (cont'd)\n",
    "* when you call or _invoke_ a function, you write its name, followed by the data you wish to send into the function (often called _arguments_) in parentheses...\n",
    "* if you wish to send no data to the function, you still include the parentheses\n",
    "  * e.g., __`print()`__ will print a blank line\n",
    "  * ... vs. __`print('Hello, world!')`__ as we did in our first program"
   ]
  },
  {
   "cell_type": "markdown",
   "metadata": {
    "slideshow": {
     "slide_type": "slide"
    }
   },
   "source": [
    "\n",
    "## Data, Variables, and Expressions\n",
    "* computer programs typically manipulate _data_ (or values), which can be numbers, names, or any text (and other things we can ignore for now)\n",
    "* it's useful to think of programs as taking some input and producing some output\n",
    "  * the data (or values) are provided as input to the program, and some other data are produced as output\n",
    "* _variables_ can be thought of as a \"named box\" (e.g., __`r`__, __`name`__, or __`year`__) inside the computer that holds a value\n",
    "  * the value could be a number, a name, or something else\n",
    "* an _expression_ is a combination of one or more values, variables, and operators (__`+`__, __`-`__, etc.), e.g.,\n",
    "  * __`(temp - 32) * 5 / 9`__\n",
    "  * __`3.14159 * r ** 2`__\n",
    "  * __`2 + 2`__\n",
    "  * __`1`__\n",
    " \n",
    "\n"
   ]
  },
  {
   "cell_type": "code",
   "execution_count": 13,
   "metadata": {},
   "outputs": [
    {
     "data": {
      "text/plain": [
       "12.222222222222221"
      ]
     },
     "execution_count": 13,
     "metadata": {},
     "output_type": "execute_result"
    }
   ],
   "source": [
    "temp = 54\n",
    "(temp - 32) * 5 / 9"
   ]
  },
  {
   "cell_type": "markdown",
   "metadata": {
    "slideshow": {
     "slide_type": "subslide"
    }
   },
   "source": [
    "## Values and Simple Data Types (`int`, `float`, and `str`)\n",
    "* _integers_ are whole numbers which have no fractional part\n",
    "  * e.g., __`42`__, __`-1`__, __`2017`__\n",
    "* _floats_ (short for \"floating point\") are numbers which have a decimal point and possibly  digits after the decimal point\n",
    "  * e.g, __`3.1415`__, __`212.`__, __`-1.5`__\n",
    "* _strings_ are sequences of characters surrounded by quotes\n",
    "  * e.g., __`'Hello, world!'`__\n",
    "* we can ask the Python interpreter to tell us the type of a value by using the builtin __`type`__ function"
   ]
  },
  {
   "cell_type": "code",
   "execution_count": 14,
   "metadata": {},
   "outputs": [
    {
     "data": {
      "text/plain": [
       "float"
      ]
     },
     "execution_count": 14,
     "metadata": {},
     "output_type": "execute_result"
    }
   ],
   "source": [
    "type(42.)"
   ]
  },
  {
   "cell_type": "code",
   "execution_count": 15,
   "metadata": {},
   "outputs": [
    {
     "data": {
      "text/plain": [
       "(int, float, str)"
      ]
     },
     "execution_count": 15,
     "metadata": {},
     "output_type": "execute_result"
    }
   ],
   "source": [
    "# Lines that begin with a '#' are comments.\n",
    "# They are for humans, and are ignored by the interpreter.\n",
    "#\n",
    "# Note that you can chain values together with a\n",
    "# comma, and the result will be a is a comma-\n",
    "# separated list of results in parentheses\n",
    "\n",
    "type(-1), type(212.), type('hello')"
   ]
  },
  {
   "cell_type": "code",
   "execution_count": 16,
   "metadata": {},
   "outputs": [
    {
     "data": {
      "text/plain": [
       "54"
      ]
     },
     "execution_count": 16,
     "metadata": {},
     "output_type": "execute_result"
    }
   ],
   "source": [
    "temp"
   ]
  },
  {
   "cell_type": "markdown",
   "metadata": {
    "slideshow": {
     "slide_type": "subslide"
    }
   },
   "source": [
    "# Lab: The Builtin Function __`type()`__\n",
    "* use Python's __`type()`__ function to find out the type of the following values and expressions\n",
    "  * __`35 + 5`__\n",
    "  * __`35.0 + 5`__\n",
    "  * __`'35' + '5'`__\n",
    "  * __`5 // 3`__\n",
    "  * __`3.5.5`__\n",
    "* __Note:__ you can add more cells to the notebook in the Insert menu"
   ]
  },
  {
   "cell_type": "code",
   "execution_count": 22,
   "metadata": {},
   "outputs": [
    {
     "ename": "SyntaxError",
     "evalue": "invalid syntax (<ipython-input-22-445296e0fb54>, line 5)",
     "output_type": "error",
     "traceback": [
      "\u001b[0;36m  File \u001b[0;32m\"<ipython-input-22-445296e0fb54>\"\u001b[0;36m, line \u001b[0;32m5\u001b[0m\n\u001b[0;31m    type(3.5.5)\u001b[0m\n\u001b[0m             ^\u001b[0m\n\u001b[0;31mSyntaxError\u001b[0m\u001b[0;31m:\u001b[0m invalid syntax\n"
     ]
    }
   ],
   "source": [
    "type(35 + 5)\n",
    "type(35.0 + 5)\n",
    "type('35' + '5'), '35' + '5'\n",
    "type(5 // 3)\n",
    "type(3.5.5)"
   ]
  },
  {
   "cell_type": "markdown",
   "metadata": {
    "slideshow": {
     "slide_type": "subslide"
    }
   },
   "source": [
    "## Variables\n",
    "* variables are named locations inside the computer's memory (again, think of these as named boxes into which you can put values)\n",
    "* we can put a value into a variable by using an _assignment statement_, e.g.,\n",
    "  * __`x = 1`__\n",
    "  * __`name = 'Grace Hopper'`__\n",
    "* an assignment is not a statement of equality (as we are used to from mathematics)–it's a directive to Python to put whatever is on the right-hand side of the __`=`__ into the variable on the left hand side\n",
    "* we can ask Python to print the value of a variable by simply typing it into the interpreter, or by using the built-in __`print`__ function"
   ]
  },
  {
   "cell_type": "code",
   "execution_count": 24,
   "metadata": {},
   "outputs": [
    {
     "ename": "TypeError",
     "evalue": "'x' is an invalid keyword argument for print()",
     "output_type": "error",
     "traceback": [
      "\u001b[0;31m---------------------------------------------------------------------------\u001b[0m",
      "\u001b[0;31mTypeError\u001b[0m                                 Traceback (most recent call last)",
      "\u001b[0;32m<ipython-input-24-d90edd2051cc>\u001b[0m in \u001b[0;36m<module>\u001b[0;34m\u001b[0m\n\u001b[0;32m----> 1\u001b[0;31m \u001b[0mprint\u001b[0m\u001b[0;34m(\u001b[0m\u001b[0mx\u001b[0m \u001b[0;34m=\u001b[0m \u001b[0;36m1\u001b[0m\u001b[0;34m)\u001b[0m\u001b[0;34m\u001b[0m\u001b[0;34m\u001b[0m\u001b[0m\n\u001b[0m",
      "\u001b[0;31mTypeError\u001b[0m: 'x' is an invalid keyword argument for print()"
     ]
    }
   ],
   "source": [
    "print(x = 1)"
   ]
  },
  {
   "cell_type": "code",
   "execution_count": 25,
   "metadata": {},
   "outputs": [
    {
     "data": {
      "text/plain": [
       "1906"
      ]
     },
     "execution_count": 25,
     "metadata": {},
     "output_type": "execute_result"
    }
   ],
   "source": [
    "x = 1906\n",
    "x"
   ]
  },
  {
   "cell_type": "code",
   "execution_count": 26,
   "metadata": {},
   "outputs": [
    {
     "data": {
      "text/plain": [
       "'Grace Hopper'"
      ]
     },
     "execution_count": 26,
     "metadata": {},
     "output_type": "execute_result"
    }
   ],
   "source": [
    "name = 'Grace Hopper'\n",
    "name"
   ]
  },
  {
   "cell_type": "code",
   "execution_count": 27,
   "metadata": {},
   "outputs": [
    {
     "name": "stdout",
     "output_type": "stream",
     "text": [
      "Grace Hopper birth year = 1906\n"
     ]
    }
   ],
   "source": [
    "# notice that when printing a string, the quotes are omitted\n",
    "print(name, 'birth year =', x)"
   ]
  },
  {
   "cell_type": "code",
   "execution_count": 28,
   "metadata": {},
   "outputs": [
    {
     "name": "stdout",
     "output_type": "stream",
     "text": [
      "Grace Hopper\n"
     ]
    }
   ],
   "source": [
    "print(name)"
   ]
  },
  {
   "cell_type": "markdown",
   "metadata": {
    "slideshow": {
     "slide_type": "subslide"
    }
   },
   "source": [
    "## Lab: Variables\n",
    "* create a variable named __quantity__ and give it an integer value\n",
    "* verify that __quantity__ has the value you gave it\n",
    "* verify that __quantity__ is an integer\n",
    "* create a variable named __company__ and give it a value of 'mycompany'\n",
    "* verify that __company__ is a string and that its value is 'mycompany'"
   ]
  },
  {
   "cell_type": "code",
   "execution_count": 34,
   "metadata": {},
   "outputs": [
    {
     "name": "stdout",
     "output_type": "stream",
     "text": [
      "456 <class 'int'>\n",
      "mycompany <class 'str'>\n"
     ]
    }
   ],
   "source": [
    "quantity = 456\n",
    "print(quantity, type(quantity))\n",
    "company = 'mycompany'\n",
    "print(company, type(company))"
   ]
  },
  {
   "cell_type": "code",
   "execution_count": 32,
   "metadata": {},
   "outputs": [
    {
     "data": {
      "text/plain": [
       "(int, 1)"
      ]
     },
     "execution_count": 32,
     "metadata": {},
     "output_type": "execute_result"
    }
   ],
   "source": [
    "x = 1\n",
    "type(x), x"
   ]
  },
  {
   "cell_type": "markdown",
   "metadata": {
    "slideshow": {
     "slide_type": "subslide"
    }
   },
   "source": [
    "## Variables (continued)\n",
    "* by the way, you may have heard (or may already know) that variables are not implemented as \"named boxes\" in Python\n",
    "  * TRUE–but for now, let's think of them that way–it's a perfectly fine abstraction and there's no reason to discard it\n",
    "* Python is called a _dynamically typed_ language because you do not _declare_ variables before you use them\n",
    "* in addition, a variable can hold a value of _any_ type, even if that type is not what the variable previously held, e.g.,"
   ]
  },
  {
   "cell_type": "code",
   "execution_count": 40,
   "metadata": {},
   "outputs": [
    {
     "name": "stdout",
     "output_type": "stream",
     "text": [
      "jello\n"
     ]
    }
   ],
   "source": [
    "x = 1\n",
    "y = 2\n",
    "x = 'jello'\n",
    "print(x)"
   ]
  },
  {
   "cell_type": "code",
   "execution_count": null,
   "metadata": {},
   "outputs": [],
   "source": [
    "int x = 1;"
   ]
  },
  {
   "cell_type": "code",
   "execution_count": 44,
   "metadata": {},
   "outputs": [],
   "source": [
    "def add_one(value):\n",
    "    print(value + 1)"
   ]
  },
  {
   "cell_type": "code",
   "execution_count": 45,
   "metadata": {
    "scrolled": true
   },
   "outputs": [
    {
     "ename": "TypeError",
     "evalue": "can only concatenate str (not \"int\") to str",
     "output_type": "error",
     "traceback": [
      "\u001b[0;31m---------------------------------------------------------------------------\u001b[0m",
      "\u001b[0;31mTypeError\u001b[0m                                 Traceback (most recent call last)",
      "\u001b[0;32m<ipython-input-45-37028ccc131c>\u001b[0m in \u001b[0;36m<module>\u001b[0;34m\u001b[0m\n\u001b[0;32m----> 1\u001b[0;31m \u001b[0madd_one\u001b[0m\u001b[0;34m(\u001b[0m\u001b[0;34m'1'\u001b[0m\u001b[0;34m)\u001b[0m\u001b[0;34m\u001b[0m\u001b[0;34m\u001b[0m\u001b[0m\n\u001b[0m",
      "\u001b[0;32m<ipython-input-44-275742ad15df>\u001b[0m in \u001b[0;36madd_one\u001b[0;34m(value)\u001b[0m\n\u001b[1;32m      1\u001b[0m \u001b[0;32mdef\u001b[0m \u001b[0madd_one\u001b[0m\u001b[0;34m(\u001b[0m\u001b[0mvalue\u001b[0m\u001b[0;34m)\u001b[0m\u001b[0;34m:\u001b[0m\u001b[0;34m\u001b[0m\u001b[0;34m\u001b[0m\u001b[0m\n\u001b[0;32m----> 2\u001b[0;31m     \u001b[0mprint\u001b[0m\u001b[0;34m(\u001b[0m\u001b[0mvalue\u001b[0m \u001b[0;34m+\u001b[0m \u001b[0;36m1\u001b[0m\u001b[0;34m)\u001b[0m\u001b[0;34m\u001b[0m\u001b[0;34m\u001b[0m\u001b[0m\n\u001b[0m",
      "\u001b[0;31mTypeError\u001b[0m: can only concatenate str (not \"int\") to str"
     ]
    }
   ],
   "source": [
    "add_one('1')"
   ]
  },
  {
   "cell_type": "markdown",
   "metadata": {},
   "source": [
    "* in a _statically typed_ language (e.g., C/C++, Java), you must declare variables before using them (and in doing so you must indicate the type of data the variable will hold–__`int`__, __`float`__, etc.)\n",
    "  * ...and the only values that variable may contain are values of the declared type\n",
    "* we have no such restrictions in Python, which is both good and bad:\n",
    "  * it's good because we can just start using a variable and not have to worry about declaring it ahead of time\n",
    "  * it's bad because in a large program it can be difficult to track the type of variables, and if you accidentally overwrite a variable with a value of the wrong type, there is no way Python can complain about it–only you know what type of value is supposed to be stored in a variable\n",
    "\n"
   ]
  },
  {
   "cell_type": "markdown",
   "metadata": {
    "slideshow": {
     "slide_type": "subslide"
    }
   },
   "source": [
    "## Getting Input from the User\n",
    "* the builtin function __`input()`__ enables us to prompt the user for input\n",
    "* ...and whatever the user typed is returned by the function\n",
    "* let's try it in the next cell"
   ]
  },
  {
   "cell_type": "code",
   "execution_count": 50,
   "metadata": {},
   "outputs": [
    {
     "name": "stdout",
     "output_type": "stream",
     "text": [
      "Enter your name: JR Rickerson\n",
      "Hello JR Rickerson\n"
     ]
    }
   ],
   "source": [
    "name = input('Enter your name: ')\n",
    "print('Hello', name)"
   ]
  },
  {
   "cell_type": "markdown",
   "metadata": {
    "slideshow": {
     "slide_type": "subslide"
    }
   },
   "source": [
    "## Lab: Input\n",
    "* write Python code to prompt the user for a year and print out the year the user entered\n",
    "* your output will look something like this:\n",
    "\n",
    "<pre>\n",
    "<b>\n",
    "Enter a year: 2017\n",
    "You entered 2017\n",
    "</b>\n",
    "</pre>"
   ]
  },
  {
   "cell_type": "code",
   "execution_count": 48,
   "metadata": {},
   "outputs": [
    {
     "name": "stdout",
     "output_type": "stream",
     "text": [
      "Help on method raw_input in module ipykernel.kernelbase:\n",
      "\n",
      "raw_input(prompt='') method of ipykernel.ipkernel.IPythonKernel instance\n",
      "    Forward raw_input to frontends\n",
      "    \n",
      "    Raises\n",
      "    ------\n",
      "    StdinNotImplentedError if active frontend doesn't support stdin.\n",
      "\n"
     ]
    }
   ],
   "source": [
    "help(input)"
   ]
  },
  {
   "cell_type": "code",
   "execution_count": 51,
   "metadata": {},
   "outputs": [
    {
     "name": "stdout",
     "output_type": "stream",
     "text": [
      "Please enter a number: 12\n"
     ]
    }
   ],
   "source": [
    "number = 1\n",
    "user_number = input(\"Please enter a number: \")"
   ]
  },
  {
   "cell_type": "markdown",
   "metadata": {
    "slideshow": {
     "slide_type": "subslide"
    }
   },
   "source": [
    "## Variable Names and Keywords\n",
    "* variable names can be arbitrarily long\n",
    "* they can contain both letters and numbers, but they must begin with a letter\n",
    "* uppercase letters are allowed, but by convention we don’t use them (if you do use uppercase letters, remember that Python is _case sensitive_–in other words __`counter`__ and __`Counter`__ are different variables)\n",
    "* you should choose meaningful names for your variables:\n",
    "  * __`counter`__ instead of __`c`__\n",
    "  * __`cost_per_ounce`__ instead of __`cpo`__\n",
    "  * etc.\n",
    "* as you can see above, variable names can include underscores–use them to make your variable names clearer\n",
    "  * for now, do not start a variable name with an underscore"
   ]
  },
  {
   "cell_type": "code",
   "execution_count": 52,
   "metadata": {},
   "outputs": [
    {
     "ename": "SyntaxError",
     "evalue": "invalid syntax (<ipython-input-52-670d3090ea4f>, line 4)",
     "output_type": "error",
     "traceback": [
      "\u001b[0;36m  File \u001b[0;32m\"<ipython-input-52-670d3090ea4f>\"\u001b[0;36m, line \u001b[0;32m4\u001b[0m\n\u001b[0;31m    from = 'Dave'\u001b[0m\n\u001b[0m         ^\u001b[0m\n\u001b[0;31mSyntaxError\u001b[0m\u001b[0;31m:\u001b[0m invalid syntax\n"
     ]
    }
   ],
   "source": [
    "# what is the problem here?\n",
    "year = 2017\n",
    "to = 'Mary'\n",
    "from = 'Dave'"
   ]
  },
  {
   "cell_type": "markdown",
   "metadata": {},
   "source": [
    "* the problem above is that __`from`__ is a _keyword_\n",
    "* _keywords_ are words that are part of Python (or other programming languages) and cannot be used as variable names\n",
    "* if you ever get a weird error like 'invalid syntax' when it looks syntactically correct, the problem is likely that you are trying to use a keyword as a variable\n",
    "* we can get a current list of the keywords...\n"
   ]
  },
  {
   "cell_type": "code",
   "execution_count": 53,
   "metadata": {},
   "outputs": [
    {
     "name": "stdout",
     "output_type": "stream",
     "text": [
      "['False', 'None', 'True', 'and', 'as', 'assert', 'async', 'await', 'break', 'class', 'continue', 'def', 'del', 'elif', 'else', 'except', 'finally', 'for', 'from', 'global', 'if', 'import', 'in', 'is', 'lambda', 'nonlocal', 'not', 'or', 'pass', 'raise', 'return', 'try', 'while', 'with', 'yield']\n"
     ]
    }
   ],
   "source": [
    "# We will explore this 'import' syntax later.\n",
    "# For now, just think of it as a way to use some \"library\" code which comes with Python,\n",
    "# but isn't built in, so we need to import it.\n",
    "\n",
    "import keyword\n",
    "print(keyword.kwlist)"
   ]
  },
  {
   "cell_type": "markdown",
   "metadata": {},
   "source": [
    "* Or, we can look them up in the docs:  https://docs.python.org/3/reference/lexical_analysis.html#keywords\n",
    "* But don't forget, more may be added in newer Python versions!"
   ]
  },
  {
   "cell_type": "markdown",
   "metadata": {
    "slideshow": {
     "slide_type": "subslide"
    }
   },
   "source": [
    "## Evaluating Expressions\n",
    "* recall that an expression is a combination of values, variables, and operators (but doesn't have to contain all of these elements)\n",
    "* if you type an expression on the command line, the interpreter evaluates it and displays the result"
   ]
  },
  {
   "cell_type": "code",
   "execution_count": 54,
   "metadata": {},
   "outputs": [
    {
     "data": {
      "text/plain": [
       "4"
      ]
     },
     "execution_count": 54,
     "metadata": {},
     "output_type": "execute_result"
    }
   ],
   "source": [
    "2 + 2"
   ]
  },
  {
   "cell_type": "markdown",
   "metadata": {},
   "source": [
    "* note that a value all by itself is considered an expression, as is a variable by itself"
   ]
  },
  {
   "cell_type": "code",
   "execution_count": 55,
   "metadata": {},
   "outputs": [
    {
     "data": {
      "text/plain": [
       "13"
      ]
     },
     "execution_count": 55,
     "metadata": {},
     "output_type": "execute_result"
    }
   ],
   "source": [
    "13"
   ]
  },
  {
   "cell_type": "code",
   "execution_count": 56,
   "metadata": {},
   "outputs": [
    {
     "data": {
      "text/plain": [
       "'JR Rickerson'"
      ]
     },
     "execution_count": 56,
     "metadata": {},
     "output_type": "execute_result"
    }
   ],
   "source": [
    "name"
   ]
  },
  {
   "cell_type": "code",
   "execution_count": 57,
   "metadata": {},
   "outputs": [],
   "source": [
    "x = 1"
   ]
  },
  {
   "cell_type": "markdown",
   "metadata": {
    "slideshow": {
     "slide_type": "subslide"
    }
   },
   "source": [
    "* one point of confusion concerns the difference between _evaluating an expression_ and _printing a value_\n",
    "* evaluating an expression does not print anything if \n",
    "  * you're in _program_ mode\n",
    "  * or you are assigning the value of the expression to a variable"
   ]
  },
  {
   "cell_type": "code",
   "execution_count": 58,
   "metadata": {},
   "outputs": [],
   "source": [
    "# Python doesn't print anything when you \n",
    "# assign a value to a variable\n",
    "something = 'nothing'"
   ]
  },
  {
   "cell_type": "code",
   "execution_count": 59,
   "metadata": {},
   "outputs": [
    {
     "data": {
      "text/plain": [
       "'nothing'"
      ]
     },
     "execution_count": 59,
     "metadata": {},
     "output_type": "execute_result"
    }
   ],
   "source": [
    "something"
   ]
  },
  {
   "cell_type": "markdown",
   "metadata": {
    "slideshow": {
     "slide_type": "subslide"
    }
   },
   "source": [
    "* when the interpreter displays the value of an expression, it uses the same format you would use to enter its value–so in the case of strings, that means that it includes the quotes\n",
    "* but when you call the __`print()`__ function, Python displays the contents of the string without the quotes..."
   ]
  },
  {
   "cell_type": "code",
   "execution_count": 60,
   "metadata": {},
   "outputs": [
    {
     "name": "stdout",
     "output_type": "stream",
     "text": [
      "nothing\n"
     ]
    }
   ],
   "source": [
    "print(something)"
   ]
  },
  {
   "cell_type": "markdown",
   "metadata": {
    "slideshow": {
     "slide_type": "subslide"
    }
   },
   "source": [
    "## So Why Are There Two Ways to Produce Output?\n",
    "* simply typing a variable name or an expression is a convenient way to see its value, and it's something we can always do at the Python interactive prompt\n",
    "* inside a program, however, we use the __`print()`__ function to produce output"
   ]
  },
  {
   "cell_type": "markdown",
   "metadata": {
    "slideshow": {
     "slide_type": "subslide"
    }
   },
   "source": [
    "## Operators and Operands\n",
    "* operators are special symbols that represent computations such as addition (__`+`__) and multiplication (__`*`__)\n",
    "* the values that operator operates on are called operands\n",
    "* __`13 + 15`__\n",
    "* __`year - 1`__ \n",
    "* __`hours * 60 + minutes`__\n",
    "* __`minutes / 60`__ \n",
    "* __`minutes // 60`__\n",
    "* __`minutes % 60`__\n",
    "  * __`%`__ is the _modulus_ or remainder operator\n",
    "  * yields the remainder (not the quotient) when dividing its two operands\n",
    "* __`2 ** 64`__\n",
    "* __`(x + 3) * (y - 5)`__"
   ]
  },
  {
   "cell_type": "markdown",
   "metadata": {
    "collapsed": true,
    "slideshow": {
     "slide_type": "subslide"
    }
   },
   "source": [
    "## Lab: Variables, Operators, and Expressions\n",
    "* create a variable named __minutes__ and give it an initial value of __28435__\n",
    "* create a variable named __hours__ and set it equal to __minutes__ divided by __60__\n",
    "* create a variable named __days__ and set it equal to __hours__ divided by __24__\n",
    "* try both __`/`__ and __`//`__ and be sure you understand how they differ\n",
    "* consider the following expressions and then enter them into Jupyter to verify your understanding\n",
    "  * __`days * 24 + hours * 60`__\n",
    "  * __`days * (24 + hours) * 60`__\n",
    "  * __`(days * 24) + (hours * 60)`__\n"
   ]
  },
  {
   "cell_type": "code",
   "execution_count": 65,
   "metadata": {},
   "outputs": [
    {
     "data": {
      "text/plain": [
       "(28435, 473, 19)"
      ]
     },
     "execution_count": 65,
     "metadata": {},
     "output_type": "execute_result"
    }
   ],
   "source": [
    "minutes = 28435\n",
    "hours = minutes // 60\n",
    "days = hours // 24\n",
    "\n",
    "minutes, hours, days"
   ]
  },
  {
   "cell_type": "markdown",
   "metadata": {
    "slideshow": {
     "slide_type": "subslide"
    }
   },
   "source": [
    "## Boolean Expressions and Logical Operators\n",
    "![alt text](images/George_Boole_color.jpg)\n",
    "* named after George Boole, an English mathematician (1813-1864)\n",
    "* he developed a system called _Boolean Algebra_, which laid the foundations for the Information Age\n",
    "  * Boolean Algebra deals with values which are either TRUE or FALSE\n",
    "  * in order to understand Boolean Algebra, we first need to consider how to get a TRUE or FALSE value\n",
    "  * a _Boolean expression_ is an expression that is either TRUE or FALSE\n",
    "    * __\"K2, the second tallest mountain in the world, is 28,251 feet above sea level.\" (TRUE)__\n",
    "    * __\"There are 31 days in April.\" (FALSE)__\n",
    "    * __`1 + 2 == 3` (TRUE)__\n",
    "    * __`2 ** 3 == 9` (FALSE)__\n",
    "  * let's try some in the Python interpreter"
   ]
  },
  {
   "cell_type": "code",
   "execution_count": 66,
   "metadata": {
    "slideshow": {
     "slide_type": "-"
    }
   },
   "outputs": [
    {
     "data": {
      "text/plain": [
       "True"
      ]
     },
     "execution_count": 66,
     "metadata": {},
     "output_type": "execute_result"
    }
   ],
   "source": [
    "2 + 3 == 5"
   ]
  },
  {
   "cell_type": "code",
   "execution_count": null,
   "metadata": {},
   "outputs": [],
   "source": [
    "x = True\n",
    "y = False"
   ]
  },
  {
   "cell_type": "code",
   "execution_count": 67,
   "metadata": {},
   "outputs": [
    {
     "data": {
      "text/plain": [
       "False"
      ]
     },
     "execution_count": 67,
     "metadata": {},
     "output_type": "execute_result"
    }
   ],
   "source": [
    "x = 2 # assignment statement\n",
    "x == 3 # note the difference between = (assignment) and == (testing for equality)"
   ]
  },
  {
   "cell_type": "code",
   "execution_count": 68,
   "metadata": {},
   "outputs": [
    {
     "data": {
      "text/plain": [
       "True"
      ]
     },
     "execution_count": 68,
     "metadata": {},
     "output_type": "execute_result"
    }
   ],
   "source": [
    "x != 3"
   ]
  },
  {
   "cell_type": "markdown",
   "metadata": {},
   "source": [
    "* True and False are special values that are built-in to Python\n",
    "* the other operators are:\n",
    "  * __`>, >=`__\n",
    "  * __`<, <=`__\n",
    "  * and __`==`__, __`!=`__, as we've seen"
   ]
  },
  {
   "cell_type": "markdown",
   "metadata": {
    "slideshow": {
     "slide_type": "subslide"
    }
   },
   "source": [
    "## Lab: Boolean Expressions\n",
    "* write a Boolean expression to determine whether the variable __xyz__ is greater than 100 (you will have to define the variable first)\n",
    "* write a Boolean expression to determine whether the variable __company__ is equal to the string 'salesforce'"
   ]
  },
  {
   "cell_type": "code",
   "execution_count": 74,
   "metadata": {},
   "outputs": [
    {
     "name": "stdout",
     "output_type": "stream",
     "text": [
      "False\n",
      "mycompany False\n"
     ]
    }
   ],
   "source": [
    "xyz = 99\n",
    "print(xyz > 100)\n",
    "\n",
    "print(company, company == 'salesforce')"
   ]
  },
  {
   "cell_type": "markdown",
   "metadata": {
    "slideshow": {
     "slide_type": "subslide"
    }
   },
   "source": [
    "## Logical Operators\n",
    "* there are three: __`and`__, __`or`__, __`not`__\n",
    "* they mean roughly the same thing as they mean in English:\n",
    "  * __if you finish your homework AND the temperature is above freezing, you can play in the yard__\n",
    "  * __if it snows OR the temperature is lower than 20ºF, school will be canceled__\n",
    "  * __if it is NOT past 9pm, the library should be open__\n",
    "  * __`x > 0 and x < 10`__ means __x is greater than 0 _and_ less than 10__\n",
    "  * __`x > 0 or y < 5`__ means  __either__ x is greater than 0 _or_ y is less than 5 (or both)__"
   ]
  },
  {
   "cell_type": "markdown",
   "metadata": {
    "slideshow": {
     "slide_type": "subslide"
    }
   },
   "source": [
    "## Boolean Algebra\n",
    "* let's see how George Boole's algebra works in Python\n",
    "* to do this, we can make _truth tables_ which show how the logical operators interact with True and False values..."
   ]
  },
  {
   "cell_type": "code",
   "execution_count": 75,
   "metadata": {
    "slideshow": {
     "slide_type": "-"
    }
   },
   "outputs": [
    {
     "name": "stdout",
     "output_type": "stream",
     "text": [
      "False\n",
      "False\n",
      "False\n",
      "True\n"
     ]
    }
   ],
   "source": [
    "# and\n",
    "print(False and False)\n",
    "print(False and True)\n",
    "print(True and False)\n",
    "print(True and True)"
   ]
  },
  {
   "cell_type": "code",
   "execution_count": 76,
   "metadata": {
    "slideshow": {
     "slide_type": "subslide"
    }
   },
   "outputs": [
    {
     "name": "stdout",
     "output_type": "stream",
     "text": [
      "False\n",
      "True\n",
      "True\n",
      "True\n"
     ]
    }
   ],
   "source": [
    "# or\n",
    "print(False or False)\n",
    "print(False or True)\n",
    "print(True or False)\n",
    "print(True or True)"
   ]
  },
  {
   "cell_type": "code",
   "execution_count": 77,
   "metadata": {
    "slideshow": {
     "slide_type": "subslide"
    }
   },
   "outputs": [
    {
     "name": "stdout",
     "output_type": "stream",
     "text": [
      "True\n",
      "False\n"
     ]
    }
   ],
   "source": [
    "# not\n",
    "print(not False)\n",
    "print(not True)"
   ]
  },
  {
   "cell_type": "code",
   "execution_count": 81,
   "metadata": {},
   "outputs": [
    {
     "name": "stdout",
     "output_type": "stream",
     "text": [
      "False\n"
     ]
    }
   ],
   "source": [
    "bval = 0\n",
    "if bval:\n",
    "    print(True)\n",
    "else:\n",
    "    print(False)"
   ]
  },
  {
   "cell_type": "code",
   "execution_count": 84,
   "metadata": {},
   "outputs": [
    {
     "name": "stdout",
     "output_type": "stream",
     "text": [
      "y = 4\n"
     ]
    },
    {
     "data": {
      "text/plain": [
       "4"
      ]
     },
     "execution_count": 84,
     "metadata": {},
     "output_type": "execute_result"
    }
   ],
   "source": [
    "# strictly speaking, the operands of logical operators should be boolean expressions\n",
    "# ...but Python isn't strict about it–any non-zero value is considered \"True\" in Python\n",
    "y = 4\n",
    "print('y =', y)\n",
    "True and y"
   ]
  },
  {
   "cell_type": "code",
   "execution_count": 115,
   "metadata": {},
   "outputs": [
    {
     "name": "stdout",
     "output_type": "stream",
     "text": [
      "y = 4\n"
     ]
    },
    {
     "data": {
      "text/plain": [
       "4"
      ]
     },
     "execution_count": 115,
     "metadata": {},
     "output_type": "execute_result"
    }
   ],
   "source": [
    "y = 4\n",
    "connected = True\n",
    "print('y =', y)\n",
    "result = connected and y\n",
    "result"
   ]
  },
  {
   "cell_type": "code",
   "execution_count": 85,
   "metadata": {},
   "outputs": [
    {
     "data": {
      "text/plain": [
       "0"
      ]
     },
     "execution_count": 85,
     "metadata": {},
     "output_type": "execute_result"
    }
   ],
   "source": [
    "# and 0 is considered False\n",
    "y = 0\n",
    "True and y"
   ]
  },
  {
   "cell_type": "code",
   "execution_count": 109,
   "metadata": {},
   "outputs": [
    {
     "data": {
      "text/plain": [
       "'Default'"
      ]
     },
     "execution_count": 109,
     "metadata": {},
     "output_type": "execute_result"
    }
   ],
   "source": [
    "arg = ''\n",
    "arg = arg or 'Default'\n",
    "arg"
   ]
  },
  {
   "cell_type": "code",
   "execution_count": 90,
   "metadata": {},
   "outputs": [
    {
     "data": {
      "text/plain": [
       "True"
      ]
     },
     "execution_count": 90,
     "metadata": {},
     "output_type": "execute_result"
    }
   ],
   "source": [
    "# ...as is an empty string\n",
    "empty = ''\n",
    "not empty"
   ]
  },
  {
   "cell_type": "markdown",
   "metadata": {
    "collapsed": true,
    "slideshow": {
     "slide_type": "subslide"
    }
   },
   "source": [
    "## Lab: Boolean Algebra\n",
    "* write a Boolean expression which determines whether __year__ is equal to 2017 and __xyz__ is less than 10"
   ]
  },
  {
   "cell_type": "code",
   "execution_count": 94,
   "metadata": {},
   "outputs": [
    {
     "data": {
      "text/plain": [
       "True"
      ]
     },
     "execution_count": 94,
     "metadata": {},
     "output_type": "execute_result"
    }
   ],
   "source": [
    "year = 2017\n",
    "xyz = 9\n",
    "year == 2017 and xyz < 10"
   ]
  },
  {
   "cell_type": "markdown",
   "metadata": {
    "slideshow": {
     "slide_type": "subslide"
    }
   },
   "source": [
    "## Boolean Variables in Python\n",
    "* at this point, it probably won't surprise you to find out that Python also has Boolean variables, i.e., variables that contain the special value True or False\n",
    "* we will see how to use Boolean variables later, but for now we will demonstrate..."
   ]
  },
  {
   "cell_type": "code",
   "execution_count": 95,
   "metadata": {},
   "outputs": [
    {
     "data": {
      "text/plain": [
       "bool"
      ]
     },
     "execution_count": 95,
     "metadata": {},
     "output_type": "execute_result"
    }
   ],
   "source": [
    "ok = True\n",
    "type(ok)"
   ]
  },
  {
   "cell_type": "code",
   "execution_count": 100,
   "metadata": {},
   "outputs": [
    {
     "data": {
      "text/plain": [
       "True"
      ]
     },
     "execution_count": 100,
     "metadata": {},
     "output_type": "execute_result"
    }
   ],
   "source": [
    "is_even = 42 % 2 == 0 # Is 42 even? In other words is there no remainder when dividing 42 by 2?\n",
    "is_even"
   ]
  },
  {
   "cell_type": "markdown",
   "metadata": {
    "slideshow": {
     "slide_type": "subslide"
    }
   },
   "source": [
    "## Lab: Boolean Variables\n",
    "* create a Boolean variable which determines whether the variable __company__ is equal to 'salesforce'"
   ]
  },
  {
   "cell_type": "code",
   "execution_count": 101,
   "metadata": {},
   "outputs": [
    {
     "name": "stdout",
     "output_type": "stream",
     "text": [
      "False\n"
     ]
    }
   ],
   "source": [
    "is_salesforce = (company == 'salesforce')\n",
    "print(is_salesforce)"
   ]
  },
  {
   "cell_type": "code",
   "execution_count": 120,
   "metadata": {},
   "outputs": [
    {
     "name": "stdout",
     "output_type": "stream",
     "text": [
      "Please enter your name:JR\n",
      "Hello JR\n",
      "Please enter your email:JR@somewhere.com\n",
      "Your email is JR@somewhere.com\n"
     ]
    }
   ],
   "source": [
    "input = input(\"Please enter your name:\")\n",
    "print(\"Hello\", input)\n",
    "del input\n",
    "input = input(\"Please enter your email:\")\n",
    "print(\"Your email is\", input)\n",
    "del input"
   ]
  },
  {
   "cell_type": "code",
   "execution_count": 117,
   "metadata": {},
   "outputs": [],
   "source": [
    "del input"
   ]
  },
  {
   "cell_type": "code",
   "execution_count": 119,
   "metadata": {
    "scrolled": true
   },
   "outputs": [
    {
     "name": "stdout",
     "output_type": "stream",
     "text": [
      "Please enter your email:jr@somewhere\n"
     ]
    },
    {
     "data": {
      "text/plain": [
       "'jr@somewhere'"
      ]
     },
     "execution_count": 119,
     "metadata": {},
     "output_type": "execute_result"
    }
   ],
   "source": [
    "input(\"Please enter your email:\")"
   ]
  },
  {
   "cell_type": "markdown",
   "metadata": {
    "slideshow": {
     "slide_type": "subslide"
    }
   },
   "source": [
    "## Type Conversion Functions\n",
    "* Python has built-in type conversion functions that let you convert a value of one type to another (within reason)\n",
    "* __`int(x)`__ will convert __`x`__ to an integer\n",
    "  * only works if __`x`__ can be converted to an integer\n",
    "* __`float(x)`__ will convert __`x`__ to a floating point number\n",
    "  * only works if __`x`__ can be converted to a float\n",
    "* __`str(x)`__ will convert __`x`__ to a string\n",
    "  * always works\n",
    "* __`bool(x)`__ will convert __`x`__ to a bool\n",
    "  * always works"
   ]
  },
  {
   "cell_type": "code",
   "execution_count": 121,
   "metadata": {},
   "outputs": [
    {
     "data": {
      "text/plain": [
       "35"
      ]
     },
     "execution_count": 121,
     "metadata": {},
     "output_type": "execute_result"
    }
   ],
   "source": [
    "int(35.5)"
   ]
  },
  {
   "cell_type": "code",
   "execution_count": 123,
   "metadata": {},
   "outputs": [
    {
     "data": {
      "text/plain": [
       "35"
      ]
     },
     "execution_count": 123,
     "metadata": {},
     "output_type": "execute_result"
    }
   ],
   "source": [
    "int('35')"
   ]
  },
  {
   "cell_type": "code",
   "execution_count": 122,
   "metadata": {},
   "outputs": [
    {
     "ename": "ValueError",
     "evalue": "invalid literal for int() with base 10: '35.5'",
     "output_type": "error",
     "traceback": [
      "\u001b[0;31m---------------------------------------------------------------------------\u001b[0m",
      "\u001b[0;31mValueError\u001b[0m                                Traceback (most recent call last)",
      "\u001b[0;32m<ipython-input-122-cd72d73e6c86>\u001b[0m in \u001b[0;36m<module>\u001b[0;34m\u001b[0m\n\u001b[0;32m----> 1\u001b[0;31m \u001b[0mint\u001b[0m\u001b[0;34m(\u001b[0m\u001b[0;34m'35.5'\u001b[0m\u001b[0;34m)\u001b[0m\u001b[0;34m\u001b[0m\u001b[0;34m\u001b[0m\u001b[0m\n\u001b[0m",
      "\u001b[0;31mValueError\u001b[0m: invalid literal for int() with base 10: '35.5'"
     ]
    }
   ],
   "source": [
    "int('35.5')"
   ]
  },
  {
   "cell_type": "code",
   "execution_count": 124,
   "metadata": {},
   "outputs": [
    {
     "data": {
      "text/plain": [
       "35"
      ]
     },
     "execution_count": 124,
     "metadata": {},
     "output_type": "execute_result"
    }
   ],
   "source": [
    "int(float('35.5'))"
   ]
  },
  {
   "cell_type": "code",
   "execution_count": 125,
   "metadata": {},
   "outputs": [
    {
     "data": {
      "text/plain": [
       "['__abs__',\n",
       " '__add__',\n",
       " '__bool__',\n",
       " '__class__',\n",
       " '__delattr__',\n",
       " '__dir__',\n",
       " '__divmod__',\n",
       " '__doc__',\n",
       " '__eq__',\n",
       " '__float__',\n",
       " '__floordiv__',\n",
       " '__format__',\n",
       " '__ge__',\n",
       " '__getattribute__',\n",
       " '__getformat__',\n",
       " '__getnewargs__',\n",
       " '__gt__',\n",
       " '__hash__',\n",
       " '__init__',\n",
       " '__init_subclass__',\n",
       " '__int__',\n",
       " '__le__',\n",
       " '__lt__',\n",
       " '__mod__',\n",
       " '__mul__',\n",
       " '__ne__',\n",
       " '__neg__',\n",
       " '__new__',\n",
       " '__pos__',\n",
       " '__pow__',\n",
       " '__radd__',\n",
       " '__rdivmod__',\n",
       " '__reduce__',\n",
       " '__reduce_ex__',\n",
       " '__repr__',\n",
       " '__rfloordiv__',\n",
       " '__rmod__',\n",
       " '__rmul__',\n",
       " '__round__',\n",
       " '__rpow__',\n",
       " '__rsub__',\n",
       " '__rtruediv__',\n",
       " '__set_format__',\n",
       " '__setattr__',\n",
       " '__sizeof__',\n",
       " '__str__',\n",
       " '__sub__',\n",
       " '__subclasshook__',\n",
       " '__truediv__',\n",
       " '__trunc__',\n",
       " 'as_integer_ratio',\n",
       " 'conjugate',\n",
       " 'fromhex',\n",
       " 'hex',\n",
       " 'imag',\n",
       " 'is_integer',\n",
       " 'real']"
      ]
     },
     "execution_count": 125,
     "metadata": {},
     "output_type": "execute_result"
    }
   ],
   "source": [
    "dir(float)"
   ]
  },
  {
   "cell_type": "code",
   "execution_count": 126,
   "metadata": {},
   "outputs": [
    {
     "data": {
      "text/plain": [
       "1.0"
      ]
     },
     "execution_count": 126,
     "metadata": {},
     "output_type": "execute_result"
    }
   ],
   "source": [
    "float(1)"
   ]
  },
  {
   "cell_type": "code",
   "execution_count": 127,
   "metadata": {
    "scrolled": true
   },
   "outputs": [
    {
     "data": {
      "text/plain": [
       "'3.14159'"
      ]
     },
     "execution_count": 127,
     "metadata": {},
     "output_type": "execute_result"
    }
   ],
   "source": [
    "str(3.14159)"
   ]
  },
  {
   "cell_type": "code",
   "execution_count": 129,
   "metadata": {},
   "outputs": [
    {
     "name": "stdout",
     "output_type": "stream",
     "text": [
      "3.14 <class 'str'> 3.14 <class 'float'>\n"
     ]
    }
   ],
   "source": [
    "pi = 3.14\n",
    "print(str(pi), type(str(pi)), pi, type(pi))"
   ]
  },
  {
   "cell_type": "code",
   "execution_count": null,
   "metadata": {},
   "outputs": [],
   "source": [
    "bool(''), bool(34), bool(not int(True))"
   ]
  },
  {
   "cell_type": "markdown",
   "metadata": {
    "slideshow": {
     "slide_type": "subslide"
    }
   },
   "source": [
    "## Lab: Type Conversion\n",
    "* write Python code to prompt the user to enter a year\n",
    "* ...then reads input from the user\n",
    "* ...then converts what was read into an integer\n",
    "* print out the final result and verify that it's an integer\n",
    "* your output should look something like this:\n",
    "\n",
    "<pre><b>\n",
    "Enter a year: 2017\n",
    "The year you entered was 2017.\n",
    "\n",
    "&lt;class 'int'>\n",
    "</b></pre>"
   ]
  },
  {
   "cell_type": "code",
   "execution_count": 131,
   "metadata": {},
   "outputs": [
    {
     "name": "stdout",
     "output_type": "stream",
     "text": [
      "Enter a year:2022\n",
      "2022 <class 'int'>\n"
     ]
    }
   ],
   "source": [
    "year = input('Enter a year:')\n",
    "int_year = int(year)\n",
    "\n",
    "print(\"The year you entered is:\", int_year, type(int_year))"
   ]
  },
  {
   "cell_type": "code",
   "execution_count": 133,
   "metadata": {},
   "outputs": [
    {
     "name": "stdout",
     "output_type": "stream",
     "text": [
      "Enter a year:2022\n",
      "2022 <class 'int'>\n",
      "The year 2022 was a good year.\n"
     ]
    }
   ],
   "source": [
    "year = int(input('Enter a year:'))\n",
    "\n",
    "print(year, type(year))\n",
    "print(\"The year\", year, \"was a good year.\")"
   ]
  },
  {
   "cell_type": "code",
   "execution_count": 150,
   "metadata": {},
   "outputs": [
    {
     "name": "stdout",
     "output_type": "stream",
     "text": [
      "This is an int: 7\n",
      "This is also an int: 13, str: mystring\n",
      "This is yet again an int: 6\n"
     ]
    }
   ],
   "source": [
    "## String formatting\n",
    "num = 5\n",
    "print('This is an int: %s' % 7)\n",
    "print('This is also an int: {num}, str: {whatever}'.format(num=13, whatever='mystring'))\n",
    "print(f'This is yet again an int: {num}')"
   ]
  },
  {
   "cell_type": "code",
   "execution_count": 167,
   "metadata": {
    "scrolled": true
   },
   "outputs": [
    {
     "ename": "NameError",
     "evalue": "name 'unknown_variable' is not defined",
     "output_type": "error",
     "traceback": [
      "\u001b[0;31m---------------------------------------------------------------------------\u001b[0m",
      "\u001b[0;31mNameError\u001b[0m                                 Traceback (most recent call last)",
      "\u001b[0;32m<ipython-input-167-85aa15245ca7>\u001b[0m in \u001b[0;36m<module>\u001b[0;34m\u001b[0m\n\u001b[0;32m----> 1\u001b[0;31m \u001b[0muser_message\u001b[0m \u001b[0;34m=\u001b[0m \u001b[0;34mf'Hello {unknown_variable}, your table is ready!'\u001b[0m\u001b[0;34m\u001b[0m\u001b[0;34m\u001b[0m\u001b[0m\n\u001b[0m",
      "\u001b[0;31mNameError\u001b[0m: name 'unknown_variable' is not defined"
     ]
    }
   ],
   "source": [
    "user_message = f'Hello {unknown_variable}, your table is ready!'"
   ]
  },
  {
   "cell_type": "code",
   "execution_count": 166,
   "metadata": {},
   "outputs": [
    {
     "name": "stdout",
     "output_type": "stream",
     "text": [
      "Hello JR, your table is ready!\n",
      "Hello JR, your table is ready!\n"
     ]
    }
   ],
   "source": [
    "print(user_message)\n",
    "name = \"Not JR\"\n",
    "print(user_message)"
   ]
  },
  {
   "cell_type": "code",
   "execution_count": 136,
   "metadata": {},
   "outputs": [
    {
     "name": "stdout",
     "output_type": "stream",
     "text": [
      "<class 'int'>\n",
      "['__abs__', '__add__', '__and__', '__bool__', '__ceil__', '__class__', '__delattr__', '__dir__', '__divmod__', '__doc__', '__eq__', '__float__', '__floor__', '__floordiv__', '__format__', '__ge__', '__getattribute__', '__getnewargs__', '__gt__', '__hash__', '__index__', '__init__', '__init_subclass__', '__int__', '__invert__', '__le__', '__lshift__', '__lt__', '__mod__', '__mul__', '__ne__', '__neg__', '__new__', '__or__', '__pos__', '__pow__', '__radd__', '__rand__', '__rdivmod__', '__reduce__', '__reduce_ex__', '__repr__', '__rfloordiv__', '__rlshift__', '__rmod__', '__rmul__', '__ror__', '__round__', '__rpow__', '__rrshift__', '__rshift__', '__rsub__', '__rtruediv__', '__rxor__', '__setattr__', '__sizeof__', '__str__', '__sub__', '__subclasshook__', '__truediv__', '__trunc__', '__xor__', 'bit_length', 'conjugate', 'denominator', 'from_bytes', 'imag', 'numerator', 'real', 'to_bytes']\n",
      "Help on built-in function bit_length:\n",
      "\n",
      "bit_length() method of builtins.int instance\n",
      "    Number of bits necessary to represent self in binary.\n",
      "    \n",
      "    >>> bin(37)\n",
      "    '0b100101'\n",
      "    >>> (37).bit_length()\n",
      "    6\n",
      "\n"
     ]
    },
    {
     "data": {
      "text/plain": [
       "140476078573216"
      ]
     },
     "execution_count": 136,
     "metadata": {},
     "output_type": "execute_result"
    }
   ],
   "source": [
    "## Everything is an object!\n",
    "\n",
    "n = int(7)\n",
    "print(n.__class__)\n",
    "print(dir(n))\n",
    "n.bit_length()\n",
    "help(n.bit_length)\n",
    "id(n)"
   ]
  },
  {
   "cell_type": "code",
   "execution_count": 141,
   "metadata": {},
   "outputs": [
    {
     "data": {
      "text/plain": [
       "'abc123'"
      ]
     },
     "execution_count": 141,
     "metadata": {},
     "output_type": "execute_result"
    }
   ],
   "source": [
    "s = 'abc'\n",
    "n = '123'\n",
    "# s + n  #Error!\n",
    "dir(s)\n",
    "s.__add__(n)"
   ]
  },
  {
   "cell_type": "markdown",
   "metadata": {
    "slideshow": {
     "slide_type": "subslide"
    }
   },
   "source": [
    "## String Operations\n",
    "* you can't do arithmetic on strings, even if the value inside the string looks like a number...\n",
    "* so, __`'2' + '4'`__ is not __`'6'`__ in Python\n",
    "* but the + and * operators work on strings...\n",
    "  * __`+`__ = _concatenation_ (__`'good' + 'bye'`__ yields __`'goodbye'`__)\n",
    "  * __`*`__ = replication (__`'good' * 4`__ yields __`'goodgoodgoodgood'`__)"
   ]
  },
  {
   "cell_type": "code",
   "execution_count": 142,
   "metadata": {},
   "outputs": [
    {
     "name": "stdout",
     "output_type": "stream",
     "text": [
      "Name? JR\n"
     ]
    },
    {
     "data": {
      "text/plain": [
       "'Hello JR, how are you?'"
      ]
     },
     "execution_count": 142,
     "metadata": {},
     "output_type": "execute_result"
    }
   ],
   "source": [
    "name = input('Name? ')\n",
    "message = 'Hello ' + name + ', how are you?'\n",
    "message"
   ]
  },
  {
   "cell_type": "code",
   "execution_count": 149,
   "metadata": {},
   "outputs": [
    {
     "name": "stdout",
     "output_type": "stream",
     "text": [
      "1234567890123456789012345678901234567890\n",
      "----------------------------------------\n"
     ]
    }
   ],
   "source": [
    "ruler = '1234567890' * 4\n",
    "line = '-' * 40\n",
    "print(ruler)\n",
    "print(line)"
   ]
  },
  {
   "cell_type": "markdown",
   "metadata": {
    "slideshow": {
     "slide_type": "subslide"
    }
   },
   "source": [
    "## Lab: Strings\n",
    "* read in two separate strings from the user\n",
    "* create a new string which consists of the second string followed by a space, followed by the first string\n",
    "* e.g, \"hello\" and \"there\" would become \"there hello\""
   ]
  },
  {
   "cell_type": "code",
   "execution_count": 153,
   "metadata": {},
   "outputs": [
    {
     "name": "stdout",
     "output_type": "stream",
     "text": [
      "Enter first string:JR\n",
      "Enter second string:Rickerson\n",
      "JR Rickerson\n",
      "Rickerson JR\n",
      "Rickerson JR\n"
     ]
    }
   ],
   "source": [
    "first = input(\"Enter first string:\")\n",
    "second = input(\"Enter second string:\")\n",
    "\n",
    "combined = second + ' ' + first\n",
    "combined_format = f'{second} {first}'\n",
    "\n",
    "print(first, second)\n",
    "print(combined)\n",
    "print(combined_format)"
   ]
  },
  {
   "cell_type": "markdown",
   "metadata": {
    "slideshow": {
     "slide_type": "subslide"
    }
   },
   "source": [
    "## Indexing Strings\n",
    "* we can access the individual characters of a string using brackets–__`[]`__\n",
    "* the first character of a string is at index 0 (all counting in computer science begins with 0)"
   ]
  },
  {
   "cell_type": "code",
   "execution_count": 155,
   "metadata": {
    "slideshow": {
     "slide_type": "-"
    }
   },
   "outputs": [
    {
     "name": "stdout",
     "output_type": "stream",
     "text": [
      "Enter your name: JR\n",
      "The first character of JR is H\n"
     ]
    }
   ],
   "source": [
    "name = input('Enter your name: ')\n",
    "print('The first character of', name, 'is', name[0])"
   ]
  },
  {
   "cell_type": "code",
   "execution_count": 157,
   "metadata": {},
   "outputs": [
    {
     "name": "stdout",
     "output_type": "stream",
     "text": [
      "J\n",
      "J\n",
      "<class 'str'>\n"
     ]
    }
   ],
   "source": [
    "print(name[0])\n",
    "print(name[0][0])\n",
    "print(type(name[0]))"
   ]
  },
  {
   "cell_type": "markdown",
   "metadata": {
    "slideshow": {
     "slide_type": "subslide"
    }
   },
   "source": [
    "## Lab: Indexing Strings\n",
    "* prompt the user and read a string\n",
    "* prompt the user for an index\n",
    "*  use the index to print out the character at that offset (e.g., if user enters '3', you would print out the [3] character of the string\n",
    "* what happens if you hit return (i.e., enter an \"empty string\")?\n",
    "* what happens if you set the zeroth character of the string you read to 'x'\n",
    "    * __`name[0] = 'x'`__"
   ]
  },
  {
   "cell_type": "code",
   "execution_count": 160,
   "metadata": {},
   "outputs": [
    {
     "name": "stdout",
     "output_type": "stream",
     "text": [
      "Please enter a string:Rickerson\n",
      "Please enter an index:\n"
     ]
    },
    {
     "ename": "ValueError",
     "evalue": "invalid literal for int() with base 10: ''",
     "output_type": "error",
     "traceback": [
      "\u001b[0;31m---------------------------------------------------------------------------\u001b[0m",
      "\u001b[0;31mValueError\u001b[0m                                Traceback (most recent call last)",
      "\u001b[0;32m<ipython-input-160-c66e0494b101>\u001b[0m in \u001b[0;36m<module>\u001b[0;34m\u001b[0m\n\u001b[1;32m      1\u001b[0m \u001b[0muser_string\u001b[0m \u001b[0;34m=\u001b[0m \u001b[0minput\u001b[0m\u001b[0;34m(\u001b[0m\u001b[0;34m\"Please enter a string:\"\u001b[0m\u001b[0;34m)\u001b[0m\u001b[0;34m\u001b[0m\u001b[0;34m\u001b[0m\u001b[0m\n\u001b[0;32m----> 2\u001b[0;31m \u001b[0mindex\u001b[0m \u001b[0;34m=\u001b[0m \u001b[0mint\u001b[0m\u001b[0;34m(\u001b[0m\u001b[0minput\u001b[0m\u001b[0;34m(\u001b[0m\u001b[0;34m\"Please enter an index:\"\u001b[0m\u001b[0;34m)\u001b[0m\u001b[0;34m)\u001b[0m\u001b[0;34m\u001b[0m\u001b[0;34m\u001b[0m\u001b[0m\n\u001b[0m\u001b[1;32m      3\u001b[0m \u001b[0;34m\u001b[0m\u001b[0m\n\u001b[1;32m      4\u001b[0m \u001b[0mprint\u001b[0m\u001b[0;34m(\u001b[0m\u001b[0;34mf\"The {index} character of {user_string} is {user_string[index]}\"\u001b[0m\u001b[0;34m)\u001b[0m\u001b[0;34m\u001b[0m\u001b[0;34m\u001b[0m\u001b[0m\n",
      "\u001b[0;31mValueError\u001b[0m: invalid literal for int() with base 10: ''"
     ]
    }
   ],
   "source": [
    "user_string = input(\"Please enter a string:\")\n",
    "index = int(input(\"Please enter an index:\"))\n",
    "\n",
    "print(f\"The {index} character of {user_string} is {user_string[index]}\")"
   ]
  },
  {
   "cell_type": "code",
   "execution_count": 161,
   "metadata": {},
   "outputs": [
    {
     "ename": "TypeError",
     "evalue": "'str' object does not support item assignment",
     "output_type": "error",
     "traceback": [
      "\u001b[0;31m---------------------------------------------------------------------------\u001b[0m",
      "\u001b[0;31mTypeError\u001b[0m                                 Traceback (most recent call last)",
      "\u001b[0;32m<ipython-input-161-21f485fca5b9>\u001b[0m in \u001b[0;36m<module>\u001b[0;34m\u001b[0m\n\u001b[0;32m----> 1\u001b[0;31m \u001b[0mname\u001b[0m\u001b[0;34m[\u001b[0m\u001b[0;36m0\u001b[0m\u001b[0;34m]\u001b[0m \u001b[0;34m=\u001b[0m \u001b[0;34m\"x\"\u001b[0m\u001b[0;34m\u001b[0m\u001b[0;34m\u001b[0m\u001b[0m\n\u001b[0m",
      "\u001b[0;31mTypeError\u001b[0m: 'str' object does not support item assignment"
     ]
    }
   ],
   "source": [
    "name[0] = \"x\""
   ]
  },
  {
   "cell_type": "code",
   "execution_count": 163,
   "metadata": {},
   "outputs": [
    {
     "name": "stdout",
     "output_type": "stream",
     "text": [
      "Help on built-in function getattr in module builtins:\n",
      "\n",
      "getattr(...)\n",
      "    getattr(object, name[, default]) -> value\n",
      "    \n",
      "    Get a named attribute from an object; getattr(x, 'y') is equivalent to x.y.\n",
      "    When a default argument is given, it is returned when the attribute doesn't\n",
      "    exist; without it, an exception is raised in that case.\n",
      "\n"
     ]
    }
   ],
   "source": [
    "help(getattr)"
   ]
  },
  {
   "cell_type": "markdown",
   "metadata": {
    "slideshow": {
     "slide_type": "subslide"
    }
   },
   "source": [
    "## Composition\n",
    "* one of the most useful features of Python (and other programming languages) is their ability to take small building blocks and compose them\n",
    "* e.g., we know how to add numbers and we know how to print–we already know we can do both at the same time, which is what we mean by composition:\n",
    "  * __`print(x + 17)`__\n",
    "* we can get more complex, e.g.,\n",
    "  * __`seconds = hours * 3600 + minutes * 60`__\n"
   ]
  },
  {
   "cell_type": "code",
   "execution_count": 170,
   "metadata": {},
   "outputs": [
    {
     "name": "stdout",
     "output_type": "stream",
     "text": [
      "  1           0 LOAD_NAME                0 (print)\n",
      "              2 LOAD_NAME                1 (x)\n",
      "              4 LOAD_CONST               0 (17)\n",
      "              6 BINARY_ADD\n",
      "              8 CALL_FUNCTION            1\n",
      "             10 RETURN_VALUE\n"
     ]
    }
   ],
   "source": [
    "# The dis(assembly) module will show us something interesting...\n",
    "# the bytecode into which Python is translated\n",
    "import dis\n",
    "dis.dis('print(x + 17)')"
   ]
  },
  {
   "cell_type": "code",
   "execution_count": 169,
   "metadata": {},
   "outputs": [
    {
     "name": "stdout",
     "output_type": "stream",
     "text": [
      "Hello\n",
      "None\n"
     ]
    }
   ],
   "source": [
    "r = print('Hello')\n",
    "print(r)"
   ]
  },
  {
   "cell_type": "markdown",
   "metadata": {
    "slideshow": {
     "slide_type": "slide"
    }
   },
   "source": [
    "# Statements"
   ]
  },
  {
   "cell_type": "markdown",
   "metadata": {
    "slideshow": {
     "slide_type": "subslide"
    }
   },
   "source": [
    "## Conditional Execution\n",
    "* in order to write useful programs, we typically need the ability to check some condition and change the behavior of the program accordingly\n",
    "* conditional statements give us this ability\n",
    "* the simplest form is the if statement..."
   ]
  },
  {
   "cell_type": "code",
   "execution_count": 175,
   "metadata": {},
   "outputs": [
    {
     "name": "stdout",
     "output_type": "stream",
     "text": [
      "Enter a year: 1999\n",
      "after the if statement\n"
     ]
    }
   ],
   "source": [
    "year = int(input('Enter a year: '))\n",
    "# convert from string to integer\n",
    "\n",
    "if year > 2000:\n",
    "    print('blah', 'indented statement', 'something',\n",
    "          sep='\\n')\n",
    "    print('another')\n",
    "\n",
    "print('after the if statement')"
   ]
  },
  {
   "cell_type": "code",
   "execution_count": 181,
   "metadata": {},
   "outputs": [
    {
     "name": "stdout",
     "output_type": "stream",
     "text": [
      "Evaluated to False\n",
      "Done\n"
     ]
    }
   ],
   "source": [
    "if \"\":\n",
    "    print(\"Evaluates to True\")\n",
    "    print(\"Done\")\n",
    "else:\n",
    "    print(\"Evaluated to False\")\n",
    "    print(\"Done\")\n",
    "    \n",
    "x = 3"
   ]
  },
  {
   "cell_type": "markdown",
   "metadata": {},
   "source": [
    "* the boolean expression after the __`if`__ statement is called the condition\n",
    "* if the condition is true, then the indented statement (or statements) gets executed\n",
    "* if the condition is false, then nothing happens\n",
    "* the __`if`__ statement is made up of a header and a block of statements, like so\n",
    "    \n",
    "<img src=\"images/compound.png\" alt=\"Drawing\" style=\"width: 250px;\"/>\n",
    "\n",
    "* the header begins on a new line and ends with a colon (:)\n",
    "* the indented statements that follow are called a block\n",
    "* the first unindented statement marks the end of the block"
   ]
  },
  {
   "cell_type": "code",
   "execution_count": null,
   "metadata": {},
   "outputs": [],
   "source": [
    "# C++ code\n",
    "if (x == 1) {\n",
    "    cout << \"Hello World\";\n",
    "}"
   ]
  },
  {
   "cell_type": "markdown",
   "metadata": {
    "slideshow": {
     "slide_type": "subslide"
    }
   },
   "source": [
    "## Python Indentation\n",
    "* indentation is one of the bugbagoos of Python\n",
    "* as we saw with the __`if`__ statement, we must introduce a new block with a colon\n",
    "  * ...and then indent all of the statements in the block\n",
    "  * all statements in the block must be indented the same amount\n",
    "  * don't use TABs, use spaces (Python will complain if you mix TABs and spaces)\n",
    "  * Python recommends 4 spaces per level of indentation"
   ]
  },
  {
   "cell_type": "markdown",
   "metadata": {
    "slideshow": {
     "slide_type": "subslide"
    }
   },
   "source": [
    "## Chained Conditionals\n",
    "* sometimes there are more than two possibilities and we need more than two branches\n",
    "* one way to express a computation like that is a chained conditional..."
   ]
  },
  {
   "cell_type": "code",
   "execution_count": 184,
   "metadata": {},
   "outputs": [
    {
     "name": "stdout",
     "output_type": "stream",
     "text": [
      "9 and 9 are equal\n"
     ]
    }
   ],
   "source": [
    "x, y = 9, 9 # in Python we can assign multiple values to multiple\n",
    "            # variables, but only do it this way if the variables\n",
    "            # are related\n",
    "\n",
    "if x < y:\n",
    "    print(x, \"is less than\", y)\n",
    "elif x > y:\n",
    "    print(x, \"is greater than\", y)\n",
    "else:\n",
    "    print(x, \"and\", y, \"are equal\")"
   ]
  },
  {
   "cell_type": "markdown",
   "metadata": {},
   "source": [
    "* __`elif`__ means _else if_, which is optional\n",
    "* there is no limit to the number of __`elif`__ statements\n",
    "* if there is an __`else`__, it has to be the last branch"
   ]
  },
  {
   "cell_type": "markdown",
   "metadata": {
    "slideshow": {
     "slide_type": "subslide"
    }
   },
   "source": [
    "## Nested Conditionals\n",
    "* one conditional can be nested within another\n",
    "* therefore, we could have written the previous __`if`__ statement as follows:\n"
   ]
  },
  {
   "cell_type": "code",
   "execution_count": 192,
   "metadata": {},
   "outputs": [
    {
     "name": "stdout",
     "output_type": "stream",
     "text": [
      "15.1 is less than 15.2\n",
      "done\n"
     ]
    }
   ],
   "source": [
    "x = 15.1\n",
    "y = 15.2\n",
    "if x == y:\n",
    "    print (x, \"and\", y, \"are equal\")\n",
    "else:\n",
    "    if x < y:\n",
    "        print(x, \"is less than\", y)\n",
    "    else:\n",
    "        print(x, \"is greater than\", y)\n",
    "print(\"done\")"
   ]
  },
  {
   "cell_type": "markdown",
   "metadata": {
    "slideshow": {
     "slide_type": "subslide"
    }
   },
   "source": [
    "## Lab: Odd-Even Program (our first program that does something)\n",
    "1. prompt the user to enter a number\n",
    "2. read input from the user\n",
    "3. convert the input to an integer\n",
    "4. tell the user whether the number entered was odd or even\n"
   ]
  },
  {
   "cell_type": "code",
   "execution_count": 194,
   "metadata": {},
   "outputs": [
    {
     "name": "stdout",
     "output_type": "stream",
     "text": [
      "Enter a number:23\n",
      "23 is odd\n"
     ]
    }
   ],
   "source": [
    "check_even = int(input(\"Enter a number:\"))\n",
    "if check_even % 2:\n",
    "    print(f\"{check_even} is odd\")\n",
    "else:\n",
    "    print(f\"{check_even} is even\")"
   ]
  },
  {
   "cell_type": "markdown",
   "metadata": {},
   "source": [
    "## Lab: Leap Year Program\n",
    "1. prompt the user to enter a year\n",
    "2. read input from the user\n",
    "3. convert the input to an integer\n",
    "4. tell the user whether the year entered is a leap year or not\n",
    "  * a year is a leap year if\n",
    "  1. it's divisible by 4 AND\n",
    "  2. it's not divisible by 100 (i.e., 1900 was not a leap year) UNLESS\n",
    "  3. it's also divisible by 400 (i.e., 2000 was a leap year)"
   ]
  },
  {
   "cell_type": "code",
   "execution_count": null,
   "metadata": {},
   "outputs": [],
   "source": []
  },
  {
   "cell_type": "markdown",
   "metadata": {
    "slideshow": {
     "slide_type": "slide"
    }
   },
   "source": [
    "# The Art of Programming"
   ]
  },
  {
   "cell_type": "markdown",
   "metadata": {
    "slideshow": {
     "slide_type": "subslide"
    }
   },
   "source": [
    "## The Art of Programming\n",
    "* first off, what do we mean by programming?\n",
    "  * understanding the problem at hand\n",
    "  * formulating a solution to that problem as a series of steps\n",
    "  * converting those steps into code\n",
    "  * testing your code\n",
    "  * fixing bugs\n",
    "* next, what do we mean by art?\n",
    "  * coding is a procedure we follow, and as such, we could argue there isn't much 'art' involved\n",
    "  * however, experienced programmers often use their intuition and deep understanding of problems and coding practices to \"finesse\" a solution\n",
    "  * in a sense they can \"see\" the problem clearer, and therefore generate a solution quicker and often better than those who are inexperienced\n",
    "* so how do new programmers get to that point?\n",
    "  * just like the old joke about Carnegie Hall–practice, practice, practice!"
   ]
  },
  {
   "cell_type": "markdown",
   "metadata": {
    "slideshow": {
     "slide_type": "subslide"
    }
   },
   "source": [
    "## Converting a Problem Into Code\n",
    "1. be sure you understand the problem (do not start coding yet)\n",
    "2. write down the sequence of steps you use to solve that problem \"in real life\" (do not start coding yet)\n",
    "3. convert each step into the code to perform it\n",
    "\n",
    "__DO NOT WRITE CODE UNTIL YOU KNOW WHAT YOU ARE WRITING AND WHY YOU ARE WRITING IT!__"
   ]
  },
  {
   "cell_type": "markdown",
   "metadata": {},
   "source": [
    "## Mental Models\n",
    "* a _mental model_ is an explanation of someone's thought process about how something works in the real world\n",
    "* mental models can help generate an approach to solving problems\n",
    "* Kenneth Craik suggested in 1943 that the mind constructs \"small-scale models\" of reality that it uses to anticipate events\n",
    "* it is my belief that most bugs in our program occur because of an incorrect mental model\n",
    "  * if our understanding (or modeling) of a problem is flawed, then necessarily our code will be flawed\n",
    "* when code doesn't work, we may want to pay attention to our mental model and see if we can find flaws in it\n",
    "  * i.e., is there assumption we are making which is untrue?"
   ]
  },
  {
   "cell_type": "markdown",
   "metadata": {
    "slideshow": {
     "slide_type": "slide"
    }
   },
   "source": [
    "## Iteration\n",
    "* to _iterate_ is to _repeat_ something (in the case of programming, we will be repeating some code)"
   ]
  },
  {
   "cell_type": "markdown",
   "metadata": {
    "slideshow": {
     "slide_type": "subslide"
    }
   },
   "source": [
    "## The __`for`__ Loop\n",
    "* we use a __`for`__ loop when we want to repeat something a _known_ number of times\n",
    "* real world example–_drive for __5 blocks__ and then turn right_\n",
    "* there are two types of __`for`__ loops in Python\n",
    "  * looping through a numeric range\n",
    "  * looping through a _container_\n",
    "    * containers are Python data types which _contain_ things (e.g., a string contains characters)\n",
    "* syntax\n",
    "\n",
    "   <pre>\n",
    "      <b>\n",
    "      for variable in sequence:\n",
    "          statement(s)\n",
    "      </b>\n",
    "   </pre>\n",
    "* you choose the name of the _variable_, which should be something that makes sense\n",
    "<img src=\"images/python_for_loop.jpg\" alt=\"flow\" style=\"width: 350px;\"/>"
   ]
  },
  {
   "cell_type": "code",
   "execution_count": 195,
   "metadata": {},
   "outputs": [
    {
     "name": "stdout",
     "output_type": "stream",
     "text": [
      "C\n",
      "O\n",
      "N\n",
      "T\n",
      "A\n",
      "I\n",
      "N\n",
      "E\n",
      "R\n",
      "done\n"
     ]
    }
   ],
   "source": [
    "# loop through a container (in this case,\n",
    "# the container is a string)\n",
    "\n",
    "for item in 'CONTAINER':\n",
    "    print(item)\n",
    "print(\"done\")"
   ]
  },
  {
   "cell_type": "code",
   "execution_count": 196,
   "metadata": {},
   "outputs": [
    {
     "name": "stdout",
     "output_type": "stream",
     "text": [
      "1\n",
      "2\n",
      "3\n",
      "4\n",
      "5\n",
      "6\n",
      "7\n",
      "8\n",
      "9\n"
     ]
    }
   ],
   "source": [
    "# for reasons that are not important right now, a Python range always\n",
    "# excludes the last number ...so range(1, 10) means 1, 2, ..., 9\n",
    "\n",
    "for number in range(1, 10):\n",
    "    print(number)"
   ]
  },
  {
   "cell_type": "code",
   "execution_count": null,
   "metadata": {},
   "outputs": [],
   "source": [
    "# C++ for loop\n",
    "#for (int i = 0; i < 10; i++) {}"
   ]
  },
  {
   "cell_type": "markdown",
   "metadata": {},
   "source": [
    "## Lab: for loops\n",
    "* write a Python program which asks the user for a string and then outputs the same string with each character duplicated\n",
    "  * e.g., if the user enters __salesforce__, your program will output __ssaalleessffoorrccee__\n",
    "* write a Python program to compute __`n! (= n * n - 1 * n - 2 ... * 1)`__\n",
    "  * so if the user enters a 5, your program should compute __`5 * 4 * 3 * 2 * 1 (120)`__"
   ]
  },
  {
   "cell_type": "code",
   "execution_count": null,
   "metadata": {
    "scrolled": true
   },
   "outputs": [],
   "source": []
  },
  {
   "cell_type": "code",
   "execution_count": null,
   "metadata": {},
   "outputs": [],
   "source": []
  },
  {
   "cell_type": "markdown",
   "metadata": {
    "slideshow": {
     "slide_type": "subslide"
    }
   },
   "source": [
    "## The __`while`__ Loop\n",
    "* we use a __`while`__ loop when we want to repeat something an _unknown_ number of times\n",
    "* real world example–_keep driving until you get to a traffic light, then turn right_\n",
    "* a __`while`__ loop checks a boolean condition and keeps going until the condition becomes false \n",
    "* much less common than __`for`__ loops\n",
    "* syntax\n",
    "\n",
    "   <pre>\n",
    "      <b>\n",
    "      while condition:\n",
    "          statement(s)\n",
    "      </b>\n",
    "   </pre>\n",
    "        \n",
    "<img src=\"images/python_while_loop.jpg\" alt=\"flow\" style=\"width: 350px;\"/>\n"
   ]
  },
  {
   "cell_type": "code",
   "execution_count": 197,
   "metadata": {},
   "outputs": [
    {
     "name": "stdout",
     "output_type": "stream",
     "text": [
      "Enter a positive number: 0\n",
      "Enter a positive number: -1\n",
      "Enter a positive number: -2\n",
      "Enter a positive number: 2\n"
     ]
    }
   ],
   "source": [
    "num = 0\n",
    "while num < 1:\n",
    "    num = int(input(\n",
    "        \"Enter a positive number: \"))"
   ]
  },
  {
   "cell_type": "markdown",
   "metadata": {},
   "source": [
    "## Lab: while loops\n",
    "1. write Python code which prompts the user to enter a 5-letter string\n",
    "  * it then reads input from the user and stops if the user did in fact enter a 5-letter string\n",
    "  * otherwise, it prints an error message, and once again asks the user to enter a 5-letter string\n",
    "2. write a Python program which picks a random number between 1 and 100 and asks the user to guess it\n",
    "  * if the user's guess is too high, say it's too high\n",
    "  * if the user's guess is too low, say it's too low\n",
    "  * if the user's guess is correct, say it's correct and stop looping\n",
    "  * you can use the code below to get a random number\n",
    "  \n",
    "  <pre><b>\n",
    "  import random\n",
    "  number = random.randint(1, 100)\n",
    "  </b></pre>"
   ]
  },
  {
   "cell_type": "code",
   "execution_count": null,
   "metadata": {},
   "outputs": [],
   "source": []
  },
  {
   "cell_type": "code",
   "execution_count": null,
   "metadata": {},
   "outputs": [],
   "source": []
  },
  {
   "cell_type": "markdown",
   "metadata": {
    "slideshow": {
     "slide_type": "subslide"
    }
   },
   "source": [
    "## Syntax Common to Both __`for`__ and __`while`__ Loops\n",
    "* the __`break`__ statement is used to immediately exit a loop\n",
    "* the __`continue`__ statement is used to skip the rest of the loop and continue with the next iteration\n",
    "* the __`else`__ clause is executed only if the loop finished _normally_–meaning it did not finish as a result of a __`break`__ statement\n",
    "  * __`else`__ is a terrible name and we just have to live with it\n",
    "* let's see examples of each of these..."
   ]
  },
  {
   "cell_type": "code",
   "execution_count": 200,
   "metadata": {},
   "outputs": [
    {
     "name": "stdout",
     "output_type": "stream",
     "text": [
      "Enter low number: 122\n",
      "First multiple of 37 above 122 is 148\n"
     ]
    }
   ],
   "source": [
    "# 'break' example: find the first multiple\n",
    "# of 37 >= to the entered number\n",
    "\n",
    "num = int(input('Enter low number: '))\n",
    "\n",
    "for check in range(num, num + 37):\n",
    "    if check % 37 == 0: # num is divisible by 37\n",
    "        print('First multiple of 37 above',\n",
    "              num, 'is', check)\n",
    "        break # quit the loop right now"
   ]
  },
  {
   "cell_type": "code",
   "execution_count": 201,
   "metadata": {},
   "outputs": [
    {
     "name": "stdout",
     "output_type": "stream",
     "text": [
      "2 is even\n",
      "3 is odd\n",
      "4 is even\n",
      "5 is odd\n",
      "6 is even\n",
      "7 is odd\n",
      "8 is even\n",
      "9 is odd\n",
      "10 is even\n"
     ]
    }
   ],
   "source": [
    "# 'continue' example: print out whether numbers are even or odd\n",
    "\n",
    "for num in range(2, 11): # 2..10\n",
    "    if num % 2 == 0: # if num is divisible by 2 (hence even)\n",
    "        print(num, 'is even')\n",
    "        continue # skip next line and iterate again\n",
    "    print(num, 'is odd')"
   ]
  },
  {
   "cell_type": "code",
   "execution_count": 204,
   "metadata": {},
   "outputs": [
    {
     "name": "stdout",
     "output_type": "stream",
     "text": [
      "Enter a 5-letter word: abc\n",
      "Why can't you follow directions?\n",
      "Enter a 5-letter word: def\n",
      "Why can't you follow directions?\n",
      "Enter a 5-letter word: hello\n",
      "This will always execute\n"
     ]
    }
   ],
   "source": [
    "# else example\n",
    "\n",
    "for num in range(1, 6): # 1..5\n",
    "    word = input('Enter a 5-letter word: ')\n",
    "    # here we see a new function, len()\n",
    "    if len(word) == 5:\n",
    "        break\n",
    "# this is only executed if we didn't 'break' out of the loop\n",
    "else:\n",
    "    print(\"Why can't you follow directions?\")\n",
    "print('This will always execute')"
   ]
  },
  {
   "cell_type": "markdown",
   "metadata": {},
   "source": [
    "## Lab: break/continue/else\n",
    "* modify your guessing game to add the option for the user to give up by typing a 0 as his or her guess:\n",
    "    * if the user enters a 0, exit the loop\n",
    "    * after the loop, we need to determine   \n",
    "    whether the user gave up or guessed the   \n",
    "    number correctly\n",
    "    * if gave up, print 'sorry you\n",
    "     gave up'\n",
    "    * if correct, print 'got it!'\n",
    "</pre>\n"
   ]
  },
  {
   "cell_type": "code",
   "execution_count": null,
   "metadata": {},
   "outputs": [],
   "source": []
  },
  {
   "cell_type": "markdown",
   "metadata": {
    "slideshow": {
     "slide_type": "subslide"
    }
   },
   "source": [
    "## Post-Test Loops\n",
    "* occasionally we want a loop where the test is performed at the end of the loop\n",
    "* some languages have a special _do-while_ loop for this case, but that doesn't exist in Python\n",
    "* we can simulate a _do-while_ loop in Python as follows:\n",
    "\n",
    " <pre>\n",
    "      <b>\n",
    "      while True:\n",
    "          statement(s)\n",
    "          if condition is false:\n",
    "              break\n",
    "      </b>\n",
    "   </pre>"
   ]
  },
  {
   "cell_type": "code",
   "execution_count": 207,
   "metadata": {},
   "outputs": [
    {
     "name": "stdout",
     "output_type": "stream",
     "text": [
      "0\n"
     ]
    }
   ],
   "source": [
    "# keep adding numbers until user enters a 0\n",
    "\n",
    "total = 0\n",
    "\n",
    "while True: # infinite loop, so we must have a 'break' somewhere in the loop\n",
    "    num = int(input('Enter a number: '))\n",
    "    total += num\n",
    "    if num == 0:\n",
    "        break\n",
    "\n",
    "print(total)"
   ]
  },
  {
   "cell_type": "markdown",
   "metadata": {
    "slideshow": {
     "slide_type": "subslide"
    }
   },
   "source": [
    "## Middle-Test Loops\n",
    "* like a post-test loop, we want a loop where the test is not performed at the top\n",
    "* in this case the test is performed in the middle\n",
    "* no language has a middle-test loop construct\n",
    "* we can perform a middle-test loop in Python as follows:\n",
    "\n",
    " <pre>\n",
    "      <b>\n",
    "      while True:\n",
    "          statement(s)\n",
    "          if condition is false:\n",
    "              break\n",
    "          statement(s)\n",
    "      </b>\n",
    "   </pre>"
   ]
  },
  {
   "cell_type": "code",
   "execution_count": 208,
   "metadata": {},
   "outputs": [
    {
     "name": "stdout",
     "output_type": "stream",
     "text": [
      "Enter the next number (leave blank to end): 3\n",
      "Enter the next number (leave blank to end): 8\n",
      "Enter the next number (leave blank to end): 1\n",
      "Enter the next number (leave blank to end): \n",
      "The total of the numbers you entered is 12\n"
     ]
    }
   ],
   "source": [
    "# sum up the numbers until user hits return\n",
    "\n",
    "total = 0\n",
    "\n",
    "while True: \n",
    "    num = input(\"Enter the next number (leave blank to end): \")\n",
    "    if num == '':\n",
    "        break\n",
    "    total += int(num)\n",
    "    \n",
    "print(\"The total of the numbers you entered is\", total)"
   ]
  },
  {
   "cell_type": "markdown",
   "metadata": {
    "slideshow": {
     "slide_type": "subslide"
    }
   },
   "source": [
    "## Nested Loops\n",
    "* it is possible–and quite common–to have a loop inside a loop\n",
    "* in these cases, the inner loop(s) must complete before the outer loop continues"
   ]
  },
  {
   "cell_type": "code",
   "execution_count": 211,
   "metadata": {},
   "outputs": [
    {
     "name": "stdout",
     "output_type": "stream",
     "text": [
      "   1    2    3    4    5    6    7    8    9   10 \n",
      "   2    4    6    8   10   12   14   16   18   20 \n",
      "   3    6    9   12   15   18   21   24   27   30 \n",
      "   4    8   12   16   20   24   28   32   36   40 \n",
      "   5   10   15   20   25   30   35   40   45   50 \n",
      "   6   12   18   24   30   36   42   48   54   60 \n",
      "   7   14   21   28   35   42   49   56   63   70 \n",
      "   8   16   24   32   40   48   56   64   72   80 \n",
      "   9   18   27   36   45   54   63   72   81   90 \n",
      "  10   20   30   40   50   60   70   80   90  100 \n"
     ]
    }
   ],
   "source": [
    "for first in range(1, 11):\n",
    "    # for each iteration of the outer loop, the inner loop\n",
    "    # will run to completion\n",
    "    for second in range(1, 11):\n",
    "        #print(first * second, end=' ')\n",
    "        #print('%3d' % (first * second), end=' ') # Python 2-style\n",
    "        print('{:4d}'.format(first * second), end=' ')\n",
    "\n",
    "    print()"
   ]
  },
  {
   "cell_type": "markdown",
   "metadata": {},
   "source": [
    "## Lab: Finding Prime Numbers\n",
    "* write a program to print out the prime numbers between 10 and 30\n",
    "* a number is prime if it's only divisible by 1 and itself\n",
    "* algorithm\n",
    "  * for each number 10 to 30\n",
    "    * try to divide in all of the numbers up to (but not including) the current number\n",
    "    * if any lower number divides in evenly, the number is not prime\n",
    "    * if NONE of the lower numbers divide in evenly, the number IS prime\n",
    "* later, if there's time, we'll look at another way to find prime numbers that was discovered by Eratosthenes"
   ]
  },
  {
   "cell_type": "code",
   "execution_count": 40,
   "metadata": {},
   "outputs": [
    {
     "name": "stdout",
     "output_type": "stream",
     "text": [
      "11 is a prime number.\n",
      "13 is a prime number.\n",
      "17 is a prime number.\n",
      "19 is a prime number.\n",
      "23 is a prime number.\n",
      "29 is a prime number.\n"
     ]
    }
   ],
   "source": [
    "# Instructor solution\n",
    "start = 10\n",
    "stop = 30\n",
    "\n",
    "# Loop through the number we want to check for primes\n",
    "for num in range(start, stop + 1):\n",
    "    # Loop through the numbers that might divide into num\n",
    "    for factor in range(2, num):\n",
    "        if num % factor == 0:\n",
    "            # Divides evenly - not prime!\n",
    "            break\n",
    "    else:\n",
    "        print(num, \"is a prime number.\")"
   ]
  },
  {
   "cell_type": "code",
   "execution_count": 41,
   "metadata": {},
   "outputs": [
    {
     "name": "stdout",
     "output_type": "stream",
     "text": [
      "11 is a prime number.\n",
      "13 is a prime number.\n",
      "17 is a prime number.\n",
      "19 is a prime number.\n",
      "23 is a prime number.\n",
      "29 is a prime number.\n"
     ]
    }
   ],
   "source": [
    "# Instructor solution - optimized\n",
    "start = 10\n",
    "stop = 30\n",
    "\n",
    "# Optimize - we can skip every even number - none are prime (except 2)\n",
    "if start % 2 == 0:\n",
    "    start = start + 1\n",
    "\n",
    "# Loop through the number we want to check for primes (only odds)\n",
    "for num in range(start, stop + 1, 2):\n",
    "    # Loop through the numbers that might divide into num\n",
    "    # Optimize - we never have to check past half the number \n",
    "    # because the highest factor of any number is half of it.\n",
    "    for factor in range(2, num // 2 + 1):\n",
    "        if num % factor == 0:\n",
    "            # Divides evenly - not prime!\n",
    "            break\n",
    "    else:\n",
    "        print(num, \"is a prime number.\")"
   ]
  },
  {
   "cell_type": "markdown",
   "metadata": {
    "slideshow": {
     "slide_type": "slide"
    }
   },
   "source": [
    "# Complex Datatypes in Python"
   ]
  },
  {
   "cell_type": "markdown",
   "metadata": {
    "slideshow": {
     "slide_type": "subslide"
    }
   },
   "source": [
    "## Lists\n",
    "* a list is an ordered set of values\n",
    "* the items which make up a list are called its _elements_\n",
    "* lists are similar to strings, which are _ordered sets of characters_\n",
    "  * except that the elements of a list can have any type\n",
    "* lists and strings—and other things that behave like ordered sets—are called sequences"
   ]
  },
  {
   "cell_type": "code",
   "execution_count": 1,
   "metadata": {},
   "outputs": [
    {
     "name": "stdout",
     "output_type": "stream",
     "text": [
      "['banana', 'apple', 'pear', 'mango', 'cherry', 'blueberry']\n",
      "['Dave', 19, 34.5]\n",
      "[]\n"
     ]
    }
   ],
   "source": [
    "list_of_fruits = ['banana', 'apple', 'pear', 'mango',\n",
    "                  'cherry', 'blueberry']\n",
    "funnylist = ['Dave', 19, 34.5]\n",
    "empty_list = []\n",
    "# sep is an optional argument or parameter to the print() function which dictates\n",
    "# the separator character that should be printed between items\n",
    "print(list_of_fruits, funnylist, empty_list, sep='\\n')"
   ]
  },
  {
   "cell_type": "markdown",
   "metadata": {},
   "source": [
    "* lists may contain duplicate elements\n",
    "* lists are usually homogeneous, but they need not be\n",
    "* other languages have a datatype called an _array_ which is similar to a list, but one main difference is that an array can only contain items of one type–i.e., an array of integers, and array of floats, etc."
   ]
  },
  {
   "cell_type": "markdown",
   "metadata": {
    "slideshow": {
     "slide_type": "subslide"
    }
   },
   "source": [
    "## Lab: Lists\n",
    "* create two lists which are different\n",
    "* compare them for equality\n",
    "* create a third list which has the same elements as one of the other lists\n",
    "* verify that Python says they are the same"
   ]
  },
  {
   "cell_type": "code",
   "execution_count": 2,
   "metadata": {},
   "outputs": [
    {
     "data": {
      "text/plain": [
       "False"
      ]
     },
     "execution_count": 2,
     "metadata": {},
     "output_type": "execute_result"
    }
   ],
   "source": [
    "fruits = ['banana', 'apple', 'pear', 'mango',\n",
    "          'cherry', 'blueberry']\n",
    "veggies = ['lettuce', 'cucumbers', 'avacado']\n",
    "\n",
    "fruits == veggies"
   ]
  },
  {
   "cell_type": "code",
   "execution_count": 3,
   "metadata": {},
   "outputs": [
    {
     "data": {
      "text/plain": [
       "True"
      ]
     },
     "execution_count": 3,
     "metadata": {},
     "output_type": "execute_result"
    }
   ],
   "source": [
    "sandwich_toppings = ['lettuce', 'cucumbers', 'avacado']\n",
    "\n",
    "veggies == sandwich_toppings"
   ]
  },
  {
   "cell_type": "code",
   "execution_count": 4,
   "metadata": {},
   "outputs": [
    {
     "data": {
      "text/plain": [
       "(139802204625328, 139802144694992)"
      ]
     },
     "execution_count": 4,
     "metadata": {},
     "output_type": "execute_result"
    }
   ],
   "source": [
    "id(veggies), id(sandwich_toppings)"
   ]
  },
  {
   "cell_type": "markdown",
   "metadata": {
    "slideshow": {
     "slide_type": "subslide"
    }
   },
   "source": [
    "## Accessing Elements of a List\n",
    "* the syntax for accessing the elements of a list is the same as the syntax for accessing the characters of a string—the bracket operator–__`[]`__\n",
    "* the expression inside the brackets specifies the index\n",
    "* the indices start at 0, because computer scientists start counting at 0\n",
    "* you can use negative indices to refer to the elements from the end backwards"
   ]
  },
  {
   "cell_type": "code",
   "execution_count": 5,
   "metadata": {},
   "outputs": [
    {
     "name": "stdout",
     "output_type": "stream",
     "text": [
      "banana\n",
      "['Dave', 'not Dave', 34.5]\n",
      "['banana', 'apple', 'pear', 'mango', 'cherry', 'raspberry']\n"
     ]
    }
   ],
   "source": [
    "print(list_of_fruits[0])\n",
    "funnylist[1] = 'not Dave'\n",
    "print(funnylist)\n",
    "list_of_fruits[-1] = 'raspberry'\n",
    "print(list_of_fruits)"
   ]
  },
  {
   "cell_type": "code",
   "execution_count": 6,
   "metadata": {},
   "outputs": [
    {
     "name": "stdout",
     "output_type": "stream",
     "text": [
      "banana\n",
      "['bananas', 'apple', 'pear', 'mango', 'cherry', 'raspberry']\n"
     ]
    }
   ],
   "source": [
    "print(list_of_fruits[0])\n",
    "list_of_fruits[0] = list_of_fruits[0] + 's'\n",
    "print(list_of_fruits)"
   ]
  },
  {
   "cell_type": "markdown",
   "metadata": {
    "slideshow": {
     "slide_type": "subslide"
    }
   },
   "source": [
    "## Iterating Through a List\n",
    "* a list is a _container_, so we can use Python's natural iteration to cycle through the list\n",
    "* syntax\n",
    "\n",
    "<pre><b>\n",
    "    for item in list:\n",
    "        do something with item (e.g., print)\n",
    "</b></pre>"
   ]
  },
  {
   "cell_type": "code",
   "execution_count": 7,
   "metadata": {
    "slideshow": {
     "slide_type": "-"
    }
   },
   "outputs": [
    {
     "name": "stdout",
     "output_type": "stream",
     "text": [
      "bananas\n",
      "apple\n",
      "pear\n",
      "mango\n",
      "cherry\n",
      "raspberry\n"
     ]
    }
   ],
   "source": [
    "for fruit in list_of_fruits:\n",
    "    print(fruit)"
   ]
  },
  {
   "cell_type": "code",
   "execution_count": null,
   "metadata": {},
   "outputs": [],
   "source": [
    "# Other Languages\n",
    "for i in range(len(list_of_fruits)):\n",
    "    fruit = list_of_fruits[i]\n",
    "    print(fruit)"
   ]
  },
  {
   "cell_type": "markdown",
   "metadata": {
    "slideshow": {
     "slide_type": "subslide"
    }
   },
   "source": [
    "## Slicing\n",
    "* Python has a very powerful feature called _slicing_ which allows you to specify a _slice_ (or subset) of a list (or a string as it turns out), rather than just a single element\n",
    "* slice syntax: __`container[start:stop:step]`__\n",
    "  * __`start`__ = the index at which to start\n",
    "  * __`stop`__ = the index at which to stop (+1 or -1 depending on which direction)\n",
    "  * __`step`__ = how many indices to move forward (or backward)\n",
    "  * __`start`__, __`stop`__, and __`step`__ are _optional_!"
   ]
  },
  {
   "cell_type": "code",
   "execution_count": 8,
   "metadata": {},
   "outputs": [
    {
     "data": {
      "text/plain": [
       "'Benjamin Franklin'"
      ]
     },
     "execution_count": 8,
     "metadata": {},
     "output_type": "execute_result"
    }
   ],
   "source": [
    "string = 'Frank Benedict eats jam in the morning'\n",
    "string[6:9] + string[20:23] + string[24:27] + string[:5] + 'lin'"
   ]
  },
  {
   "cell_type": "code",
   "execution_count": 9,
   "metadata": {},
   "outputs": [
    {
     "name": "stdout",
     "output_type": "stream",
     "text": [
      "13th letter of the alphabet is m\n",
      "Every other letter in the 1st half of the alphabet: acegikm\n",
      "Every other letter in the 2nd half of the alphabet: nprtvxz\n",
      "The alphabet backwards is zyxwvutsrqponmlkjihgfedcba\n"
     ]
    }
   ],
   "source": [
    "alphabet = 'abcdefghijklmnopqrstuvwxyz'\n",
    "print('13th letter of the alphabet is', alphabet[12])\n",
    "print('Every other letter in the 1st half of the alphabet:',\n",
    "      alphabet[:13:2])\n",
    "print('Every other letter in the 2nd half of the alphabet:',\n",
    "      alphabet[13::2])\n",
    "print('The alphabet backwards is', alphabet[::-1])"
   ]
  },
  {
   "cell_type": "code",
   "execution_count": 11,
   "metadata": {},
   "outputs": [
    {
     "data": {
      "text/plain": [
       "'zyxwvutsrqponmlkjihgfedcb'"
      ]
     },
     "execution_count": 11,
     "metadata": {},
     "output_type": "execute_result"
    }
   ],
   "source": []
  },
  {
   "cell_type": "code",
   "execution_count": 13,
   "metadata": {},
   "outputs": [
    {
     "name": "stdout",
     "output_type": "stream",
     "text": [
      "Enter a string: Myfile.png\n",
      "The last 3 characters of the string are: png\n"
     ]
    }
   ],
   "source": [
    "string = input('Enter a string: ')\n",
    "print('The last 3 characters of the string are:',\n",
    "      string[-3:])"
   ]
  },
  {
   "cell_type": "code",
   "execution_count": 14,
   "metadata": {
    "slideshow": {
     "slide_type": "-"
    }
   },
   "outputs": [
    {
     "name": "stdout",
     "output_type": "stream",
     "text": [
      "['bananas', 'apple', 'pear', 'mango', 'cherry', 'raspberry']\n",
      "['raspberry', 'cherry', 'mango', 'pear', 'apple', 'bananas']\n",
      "['mango', 'cherry', 'raspberry']\n",
      "['bananas', 'apple', 'pear']\n",
      "The middle 3 fruits: ['pear', 'mango', 'cherry']\n",
      "Every other fruit: ['bananas', 'pear', 'cherry']\n"
     ]
    }
   ],
   "source": [
    "# Works the same with lists...\n",
    "print(list_of_fruits)\n",
    "print(list_of_fruits[::-1])\n",
    "print(list_of_fruits[3:])\n",
    "print(list_of_fruits[:3])\n",
    "print('The middle 3 fruits:', \n",
    "      list_of_fruits[2:5])\n",
    "print('Every other fruit:', list_of_fruits[::2])"
   ]
  },
  {
   "cell_type": "code",
   "execution_count": 15,
   "metadata": {},
   "outputs": [
    {
     "data": {
      "text/plain": [
       "[]"
      ]
     },
     "execution_count": 15,
     "metadata": {},
     "output_type": "execute_result"
    }
   ],
   "source": [
    "list_of_fruits[478:999]"
   ]
  },
  {
   "cell_type": "code",
   "execution_count": 16,
   "metadata": {},
   "outputs": [
    {
     "name": "stdout",
     "output_type": "stream",
     "text": [
      "This page: ['bananas', 'apple', 'pear']\n",
      "This page: ['mango', 'cherry', 'raspberry']\n"
     ]
    }
   ],
   "source": [
    "page_size = 3\n",
    "current = 0\n",
    "page = list_of_fruits[current:current+page_size]\n",
    "while page:\n",
    "    print(\"This page:\", page)\n",
    "    current += page_size\n",
    "    page = list_of_fruits[current:current+page_size]"
   ]
  },
  {
   "cell_type": "markdown",
   "metadata": {
    "slideshow": {
     "slide_type": "subslide"
    }
   },
   "source": [
    "## Lab: Slicing\n",
    "1. print the letters of a string with a '+' between each pair of letters, but do not print a '+' after the final letter, i.e., 'h + e + l + l + o'  \n",
    "  * to do this, I want you to iterate through a _slice_ of the string which does not contain the last character, and then print the last character by itself\n",
    "2. create a list and use slicing to print the second half of the list, followed by the first half of the list\n",
    "  * once you've done this, do it again such that it does not print the middle item\n",
    "\n",
    "<pre><b>\n",
    "          [ 'one', 'two', 'three', 'four' ] => three four one two\n",
    "          [ 1, 2, 3, 4, 5 ] => 4 5 1 2\n",
    "</b></pre>"
   ]
  },
  {
   "cell_type": "code",
   "execution_count": 29,
   "metadata": {},
   "outputs": [
    {
     "name": "stdout",
     "output_type": "stream",
     "text": [
      "Please enter a string: Rickerson\n",
      "R+i+c+k+e+r+s+o+n\n"
     ]
    }
   ],
   "source": [
    "user_string = input(\"Please enter a string: \")\n",
    "for character in user_string[:-1]:\n",
    "    #print(character, end=\"+\")\n",
    "    print(character, \"+\", sep=\"\", end=\"\")\n",
    "print(user_string[-1])"
   ]
  },
  {
   "cell_type": "code",
   "execution_count": null,
   "metadata": {},
   "outputs": [],
   "source": []
  },
  {
   "cell_type": "markdown",
   "metadata": {
    "slideshow": {
     "slide_type": "subslide"
    }
   },
   "source": [
    "## Adding to a List...\n",
    "* the __`append()`__ function will add an item to the end of the list\n",
    "* the __`insert()`__ function will add an item at a particular offset, moving the remaining item down in the process\n",
    "* the __`extend()`__ function (also invoked via the __`+=`__ operator) will add a list to a list, one element at a time\n",
    "* NOTE: these functions (technically called _methods_) are a part of the list itself, which means that they are called by writing __`listname.append(item)`__, __`listname.insert(index, item)`__, and __`listname.extend(otherlist)`__"
   ]
  },
  {
   "cell_type": "code",
   "execution_count": 23,
   "metadata": {},
   "outputs": [
    {
     "name": "stdout",
     "output_type": "stream",
     "text": [
      "['bananas', 'apple', 'pear', 'mango', 'cherry', 'raspberry']\n"
     ]
    },
    {
     "data": {
      "text/plain": [
       "['bananas', 'apple', 'pear', 'mango', 'cherry', 'raspberry', 'lemon']"
      ]
     },
     "execution_count": 23,
     "metadata": {},
     "output_type": "execute_result"
    }
   ],
   "source": [
    "print(list_of_fruits)\n",
    "list_of_fruits.append('lemon') # NOT append(list_of_fruits, 'lemon')\n",
    "list_of_fruits"
   ]
  },
  {
   "cell_type": "code",
   "execution_count": 24,
   "metadata": {},
   "outputs": [
    {
     "name": "stdout",
     "output_type": "stream",
     "text": [
      "['bananas', 'apple', 'pear', 'mango', 'tomato', 'cherry', 'raspberry', 'lemon']\n"
     ]
    }
   ],
   "source": [
    "list_of_fruits.insert(4, 'tomato')\n",
    "print(list_of_fruits)"
   ]
  },
  {
   "cell_type": "code",
   "execution_count": 25,
   "metadata": {},
   "outputs": [
    {
     "name": "stdout",
     "output_type": "stream",
     "text": [
      "['bananas', 'apple', 'pear', 'mango', 'tomato', 'cherry', 'raspberry', 'lemon', 'lime', 'watermelon']\n"
     ]
    }
   ],
   "source": [
    "more_fruits = ['lime', 'watermelon']\n",
    "list_of_fruits.extend(more_fruits) # list_of_fruits += more_fruits  list_of_fruits = list_of_fruit + more_fruits\n",
    "print(list_of_fruits)"
   ]
  },
  {
   "cell_type": "code",
   "execution_count": 28,
   "metadata": {},
   "outputs": [
    {
     "name": "stdout",
     "output_type": "stream",
     "text": [
      "['JR', 'Spencer', 'Alex', ['Dave', 'Rick']]\n",
      "Rick\n",
      "['JR', 'Spencer', 'Alex', ['Dave', 'Rick'], 'K', 'a', 'm', 'e', 'r', 'o', 'n']\n"
     ]
    }
   ],
   "source": [
    "list_names = ['JR', 'Spencer', 'Alex']\n",
    "other_instructors = ['Dave', 'Rick']\n",
    "list_names.append(other_instructors)\n",
    "print(list_names)\n",
    "print(list_names[3][1])\n",
    "list_names.extend('Kameron')\n",
    "print(list_names)"
   ]
  },
  {
   "cell_type": "markdown",
   "metadata": {
    "slideshow": {
     "slide_type": "subslide"
    }
   },
   "source": [
    "## Lab: Lists\n",
    "* create an empty list\n",
    "* write Python code to repeatedly ask the user for a word until the word is 'quit'\n",
    "* add each word to the list\n",
    "* after the user types 'quit' print every other word (first, third, fifth, etc.)\n",
    "* then print every other word (second, fourth, sixth, etc.)\n"
   ]
  },
  {
   "cell_type": "code",
   "execution_count": 30,
   "metadata": {},
   "outputs": [
    {
     "name": "stdout",
     "output_type": "stream",
     "text": [
      "Please enter a word (type quit to stop):one\n",
      "Please enter a word (type quit to stop):two\n",
      "Please enter a word (type quit to stop):three\n",
      "Please enter a word (type quit to stop):four\n",
      "Please enter a word (type quit to stop):five\n",
      "Please enter a word (type quit to stop):size\n",
      "Please enter a word (type quit to stop):seven\n",
      "Please enter a word (type quit to stop):eight\n",
      "Please enter a word (type quit to stop):nine\n",
      "Please enter a word (type quit to stop):ten\n",
      "Please enter a word (type quit to stop):quit\n",
      "['one', 'three', 'five', 'seven', 'nine']\n",
      "['two', 'four', 'size', 'eight', 'ten']\n"
     ]
    }
   ],
   "source": [
    "word_list = []\n",
    "\n",
    "while True:\n",
    "    word = input(\"Please enter a word (type quit to stop):\")\n",
    "    if word == \"quit\":\n",
    "        break\n",
    "    if word not in word_list:\n",
    "        # list processing here\n",
    "        word_list.append(word)\n",
    "print(word_list[::2])\n",
    "print(word_list[1::2])"
   ]
  },
  {
   "cell_type": "markdown",
   "metadata": {
    "slideshow": {
     "slide_type": "subslide"
    }
   },
   "source": [
    "## Creating a List with __`split()`__\n",
    "* the __`split()`__ function splits a string into a list\n",
    "* by default, __`split()`__ will split up a string using a space as the separator\n",
    "* ...but you can specify any separator you want"
   ]
  },
  {
   "cell_type": "code",
   "execution_count": 32,
   "metadata": {},
   "outputs": [
    {
     "name": "stdout",
     "output_type": "stream",
     "text": [
      "Enter a string and I will make a list out of it: one two       three four five     six\n"
     ]
    },
    {
     "data": {
      "text/plain": [
       "['one', 'two', 'three', 'four', 'five', 'six']"
      ]
     },
     "execution_count": 32,
     "metadata": {},
     "output_type": "execute_result"
    }
   ],
   "source": [
    "string = input('Enter a string and I will make a list out of it: ')\n",
    "mylist = string.split()\n",
    "mylist"
   ]
  },
  {
   "cell_type": "code",
   "execution_count": 35,
   "metadata": {},
   "outputs": [
    {
     "data": {
      "text/plain": [
       "['eggs', 'milk', 'butter', 'cheese']"
      ]
     },
     "execution_count": 35,
     "metadata": {},
     "output_type": "execute_result"
    }
   ],
   "source": [
    "comma_separated = 'eggs, milk, butter, cheese'\n",
    "shopping_list = comma_separated.split(', ')\n",
    "shopping_list"
   ]
  },
  {
   "cell_type": "markdown",
   "metadata": {
    "slideshow": {
     "slide_type": "subslide"
    }
   },
   "source": [
    "## Combining a List into a String with __`join()`__\n",
    "* __`join()`__ is used to take the elements of a list (or any sequence) and concatenate them into a single string\n",
    "* the syntax looks odd because __`join()`__ is a _string_ function–__not a list function__"
   ]
  },
  {
   "cell_type": "code",
   "execution_count": 36,
   "metadata": {},
   "outputs": [
    {
     "data": {
      "text/plain": [
       "'eggs, milk, butter, cheese'"
      ]
     },
     "execution_count": 36,
     "metadata": {},
     "output_type": "execute_result"
    }
   ],
   "source": [
    "', '.join(shopping_list)\n",
    "# want to write shopping_list.join(', ')"
   ]
  },
  {
   "cell_type": "code",
   "execution_count": 37,
   "metadata": {},
   "outputs": [
    {
     "name": "stdout",
     "output_type": "stream",
     "text": [
      "['s', 'a', 'l', 'e', 's', 'f', 'o', 'r', 'c', 'e']\n",
      "salesforce\n"
     ]
    }
   ],
   "source": [
    "list_of_letters = list('salesforce')\n",
    "print(list_of_letters)\n",
    "print(''.join(list_of_letters))"
   ]
  },
  {
   "cell_type": "code",
   "execution_count": 38,
   "metadata": {},
   "outputs": [
    {
     "data": {
      "text/plain": [
       "'h+e+l+l+o'"
      ]
     },
     "execution_count": 38,
     "metadata": {},
     "output_type": "execute_result"
    }
   ],
   "source": [
    "'+'.join(list('hello'))"
   ]
  },
  {
   "cell_type": "code",
   "execution_count": 39,
   "metadata": {},
   "outputs": [
    {
     "data": {
      "text/plain": [
       "['H', 'a', 'p', 'p', 'y']"
      ]
     },
     "execution_count": 39,
     "metadata": {},
     "output_type": "execute_result"
    }
   ],
   "source": [
    "import builtins\n",
    "builtins.list('Happy')"
   ]
  },
  {
   "cell_type": "markdown",
   "metadata": {
    "slideshow": {
     "slide_type": "subslide"
    }
   },
   "source": [
    "## Lab: Jumble (Word Scrambling)\n",
    "* write a program which plays the jumble word game, i.e., it will present you with a scrambled word and you have to come up with the correctly spelled word\n",
    "  * you can use the __`random`__ module for this\n",
    "  * __`random.choice(container)`__ will return a random item from the container\n",
    "  * __`random.shuffle(container)`__ will shuffle a container so the items are scrambled\n",
    "  * you can't shuffle a string, so you'll need to put the characters into a list using the __`list()`__ function, then shuffle the list, then put the back into a string using __`join()`__"
   ]
  },
  {
   "cell_type": "code",
   "execution_count": null,
   "metadata": {},
   "outputs": [],
   "source": []
  },
  {
   "cell_type": "markdown",
   "metadata": {},
   "source": [
    "## Let's make this more fun\n",
    "## A quick peek at File I/O"
   ]
  },
  {
   "cell_type": "code",
   "execution_count": 42,
   "metadata": {},
   "outputs": [
    {
     "name": "stdout",
     "output_type": "stream",
     "text": [
      "208 wordlist.txt\r\n"
     ]
    }
   ],
   "source": [
    "!wc -l wordlist.txt"
   ]
  },
  {
   "cell_type": "code",
   "execution_count": 45,
   "metadata": {},
   "outputs": [
    {
     "name": "stdout",
     "output_type": "stream",
     "text": [
      "<class '_io.TextIOWrapper'>\n",
      "['abandon\\n', 'abundant\\n', 'access\\n', 'accommodate\\n', 'accumulate\\n', 'adapt\\n', 'adhere\\n', 'agony\\n', 'allegiance\\n', 'ambition\\n', 'ample\\n', 'anguish\\n', 'anticipate\\n', 'anxious\\n', 'apparel\\n', 'appeal\\n', 'apprehensive\\n', 'arid\\n', 'arrogant\\n', 'barren\\n', 'beacon\\n', 'beneficial\\n', 'blunder\\n', 'boisterous\\n', 'boycott\\n', 'burden\\n', 'campaign\\n', 'capacity\\n', 'capital\\n', 'chronological\\n', 'civic\\n', 'clarity\\n', 'collaborate\\n', 'collide\\n', 'commend\\n', 'commentary\\n', 'compact\\n', 'composure\\n', 'concise\\n', 'consent\\n', 'consequence\\n', 'conserve\\n', 'conspicuous\\n', 'constant\\n', 'contaminate\\n', 'context\\n', 'continuous\\n', 'controversy\\n', 'convenient\\n', 'cope\\n', 'cordial\\n', 'cultivate\\n', 'cumulative\\n', 'declare\\n', 'deluge\\n', 'dense\\n', 'deplete\\n', 'deposit\\n', 'designate\\n', 'desperate\\n', 'deteriorate\\n', 'dialogue\\n', 'diligent\\n', 'diminish\\n', 'discretion\\n', 'dissent\\n', 'dissolve\\n', 'distinct\\n', 'diversity\\n', 'domestic\\n', 'dominate\\n', 'drastic\\n', 'duration\\n', 'dwell\\n', 'eclipse\\n', 'economy\\n', 'eerie\\n', 'effect\\n', 'efficient\\n', 'elaborate\\n', 'eligible\\n', 'elude\\n', 'encounter\\n', 'equivalent\\n', 'erupt\\n', 'esteem\\n', 'evolve\\n', 'exaggerate\\n', 'excel\\n', 'exclude\\n', 'expanse\\n', 'exploit\\n', 'extinct\\n', 'extract\\n', 'factor\\n', 'former\\n', 'formulates\\n', 'fuse\\n', 'futile\\n', 'generate\\n', 'genre\\n', 'habitat\\n', 'hazardous\\n', 'hoax\\n', 'hostile\\n', 'idiom\\n', 'ignite\\n', 'immense\\n', 'improvises\\n', 'inept\\n', 'inevitable\\n', 'influence\\n', 'ingenious\\n', 'innovation\\n', 'intimidate\\n', 'jovial\\n', 'knack\\n', 'leeway\\n', 'legislation\\n', 'leisure\\n', 'liberate\\n', 'likeness\\n', 'linger\\n', 'literal\\n', 'loathe\\n', 'lure\\n', 'majority\\n', 'makeshift\\n', 'manipulate\\n', 'marvel\\n', 'massive\\n', 'maximum\\n', 'meager\\n', 'mere\\n', 'migration\\n', 'mimic\\n', 'minute\\n', 'monotonous\\n', 'negotiate\\n', 'objective\\n', 'obstacle\\n', 'omniscient\\n', 'onset\\n', 'optimist\\n', 'originate\\n', 'painstaking\\n', 'paraphrase\\n', 'parody\\n', 'persecute\\n', 'plummet\\n', 'possess\\n', 'poverty\\n', 'precise\\n', 'predicament\\n', 'predict\\n', 'prejudice\\n', 'preliminary\\n', 'primitive\\n', 'priority\\n', 'prominent\\n', 'propel\\n', 'prosecute\\n', 'prosper\\n', 'provoke\\n', 'pursue\\n', 'quest\\n', 'recount\\n', 'refuge\\n', 'reinforce\\n', 'reluctant\\n', 'remorse\\n', 'remote\\n', 'resolute\\n', 'restrain\\n', 'retaliate\\n', 'retrieve\\n', 'rigorous\\n', 'rural\\n', 'salvage\\n', 'sanctuary\\n', 'siege\\n', 'significant\\n', 'solar\\n', 'soothe\\n', 'stationary\\n', 'stifle\\n', 'strive\\n', 'subordinate\\n', 'subsequent\\n', 'superior\\n', 'supplement\\n', 'swarm\\n', 'tangible\\n', 'terminate\\n', 'terrain\\n', 'trait\\n', 'transform\\n', 'transport\\n', 'treacherous\\n', 'unanimous\\n', 'unique\\n', 'unruly\\n', 'urban\\n', 'vacate\\n', 'verdict\\n', 'verge\\n', 'vibrant\\n', 'vital\\n']\n",
      "file is closed!\n"
     ]
    }
   ],
   "source": [
    "words = []\n",
    "file = open('wordlist.txt')\n",
    "print(type(file))\n",
    "words = list(file)\n",
    "#for line in file:\n",
    "#    words.append(line.strip())\n",
    "print(words)\n",
    "file.close()\n",
    "\n",
    "with open('wordlist.txt') as file:\n",
    "    words = list(file)\n",
    "print(\"file is closed!\")"
   ]
  },
  {
   "cell_type": "markdown",
   "metadata": {
    "slideshow": {
     "slide_type": "subslide"
    }
   },
   "source": [
    "## Removing Items from a List\n",
    "* __`remove()`__ will remove an item by value\n",
    "* __`pop()`__ will remove an item by index (and return the item)\n",
    "* as is the case with the add functions, we call them as __`listname.remove(item)`__ and __`listname.pop(index)`__"
   ]
  },
  {
   "cell_type": "code",
   "execution_count": 46,
   "metadata": {},
   "outputs": [
    {
     "name": "stdout",
     "output_type": "stream",
     "text": [
      "mango\n"
     ]
    },
    {
     "data": {
      "text/plain": [
       "['banana', 'apple', 'lemon', 'pear', 'fig', 'raspberry', 'lemon']"
      ]
     },
     "execution_count": 46,
     "metadata": {},
     "output_type": "execute_result"
    }
   ],
   "source": [
    "list_of_fruits = ['banana', 'apple', 'lemon', 'pear', 'fig',\n",
    "                  'mango','raspberry', 'lemon']\n",
    "print(list_of_fruits.pop(-3))\n",
    "list_of_fruits"
   ]
  },
  {
   "cell_type": "code",
   "execution_count": 47,
   "metadata": {},
   "outputs": [
    {
     "name": "stdout",
     "output_type": "stream",
     "text": [
      "2\n",
      "['banana', 'apple', 'pear', 'fig', 'raspberry']\n"
     ]
    },
    {
     "ename": "ValueError",
     "evalue": "list.remove(x): x not in list",
     "output_type": "error",
     "traceback": [
      "\u001b[0;31m---------------------------------------------------------------------------\u001b[0m",
      "\u001b[0;31mValueError\u001b[0m                                Traceback (most recent call last)",
      "\u001b[0;32m<ipython-input-47-e401a60c0835>\u001b[0m in \u001b[0;36m<module>\u001b[0;34m\u001b[0m\n\u001b[1;32m      5\u001b[0m     \u001b[0mlist_of_fruits\u001b[0m\u001b[0;34m.\u001b[0m\u001b[0mremove\u001b[0m\u001b[0;34m(\u001b[0m\u001b[0;34m'lemon'\u001b[0m\u001b[0;34m)\u001b[0m\u001b[0;34m\u001b[0m\u001b[0;34m\u001b[0m\u001b[0m\n\u001b[1;32m      6\u001b[0m \u001b[0mprint\u001b[0m\u001b[0;34m(\u001b[0m\u001b[0mlist_of_fruits\u001b[0m\u001b[0;34m)\u001b[0m\u001b[0;34m\u001b[0m\u001b[0;34m\u001b[0m\u001b[0m\n\u001b[0;32m----> 7\u001b[0;31m \u001b[0mlist_of_fruits\u001b[0m\u001b[0;34m.\u001b[0m\u001b[0mremove\u001b[0m\u001b[0;34m(\u001b[0m\u001b[0;34m'lemon'\u001b[0m\u001b[0;34m)\u001b[0m\u001b[0;34m\u001b[0m\u001b[0;34m\u001b[0m\u001b[0m\n\u001b[0m",
      "\u001b[0;31mValueError\u001b[0m: list.remove(x): x not in list"
     ]
    }
   ],
   "source": [
    "# Given what we know so far, remove ALL lemons from the list\n",
    "print(list_of_fruits.count('lemon'))\n",
    "\n",
    "while 'lemon' in list_of_fruits:\n",
    "    list_of_fruits.remove('lemon')\n",
    "print(list_of_fruits)\n",
    "list_of_fruits.remove('lemon')"
   ]
  },
  {
   "cell_type": "code",
   "execution_count": 48,
   "metadata": {},
   "outputs": [
    {
     "name": "stdout",
     "output_type": "stream",
     "text": [
      "popping banana\n",
      "['apple', 'pear', 'fig', 'raspberry']\n",
      "popping apple\n",
      "['pear', 'fig', 'raspberry']\n",
      "popping pear\n",
      "['fig', 'raspberry']\n",
      "popping fig\n",
      "['raspberry']\n",
      "popping raspberry\n",
      "[]\n"
     ]
    }
   ],
   "source": [
    "# Take the remaining items and pop each item off until empty\n",
    "while len(list_of_fruits) > 0:\n",
    "    print('popping', list_of_fruits.pop(0))\n",
    "    print(list_of_fruits)"
   ]
  },
  {
   "cell_type": "markdown",
   "metadata": {
    "slideshow": {
     "slide_type": "subslide"
    }
   },
   "source": [
    "## Sorting a List\n",
    "* lists have a __`sort()`__ function\n",
    "* sorting is performed alphabetically or numerically by default\n",
    "* you can choose to sort in reverse (descending) order"
   ]
  },
  {
   "cell_type": "code",
   "execution_count": 52,
   "metadata": {},
   "outputs": [
    {
     "name": "stdout",
     "output_type": "stream",
     "text": [
      "['banana', 'apple', 'lemon', 'pear', 'fig', 'mango', 'lemon']\n",
      "['apple', 'banana', 'fig', 'lemon', 'lemon', 'mango', 'pear']\n",
      "['pear', 'mango', 'lemon', 'lemon', 'fig', 'banana', 'apple']\n"
     ]
    }
   ],
   "source": [
    "list_of_fruits = ['banana', 'apple', 'lemon', 'pear', 'fig', \n",
    "                  'mango', 'lemon']\n",
    "print(list_of_fruits)\n",
    "list_of_fruits.sort()\n",
    "print(list_of_fruits)\n",
    "list_of_fruits.sort(reverse=True)\n",
    "print(list_of_fruits)"
   ]
  },
  {
   "cell_type": "code",
   "execution_count": 51,
   "metadata": {},
   "outputs": [
    {
     "data": {
      "text/plain": [
       "True"
      ]
     },
     "execution_count": 51,
     "metadata": {},
     "output_type": "execute_result"
    }
   ],
   "source": [
    "'Banana' < 'apple'"
   ]
  },
  {
   "cell_type": "code",
   "execution_count": 53,
   "metadata": {},
   "outputs": [
    {
     "name": "stdout",
     "output_type": "stream",
     "text": [
      "['apple', 'banana', 'fig', 'lemon', 'lemon', 'mango', 'pear']\n",
      "['pear', 'mango', 'lemon', 'lemon', 'fig', 'banana', 'apple']\n"
     ]
    }
   ],
   "source": [
    "sorted_list = sorted(list_of_fruits)\n",
    "print(sorted_list)\n",
    "print(list_of_fruits)"
   ]
  },
  {
   "cell_type": "code",
   "execution_count": 54,
   "metadata": {},
   "outputs": [
    {
     "name": "stdout",
     "output_type": "stream",
     "text": [
      "['fig', 'pear', 'mango', 'lemon', 'lemon', 'apple', 'banana']\n"
     ]
    }
   ],
   "source": [
    "list_of_fruits.sort(key=len)\n",
    "print(list_of_fruits)"
   ]
  },
  {
   "cell_type": "markdown",
   "metadata": {
    "slideshow": {
     "slide_type": "subslide"
    }
   },
   "source": [
    "## Lab: List Management/Sorting\n",
    "* write a program to read in words\n",
    "* if the word begins with a vowel, put it in \"vowel\" list, otherwise put it in the \"consonant\" list\n",
    "* when the user types \"quit\", stop and print out the sorted list of words that begin with vowels, and the sorted list of words that begin with consonants"
   ]
  },
  {
   "cell_type": "code",
   "execution_count": null,
   "metadata": {},
   "outputs": [],
   "source": [
    " "
   ]
  },
  {
   "cell_type": "markdown",
   "metadata": {
    "slideshow": {
     "slide_type": "subslide"
    }
   },
   "source": [
    "## Dictionaries\n",
    "* a Python _dictionary_ is an unordered collection of key-value pairs\n",
    "* instead of using integers as indices, dictionaries use a key, which is often a string\n",
    "* a dictionary maps a key to a value–give it the key as an index, and it will return the value\n",
    "* indeed they are called _maps_ in some languages"
   ]
  },
  {
   "cell_type": "code",
   "execution_count": null,
   "metadata": {},
   "outputs": [],
   "source": []
  },
  {
   "cell_type": "code",
   "execution_count": 55,
   "metadata": {},
   "outputs": [
    {
     "data": {
      "text/plain": [
       "(dict, {'tall': 12, 'grande': 16})"
      ]
     },
     "execution_count": 55,
     "metadata": {},
     "output_type": "execute_result"
    }
   ],
   "source": [
    "# creating a dictionary and initializing it\n",
    "cups = { \n",
    "    'tall': 12, \n",
    "    'grande': 16 \n",
    "}\n",
    "type(cups), cups"
   ]
  },
  {
   "cell_type": "code",
   "execution_count": 56,
   "metadata": {},
   "outputs": [
    {
     "name": "stdout",
     "output_type": "stream",
     "text": [
      "A tall cup contains 12 ounces\n"
     ]
    }
   ],
   "source": [
    "print('A tall cup contains', cups['tall'], 'ounces')"
   ]
  },
  {
   "cell_type": "code",
   "execution_count": 57,
   "metadata": {},
   "outputs": [
    {
     "ename": "KeyError",
     "evalue": "0",
     "output_type": "error",
     "traceback": [
      "\u001b[0;31m---------------------------------------------------------------------------\u001b[0m",
      "\u001b[0;31mKeyError\u001b[0m                                  Traceback (most recent call last)",
      "\u001b[0;32m<ipython-input-57-960072945a43>\u001b[0m in \u001b[0;36m<module>\u001b[0;34m\u001b[0m\n\u001b[0;32m----> 1\u001b[0;31m \u001b[0mcups\u001b[0m\u001b[0;34m[\u001b[0m\u001b[0;36m0\u001b[0m\u001b[0;34m]\u001b[0m\u001b[0;34m\u001b[0m\u001b[0;34m\u001b[0m\u001b[0m\n\u001b[0m",
      "\u001b[0;31mKeyError\u001b[0m: 0"
     ]
    }
   ],
   "source": [
    "cups[0]"
   ]
  },
  {
   "cell_type": "code",
   "execution_count": 58,
   "metadata": {},
   "outputs": [
    {
     "name": "stdout",
     "output_type": "stream",
     "text": [
      "16\n"
     ]
    }
   ],
   "source": [
    "if 'grande' in cups: # only looks at keys\n",
    "    print(cups['grande'])"
   ]
  },
  {
   "cell_type": "code",
   "execution_count": 59,
   "metadata": {},
   "outputs": [
    {
     "name": "stdout",
     "output_type": "stream",
     "text": [
      "tall 12\n",
      "grande 16\n"
     ]
    }
   ],
   "source": [
    "for thing in cups:\n",
    "    print(thing, cups[thing])"
   ]
  },
  {
   "cell_type": "code",
   "execution_count": 60,
   "metadata": {},
   "outputs": [
    {
     "name": "stdout",
     "output_type": "stream",
     "text": [
      "12\n",
      "16\n"
     ]
    }
   ],
   "source": [
    "for v in cups.values():\n",
    "    print(v)"
   ]
  },
  {
   "cell_type": "code",
   "execution_count": 67,
   "metadata": {},
   "outputs": [
    {
     "name": "stdout",
     "output_type": "stream",
     "text": [
      "tall -> 12\n",
      "grande -> 16\n",
      "dict_items([('tall', 12), ('grande', 16)])\n"
     ]
    }
   ],
   "source": [
    "x, y = 1, 2\n",
    "\n",
    "for size, ounces in cups.items():\n",
    "    print(size, '->', ounces)\n",
    "    \n",
    "print(cups.items())"
   ]
  },
  {
   "cell_type": "code",
   "execution_count": 62,
   "metadata": {
    "slideshow": {
     "slide_type": "subslide"
    }
   },
   "outputs": [
    {
     "name": "stdout",
     "output_type": "stream",
     "text": [
      "hola uno café por favor \n"
     ]
    }
   ],
   "source": [
    "# How about a dictionary to translate English into Spanish\n",
    "english_to_spanish = { \n",
    "    'hello': 'hola', \n",
    "    'one': 'uno', \n",
    "    'please': 'por favor', \n",
    "    'coffee': 'café' \n",
    "}\n",
    "for word in \"hello one coffee please\".split():\n",
    "    print(english_to_spanish[word], end=' ')\n",
    "print()"
   ]
  },
  {
   "cell_type": "code",
   "execution_count": 63,
   "metadata": {
    "slideshow": {
     "slide_type": "subslide"
    }
   },
   "outputs": [
    {
     "name": "stdout",
     "output_type": "stream",
     "text": [
      "{'hello': 'hola', 'one': 'uno', 'please': 'por favor', 'coffee': 'café', 'corn': 'maize'}\n",
      "{'hello': 'hola', 'one': 'uno', 'please': 'por favor', 'coffee': 'café', 'corn': 'maize', 'table': 'mesa'}\n",
      "{'hello': 'hola', 'one': 'uno', 'please': 'por favor', 'coffee': 'café', 'corn': 'maize', 'table': 'mesa', 'flour': 'arina'}\n"
     ]
    }
   ],
   "source": [
    "english_to_spanish['corn'] = 'maize'\n",
    "print(english_to_spanish)\n",
    "english_to_spanish['table'] = 'mesa'\n",
    "print(english_to_spanish)\n",
    "english_to_spanish['flour'] = 'arina'\n",
    "print(english_to_spanish)"
   ]
  },
  {
   "cell_type": "code",
   "execution_count": 66,
   "metadata": {},
   "outputs": [
    {
     "name": "stdout",
     "output_type": "stream",
     "text": [
      "{'red': ['rott', 'rouge', 'rojo']}\n"
     ]
    },
    {
     "data": {
      "text/plain": [
       "'rouge'"
      ]
     },
     "execution_count": 66,
     "metadata": {},
     "output_type": "execute_result"
    }
   ],
   "source": [
    "color_dict = {}\n",
    "color_dict[\"red\"] = []\n",
    "color_dict[\"red\"].append(\"rott\")\n",
    "color_dict[\"red\"].append(\"rouge\")\n",
    "color_dict[\"red\"].append(\"rojo\")\n",
    "print(color_dict)\n",
    "color_dict[\"red\"][1]"
   ]
  },
  {
   "cell_type": "markdown",
   "metadata": {
    "slideshow": {
     "slide_type": "subslide"
    }
   },
   "source": [
    "## Lab: Roman Numerals\n",
    "* write a program that converts Roman numerals to Arabic numerals\n",
    "* use a dictionary where the keys are Roman numerals and the values are Arabic numerals\n",
    "* __`M = 1000, D = 500, C = 100, L = 50, X = 10, V = 5, I = 1`__\n",
    "* for example, __`MDCLXVI`__ would be __`1000 + 500 + 100 + 50 + 10 + 5 + 1 = 1666`__\n",
    "* once you get that working, think about this additional wrinkle:\n",
    "  * if a smaller value precedes a larger value, then the correct thing to do is to subtract the smaller value from the larger value\n",
    "  * e.g., __`IX = 10 - 1 = 9`__\n",
    "  * e.g., __`MCM = 1000 + (1000 - 100) = 1900`__"
   ]
  },
  {
   "cell_type": "code",
   "execution_count": 123,
   "metadata": {},
   "outputs": [
    {
     "name": "stdout",
     "output_type": "stream",
     "text": [
      "Please enter a roman numeral string: MCM\n",
      "Arabic:  1900\n"
     ]
    }
   ],
   "source": [
    "# Instructor solution\n",
    "\n",
    "# Given a user input in Roman numerals, convert to the equivalent Arabic numerals\n",
    "\n",
    "# - Create a constant table of Roman Numeral values\n",
    "# - Get user input string\n",
    "# - Loop through the user string one character at a time\n",
    "#     - Look up the value in the dictionary\n",
    "#     - If there was a previous value and it was lower than the current value,\n",
    "#       subtract the previous value from the current value twice, because we added it\n",
    "#       on the previous iteration instead of subtracting it\n",
    "#     - Otherwise, just add the current value to the total\n",
    "#     - Set the previous value to the current value for the next iteration\n",
    "# - Print out the total value result.\n",
    "\n",
    "# All caps indicates a constant (unchanging) variable\n",
    "ROMAN = {\n",
    "    'M': 1000,\n",
    "    'D': 500,\n",
    "    'C': 100,\n",
    "    'L': 50,\n",
    "    'X': 10,\n",
    "    'V': 5,\n",
    "    'I': 1,\n",
    "}\n",
    "\n",
    "roman_string = input('Please enter a roman numeral string: ')\n",
    "# Set total and previous value initially to zero\n",
    "prev_value = 0\n",
    "total = 0\n",
    "# Loop through character by character\n",
    "for digit in roman_string:\n",
    "    # Look up the value\n",
    "    value = ROMAN[digit]\n",
    "    # If we had a previous value (every time but the first iteration)\n",
    "    # and it was smaller than this value, that's our special case.\n",
    "    # Subtract twice, because we would have added on the previous iteration.\n",
    "    # Otherwise, just add our value to our total.\n",
    "    if prev_value and prev_value < value:\n",
    "        total += value - (2 * prev_value)\n",
    "    else:\n",
    "        total += value\n",
    "    # Remember this value for the next iteration\n",
    "    prev_value = value\n",
    "print('Arabic: ', total)"
   ]
  },
  {
   "cell_type": "code",
   "execution_count": 71,
   "metadata": {},
   "outputs": [
    {
     "name": "stdout",
     "output_type": "stream",
     "text": [
      "Absolutely!\n",
      "<class 'function'>\n",
      "['__annotations__', '__call__', '__class__', '__closure__', '__code__', '__defaults__', '__delattr__', '__dict__', '__dir__', '__doc__', '__eq__', '__format__', '__ge__', '__get__', '__getattribute__', '__globals__', '__gt__', '__hash__', '__init__', '__init_subclass__', '__kwdefaults__', '__le__', '__lt__', '__module__', '__name__', '__ne__', '__new__', '__qualname__', '__reduce__', '__reduce_ex__', '__repr__', '__setattr__', '__sizeof__', '__str__', '__subclasshook__']\n",
      "139802133297920 139802133297920\n"
     ]
    }
   ],
   "source": [
    "def yes():\n",
    "    return \"Absolutely!\"\n",
    "\n",
    "def no():\n",
    "    return \"No way.\"\n",
    "\n",
    "def maybe():\n",
    "    return \"Could be\"\n",
    "\n",
    "answers = {\n",
    "    \"yes\": yes,\n",
    "    \"no\": no,\n",
    "    \"maybe\": maybe,\n",
    "}\n",
    "\n",
    "func = answers[\"yes\"]\n",
    "print(func())\n",
    "print(type(func))\n",
    "print(dir(yes))\n",
    "print(id(func), id(yes))"
   ]
  },
  {
   "cell_type": "markdown",
   "metadata": {
    "slideshow": {
     "slide_type": "subslide"
    }
   },
   "source": [
    "## Lab: Word Counting\n",
    "* write a program to read lines of text entered by the user\n",
    "* split the lines into words, and count the occurrences of each word using a dictionary\n",
    "* if the word is in dictionary (use the __`in`__ operator), increment its count\n",
    "* if the word is NOT in the dictionary, set its count to 1\n",
    "* stop when the user enters 'quit', and print out the words and their counts\n",
    "* BONUS:  Read lines of text from a file instead.  Don't forget to handle puncuation!\n",
    "* EXTRA BONUS: Output your dictionary in order from most to least common words"
   ]
  },
  {
   "cell_type": "code",
   "execution_count": null,
   "metadata": {},
   "outputs": [],
   "source": []
  },
  {
   "cell_type": "markdown",
   "metadata": {
    "slideshow": {
     "slide_type": "subslide"
    }
   },
   "source": [
    "## Deleting from a __`dict`__\n",
    "* __`pop(key)`__ will remove the corresponding key/value pair from the __`dict`__\n",
    "* __`clear()`__ will remove ALL entries"
   ]
  },
  {
   "cell_type": "code",
   "execution_count": 72,
   "metadata": {},
   "outputs": [
    {
     "ename": "KeyError",
     "evalue": "'not there'",
     "output_type": "error",
     "traceback": [
      "\u001b[0;31m---------------------------------------------------------------------------\u001b[0m",
      "\u001b[0;31mKeyError\u001b[0m                                  Traceback (most recent call last)",
      "\u001b[0;32m<ipython-input-72-e7dc492384f1>\u001b[0m in \u001b[0;36m<module>\u001b[0;34m\u001b[0m\n\u001b[0;32m----> 1\u001b[0;31m \u001b[0mcups\u001b[0m\u001b[0;34m.\u001b[0m\u001b[0mpop\u001b[0m\u001b[0;34m(\u001b[0m\u001b[0;34m'not there'\u001b[0m\u001b[0;34m)\u001b[0m\u001b[0;34m\u001b[0m\u001b[0;34m\u001b[0m\u001b[0m\n\u001b[0m",
      "\u001b[0;31mKeyError\u001b[0m: 'not there'"
     ]
    }
   ],
   "source": [
    "cups.pop('not there')"
   ]
  },
  {
   "cell_type": "code",
   "execution_count": 73,
   "metadata": {},
   "outputs": [
    {
     "data": {
      "text/plain": [
       "{'tall': 12}"
      ]
     },
     "execution_count": 73,
     "metadata": {},
     "output_type": "execute_result"
    }
   ],
   "source": [
    "if 'grande' in cups:\n",
    "    cups.pop('grande')\n",
    "cups"
   ]
  },
  {
   "cell_type": "code",
   "execution_count": 74,
   "metadata": {},
   "outputs": [
    {
     "data": {
      "text/plain": [
       "{}"
      ]
     },
     "execution_count": 74,
     "metadata": {},
     "output_type": "execute_result"
    }
   ],
   "source": [
    "cups.clear()\n",
    "cups"
   ]
  },
  {
   "cell_type": "markdown",
   "metadata": {
    "slideshow": {
     "slide_type": "slide"
    }
   },
   "source": [
    "# Defining Our Own Functions"
   ]
  },
  {
   "cell_type": "markdown",
   "metadata": {
    "slideshow": {
     "slide_type": "subslide"
    }
   },
   "source": [
    "## What is a Function (Redux)?\n",
    "* a _function_ is a named, self-contained snippet of code which performs a specific task\n",
    "* functions are sometimes called procedures, subprograms, or methods\n",
    "* functions can accept some data as input, and can return some data as output\n",
    "* the input, which is optional, is called _parameters_ or _arguments_\n",
    "* the output, which is also optional, is called the _return value_\n",
    "* we use the __`def`__ keyword to define a function\n",
    "* the body of the function is indented\n",
    "* syntax\n",
    "\n",
    "<pre>\n",
    "    <b>\n",
    "    def funcname(arg1, arg2, ...):\n",
    "        statement(s)\n",
    "    </b>\n",
    "</pre>"
   ]
  },
  {
   "cell_type": "code",
   "execution_count": 78,
   "metadata": {},
   "outputs": [
    {
     "name": "stdout",
     "output_type": "stream",
     "text": [
      "---------------------------------------------------------------\n",
      "   RESTRICTED ACCESS   RESTRICTED ACCESS   RESTRICTED ACCESS\n",
      "---------------------------------------------------------------\n",
      "you should not be reading this\n",
      "---------------------------------------------------------------\n",
      "   RESTRICTED ACCESS   RESTRICTED ACCESS   RESTRICTED ACCESS\n",
      "---------------------------------------------------------------\n"
     ]
    },
    {
     "data": {
      "text/plain": [
       "<function __main__.print_header()>"
      ]
     },
     "execution_count": 78,
     "metadata": {},
     "output_type": "execute_result"
    }
   ],
   "source": [
    "# Here is a function which takes no input (parameters) and has\n",
    "# no return value. The things that are printed by the function\n",
    "# are not considered a return value.\n",
    "\n",
    "def print_header():\n",
    "    print('-' * 63)\n",
    "    print('   RESTRICTED ACCESS' * 3)\n",
    "    print('-' * 63)\n",
    "    \n",
    "print_header()\n",
    "print('you should not be reading this')\n",
    "print_header()\n",
    "print_header\n"
   ]
  },
  {
   "cell_type": "code",
   "execution_count": 80,
   "metadata": {},
   "outputs": [
    {
     "data": {
      "text/plain": [
       "<function print>"
      ]
     },
     "execution_count": 80,
     "metadata": {},
     "output_type": "execute_result"
    }
   ],
   "source": [
    "import builtins\n",
    "builtins.print"
   ]
  },
  {
   "cell_type": "code",
   "execution_count": 86,
   "metadata": {},
   "outputs": [],
   "source": [
    "import builtins\n",
    "def print(*args, **kwargs):\n",
    "    #print(\"Hello\")\n",
    "    builtins.print(\"JR's PRINT is BETTER\")\n",
    "    builtins.print(*args, **kwargs)"
   ]
  },
  {
   "cell_type": "code",
   "execution_count": 89,
   "metadata": {},
   "outputs": [
    {
     "name": "stdout",
     "output_type": "stream",
     "text": [
      "Hello World!"
     ]
    }
   ],
   "source": [
    "print(\"Hello World\", end=\"!\")"
   ]
  },
  {
   "cell_type": "code",
   "execution_count": 90,
   "metadata": {},
   "outputs": [
    {
     "ename": "NameError",
     "evalue": "name 'print' is not defined",
     "output_type": "error",
     "traceback": [
      "\u001b[0;31m---------------------------------------------------------------------------\u001b[0m",
      "\u001b[0;31mNameError\u001b[0m                                 Traceback (most recent call last)",
      "\u001b[0;32m<ipython-input-90-1683c75ea801>\u001b[0m in \u001b[0;36m<module>\u001b[0;34m\u001b[0m\n\u001b[0;32m----> 1\u001b[0;31m \u001b[0;32mdel\u001b[0m \u001b[0mprint\u001b[0m\u001b[0;34m\u001b[0m\u001b[0;34m\u001b[0m\u001b[0m\n\u001b[0m",
      "\u001b[0;31mNameError\u001b[0m: name 'print' is not defined"
     ]
    }
   ],
   "source": [
    "del print"
   ]
  },
  {
   "cell_type": "code",
   "execution_count": 92,
   "metadata": {},
   "outputs": [
    {
     "data": {
      "text/plain": [
       "{'__name__': '__main__',\n",
       " '__doc__': 'Automatically created module for IPython interactive environment',\n",
       " '__package__': None,\n",
       " '__loader__': None,\n",
       " '__spec__': None,\n",
       " '__builtin__': <module 'builtins' (built-in)>,\n",
       " '__builtins__': <module 'builtins' (built-in)>,\n",
       " '_ih': ['',\n",
       "  \"list_of_fruits = ['banana', 'apple', 'pear', 'mango',\\n                  'cherry', 'blueberry']\\nfunnylist = ['Dave', 19, 34.5]\\nempty_list = []\\n# sep is an optional argument or parameter to the print() function which dictates\\n# the separator character that should be printed between items\\nprint(list_of_fruits, funnylist, empty_list, sep='\\\\n')\",\n",
       "  \"fruits = ['banana', 'apple', 'pear', 'mango',\\n          'cherry', 'blueberry']\\nveggies =['lettuce', 'cucumbers', 'avacado']\\n\\nfruits == veggies\",\n",
       "  \"sandwich_toppings = ['lettuce', 'cucumbers', 'avacado']\\n\\nveggies == sandwich_toppings\",\n",
       "  'id(veggies), id(sandwich_toppings)',\n",
       "  \"print(list_of_fruits[0])\\nfunnylist[1] = 'not Dave'\\nprint(funnylist)\\nlist_of_fruits[-1] = 'raspberry'\\nprint(list_of_fruits)\",\n",
       "  \"print(list_of_fruits[0])\\nlist_of_fruits[0] = list_of_fruits[0] + 's'\\nprint(list_of_fruits)\",\n",
       "  'for fruit in list_of_fruits:\\n    print(fruit)',\n",
       "  \"string = 'Frank Benedict eats jam in the morning'\\nstring[6:9] + string[20:23] + string[24:27] + string[:5] + 'lin'\",\n",
       "  \"alphabet = 'abcdefghijklmnopqrstuvwxyz'\\nprint('13th letter of the alphabet is', alphabet[12])\\nprint('Every other letter in the 1st half of the alphabet:',\\n      alphabet[:13:2])\\nprint('Every other letter in the 2nd half of the alphabet:',\\n      alphabet[13::2])\\nprint('The alphabet backwards is', alphabet[::-1])\",\n",
       "  'alphabet[-1]',\n",
       "  'alphabet[-1:0:-1]',\n",
       "  \"string = input('Enter a string: ')\\nprint('The last 3 characters of the string are:',\\n      string[-3:])\",\n",
       "  \"string = input('Enter a string: ')\\nprint('The last 3 characters of the string are:',\\n      string[-3:])\",\n",
       "  \"# Works the same with lists...\\nprint(list_of_fruits)\\nprint(list_of_fruits[::-1])\\nprint(list_of_fruits[3:])\\nprint(list_of_fruits[:3])\\nprint('The middle 3 fruits:', \\n      list_of_fruits[2:5])\\nprint('Every other fruit:', list_of_fruits[::2])\",\n",
       "  'list_of_fruits[478:999]',\n",
       "  'page_size = 3\\ncurrent = 0\\npage = list_of_fruits[current:current+page_size]\\nwhile page:\\n    print(\"This page:\", page)\\n    current += page_size\\n    page = list_of_fruits[current:current+page_size]',\n",
       "  'user_string = input(\"Please enter a string: \")\\nfirst_part = user_string[:-1]\\nprint(first_part)',\n",
       "  'user_string = input(\"Please enter a string: \")\\nfor character in user_string[:-1]:\\n    print(character, \\'+\\', sep=\\'\\', end=\\'\\')',\n",
       "  'user_string = input(\"Please enter a string: \")\\nfor character in user_string[:-1]:\\n    print(character, \\'+\\', sep=\\'\\', end=\\'\\')\\nprint(user_string[-1])',\n",
       "  'user_string = input(\"Please enter a string: \")\\nfor character in user_string[:-1]:\\n    print(character, \\'+\\', sep=\\'\\', end=\\'\\')\\nprint(user_string[-1])',\n",
       "  'user_string = input(\"Please enter a string: \")\\nfor character in user_string[:-1]:\\n    print(character, end=\"+\")\\nprint(user_string[-1])',\n",
       "  'user_string = input(\"Please enter a string: \")\\nfor character in user_string[:-1]:\\n    print(character, end=\"+\")\\nprint(user_string[-1])',\n",
       "  \"print(list_of_fruits)\\nlist_of_fruits.append('lemon') # NOT append(list_of_fruits, 'lemon')\\nlist_of_fruits\",\n",
       "  \"list_of_fruits.insert(4, 'tomato')\\nprint(list_of_fruits)\",\n",
       "  \"more_fruits = ['lime', 'watermelon']\\nlist_of_fruits.extend(more_fruits) # list_of_fruits += more_fruits\\nprint(list_of_fruits)\",\n",
       "  \"list_names = ['JR', 'Spencer', 'Alex']\\nother_instructors = ['Dave', 'Rick']\\nlist_names.append(other_instructors)\\nprint(list_names)\\n#print(list_names[3][1])\\n#list_names.extend('Kameron')\\n#print(list_names)\",\n",
       "  \"list_names = ['JR', 'Spencer', 'Alex']\\nother_instructors = ['Dave', 'Rick']\\nlist_names.append(other_instructors)\\nprint(list_names)\\nprint(list_names[3][1])\\n#list_names.extend('Kameron')\\n#print(list_names)\",\n",
       "  \"list_names = ['JR', 'Spencer', 'Alex']\\nother_instructors = ['Dave', 'Rick']\\nlist_names.append(other_instructors)\\nprint(list_names)\\nprint(list_names[3][1])\\nlist_names.extend('Kameron')\\nprint(list_names)\",\n",
       "  'user_string = input(\"Please enter a string: \")\\nfor character in user_string[:-1]:\\n    #print(character, end=\"+\")\\n    print(character, \"+\", sep=\"\", end=\"\")\\nprint(user_string[-1])',\n",
       "  'word_list = []\\n\\nwhile True:\\n    word = input(\"Please enter a word (type quit to stop):\")\\n    if word == \"quit\":\\n        break\\n    # list processing here\\n    word_list.append(word)\\nprint(word_list[::2])\\nprint(word_list[1::2])',\n",
       "  \"string = input('Enter a string and I will make a list out of it: ')\\nmylist = string.split()\\nmylist\",\n",
       "  \"string = input('Enter a string and I will make a list out of it: ')\\nmylist = string.split()\\nmylist\",\n",
       "  \"comma_separated = 'eggs, milk, butter, cheese'\\nshopping_list = comma_separated.split(', ')\\nshopping_list\",\n",
       "  \"comma_separated = 'eggs, milk, butter, , cheese'\\nshopping_list = comma_separated.split(', ')\\nshopping_list\",\n",
       "  \"comma_separated = 'eggs, milk, butter, cheese'\\nshopping_list = comma_separated.split(', ')\\nshopping_list\",\n",
       "  \"', '.join(shopping_list)\\n# want to write shopping_list.join(', ')\",\n",
       "  \"list_of_letters = list('salesforce')\\nprint(list_of_letters)\\nprint(''.join(list_of_letters))\",\n",
       "  \"'+'.join(list('hello'))\",\n",
       "  \"import builtins\\nbuiltins.list('Happy')\",\n",
       "  'start = 10\\nstop = 30\\n\\n# Loop through the number we want to check for primes\\nfor num in range(start, stop + 1):\\n    # Loop through the numbers that might divide into num\\n    for factor in range(2, num):\\n        if num % factor == 0:\\n            # Divides evenly - not prime!\\n            break\\n    else:\\n        print(num, \"is a prime number.\")',\n",
       "  '# Instructor solution - optimized\\nstart = 10\\nstop = 30\\n\\n# Optimize - we can skip every even number - none are prime (except 2)\\nif start % 2 == 0:\\n    start = start + 1\\n\\n# Loop through the number we want to check for primes (only odds)\\nfor num in range(start, stop + 1, 2):\\n    # Loop through the numbers that might divide into num\\n    # Optimize - we never have to check past half the number \\n    # because the highest factor of any number is half of it.\\n    for factor in range(2, num // 2 + 1):\\n        if num % factor == 0:\\n            # Divides evenly - not prime!\\n            break\\n    else:\\n        print(num, \"is a prime number.\")',\n",
       "  \"get_ipython().system('wc -l wordlist.txt')\",\n",
       "  \"words = []\\nfile = open('wordlist.txt')\\ntype(file)\\nwords = list(file)\\n#for line in file:\\n#    words.append(line.strip())\\nprint(words)\\nfile.close()\\n\\n#with open('wordlist.txt') as file:\\n#    words = list(file)\",\n",
       "  'words = []\\nfile = open(\\'wordlist.txt\\')\\ntype(file)\\nwords = list(file)\\n#for line in file:\\n#    words.append(line.strip())\\nprint(words)\\nfile.close()\\n\\nwith open(\\'wordlist.txt\\') as file:\\n    words = list(file)\\nprint(\"file is closed!\")',\n",
       "  'words = []\\nfile = open(\\'wordlist.txt\\')\\nprint(type(file))\\nwords = list(file)\\n#for line in file:\\n#    words.append(line.strip())\\nprint(words)\\nfile.close()\\n\\nwith open(\\'wordlist.txt\\') as file:\\n    words = list(file)\\nprint(\"file is closed!\")',\n",
       "  \"list_of_fruits = ['banana', 'apple', 'lemon', 'pear', 'fig',\\n                  'mango','raspberry', 'lemon']\\nprint(list_of_fruits.pop(-3))\\nlist_of_fruits\",\n",
       "  \"# Given what we know so far, remove ALL lemons from the list\\nprint(list_of_fruits.count('lemon'))\\n\\nwhile 'lemon' in list_of_fruits:\\n    list_of_fruits.remove('lemon')\\nprint(list_of_fruits)\\nlist_of_fruits.remove('lemon')\",\n",
       "  \"# Take the remaining items and pop each item off until empty\\nwhile len(list_of_fruits) > 0:\\n    print('popping', list_of_fruits.pop(0))\\n    print(list_of_fruits)\",\n",
       "  \"'banana' < 'apple'\",\n",
       "  \"'banana' < 'Apple'\",\n",
       "  \"'Banana' < 'apple'\",\n",
       "  \"list_of_fruits = ['banana', 'apple', 'lemon', 'pear', 'fig', \\n                  'mango', 'lemon']\\nprint(list_of_fruits)\\nlist_of_fruits.sort()\\nprint(list_of_fruits)\\nlist_of_fruits.sort(reverse=True)\\nprint(list_of_fruits)\",\n",
       "  'sorted_list = sorted(list_of_fruits)\\nprint(sorted_list)\\nprint(list_of_fruits)',\n",
       "  'list_of_fruits.sort(key=len)\\nprint(list_of_fruits)',\n",
       "  \"# creating a dictionary and initializing it\\ncups = { \\n    'tall': 12, \\n    'grande': 16 \\n}\\ntype(cups), cups\",\n",
       "  \"print('A tall cup contains', cups['tall'], 'ounces')\",\n",
       "  'cups[0]',\n",
       "  \"if 'grande' in cups: # only looks at keys\\n    print(cups['grande'])\",\n",
       "  'for thing in cups:\\n    print(thing, cups[thing])',\n",
       "  'for v in cups.values():\\n    print(v)',\n",
       "  \"for key, value in cups.items():\\n    print(key, '->', value)\\n    \\nprint(cups.items())\",\n",
       "  '# How about a dictionary to translate English into Spanish\\nenglish_to_spanish = { \\n    \\'hello\\': \\'hola\\', \\n    \\'one\\': \\'uno\\', \\n    \\'please\\': \\'por favor\\', \\n    \\'coffee\\': \\'café\\' \\n}\\nfor word in \"hello one coffee please\".split():\\n    print(english_to_spanish[word], end=\\' \\')\\nprint()',\n",
       "  \"english_to_spanish['corn'] = 'maize'\\nprint(english_to_spanish)\\nenglish_to_spanish['table'] = 'mesa'\\nprint(english_to_spanish)\\nenglish_to_spanish['flour'] = 'arina'\\nprint(english_to_spanish)\",\n",
       "  'color_dict = {}\\ncolor_dict[\"red\"] = []\\ncolor_dict[\"red\"].append(\"rott\")\\ncolor_dict[\"red\"].append(\"rouge\")\\ncolor_dict[\"red\"].append(\"\")\\nprint(color_dict)',\n",
       "  'color_dict = {}\\ncolor_dict[\"red\"] = []\\ncolor_dict[\"red\"].append(\"rott\")\\ncolor_dict[\"red\"].append(\"rouge\")\\ncolor_dict[\"red\"].append(\"rojo\")\\nprint(color_dict)',\n",
       "  'color_dict = {}\\ncolor_dict[\"red\"] = []\\ncolor_dict[\"red\"].append(\"rott\")\\ncolor_dict[\"red\"].append(\"rouge\")\\ncolor_dict[\"red\"].append(\"rojo\")\\nprint(color_dict)\\ncolor_dict[\"red\"][1]',\n",
       "  \"for size, ounces in cups.items():\\n    print(size, '->', ounces)\\n    \\nprint(cups.items())\",\n",
       "  'def yes():\\n    return \"Absolutely!\"\\n\\ndef no():\\n    return \"No way.\"\\n\\ndef maybe():\\n    return \"Could be\"\\n\\nanswers = {\\n    \"yes\": yes,\\n    \"no\": no,\\n    \"maybe\": maybe,\\n}\\n\\nfunc = answers[\"yes\"]\\nprint(func())',\n",
       "  'def yes():\\n    return \"Absolutely!\"\\n\\ndef no():\\n    return \"No way.\"\\n\\ndef maybe():\\n    return \"Could be\"\\n\\nanswers = {\\n    \"yes\": yes,\\n    \"no\": no,\\n    \"maybe\": maybe,\\n}\\n\\nfunc = answers[\"yes\"]\\nprint(func())\\nprint(id(func), id(yes))',\n",
       "  'def yes():\\n    return \"Absolutely!\"\\n\\ndef no():\\n    return \"No way.\"\\n\\ndef maybe():\\n    return \"Could be\"\\n\\nanswers = {\\n    \"yes\": yes,\\n    \"no\": no,\\n    \"maybe\": maybe,\\n}\\n\\nfunc = answers[\"yes\"]\\nprint(func())\\nprint(type(func))\\nprint(id(func), id(yes))',\n",
       "  'def yes():\\n    return \"Absolutely!\"\\n\\ndef no():\\n    return \"No way.\"\\n\\ndef maybe():\\n    return \"Could be\"\\n\\nanswers = {\\n    \"yes\": yes,\\n    \"no\": no,\\n    \"maybe\": maybe,\\n}\\n\\nfunc = answers[\"yes\"]\\nprint(func())\\nprint(type(func))\\nprint(dir(yes))\\nprint(id(func), id(yes))',\n",
       "  \"cups.pop('not there')\",\n",
       "  \"if 'grande' in cups:\\n    cups.pop('grande')\\ncups\",\n",
       "  'cups.clear()\\ncups',\n",
       "  \"# Here is a function which takes no input (parameters) and has\\n# no return value. The things that are printed by the function\\n# are not considered a return value.\\n\\ndef print_header():\\n    print('-' * 63)\\n    print('   RESTRICTED ACCESS' * 3)\\n    print('-' * 63)\\n    \\nprint_header()\\nprint('you should not be reading this')\\nprint_header()\",\n",
       "  \"# Here is a function which takes no input (parameters) and has\\n# no return value. The things that are printed by the function\\n# are not considered a return value.\\n\\ndef print_header():\\n    print('-' * 63)\\n    print('   RESTRICTED ACCESS' * 3)\\n    print('-' * 63)\\n    \\nprint_header()\\nprint('you should not be reading this')\\nprint_header()\\ntype(print_header)\",\n",
       "  \"# Here is a function which takes no input (parameters) and has\\n# no return value. The things that are printed by the function\\n# are not considered a return value.\\n\\ndef print_header():\\n    print('-' * 63)\\n    print('   RESTRICTED ACCESS' * 3)\\n    print('-' * 63)\\n    \\nprint_header()\\nprint('you should not be reading this')\\nprint_header()\\nprint(type(print_header))\",\n",
       "  \"# Here is a function which takes no input (parameters) and has\\n# no return value. The things that are printed by the function\\n# are not considered a return value.\\n\\ndef print_header():\\n    print('-' * 63)\\n    print('   RESTRICTED ACCESS' * 3)\\n    print('-' * 63)\\n    \\nprint_header()\\nprint('you should not be reading this')\\nprint_header()\\nprint_header\",\n",
       "  'print',\n",
       "  'import builtins\\nbuiltins.print',\n",
       "  'import builtins\\ndef print(*args, **kwargs):\\n    builtins.print(\"JR\\'s PRINT is BETTER\")\\n    builtins.print(*args, **kwargs)',\n",
       "  'print(\"Hello World\")',\n",
       "  'print(\"Hello World\", end=\"!\")',\n",
       "  '#import builtins\\ndef print(*args, **kwargs):\\n    print(\"Hello\")\\n    #builtins.print(\"JR\\'s PRINT is BETTER\")\\n    #builtins.print(*args, **kwargs)',\n",
       "  'print(\"Hello World\", end=\"!\")',\n",
       "  'import builtins\\ndef print(*args, **kwargs):\\n    #print(\"Hello\")\\n    builtins.print(\"JR\\'s PRINT is BETTER\")\\n    builtins.print(*args, **kwargs)',\n",
       "  'print(\"Hello World\", end=\"!\")',\n",
       "  'del print',\n",
       "  'print(\"Hello World\", end=\"!\")',\n",
       "  'del print',\n",
       "  'dir()',\n",
       "  'globals()'],\n",
       " '_oh': {2: False,\n",
       "  3: True,\n",
       "  4: (139802204625328, 139802144694992),\n",
       "  8: 'Benjamin Franklin',\n",
       "  10: 'z',\n",
       "  11: 'zyxwvutsrqponmlkjihgfedcb',\n",
       "  15: [],\n",
       "  23: ['bananas',\n",
       "   'apple',\n",
       "   'pear',\n",
       "   'mango',\n",
       "   'tomato',\n",
       "   'cherry',\n",
       "   'raspberry',\n",
       "   'lemon',\n",
       "   'lime',\n",
       "   'watermelon'],\n",
       "  31: ['one', 'two', 'three', 'four', 'five', 'six'],\n",
       "  32: ['one', 'two', 'three', 'four', 'five', 'six'],\n",
       "  33: ['eggs', 'milk', 'butter', 'cheese'],\n",
       "  34: ['eggs', 'milk', 'butter', '', 'cheese'],\n",
       "  35: ['eggs', 'milk', 'butter', 'cheese'],\n",
       "  36: 'eggs, milk, butter, cheese',\n",
       "  38: 'h+e+l+l+o',\n",
       "  39: ['H', 'a', 'p', 'p', 'y'],\n",
       "  46: [],\n",
       "  49: False,\n",
       "  50: False,\n",
       "  51: True,\n",
       "  55: (dict, {}),\n",
       "  66: 'rouge',\n",
       "  73: {},\n",
       "  74: {},\n",
       "  76: function,\n",
       "  78: <function __main__.print_header()>,\n",
       "  79: <function print>,\n",
       "  80: <function print>,\n",
       "  91: ['In',\n",
       "   'Out',\n",
       "   '_',\n",
       "   '_10',\n",
       "   '_11',\n",
       "   '_15',\n",
       "   '_2',\n",
       "   '_23',\n",
       "   '_3',\n",
       "   '_31',\n",
       "   '_32',\n",
       "   '_33',\n",
       "   '_34',\n",
       "   '_35',\n",
       "   '_36',\n",
       "   '_38',\n",
       "   '_39',\n",
       "   '_4',\n",
       "   '_46',\n",
       "   '_49',\n",
       "   '_50',\n",
       "   '_51',\n",
       "   '_55',\n",
       "   '_66',\n",
       "   '_73',\n",
       "   '_74',\n",
       "   '_76',\n",
       "   '_78',\n",
       "   '_79',\n",
       "   '_8',\n",
       "   '_80',\n",
       "   '__',\n",
       "   '___',\n",
       "   '__builtin__',\n",
       "   '__builtins__',\n",
       "   '__doc__',\n",
       "   '__loader__',\n",
       "   '__name__',\n",
       "   '__package__',\n",
       "   '__spec__',\n",
       "   '_dh',\n",
       "   '_exit_code',\n",
       "   '_i',\n",
       "   '_i1',\n",
       "   '_i10',\n",
       "   '_i11',\n",
       "   '_i12',\n",
       "   '_i13',\n",
       "   '_i14',\n",
       "   '_i15',\n",
       "   '_i16',\n",
       "   '_i17',\n",
       "   '_i18',\n",
       "   '_i19',\n",
       "   '_i2',\n",
       "   '_i20',\n",
       "   '_i21',\n",
       "   '_i22',\n",
       "   '_i23',\n",
       "   '_i24',\n",
       "   '_i25',\n",
       "   '_i26',\n",
       "   '_i27',\n",
       "   '_i28',\n",
       "   '_i29',\n",
       "   '_i3',\n",
       "   '_i30',\n",
       "   '_i31',\n",
       "   '_i32',\n",
       "   '_i33',\n",
       "   '_i34',\n",
       "   '_i35',\n",
       "   '_i36',\n",
       "   '_i37',\n",
       "   '_i38',\n",
       "   '_i39',\n",
       "   '_i4',\n",
       "   '_i40',\n",
       "   '_i41',\n",
       "   '_i42',\n",
       "   '_i43',\n",
       "   '_i44',\n",
       "   '_i45',\n",
       "   '_i46',\n",
       "   '_i47',\n",
       "   '_i48',\n",
       "   '_i49',\n",
       "   '_i5',\n",
       "   '_i50',\n",
       "   '_i51',\n",
       "   '_i52',\n",
       "   '_i53',\n",
       "   '_i54',\n",
       "   '_i55',\n",
       "   '_i56',\n",
       "   '_i57',\n",
       "   '_i58',\n",
       "   '_i59',\n",
       "   '_i6',\n",
       "   '_i60',\n",
       "   '_i61',\n",
       "   '_i62',\n",
       "   '_i63',\n",
       "   '_i64',\n",
       "   '_i65',\n",
       "   '_i66',\n",
       "   '_i67',\n",
       "   '_i68',\n",
       "   '_i69',\n",
       "   '_i7',\n",
       "   '_i70',\n",
       "   '_i71',\n",
       "   '_i72',\n",
       "   '_i73',\n",
       "   '_i74',\n",
       "   '_i75',\n",
       "   '_i76',\n",
       "   '_i77',\n",
       "   '_i78',\n",
       "   '_i79',\n",
       "   '_i8',\n",
       "   '_i80',\n",
       "   '_i81',\n",
       "   '_i82',\n",
       "   '_i83',\n",
       "   '_i84',\n",
       "   '_i85',\n",
       "   '_i86',\n",
       "   '_i87',\n",
       "   '_i88',\n",
       "   '_i89',\n",
       "   '_i9',\n",
       "   '_i90',\n",
       "   '_i91',\n",
       "   '_ih',\n",
       "   '_ii',\n",
       "   '_iii',\n",
       "   '_oh',\n",
       "   'alphabet',\n",
       "   'answers',\n",
       "   'builtins',\n",
       "   'character',\n",
       "   'color_dict',\n",
       "   'comma_separated',\n",
       "   'cups',\n",
       "   'current',\n",
       "   'empty_list',\n",
       "   'english_to_spanish',\n",
       "   'exit',\n",
       "   'factor',\n",
       "   'file',\n",
       "   'first_part',\n",
       "   'fruit',\n",
       "   'fruits',\n",
       "   'func',\n",
       "   'funnylist',\n",
       "   'get_ipython',\n",
       "   'key',\n",
       "   'list_names',\n",
       "   'list_of_fruits',\n",
       "   'list_of_letters',\n",
       "   'maybe',\n",
       "   'more_fruits',\n",
       "   'mylist',\n",
       "   'no',\n",
       "   'num',\n",
       "   'other_instructors',\n",
       "   'ounces',\n",
       "   'page',\n",
       "   'page_size',\n",
       "   'print_header',\n",
       "   'quit',\n",
       "   'sandwich_toppings',\n",
       "   'shopping_list',\n",
       "   'size',\n",
       "   'sorted_list',\n",
       "   'start',\n",
       "   'stop',\n",
       "   'string',\n",
       "   'thing',\n",
       "   'user_string',\n",
       "   'v',\n",
       "   'value',\n",
       "   'veggies',\n",
       "   'word',\n",
       "   'word_list',\n",
       "   'words',\n",
       "   'yes']},\n",
       " '_dh': ['/home/jr/code/iea-cohort-08/04_intro_to_programming'],\n",
       " 'In': ['',\n",
       "  \"list_of_fruits = ['banana', 'apple', 'pear', 'mango',\\n                  'cherry', 'blueberry']\\nfunnylist = ['Dave', 19, 34.5]\\nempty_list = []\\n# sep is an optional argument or parameter to the print() function which dictates\\n# the separator character that should be printed between items\\nprint(list_of_fruits, funnylist, empty_list, sep='\\\\n')\",\n",
       "  \"fruits = ['banana', 'apple', 'pear', 'mango',\\n          'cherry', 'blueberry']\\nveggies =['lettuce', 'cucumbers', 'avacado']\\n\\nfruits == veggies\",\n",
       "  \"sandwich_toppings = ['lettuce', 'cucumbers', 'avacado']\\n\\nveggies == sandwich_toppings\",\n",
       "  'id(veggies), id(sandwich_toppings)',\n",
       "  \"print(list_of_fruits[0])\\nfunnylist[1] = 'not Dave'\\nprint(funnylist)\\nlist_of_fruits[-1] = 'raspberry'\\nprint(list_of_fruits)\",\n",
       "  \"print(list_of_fruits[0])\\nlist_of_fruits[0] = list_of_fruits[0] + 's'\\nprint(list_of_fruits)\",\n",
       "  'for fruit in list_of_fruits:\\n    print(fruit)',\n",
       "  \"string = 'Frank Benedict eats jam in the morning'\\nstring[6:9] + string[20:23] + string[24:27] + string[:5] + 'lin'\",\n",
       "  \"alphabet = 'abcdefghijklmnopqrstuvwxyz'\\nprint('13th letter of the alphabet is', alphabet[12])\\nprint('Every other letter in the 1st half of the alphabet:',\\n      alphabet[:13:2])\\nprint('Every other letter in the 2nd half of the alphabet:',\\n      alphabet[13::2])\\nprint('The alphabet backwards is', alphabet[::-1])\",\n",
       "  'alphabet[-1]',\n",
       "  'alphabet[-1:0:-1]',\n",
       "  \"string = input('Enter a string: ')\\nprint('The last 3 characters of the string are:',\\n      string[-3:])\",\n",
       "  \"string = input('Enter a string: ')\\nprint('The last 3 characters of the string are:',\\n      string[-3:])\",\n",
       "  \"# Works the same with lists...\\nprint(list_of_fruits)\\nprint(list_of_fruits[::-1])\\nprint(list_of_fruits[3:])\\nprint(list_of_fruits[:3])\\nprint('The middle 3 fruits:', \\n      list_of_fruits[2:5])\\nprint('Every other fruit:', list_of_fruits[::2])\",\n",
       "  'list_of_fruits[478:999]',\n",
       "  'page_size = 3\\ncurrent = 0\\npage = list_of_fruits[current:current+page_size]\\nwhile page:\\n    print(\"This page:\", page)\\n    current += page_size\\n    page = list_of_fruits[current:current+page_size]',\n",
       "  'user_string = input(\"Please enter a string: \")\\nfirst_part = user_string[:-1]\\nprint(first_part)',\n",
       "  'user_string = input(\"Please enter a string: \")\\nfor character in user_string[:-1]:\\n    print(character, \\'+\\', sep=\\'\\', end=\\'\\')',\n",
       "  'user_string = input(\"Please enter a string: \")\\nfor character in user_string[:-1]:\\n    print(character, \\'+\\', sep=\\'\\', end=\\'\\')\\nprint(user_string[-1])',\n",
       "  'user_string = input(\"Please enter a string: \")\\nfor character in user_string[:-1]:\\n    print(character, \\'+\\', sep=\\'\\', end=\\'\\')\\nprint(user_string[-1])',\n",
       "  'user_string = input(\"Please enter a string: \")\\nfor character in user_string[:-1]:\\n    print(character, end=\"+\")\\nprint(user_string[-1])',\n",
       "  'user_string = input(\"Please enter a string: \")\\nfor character in user_string[:-1]:\\n    print(character, end=\"+\")\\nprint(user_string[-1])',\n",
       "  \"print(list_of_fruits)\\nlist_of_fruits.append('lemon') # NOT append(list_of_fruits, 'lemon')\\nlist_of_fruits\",\n",
       "  \"list_of_fruits.insert(4, 'tomato')\\nprint(list_of_fruits)\",\n",
       "  \"more_fruits = ['lime', 'watermelon']\\nlist_of_fruits.extend(more_fruits) # list_of_fruits += more_fruits\\nprint(list_of_fruits)\",\n",
       "  \"list_names = ['JR', 'Spencer', 'Alex']\\nother_instructors = ['Dave', 'Rick']\\nlist_names.append(other_instructors)\\nprint(list_names)\\n#print(list_names[3][1])\\n#list_names.extend('Kameron')\\n#print(list_names)\",\n",
       "  \"list_names = ['JR', 'Spencer', 'Alex']\\nother_instructors = ['Dave', 'Rick']\\nlist_names.append(other_instructors)\\nprint(list_names)\\nprint(list_names[3][1])\\n#list_names.extend('Kameron')\\n#print(list_names)\",\n",
       "  \"list_names = ['JR', 'Spencer', 'Alex']\\nother_instructors = ['Dave', 'Rick']\\nlist_names.append(other_instructors)\\nprint(list_names)\\nprint(list_names[3][1])\\nlist_names.extend('Kameron')\\nprint(list_names)\",\n",
       "  'user_string = input(\"Please enter a string: \")\\nfor character in user_string[:-1]:\\n    #print(character, end=\"+\")\\n    print(character, \"+\", sep=\"\", end=\"\")\\nprint(user_string[-1])',\n",
       "  'word_list = []\\n\\nwhile True:\\n    word = input(\"Please enter a word (type quit to stop):\")\\n    if word == \"quit\":\\n        break\\n    # list processing here\\n    word_list.append(word)\\nprint(word_list[::2])\\nprint(word_list[1::2])',\n",
       "  \"string = input('Enter a string and I will make a list out of it: ')\\nmylist = string.split()\\nmylist\",\n",
       "  \"string = input('Enter a string and I will make a list out of it: ')\\nmylist = string.split()\\nmylist\",\n",
       "  \"comma_separated = 'eggs, milk, butter, cheese'\\nshopping_list = comma_separated.split(', ')\\nshopping_list\",\n",
       "  \"comma_separated = 'eggs, milk, butter, , cheese'\\nshopping_list = comma_separated.split(', ')\\nshopping_list\",\n",
       "  \"comma_separated = 'eggs, milk, butter, cheese'\\nshopping_list = comma_separated.split(', ')\\nshopping_list\",\n",
       "  \"', '.join(shopping_list)\\n# want to write shopping_list.join(', ')\",\n",
       "  \"list_of_letters = list('salesforce')\\nprint(list_of_letters)\\nprint(''.join(list_of_letters))\",\n",
       "  \"'+'.join(list('hello'))\",\n",
       "  \"import builtins\\nbuiltins.list('Happy')\",\n",
       "  'start = 10\\nstop = 30\\n\\n# Loop through the number we want to check for primes\\nfor num in range(start, stop + 1):\\n    # Loop through the numbers that might divide into num\\n    for factor in range(2, num):\\n        if num % factor == 0:\\n            # Divides evenly - not prime!\\n            break\\n    else:\\n        print(num, \"is a prime number.\")',\n",
       "  '# Instructor solution - optimized\\nstart = 10\\nstop = 30\\n\\n# Optimize - we can skip every even number - none are prime (except 2)\\nif start % 2 == 0:\\n    start = start + 1\\n\\n# Loop through the number we want to check for primes (only odds)\\nfor num in range(start, stop + 1, 2):\\n    # Loop through the numbers that might divide into num\\n    # Optimize - we never have to check past half the number \\n    # because the highest factor of any number is half of it.\\n    for factor in range(2, num // 2 + 1):\\n        if num % factor == 0:\\n            # Divides evenly - not prime!\\n            break\\n    else:\\n        print(num, \"is a prime number.\")',\n",
       "  \"get_ipython().system('wc -l wordlist.txt')\",\n",
       "  \"words = []\\nfile = open('wordlist.txt')\\ntype(file)\\nwords = list(file)\\n#for line in file:\\n#    words.append(line.strip())\\nprint(words)\\nfile.close()\\n\\n#with open('wordlist.txt') as file:\\n#    words = list(file)\",\n",
       "  'words = []\\nfile = open(\\'wordlist.txt\\')\\ntype(file)\\nwords = list(file)\\n#for line in file:\\n#    words.append(line.strip())\\nprint(words)\\nfile.close()\\n\\nwith open(\\'wordlist.txt\\') as file:\\n    words = list(file)\\nprint(\"file is closed!\")',\n",
       "  'words = []\\nfile = open(\\'wordlist.txt\\')\\nprint(type(file))\\nwords = list(file)\\n#for line in file:\\n#    words.append(line.strip())\\nprint(words)\\nfile.close()\\n\\nwith open(\\'wordlist.txt\\') as file:\\n    words = list(file)\\nprint(\"file is closed!\")',\n",
       "  \"list_of_fruits = ['banana', 'apple', 'lemon', 'pear', 'fig',\\n                  'mango','raspberry', 'lemon']\\nprint(list_of_fruits.pop(-3))\\nlist_of_fruits\",\n",
       "  \"# Given what we know so far, remove ALL lemons from the list\\nprint(list_of_fruits.count('lemon'))\\n\\nwhile 'lemon' in list_of_fruits:\\n    list_of_fruits.remove('lemon')\\nprint(list_of_fruits)\\nlist_of_fruits.remove('lemon')\",\n",
       "  \"# Take the remaining items and pop each item off until empty\\nwhile len(list_of_fruits) > 0:\\n    print('popping', list_of_fruits.pop(0))\\n    print(list_of_fruits)\",\n",
       "  \"'banana' < 'apple'\",\n",
       "  \"'banana' < 'Apple'\",\n",
       "  \"'Banana' < 'apple'\",\n",
       "  \"list_of_fruits = ['banana', 'apple', 'lemon', 'pear', 'fig', \\n                  'mango', 'lemon']\\nprint(list_of_fruits)\\nlist_of_fruits.sort()\\nprint(list_of_fruits)\\nlist_of_fruits.sort(reverse=True)\\nprint(list_of_fruits)\",\n",
       "  'sorted_list = sorted(list_of_fruits)\\nprint(sorted_list)\\nprint(list_of_fruits)',\n",
       "  'list_of_fruits.sort(key=len)\\nprint(list_of_fruits)',\n",
       "  \"# creating a dictionary and initializing it\\ncups = { \\n    'tall': 12, \\n    'grande': 16 \\n}\\ntype(cups), cups\",\n",
       "  \"print('A tall cup contains', cups['tall'], 'ounces')\",\n",
       "  'cups[0]',\n",
       "  \"if 'grande' in cups: # only looks at keys\\n    print(cups['grande'])\",\n",
       "  'for thing in cups:\\n    print(thing, cups[thing])',\n",
       "  'for v in cups.values():\\n    print(v)',\n",
       "  \"for key, value in cups.items():\\n    print(key, '->', value)\\n    \\nprint(cups.items())\",\n",
       "  '# How about a dictionary to translate English into Spanish\\nenglish_to_spanish = { \\n    \\'hello\\': \\'hola\\', \\n    \\'one\\': \\'uno\\', \\n    \\'please\\': \\'por favor\\', \\n    \\'coffee\\': \\'café\\' \\n}\\nfor word in \"hello one coffee please\".split():\\n    print(english_to_spanish[word], end=\\' \\')\\nprint()',\n",
       "  \"english_to_spanish['corn'] = 'maize'\\nprint(english_to_spanish)\\nenglish_to_spanish['table'] = 'mesa'\\nprint(english_to_spanish)\\nenglish_to_spanish['flour'] = 'arina'\\nprint(english_to_spanish)\",\n",
       "  'color_dict = {}\\ncolor_dict[\"red\"] = []\\ncolor_dict[\"red\"].append(\"rott\")\\ncolor_dict[\"red\"].append(\"rouge\")\\ncolor_dict[\"red\"].append(\"\")\\nprint(color_dict)',\n",
       "  'color_dict = {}\\ncolor_dict[\"red\"] = []\\ncolor_dict[\"red\"].append(\"rott\")\\ncolor_dict[\"red\"].append(\"rouge\")\\ncolor_dict[\"red\"].append(\"rojo\")\\nprint(color_dict)',\n",
       "  'color_dict = {}\\ncolor_dict[\"red\"] = []\\ncolor_dict[\"red\"].append(\"rott\")\\ncolor_dict[\"red\"].append(\"rouge\")\\ncolor_dict[\"red\"].append(\"rojo\")\\nprint(color_dict)\\ncolor_dict[\"red\"][1]',\n",
       "  \"for size, ounces in cups.items():\\n    print(size, '->', ounces)\\n    \\nprint(cups.items())\",\n",
       "  'def yes():\\n    return \"Absolutely!\"\\n\\ndef no():\\n    return \"No way.\"\\n\\ndef maybe():\\n    return \"Could be\"\\n\\nanswers = {\\n    \"yes\": yes,\\n    \"no\": no,\\n    \"maybe\": maybe,\\n}\\n\\nfunc = answers[\"yes\"]\\nprint(func())',\n",
       "  'def yes():\\n    return \"Absolutely!\"\\n\\ndef no():\\n    return \"No way.\"\\n\\ndef maybe():\\n    return \"Could be\"\\n\\nanswers = {\\n    \"yes\": yes,\\n    \"no\": no,\\n    \"maybe\": maybe,\\n}\\n\\nfunc = answers[\"yes\"]\\nprint(func())\\nprint(id(func), id(yes))',\n",
       "  'def yes():\\n    return \"Absolutely!\"\\n\\ndef no():\\n    return \"No way.\"\\n\\ndef maybe():\\n    return \"Could be\"\\n\\nanswers = {\\n    \"yes\": yes,\\n    \"no\": no,\\n    \"maybe\": maybe,\\n}\\n\\nfunc = answers[\"yes\"]\\nprint(func())\\nprint(type(func))\\nprint(id(func), id(yes))',\n",
       "  'def yes():\\n    return \"Absolutely!\"\\n\\ndef no():\\n    return \"No way.\"\\n\\ndef maybe():\\n    return \"Could be\"\\n\\nanswers = {\\n    \"yes\": yes,\\n    \"no\": no,\\n    \"maybe\": maybe,\\n}\\n\\nfunc = answers[\"yes\"]\\nprint(func())\\nprint(type(func))\\nprint(dir(yes))\\nprint(id(func), id(yes))',\n",
       "  \"cups.pop('not there')\",\n",
       "  \"if 'grande' in cups:\\n    cups.pop('grande')\\ncups\",\n",
       "  'cups.clear()\\ncups',\n",
       "  \"# Here is a function which takes no input (parameters) and has\\n# no return value. The things that are printed by the function\\n# are not considered a return value.\\n\\ndef print_header():\\n    print('-' * 63)\\n    print('   RESTRICTED ACCESS' * 3)\\n    print('-' * 63)\\n    \\nprint_header()\\nprint('you should not be reading this')\\nprint_header()\",\n",
       "  \"# Here is a function which takes no input (parameters) and has\\n# no return value. The things that are printed by the function\\n# are not considered a return value.\\n\\ndef print_header():\\n    print('-' * 63)\\n    print('   RESTRICTED ACCESS' * 3)\\n    print('-' * 63)\\n    \\nprint_header()\\nprint('you should not be reading this')\\nprint_header()\\ntype(print_header)\",\n",
       "  \"# Here is a function which takes no input (parameters) and has\\n# no return value. The things that are printed by the function\\n# are not considered a return value.\\n\\ndef print_header():\\n    print('-' * 63)\\n    print('   RESTRICTED ACCESS' * 3)\\n    print('-' * 63)\\n    \\nprint_header()\\nprint('you should not be reading this')\\nprint_header()\\nprint(type(print_header))\",\n",
       "  \"# Here is a function which takes no input (parameters) and has\\n# no return value. The things that are printed by the function\\n# are not considered a return value.\\n\\ndef print_header():\\n    print('-' * 63)\\n    print('   RESTRICTED ACCESS' * 3)\\n    print('-' * 63)\\n    \\nprint_header()\\nprint('you should not be reading this')\\nprint_header()\\nprint_header\",\n",
       "  'print',\n",
       "  'import builtins\\nbuiltins.print',\n",
       "  'import builtins\\ndef print(*args, **kwargs):\\n    builtins.print(\"JR\\'s PRINT is BETTER\")\\n    builtins.print(*args, **kwargs)',\n",
       "  'print(\"Hello World\")',\n",
       "  'print(\"Hello World\", end=\"!\")',\n",
       "  '#import builtins\\ndef print(*args, **kwargs):\\n    print(\"Hello\")\\n    #builtins.print(\"JR\\'s PRINT is BETTER\")\\n    #builtins.print(*args, **kwargs)',\n",
       "  'print(\"Hello World\", end=\"!\")',\n",
       "  'import builtins\\ndef print(*args, **kwargs):\\n    #print(\"Hello\")\\n    builtins.print(\"JR\\'s PRINT is BETTER\")\\n    builtins.print(*args, **kwargs)',\n",
       "  'print(\"Hello World\", end=\"!\")',\n",
       "  'del print',\n",
       "  'print(\"Hello World\", end=\"!\")',\n",
       "  'del print',\n",
       "  'dir()',\n",
       "  'globals()'],\n",
       " 'Out': {2: False,\n",
       "  3: True,\n",
       "  4: (139802204625328, 139802144694992),\n",
       "  8: 'Benjamin Franklin',\n",
       "  10: 'z',\n",
       "  11: 'zyxwvutsrqponmlkjihgfedcb',\n",
       "  15: [],\n",
       "  23: ['bananas',\n",
       "   'apple',\n",
       "   'pear',\n",
       "   'mango',\n",
       "   'tomato',\n",
       "   'cherry',\n",
       "   'raspberry',\n",
       "   'lemon',\n",
       "   'lime',\n",
       "   'watermelon'],\n",
       "  31: ['one', 'two', 'three', 'four', 'five', 'six'],\n",
       "  32: ['one', 'two', 'three', 'four', 'five', 'six'],\n",
       "  33: ['eggs', 'milk', 'butter', 'cheese'],\n",
       "  34: ['eggs', 'milk', 'butter', '', 'cheese'],\n",
       "  35: ['eggs', 'milk', 'butter', 'cheese'],\n",
       "  36: 'eggs, milk, butter, cheese',\n",
       "  38: 'h+e+l+l+o',\n",
       "  39: ['H', 'a', 'p', 'p', 'y'],\n",
       "  46: [],\n",
       "  49: False,\n",
       "  50: False,\n",
       "  51: True,\n",
       "  55: (dict, {}),\n",
       "  66: 'rouge',\n",
       "  73: {},\n",
       "  74: {},\n",
       "  76: function,\n",
       "  78: <function __main__.print_header()>,\n",
       "  79: <function print>,\n",
       "  80: <function print>,\n",
       "  91: ['In',\n",
       "   'Out',\n",
       "   '_',\n",
       "   '_10',\n",
       "   '_11',\n",
       "   '_15',\n",
       "   '_2',\n",
       "   '_23',\n",
       "   '_3',\n",
       "   '_31',\n",
       "   '_32',\n",
       "   '_33',\n",
       "   '_34',\n",
       "   '_35',\n",
       "   '_36',\n",
       "   '_38',\n",
       "   '_39',\n",
       "   '_4',\n",
       "   '_46',\n",
       "   '_49',\n",
       "   '_50',\n",
       "   '_51',\n",
       "   '_55',\n",
       "   '_66',\n",
       "   '_73',\n",
       "   '_74',\n",
       "   '_76',\n",
       "   '_78',\n",
       "   '_79',\n",
       "   '_8',\n",
       "   '_80',\n",
       "   '__',\n",
       "   '___',\n",
       "   '__builtin__',\n",
       "   '__builtins__',\n",
       "   '__doc__',\n",
       "   '__loader__',\n",
       "   '__name__',\n",
       "   '__package__',\n",
       "   '__spec__',\n",
       "   '_dh',\n",
       "   '_exit_code',\n",
       "   '_i',\n",
       "   '_i1',\n",
       "   '_i10',\n",
       "   '_i11',\n",
       "   '_i12',\n",
       "   '_i13',\n",
       "   '_i14',\n",
       "   '_i15',\n",
       "   '_i16',\n",
       "   '_i17',\n",
       "   '_i18',\n",
       "   '_i19',\n",
       "   '_i2',\n",
       "   '_i20',\n",
       "   '_i21',\n",
       "   '_i22',\n",
       "   '_i23',\n",
       "   '_i24',\n",
       "   '_i25',\n",
       "   '_i26',\n",
       "   '_i27',\n",
       "   '_i28',\n",
       "   '_i29',\n",
       "   '_i3',\n",
       "   '_i30',\n",
       "   '_i31',\n",
       "   '_i32',\n",
       "   '_i33',\n",
       "   '_i34',\n",
       "   '_i35',\n",
       "   '_i36',\n",
       "   '_i37',\n",
       "   '_i38',\n",
       "   '_i39',\n",
       "   '_i4',\n",
       "   '_i40',\n",
       "   '_i41',\n",
       "   '_i42',\n",
       "   '_i43',\n",
       "   '_i44',\n",
       "   '_i45',\n",
       "   '_i46',\n",
       "   '_i47',\n",
       "   '_i48',\n",
       "   '_i49',\n",
       "   '_i5',\n",
       "   '_i50',\n",
       "   '_i51',\n",
       "   '_i52',\n",
       "   '_i53',\n",
       "   '_i54',\n",
       "   '_i55',\n",
       "   '_i56',\n",
       "   '_i57',\n",
       "   '_i58',\n",
       "   '_i59',\n",
       "   '_i6',\n",
       "   '_i60',\n",
       "   '_i61',\n",
       "   '_i62',\n",
       "   '_i63',\n",
       "   '_i64',\n",
       "   '_i65',\n",
       "   '_i66',\n",
       "   '_i67',\n",
       "   '_i68',\n",
       "   '_i69',\n",
       "   '_i7',\n",
       "   '_i70',\n",
       "   '_i71',\n",
       "   '_i72',\n",
       "   '_i73',\n",
       "   '_i74',\n",
       "   '_i75',\n",
       "   '_i76',\n",
       "   '_i77',\n",
       "   '_i78',\n",
       "   '_i79',\n",
       "   '_i8',\n",
       "   '_i80',\n",
       "   '_i81',\n",
       "   '_i82',\n",
       "   '_i83',\n",
       "   '_i84',\n",
       "   '_i85',\n",
       "   '_i86',\n",
       "   '_i87',\n",
       "   '_i88',\n",
       "   '_i89',\n",
       "   '_i9',\n",
       "   '_i90',\n",
       "   '_i91',\n",
       "   '_ih',\n",
       "   '_ii',\n",
       "   '_iii',\n",
       "   '_oh',\n",
       "   'alphabet',\n",
       "   'answers',\n",
       "   'builtins',\n",
       "   'character',\n",
       "   'color_dict',\n",
       "   'comma_separated',\n",
       "   'cups',\n",
       "   'current',\n",
       "   'empty_list',\n",
       "   'english_to_spanish',\n",
       "   'exit',\n",
       "   'factor',\n",
       "   'file',\n",
       "   'first_part',\n",
       "   'fruit',\n",
       "   'fruits',\n",
       "   'func',\n",
       "   'funnylist',\n",
       "   'get_ipython',\n",
       "   'key',\n",
       "   'list_names',\n",
       "   'list_of_fruits',\n",
       "   'list_of_letters',\n",
       "   'maybe',\n",
       "   'more_fruits',\n",
       "   'mylist',\n",
       "   'no',\n",
       "   'num',\n",
       "   'other_instructors',\n",
       "   'ounces',\n",
       "   'page',\n",
       "   'page_size',\n",
       "   'print_header',\n",
       "   'quit',\n",
       "   'sandwich_toppings',\n",
       "   'shopping_list',\n",
       "   'size',\n",
       "   'sorted_list',\n",
       "   'start',\n",
       "   'stop',\n",
       "   'string',\n",
       "   'thing',\n",
       "   'user_string',\n",
       "   'v',\n",
       "   'value',\n",
       "   'veggies',\n",
       "   'word',\n",
       "   'word_list',\n",
       "   'words',\n",
       "   'yes']},\n",
       " 'get_ipython': <bound method InteractiveShell.get_ipython of <ipykernel.zmqshell.ZMQInteractiveShell object at 0x7f263cbe2610>>,\n",
       " 'exit': <IPython.core.autocall.ZMQExitAutocall at 0x7f263cc1a950>,\n",
       " 'quit': <IPython.core.autocall.ZMQExitAutocall at 0x7f263cc1a950>,\n",
       " '_': ['In',\n",
       "  'Out',\n",
       "  '_',\n",
       "  '_10',\n",
       "  '_11',\n",
       "  '_15',\n",
       "  '_2',\n",
       "  '_23',\n",
       "  '_3',\n",
       "  '_31',\n",
       "  '_32',\n",
       "  '_33',\n",
       "  '_34',\n",
       "  '_35',\n",
       "  '_36',\n",
       "  '_38',\n",
       "  '_39',\n",
       "  '_4',\n",
       "  '_46',\n",
       "  '_49',\n",
       "  '_50',\n",
       "  '_51',\n",
       "  '_55',\n",
       "  '_66',\n",
       "  '_73',\n",
       "  '_74',\n",
       "  '_76',\n",
       "  '_78',\n",
       "  '_79',\n",
       "  '_8',\n",
       "  '_80',\n",
       "  '__',\n",
       "  '___',\n",
       "  '__builtin__',\n",
       "  '__builtins__',\n",
       "  '__doc__',\n",
       "  '__loader__',\n",
       "  '__name__',\n",
       "  '__package__',\n",
       "  '__spec__',\n",
       "  '_dh',\n",
       "  '_exit_code',\n",
       "  '_i',\n",
       "  '_i1',\n",
       "  '_i10',\n",
       "  '_i11',\n",
       "  '_i12',\n",
       "  '_i13',\n",
       "  '_i14',\n",
       "  '_i15',\n",
       "  '_i16',\n",
       "  '_i17',\n",
       "  '_i18',\n",
       "  '_i19',\n",
       "  '_i2',\n",
       "  '_i20',\n",
       "  '_i21',\n",
       "  '_i22',\n",
       "  '_i23',\n",
       "  '_i24',\n",
       "  '_i25',\n",
       "  '_i26',\n",
       "  '_i27',\n",
       "  '_i28',\n",
       "  '_i29',\n",
       "  '_i3',\n",
       "  '_i30',\n",
       "  '_i31',\n",
       "  '_i32',\n",
       "  '_i33',\n",
       "  '_i34',\n",
       "  '_i35',\n",
       "  '_i36',\n",
       "  '_i37',\n",
       "  '_i38',\n",
       "  '_i39',\n",
       "  '_i4',\n",
       "  '_i40',\n",
       "  '_i41',\n",
       "  '_i42',\n",
       "  '_i43',\n",
       "  '_i44',\n",
       "  '_i45',\n",
       "  '_i46',\n",
       "  '_i47',\n",
       "  '_i48',\n",
       "  '_i49',\n",
       "  '_i5',\n",
       "  '_i50',\n",
       "  '_i51',\n",
       "  '_i52',\n",
       "  '_i53',\n",
       "  '_i54',\n",
       "  '_i55',\n",
       "  '_i56',\n",
       "  '_i57',\n",
       "  '_i58',\n",
       "  '_i59',\n",
       "  '_i6',\n",
       "  '_i60',\n",
       "  '_i61',\n",
       "  '_i62',\n",
       "  '_i63',\n",
       "  '_i64',\n",
       "  '_i65',\n",
       "  '_i66',\n",
       "  '_i67',\n",
       "  '_i68',\n",
       "  '_i69',\n",
       "  '_i7',\n",
       "  '_i70',\n",
       "  '_i71',\n",
       "  '_i72',\n",
       "  '_i73',\n",
       "  '_i74',\n",
       "  '_i75',\n",
       "  '_i76',\n",
       "  '_i77',\n",
       "  '_i78',\n",
       "  '_i79',\n",
       "  '_i8',\n",
       "  '_i80',\n",
       "  '_i81',\n",
       "  '_i82',\n",
       "  '_i83',\n",
       "  '_i84',\n",
       "  '_i85',\n",
       "  '_i86',\n",
       "  '_i87',\n",
       "  '_i88',\n",
       "  '_i89',\n",
       "  '_i9',\n",
       "  '_i90',\n",
       "  '_i91',\n",
       "  '_ih',\n",
       "  '_ii',\n",
       "  '_iii',\n",
       "  '_oh',\n",
       "  'alphabet',\n",
       "  'answers',\n",
       "  'builtins',\n",
       "  'character',\n",
       "  'color_dict',\n",
       "  'comma_separated',\n",
       "  'cups',\n",
       "  'current',\n",
       "  'empty_list',\n",
       "  'english_to_spanish',\n",
       "  'exit',\n",
       "  'factor',\n",
       "  'file',\n",
       "  'first_part',\n",
       "  'fruit',\n",
       "  'fruits',\n",
       "  'func',\n",
       "  'funnylist',\n",
       "  'get_ipython',\n",
       "  'key',\n",
       "  'list_names',\n",
       "  'list_of_fruits',\n",
       "  'list_of_letters',\n",
       "  'maybe',\n",
       "  'more_fruits',\n",
       "  'mylist',\n",
       "  'no',\n",
       "  'num',\n",
       "  'other_instructors',\n",
       "  'ounces',\n",
       "  'page',\n",
       "  'page_size',\n",
       "  'print_header',\n",
       "  'quit',\n",
       "  'sandwich_toppings',\n",
       "  'shopping_list',\n",
       "  'size',\n",
       "  'sorted_list',\n",
       "  'start',\n",
       "  'stop',\n",
       "  'string',\n",
       "  'thing',\n",
       "  'user_string',\n",
       "  'v',\n",
       "  'value',\n",
       "  'veggies',\n",
       "  'word',\n",
       "  'word_list',\n",
       "  'words',\n",
       "  'yes'],\n",
       " '__': <function print>,\n",
       " '___': <function print>,\n",
       " '_i': 'dir()',\n",
       " '_ii': 'del print',\n",
       " '_iii': 'print(\"Hello World\", end=\"!\")',\n",
       " '_i1': \"list_of_fruits = ['banana', 'apple', 'pear', 'mango',\\n                  'cherry', 'blueberry']\\nfunnylist = ['Dave', 19, 34.5]\\nempty_list = []\\n# sep is an optional argument or parameter to the print() function which dictates\\n# the separator character that should be printed between items\\nprint(list_of_fruits, funnylist, empty_list, sep='\\\\n')\",\n",
       " 'list_of_fruits': ['fig',\n",
       "  'pear',\n",
       "  'mango',\n",
       "  'lemon',\n",
       "  'lemon',\n",
       "  'apple',\n",
       "  'banana'],\n",
       " 'funnylist': ['Dave', 'not Dave', 34.5],\n",
       " 'empty_list': [],\n",
       " '_i2': \"fruits = ['banana', 'apple', 'pear', 'mango',\\n          'cherry', 'blueberry']\\nveggies =['lettuce', 'cucumbers', 'avacado']\\n\\nfruits == veggies\",\n",
       " 'fruits': ['banana', 'apple', 'pear', 'mango', 'cherry', 'blueberry'],\n",
       " 'veggies': ['lettuce', 'cucumbers', 'avacado'],\n",
       " '_2': False,\n",
       " '_i3': \"sandwich_toppings = ['lettuce', 'cucumbers', 'avacado']\\n\\nveggies == sandwich_toppings\",\n",
       " 'sandwich_toppings': ['lettuce', 'cucumbers', 'avacado'],\n",
       " '_3': True,\n",
       " '_i4': 'id(veggies), id(sandwich_toppings)',\n",
       " '_4': (139802204625328, 139802144694992),\n",
       " '_i5': \"print(list_of_fruits[0])\\nfunnylist[1] = 'not Dave'\\nprint(funnylist)\\nlist_of_fruits[-1] = 'raspberry'\\nprint(list_of_fruits)\",\n",
       " '_i6': \"print(list_of_fruits[0])\\nlist_of_fruits[0] = list_of_fruits[0] + 's'\\nprint(list_of_fruits)\",\n",
       " '_i7': 'for fruit in list_of_fruits:\\n    print(fruit)',\n",
       " 'fruit': 'raspberry',\n",
       " '_i8': \"string = 'Frank Benedict eats jam in the morning'\\nstring[6:9] + string[20:23] + string[24:27] + string[:5] + 'lin'\",\n",
       " 'string': 'one two       three four five     six',\n",
       " '_8': 'Benjamin Franklin',\n",
       " '_i9': \"alphabet = 'abcdefghijklmnopqrstuvwxyz'\\nprint('13th letter of the alphabet is', alphabet[12])\\nprint('Every other letter in the 1st half of the alphabet:',\\n      alphabet[:13:2])\\nprint('Every other letter in the 2nd half of the alphabet:',\\n      alphabet[13::2])\\nprint('The alphabet backwards is', alphabet[::-1])\",\n",
       " 'alphabet': 'abcdefghijklmnopqrstuvwxyz',\n",
       " '_i10': 'alphabet[-1]',\n",
       " '_10': 'z',\n",
       " '_i11': 'alphabet[-1:0:-1]',\n",
       " '_11': 'zyxwvutsrqponmlkjihgfedcb',\n",
       " '_i12': \"string = input('Enter a string: ')\\nprint('The last 3 characters of the string are:',\\n      string[-3:])\",\n",
       " '_i13': \"string = input('Enter a string: ')\\nprint('The last 3 characters of the string are:',\\n      string[-3:])\",\n",
       " '_i14': \"# Works the same with lists...\\nprint(list_of_fruits)\\nprint(list_of_fruits[::-1])\\nprint(list_of_fruits[3:])\\nprint(list_of_fruits[:3])\\nprint('The middle 3 fruits:', \\n      list_of_fruits[2:5])\\nprint('Every other fruit:', list_of_fruits[::2])\",\n",
       " '_i15': 'list_of_fruits[478:999]',\n",
       " '_15': [],\n",
       " '_i16': 'page_size = 3\\ncurrent = 0\\npage = list_of_fruits[current:current+page_size]\\nwhile page:\\n    print(\"This page:\", page)\\n    current += page_size\\n    page = list_of_fruits[current:current+page_size]',\n",
       " 'page_size': 3,\n",
       " 'current': 6,\n",
       " 'page': [],\n",
       " '_i17': 'user_string = input(\"Please enter a string: \")\\nfirst_part = user_string[:-1]\\nprint(first_part)',\n",
       " 'user_string': 'Rickerson',\n",
       " 'first_part': 'Hell',\n",
       " '_i18': 'user_string = input(\"Please enter a string: \")\\nfor character in user_string[:-1]:\\n    print(character, \\'+\\', sep=\\'\\', end=\\'\\')',\n",
       " 'character': 'o',\n",
       " '_i19': 'user_string = input(\"Please enter a string: \")\\nfor character in user_string[:-1]:\\n    print(character, \\'+\\', sep=\\'\\', end=\\'\\')\\nprint(user_string[-1])',\n",
       " '_i20': 'user_string = input(\"Please enter a string: \")\\nfor character in user_string[:-1]:\\n    print(character, \\'+\\', sep=\\'\\', end=\\'\\')\\nprint(user_string[-1])',\n",
       " '_i21': 'user_string = input(\"Please enter a string: \")\\nfor character in user_string[:-1]:\\n    print(character, end=\"+\")\\nprint(user_string[-1])',\n",
       " '_i22': 'user_string = input(\"Please enter a string: \")\\nfor character in user_string[:-1]:\\n    print(character, end=\"+\")\\nprint(user_string[-1])',\n",
       " '_i23': \"print(list_of_fruits)\\nlist_of_fruits.append('lemon') # NOT append(list_of_fruits, 'lemon')\\nlist_of_fruits\",\n",
       " '_23': ['bananas',\n",
       "  'apple',\n",
       "  'pear',\n",
       "  'mango',\n",
       "  'tomato',\n",
       "  'cherry',\n",
       "  'raspberry',\n",
       "  'lemon',\n",
       "  'lime',\n",
       "  'watermelon'],\n",
       " '_i24': \"list_of_fruits.insert(4, 'tomato')\\nprint(list_of_fruits)\",\n",
       " '_i25': \"more_fruits = ['lime', 'watermelon']\\nlist_of_fruits.extend(more_fruits) # list_of_fruits += more_fruits\\nprint(list_of_fruits)\",\n",
       " 'more_fruits': ['lime', 'watermelon'],\n",
       " '_i26': \"list_names = ['JR', 'Spencer', 'Alex']\\nother_instructors = ['Dave', 'Rick']\\nlist_names.append(other_instructors)\\nprint(list_names)\\n#print(list_names[3][1])\\n#list_names.extend('Kameron')\\n#print(list_names)\",\n",
       " 'list_names': ['JR',\n",
       "  'Spencer',\n",
       "  'Alex',\n",
       "  ['Dave', 'Rick'],\n",
       "  'K',\n",
       "  'a',\n",
       "  'm',\n",
       "  'e',\n",
       "  'r',\n",
       "  'o',\n",
       "  'n'],\n",
       " 'other_instructors': ['Dave', 'Rick'],\n",
       " '_i27': \"list_names = ['JR', 'Spencer', 'Alex']\\nother_instructors = ['Dave', 'Rick']\\nlist_names.append(other_instructors)\\nprint(list_names)\\nprint(list_names[3][1])\\n#list_names.extend('Kameron')\\n#print(list_names)\",\n",
       " '_i28': \"list_names = ['JR', 'Spencer', 'Alex']\\nother_instructors = ['Dave', 'Rick']\\nlist_names.append(other_instructors)\\nprint(list_names)\\nprint(list_names[3][1])\\nlist_names.extend('Kameron')\\nprint(list_names)\",\n",
       " '_i29': 'user_string = input(\"Please enter a string: \")\\nfor character in user_string[:-1]:\\n    #print(character, end=\"+\")\\n    print(character, \"+\", sep=\"\", end=\"\")\\nprint(user_string[-1])',\n",
       " '_i30': 'word_list = []\\n\\nwhile True:\\n    word = input(\"Please enter a word (type quit to stop):\")\\n    if word == \"quit\":\\n        break\\n    # list processing here\\n    word_list.append(word)\\nprint(word_list[::2])\\nprint(word_list[1::2])',\n",
       " 'word_list': ['one',\n",
       "  'two',\n",
       "  'three',\n",
       "  'four',\n",
       "  'five',\n",
       "  'size',\n",
       "  'seven',\n",
       "  'eight',\n",
       "  'nine',\n",
       "  'ten'],\n",
       " 'word': 'please',\n",
       " '_i31': \"string = input('Enter a string and I will make a list out of it: ')\\nmylist = string.split()\\nmylist\",\n",
       " 'mylist': ['one', 'two', 'three', 'four', 'five', 'six'],\n",
       " '_31': ['one', 'two', 'three', 'four', 'five', 'six'],\n",
       " '_i32': \"string = input('Enter a string and I will make a list out of it: ')\\nmylist = string.split()\\nmylist\",\n",
       " '_32': ['one', 'two', 'three', 'four', 'five', 'six'],\n",
       " '_i33': \"comma_separated = 'eggs, milk, butter, cheese'\\nshopping_list = comma_separated.split(', ')\\nshopping_list\",\n",
       " 'comma_separated': 'eggs, milk, butter, cheese',\n",
       " 'shopping_list': ['eggs', 'milk', 'butter', 'cheese'],\n",
       " '_33': ['eggs', 'milk', 'butter', 'cheese'],\n",
       " '_i34': \"comma_separated = 'eggs, milk, butter, , cheese'\\nshopping_list = comma_separated.split(', ')\\nshopping_list\",\n",
       " '_34': ['eggs', 'milk', 'butter', '', 'cheese'],\n",
       " '_i35': \"comma_separated = 'eggs, milk, butter, cheese'\\nshopping_list = comma_separated.split(', ')\\nshopping_list\",\n",
       " '_35': ['eggs', 'milk', 'butter', 'cheese'],\n",
       " '_i36': \"', '.join(shopping_list)\\n# want to write shopping_list.join(', ')\",\n",
       " '_36': 'eggs, milk, butter, cheese',\n",
       " '_i37': \"list_of_letters = list('salesforce')\\nprint(list_of_letters)\\nprint(''.join(list_of_letters))\",\n",
       " 'list_of_letters': ['s', 'a', 'l', 'e', 's', 'f', 'o', 'r', 'c', 'e'],\n",
       " '_i38': \"'+'.join(list('hello'))\",\n",
       " '_38': 'h+e+l+l+o',\n",
       " '_i39': \"import builtins\\nbuiltins.list('Happy')\",\n",
       " 'builtins': <module 'builtins' (built-in)>,\n",
       " '_39': ['H', 'a', 'p', 'p', 'y'],\n",
       " '_i40': 'start = 10\\nstop = 30\\n\\n# Loop through the number we want to check for primes\\nfor num in range(start, stop + 1):\\n    # Loop through the numbers that might divide into num\\n    for factor in range(2, num):\\n        if num % factor == 0:\\n            # Divides evenly - not prime!\\n            break\\n    else:\\n        print(num, \"is a prime number.\")',\n",
       " 'start': 11,\n",
       " 'stop': 30,\n",
       " 'num': 29,\n",
       " 'factor': 14,\n",
       " '_i41': '# Instructor solution - optimized\\nstart = 10\\nstop = 30\\n\\n# Optimize - we can skip every even number - none are prime (except 2)\\nif start % 2 == 0:\\n    start = start + 1\\n\\n# Loop through the number we want to check for primes (only odds)\\nfor num in range(start, stop + 1, 2):\\n    # Loop through the numbers that might divide into num\\n    # Optimize - we never have to check past half the number \\n    # because the highest factor of any number is half of it.\\n    for factor in range(2, num // 2 + 1):\\n        if num % factor == 0:\\n            # Divides evenly - not prime!\\n            break\\n    else:\\n        print(num, \"is a prime number.\")',\n",
       " '_i42': '!wc -l wordlist.txt',\n",
       " '_exit_code': 0,\n",
       " '_i43': \"words = []\\nfile = open('wordlist.txt')\\ntype(file)\\nwords = list(file)\\n#for line in file:\\n#    words.append(line.strip())\\nprint(words)\\nfile.close()\\n\\n#with open('wordlist.txt') as file:\\n#    words = list(file)\",\n",
       " 'words': ['abandon\\n',\n",
       "  'abundant\\n',\n",
       "  'access\\n',\n",
       "  'accommodate\\n',\n",
       "  'accumulate\\n',\n",
       "  'adapt\\n',\n",
       "  'adhere\\n',\n",
       "  'agony\\n',\n",
       "  'allegiance\\n',\n",
       "  'ambition\\n',\n",
       "  'ample\\n',\n",
       "  'anguish\\n',\n",
       "  'anticipate\\n',\n",
       "  'anxious\\n',\n",
       "  'apparel\\n',\n",
       "  'appeal\\n',\n",
       "  'apprehensive\\n',\n",
       "  'arid\\n',\n",
       "  'arrogant\\n',\n",
       "  'barren\\n',\n",
       "  'beacon\\n',\n",
       "  'beneficial\\n',\n",
       "  'blunder\\n',\n",
       "  'boisterous\\n',\n",
       "  'boycott\\n',\n",
       "  'burden\\n',\n",
       "  'campaign\\n',\n",
       "  'capacity\\n',\n",
       "  'capital\\n',\n",
       "  'chronological\\n',\n",
       "  'civic\\n',\n",
       "  'clarity\\n',\n",
       "  'collaborate\\n',\n",
       "  'collide\\n',\n",
       "  'commend\\n',\n",
       "  'commentary\\n',\n",
       "  'compact\\n',\n",
       "  'composure\\n',\n",
       "  'concise\\n',\n",
       "  'consent\\n',\n",
       "  'consequence\\n',\n",
       "  'conserve\\n',\n",
       "  'conspicuous\\n',\n",
       "  'constant\\n',\n",
       "  'contaminate\\n',\n",
       "  'context\\n',\n",
       "  'continuous\\n',\n",
       "  'controversy\\n',\n",
       "  'convenient\\n',\n",
       "  'cope\\n',\n",
       "  'cordial\\n',\n",
       "  'cultivate\\n',\n",
       "  'cumulative\\n',\n",
       "  'declare\\n',\n",
       "  'deluge\\n',\n",
       "  'dense\\n',\n",
       "  'deplete\\n',\n",
       "  'deposit\\n',\n",
       "  'designate\\n',\n",
       "  'desperate\\n',\n",
       "  'deteriorate\\n',\n",
       "  'dialogue\\n',\n",
       "  'diligent\\n',\n",
       "  'diminish\\n',\n",
       "  'discretion\\n',\n",
       "  'dissent\\n',\n",
       "  'dissolve\\n',\n",
       "  'distinct\\n',\n",
       "  'diversity\\n',\n",
       "  'domestic\\n',\n",
       "  'dominate\\n',\n",
       "  'drastic\\n',\n",
       "  'duration\\n',\n",
       "  'dwell\\n',\n",
       "  'eclipse\\n',\n",
       "  'economy\\n',\n",
       "  'eerie\\n',\n",
       "  'effect\\n',\n",
       "  'efficient\\n',\n",
       "  'elaborate\\n',\n",
       "  'eligible\\n',\n",
       "  'elude\\n',\n",
       "  'encounter\\n',\n",
       "  'equivalent\\n',\n",
       "  'erupt\\n',\n",
       "  'esteem\\n',\n",
       "  'evolve\\n',\n",
       "  'exaggerate\\n',\n",
       "  'excel\\n',\n",
       "  'exclude\\n',\n",
       "  'expanse\\n',\n",
       "  'exploit\\n',\n",
       "  'extinct\\n',\n",
       "  'extract\\n',\n",
       "  'factor\\n',\n",
       "  'former\\n',\n",
       "  'formulates\\n',\n",
       "  'fuse\\n',\n",
       "  'futile\\n',\n",
       "  'generate\\n',\n",
       "  'genre\\n',\n",
       "  'habitat\\n',\n",
       "  'hazardous\\n',\n",
       "  'hoax\\n',\n",
       "  'hostile\\n',\n",
       "  'idiom\\n',\n",
       "  'ignite\\n',\n",
       "  'immense\\n',\n",
       "  'improvises\\n',\n",
       "  'inept\\n',\n",
       "  'inevitable\\n',\n",
       "  'influence\\n',\n",
       "  'ingenious\\n',\n",
       "  'innovation\\n',\n",
       "  'intimidate\\n',\n",
       "  'jovial\\n',\n",
       "  'knack\\n',\n",
       "  'leeway\\n',\n",
       "  'legislation\\n',\n",
       "  'leisure\\n',\n",
       "  'liberate\\n',\n",
       "  'likeness\\n',\n",
       "  'linger\\n',\n",
       "  'literal\\n',\n",
       "  'loathe\\n',\n",
       "  'lure\\n',\n",
       "  'majority\\n',\n",
       "  'makeshift\\n',\n",
       "  'manipulate\\n',\n",
       "  'marvel\\n',\n",
       "  'massive\\n',\n",
       "  'maximum\\n',\n",
       "  'meager\\n',\n",
       "  'mere\\n',\n",
       "  'migration\\n',\n",
       "  'mimic\\n',\n",
       "  'minute\\n',\n",
       "  'monotonous\\n',\n",
       "  'negotiate\\n',\n",
       "  'objective\\n',\n",
       "  'obstacle\\n',\n",
       "  'omniscient\\n',\n",
       "  'onset\\n',\n",
       "  'optimist\\n',\n",
       "  'originate\\n',\n",
       "  'painstaking\\n',\n",
       "  'paraphrase\\n',\n",
       "  'parody\\n',\n",
       "  'persecute\\n',\n",
       "  'plummet\\n',\n",
       "  'possess\\n',\n",
       "  'poverty\\n',\n",
       "  'precise\\n',\n",
       "  'predicament\\n',\n",
       "  'predict\\n',\n",
       "  'prejudice\\n',\n",
       "  'preliminary\\n',\n",
       "  'primitive\\n',\n",
       "  'priority\\n',\n",
       "  'prominent\\n',\n",
       "  'propel\\n',\n",
       "  'prosecute\\n',\n",
       "  'prosper\\n',\n",
       "  'provoke\\n',\n",
       "  'pursue\\n',\n",
       "  'quest\\n',\n",
       "  'recount\\n',\n",
       "  'refuge\\n',\n",
       "  'reinforce\\n',\n",
       "  'reluctant\\n',\n",
       "  'remorse\\n',\n",
       "  'remote\\n',\n",
       "  'resolute\\n',\n",
       "  'restrain\\n',\n",
       "  'retaliate\\n',\n",
       "  'retrieve\\n',\n",
       "  'rigorous\\n',\n",
       "  'rural\\n',\n",
       "  'salvage\\n',\n",
       "  'sanctuary\\n',\n",
       "  'siege\\n',\n",
       "  'significant\\n',\n",
       "  'solar\\n',\n",
       "  'soothe\\n',\n",
       "  'stationary\\n',\n",
       "  'stifle\\n',\n",
       "  'strive\\n',\n",
       "  'subordinate\\n',\n",
       "  'subsequent\\n',\n",
       "  'superior\\n',\n",
       "  'supplement\\n',\n",
       "  'swarm\\n',\n",
       "  'tangible\\n',\n",
       "  'terminate\\n',\n",
       "  'terrain\\n',\n",
       "  'trait\\n',\n",
       "  'transform\\n',\n",
       "  'transport\\n',\n",
       "  'treacherous\\n',\n",
       "  'unanimous\\n',\n",
       "  'unique\\n',\n",
       "  'unruly\\n',\n",
       "  'urban\\n',\n",
       "  'vacate\\n',\n",
       "  'verdict\\n',\n",
       "  'verge\\n',\n",
       "  'vibrant\\n',\n",
       "  'vital\\n'],\n",
       " 'file': <_io.TextIOWrapper name='wordlist.txt' mode='r' encoding='UTF-8'>,\n",
       " '_i44': 'words = []\\nfile = open(\\'wordlist.txt\\')\\ntype(file)\\nwords = list(file)\\n#for line in file:\\n#    words.append(line.strip())\\nprint(words)\\nfile.close()\\n\\nwith open(\\'wordlist.txt\\') as file:\\n    words = list(file)\\nprint(\"file is closed!\")',\n",
       " '_i45': 'words = []\\nfile = open(\\'wordlist.txt\\')\\nprint(type(file))\\nwords = list(file)\\n#for line in file:\\n#    words.append(line.strip())\\nprint(words)\\nfile.close()\\n\\nwith open(\\'wordlist.txt\\') as file:\\n    words = list(file)\\nprint(\"file is closed!\")',\n",
       " '_i46': \"list_of_fruits = ['banana', 'apple', 'lemon', 'pear', 'fig',\\n                  'mango','raspberry', 'lemon']\\nprint(list_of_fruits.pop(-3))\\nlist_of_fruits\",\n",
       " '_46': [],\n",
       " '_i47': \"# Given what we know so far, remove ALL lemons from the list\\nprint(list_of_fruits.count('lemon'))\\n\\nwhile 'lemon' in list_of_fruits:\\n    list_of_fruits.remove('lemon')\\nprint(list_of_fruits)\\nlist_of_fruits.remove('lemon')\",\n",
       " '_i48': \"# Take the remaining items and pop each item off until empty\\nwhile len(list_of_fruits) > 0:\\n    print('popping', list_of_fruits.pop(0))\\n    print(list_of_fruits)\",\n",
       " '_i49': \"'banana' < 'apple'\",\n",
       " '_49': False,\n",
       " '_i50': \"'banana' < 'Apple'\",\n",
       " '_50': False,\n",
       " '_i51': \"'Banana' < 'apple'\",\n",
       " '_51': True,\n",
       " '_i52': \"list_of_fruits = ['banana', 'apple', 'lemon', 'pear', 'fig', \\n                  'mango', 'lemon']\\nprint(list_of_fruits)\\nlist_of_fruits.sort()\\nprint(list_of_fruits)\\nlist_of_fruits.sort(reverse=True)\\nprint(list_of_fruits)\",\n",
       " '_i53': 'sorted_list = sorted(list_of_fruits)\\nprint(sorted_list)\\nprint(list_of_fruits)',\n",
       " 'sorted_list': ['apple', 'banana', 'fig', 'lemon', 'lemon', 'mango', 'pear'],\n",
       " '_i54': 'list_of_fruits.sort(key=len)\\nprint(list_of_fruits)',\n",
       " '_i55': \"# creating a dictionary and initializing it\\ncups = { \\n    'tall': 12, \\n    'grande': 16 \\n}\\ntype(cups), cups\",\n",
       " 'cups': {},\n",
       " '_55': (dict, {}),\n",
       " '_i56': \"print('A tall cup contains', cups['tall'], 'ounces')\",\n",
       " '_i57': 'cups[0]',\n",
       " '_i58': \"if 'grande' in cups: # only looks at keys\\n    print(cups['grande'])\",\n",
       " '_i59': 'for thing in cups:\\n    print(thing, cups[thing])',\n",
       " 'thing': 'grande',\n",
       " '_i60': 'for v in cups.values():\\n    print(v)',\n",
       " 'v': 16,\n",
       " '_i61': \"for key, value in cups.items():\\n    print(key, '->', value)\\n    \\nprint(cups.items())\",\n",
       " 'key': 'grande',\n",
       " 'value': 16,\n",
       " '_i62': '# How about a dictionary to translate English into Spanish\\nenglish_to_spanish = { \\n    \\'hello\\': \\'hola\\', \\n    \\'one\\': \\'uno\\', \\n    \\'please\\': \\'por favor\\', \\n    \\'coffee\\': \\'café\\' \\n}\\nfor word in \"hello one coffee please\".split():\\n    print(english_to_spanish[word], end=\\' \\')\\nprint()',\n",
       " 'english_to_spanish': {'hello': 'hola',\n",
       "  'one': 'uno',\n",
       "  'please': 'por favor',\n",
       "  'coffee': 'café',\n",
       "  'corn': 'maize',\n",
       "  'table': 'mesa',\n",
       "  'flour': 'arina'},\n",
       " '_i63': \"english_to_spanish['corn'] = 'maize'\\nprint(english_to_spanish)\\nenglish_to_spanish['table'] = 'mesa'\\nprint(english_to_spanish)\\nenglish_to_spanish['flour'] = 'arina'\\nprint(english_to_spanish)\",\n",
       " '_i64': 'color_dict = {}\\ncolor_dict[\"red\"] = []\\ncolor_dict[\"red\"].append(\"rott\")\\ncolor_dict[\"red\"].append(\"rouge\")\\ncolor_dict[\"red\"].append(\"\")\\nprint(color_dict)',\n",
       " 'color_dict': {'red': ['rott', 'rouge', 'rojo']},\n",
       " '_i65': 'color_dict = {}\\ncolor_dict[\"red\"] = []\\ncolor_dict[\"red\"].append(\"rott\")\\ncolor_dict[\"red\"].append(\"rouge\")\\ncolor_dict[\"red\"].append(\"rojo\")\\nprint(color_dict)',\n",
       " '_i66': 'color_dict = {}\\ncolor_dict[\"red\"] = []\\ncolor_dict[\"red\"].append(\"rott\")\\ncolor_dict[\"red\"].append(\"rouge\")\\ncolor_dict[\"red\"].append(\"rojo\")\\nprint(color_dict)\\ncolor_dict[\"red\"][1]',\n",
       " '_66': 'rouge',\n",
       " '_i67': \"for size, ounces in cups.items():\\n    print(size, '->', ounces)\\n    \\nprint(cups.items())\",\n",
       " 'size': 'grande',\n",
       " 'ounces': 16,\n",
       " '_i68': 'def yes():\\n    return \"Absolutely!\"\\n\\ndef no():\\n    return \"No way.\"\\n\\ndef maybe():\\n    return \"Could be\"\\n\\nanswers = {\\n    \"yes\": yes,\\n    \"no\": no,\\n    \"maybe\": maybe,\\n}\\n\\nfunc = answers[\"yes\"]\\nprint(func())',\n",
       " 'yes': <function __main__.yes()>,\n",
       " 'no': <function __main__.no()>,\n",
       " 'maybe': <function __main__.maybe()>,\n",
       " 'answers': {'yes': <function __main__.yes()>,\n",
       "  'no': <function __main__.no()>,\n",
       "  'maybe': <function __main__.maybe()>},\n",
       " 'func': <function __main__.yes()>,\n",
       " '_i69': 'def yes():\\n    return \"Absolutely!\"\\n\\ndef no():\\n    return \"No way.\"\\n\\ndef maybe():\\n    return \"Could be\"\\n\\nanswers = {\\n    \"yes\": yes,\\n    \"no\": no,\\n    \"maybe\": maybe,\\n}\\n\\nfunc = answers[\"yes\"]\\nprint(func())\\nprint(id(func), id(yes))',\n",
       " '_i70': 'def yes():\\n    return \"Absolutely!\"\\n\\ndef no():\\n    return \"No way.\"\\n\\ndef maybe():\\n    return \"Could be\"\\n\\nanswers = {\\n    \"yes\": yes,\\n    \"no\": no,\\n    \"maybe\": maybe,\\n}\\n\\nfunc = answers[\"yes\"]\\nprint(func())\\nprint(type(func))\\nprint(id(func), id(yes))',\n",
       " '_i71': 'def yes():\\n    return \"Absolutely!\"\\n\\ndef no():\\n    return \"No way.\"\\n\\ndef maybe():\\n    return \"Could be\"\\n\\nanswers = {\\n    \"yes\": yes,\\n    \"no\": no,\\n    \"maybe\": maybe,\\n}\\n\\nfunc = answers[\"yes\"]\\nprint(func())\\nprint(type(func))\\nprint(dir(yes))\\nprint(id(func), id(yes))',\n",
       " '_i72': \"cups.pop('not there')\",\n",
       " '_i73': \"if 'grande' in cups:\\n    cups.pop('grande')\\ncups\",\n",
       " '_73': {},\n",
       " '_i74': 'cups.clear()\\ncups',\n",
       " '_74': {},\n",
       " '_i75': \"# Here is a function which takes no input (parameters) and has\\n# no return value. The things that are printed by the function\\n# are not considered a return value.\\n\\ndef print_header():\\n    print('-' * 63)\\n    print('   RESTRICTED ACCESS' * 3)\\n    print('-' * 63)\\n    \\nprint_header()\\nprint('you should not be reading this')\\nprint_header()\",\n",
       " 'print_header': <function __main__.print_header()>,\n",
       " '_i76': \"# Here is a function which takes no input (parameters) and has\\n# no return value. The things that are printed by the function\\n# are not considered a return value.\\n\\ndef print_header():\\n    print('-' * 63)\\n    print('   RESTRICTED ACCESS' * 3)\\n    print('-' * 63)\\n    \\nprint_header()\\nprint('you should not be reading this')\\nprint_header()\\ntype(print_header)\",\n",
       " '_76': function,\n",
       " '_i77': \"# Here is a function which takes no input (parameters) and has\\n# no return value. The things that are printed by the function\\n# are not considered a return value.\\n\\ndef print_header():\\n    print('-' * 63)\\n    print('   RESTRICTED ACCESS' * 3)\\n    print('-' * 63)\\n    \\nprint_header()\\nprint('you should not be reading this')\\nprint_header()\\nprint(type(print_header))\",\n",
       " '_i78': \"# Here is a function which takes no input (parameters) and has\\n# no return value. The things that are printed by the function\\n# are not considered a return value.\\n\\ndef print_header():\\n    print('-' * 63)\\n    print('   RESTRICTED ACCESS' * 3)\\n    print('-' * 63)\\n    \\nprint_header()\\nprint('you should not be reading this')\\nprint_header()\\nprint_header\",\n",
       " '_78': <function __main__.print_header()>,\n",
       " '_i79': 'print',\n",
       " '_79': <function print>,\n",
       " '_i80': 'import builtins\\nbuiltins.print',\n",
       " '_80': <function print>,\n",
       " '_i81': 'import builtins\\ndef print(*args, **kwargs):\\n    builtins.print(\"JR\\'s PRINT is BETTER\")\\n    builtins.print(*args, **kwargs)',\n",
       " '_i82': 'print(\"Hello World\")',\n",
       " '_i83': 'print(\"Hello World\", end=\"!\")',\n",
       " '_i84': '#import builtins\\ndef print(*args, **kwargs):\\n    print(\"Hello\")\\n    #builtins.print(\"JR\\'s PRINT is BETTER\")\\n    #builtins.print(*args, **kwargs)',\n",
       " '_i85': 'print(\"Hello World\", end=\"!\")',\n",
       " '_i86': 'import builtins\\ndef print(*args, **kwargs):\\n    #print(\"Hello\")\\n    builtins.print(\"JR\\'s PRINT is BETTER\")\\n    builtins.print(*args, **kwargs)',\n",
       " '_i87': 'print(\"Hello World\", end=\"!\")',\n",
       " '_i88': 'del print',\n",
       " '_i89': 'print(\"Hello World\", end=\"!\")',\n",
       " '_i90': 'del print',\n",
       " '_i91': 'dir()',\n",
       " '_91': ['In',\n",
       "  'Out',\n",
       "  '_',\n",
       "  '_10',\n",
       "  '_11',\n",
       "  '_15',\n",
       "  '_2',\n",
       "  '_23',\n",
       "  '_3',\n",
       "  '_31',\n",
       "  '_32',\n",
       "  '_33',\n",
       "  '_34',\n",
       "  '_35',\n",
       "  '_36',\n",
       "  '_38',\n",
       "  '_39',\n",
       "  '_4',\n",
       "  '_46',\n",
       "  '_49',\n",
       "  '_50',\n",
       "  '_51',\n",
       "  '_55',\n",
       "  '_66',\n",
       "  '_73',\n",
       "  '_74',\n",
       "  '_76',\n",
       "  '_78',\n",
       "  '_79',\n",
       "  '_8',\n",
       "  '_80',\n",
       "  '__',\n",
       "  '___',\n",
       "  '__builtin__',\n",
       "  '__builtins__',\n",
       "  '__doc__',\n",
       "  '__loader__',\n",
       "  '__name__',\n",
       "  '__package__',\n",
       "  '__spec__',\n",
       "  '_dh',\n",
       "  '_exit_code',\n",
       "  '_i',\n",
       "  '_i1',\n",
       "  '_i10',\n",
       "  '_i11',\n",
       "  '_i12',\n",
       "  '_i13',\n",
       "  '_i14',\n",
       "  '_i15',\n",
       "  '_i16',\n",
       "  '_i17',\n",
       "  '_i18',\n",
       "  '_i19',\n",
       "  '_i2',\n",
       "  '_i20',\n",
       "  '_i21',\n",
       "  '_i22',\n",
       "  '_i23',\n",
       "  '_i24',\n",
       "  '_i25',\n",
       "  '_i26',\n",
       "  '_i27',\n",
       "  '_i28',\n",
       "  '_i29',\n",
       "  '_i3',\n",
       "  '_i30',\n",
       "  '_i31',\n",
       "  '_i32',\n",
       "  '_i33',\n",
       "  '_i34',\n",
       "  '_i35',\n",
       "  '_i36',\n",
       "  '_i37',\n",
       "  '_i38',\n",
       "  '_i39',\n",
       "  '_i4',\n",
       "  '_i40',\n",
       "  '_i41',\n",
       "  '_i42',\n",
       "  '_i43',\n",
       "  '_i44',\n",
       "  '_i45',\n",
       "  '_i46',\n",
       "  '_i47',\n",
       "  '_i48',\n",
       "  '_i49',\n",
       "  '_i5',\n",
       "  '_i50',\n",
       "  '_i51',\n",
       "  '_i52',\n",
       "  '_i53',\n",
       "  '_i54',\n",
       "  '_i55',\n",
       "  '_i56',\n",
       "  '_i57',\n",
       "  '_i58',\n",
       "  '_i59',\n",
       "  '_i6',\n",
       "  '_i60',\n",
       "  '_i61',\n",
       "  '_i62',\n",
       "  '_i63',\n",
       "  '_i64',\n",
       "  '_i65',\n",
       "  '_i66',\n",
       "  '_i67',\n",
       "  '_i68',\n",
       "  '_i69',\n",
       "  '_i7',\n",
       "  '_i70',\n",
       "  '_i71',\n",
       "  '_i72',\n",
       "  '_i73',\n",
       "  '_i74',\n",
       "  '_i75',\n",
       "  '_i76',\n",
       "  '_i77',\n",
       "  '_i78',\n",
       "  '_i79',\n",
       "  '_i8',\n",
       "  '_i80',\n",
       "  '_i81',\n",
       "  '_i82',\n",
       "  '_i83',\n",
       "  '_i84',\n",
       "  '_i85',\n",
       "  '_i86',\n",
       "  '_i87',\n",
       "  '_i88',\n",
       "  '_i89',\n",
       "  '_i9',\n",
       "  '_i90',\n",
       "  '_i91',\n",
       "  '_ih',\n",
       "  '_ii',\n",
       "  '_iii',\n",
       "  '_oh',\n",
       "  'alphabet',\n",
       "  'answers',\n",
       "  'builtins',\n",
       "  'character',\n",
       "  'color_dict',\n",
       "  'comma_separated',\n",
       "  'cups',\n",
       "  'current',\n",
       "  'empty_list',\n",
       "  'english_to_spanish',\n",
       "  'exit',\n",
       "  'factor',\n",
       "  'file',\n",
       "  'first_part',\n",
       "  'fruit',\n",
       "  'fruits',\n",
       "  'func',\n",
       "  'funnylist',\n",
       "  'get_ipython',\n",
       "  'key',\n",
       "  'list_names',\n",
       "  'list_of_fruits',\n",
       "  'list_of_letters',\n",
       "  'maybe',\n",
       "  'more_fruits',\n",
       "  'mylist',\n",
       "  'no',\n",
       "  'num',\n",
       "  'other_instructors',\n",
       "  'ounces',\n",
       "  'page',\n",
       "  'page_size',\n",
       "  'print_header',\n",
       "  'quit',\n",
       "  'sandwich_toppings',\n",
       "  'shopping_list',\n",
       "  'size',\n",
       "  'sorted_list',\n",
       "  'start',\n",
       "  'stop',\n",
       "  'string',\n",
       "  'thing',\n",
       "  'user_string',\n",
       "  'v',\n",
       "  'value',\n",
       "  'veggies',\n",
       "  'word',\n",
       "  'word_list',\n",
       "  'words',\n",
       "  'yes'],\n",
       " '_i92': 'globals()'}"
      ]
     },
     "execution_count": 92,
     "metadata": {},
     "output_type": "execute_result"
    }
   ],
   "source": [
    "globals()"
   ]
  },
  {
   "cell_type": "code",
   "execution_count": 93,
   "metadata": {},
   "outputs": [],
   "source": [
    "# This function takes a single argument (or parameter),\n",
    "# but it does not return anything.\n",
    "def pretty_print(message):\n",
    "    print_header()\n",
    "    print(message)\n",
    "    print_header()"
   ]
  },
  {
   "cell_type": "code",
   "execution_count": 94,
   "metadata": {},
   "outputs": [
    {
     "name": "stdout",
     "output_type": "stream",
     "text": [
      "---------------------------------------------------------------\n",
      "   RESTRICTED ACCESS   RESTRICTED ACCESS   RESTRICTED ACCESS\n",
      "---------------------------------------------------------------\n",
      "          DO NOT LOOK AT THIS SCREEN!\n",
      "---------------------------------------------------------------\n",
      "   RESTRICTED ACCESS   RESTRICTED ACCESS   RESTRICTED ACCESS\n",
      "---------------------------------------------------------------\n"
     ]
    }
   ],
   "source": [
    "pretty_print('          DO NOT LOOK AT THIS SCREEN!')"
   ]
  },
  {
   "cell_type": "code",
   "execution_count": 95,
   "metadata": {},
   "outputs": [],
   "source": [
    "def get_bread():\n",
    "    pass\n",
    "\n",
    "def get_peanut_butter():\n",
    "    pass\n",
    "\n",
    "def make_sandwich():\n",
    "    # Get bread\n",
    "    get_bread()\n",
    "    # Get peanut butter\n",
    "    get_peanut_butter()\n",
    "    # Get jelly\n",
    "    # Spread peanut butter\n",
    "    # Spread jelly\n",
    "    # Put slices of bread together\n",
    "    \n",
    "    \n",
    "make_sandwich()"
   ]
  },
  {
   "cell_type": "code",
   "execution_count": 96,
   "metadata": {},
   "outputs": [
    {
     "name": "stdout",
     "output_type": "stream",
     "text": [
      "the sum of 32 and 48 is 80\n"
     ]
    }
   ],
   "source": [
    "# This function takes two arguments\n",
    "def print_sum(num1, num2):\n",
    "    print('the sum of', num1, 'and', num2, 'is', num1 + num2)\n",
    "\n",
    "print_sum(32, 48)"
   ]
  },
  {
   "cell_type": "markdown",
   "metadata": {
    "slideshow": {
     "slide_type": "subslide"
    }
   },
   "source": [
    "## Lab: Mastermind/Cows and Bulls Game\n",
    "* your program should generate a 4-digit \"secret\" number, where the digits are  all different\n",
    "* the player tries to guess the number  who gives the number of matches. If the matching digits are in their right positions, they are \"bulls\", if in different positions, they are \"cows\". "
   ]
  },
  {
   "cell_type": "code",
   "execution_count": null,
   "metadata": {},
   "outputs": [],
   "source": []
  },
  {
   "cell_type": "markdown",
   "metadata": {
    "slideshow": {
     "slide_type": "subslide"
    }
   },
   "source": [
    "## Scope\n",
    "* the _scope_ of a variable is the part of the program in which the variable can be accessed\n",
    "* so far we have been creating variables in \"global scope\", which means they can be accessed anywhere in the program, i.e., _globally_\n",
    "* when we create a variable inside a function it can be accessed from that point until the end of the function–once the function exits, the variable is no longer accessible"
   ]
  },
  {
   "cell_type": "code",
   "execution_count": 110,
   "metadata": {
    "scrolled": true
   },
   "outputs": [
    {
     "name": "stdout",
     "output_type": "stream",
     "text": [
      "in function function_scope()\n",
      "creating the variable \"funcvar\"\n",
      "funcvar = this variable was created inside the function\n",
      "leaving function function_scope()\n",
      "None\n",
      "this variable is created inside global scope\n"
     ]
    }
   ],
   "source": [
    "def function_scope():\n",
    "    print('in function function_scope()')\n",
    "    print('creating the variable \"funcvar\"')\n",
    "    funcvar = 'this variable was created inside the function'\n",
    "    print('funcvar =', funcvar)\n",
    "    print('leaving function function_scope()')\n",
    "\n",
    "funcvar = \"this variable is created inside global scope\"\n",
    "result = function_scope()\n",
    "print(result)\n",
    "#print(function_scope())\n",
    "print(funcvar)\n"
   ]
  },
  {
   "cell_type": "markdown",
   "metadata": {},
   "source": [
    "## Next Week - No Class\n",
    "### But Remember: Practice makes perfect!\n",
    "### Contact:\n",
    "JR Rickerson  \n",
    "jrrickerson@redrivetstudios.com\n",
    "## Suggested practice activities:\n",
    "* Python Challenge - http://www.pythonchallenge.com\n",
    "* Project Euler - https://projecteuler.net/\n",
    "* Rosetta Code - http://rosettacode.org/wiki/Rosetta_Code\n",
    "* Code Katas\n",
    "    * http://codekata.com/\n",
    "    * https://github.com/gamontal/awesome-katas\n",
    "    * https://github.com/pyatl/jam-sessions\n",
    "    * https://www.codewars.com/\n",
    "* Coding Dojo tool - http://cyber-dojo.org\n",
    "* Choose a simple game (old board games) and implement it!"
   ]
  },
  {
   "cell_type": "markdown",
   "metadata": {
    "slideshow": {
     "slide_type": "subslide"
    }
   },
   "source": [
    "## The __`return`__ Statement\n",
    "* if a function wants to return a value to its caller, it must use the __`return`__ statement\n",
    "* whatever value you put in the __`return`__ statement is returned "
   ]
  },
  {
   "cell_type": "code",
   "execution_count": 102,
   "metadata": {
    "scrolled": true
   },
   "outputs": [
    {
     "name": "stdout",
     "output_type": "stream",
     "text": [
      "55\n",
      "-13\n"
     ]
    }
   ],
   "source": [
    "def adder(x: int, y: int):\n",
    "    return x + y\n",
    "\n",
    "adder(21, 34)\n",
    "\n",
    "def add_and_sub(x, y):\n",
    "    return x + y, x - y\n",
    "\n",
    "summation, diff = add_and_sub(21, 34)\n",
    "print(summation)\n",
    "print(diff)\n"
   ]
  },
  {
   "cell_type": "code",
   "execution_count": 103,
   "metadata": {},
   "outputs": [
    {
     "ename": "TypeError",
     "evalue": "can only concatenate str (not \"int\") to str",
     "output_type": "error",
     "traceback": [
      "\u001b[0;31m---------------------------------------------------------------------------\u001b[0m",
      "\u001b[0;31mTypeError\u001b[0m                                 Traceback (most recent call last)",
      "\u001b[0;32m<ipython-input-103-b495b29eb1a9>\u001b[0m in \u001b[0;36m<module>\u001b[0;34m\u001b[0m\n\u001b[0;32m----> 1\u001b[0;31m \u001b[0madder\u001b[0m\u001b[0;34m(\u001b[0m\u001b[0;34m\"one\"\u001b[0m\u001b[0;34m,\u001b[0m \u001b[0;36m1\u001b[0m\u001b[0;34m)\u001b[0m\u001b[0;34m\u001b[0m\u001b[0;34m\u001b[0m\u001b[0m\n\u001b[0m",
      "\u001b[0;32m<ipython-input-102-b29c9dac0953>\u001b[0m in \u001b[0;36madder\u001b[0;34m(x, y)\u001b[0m\n\u001b[1;32m      1\u001b[0m \u001b[0;32mdef\u001b[0m \u001b[0madder\u001b[0m\u001b[0;34m(\u001b[0m\u001b[0mx\u001b[0m\u001b[0;34m:\u001b[0m \u001b[0mint\u001b[0m\u001b[0;34m,\u001b[0m \u001b[0my\u001b[0m\u001b[0;34m:\u001b[0m \u001b[0mint\u001b[0m\u001b[0;34m)\u001b[0m\u001b[0;34m:\u001b[0m\u001b[0;34m\u001b[0m\u001b[0;34m\u001b[0m\u001b[0m\n\u001b[0;32m----> 2\u001b[0;31m     \u001b[0;32mreturn\u001b[0m \u001b[0mx\u001b[0m \u001b[0;34m+\u001b[0m \u001b[0my\u001b[0m\u001b[0;34m\u001b[0m\u001b[0;34m\u001b[0m\u001b[0m\n\u001b[0m\u001b[1;32m      3\u001b[0m \u001b[0;34m\u001b[0m\u001b[0m\n\u001b[1;32m      4\u001b[0m \u001b[0madder\u001b[0m\u001b[0;34m(\u001b[0m\u001b[0;36m21\u001b[0m\u001b[0;34m,\u001b[0m \u001b[0;36m34\u001b[0m\u001b[0;34m)\u001b[0m\u001b[0;34m\u001b[0m\u001b[0;34m\u001b[0m\u001b[0m\n\u001b[1;32m      5\u001b[0m \u001b[0;34m\u001b[0m\u001b[0m\n",
      "\u001b[0;31mTypeError\u001b[0m: can only concatenate str (not \"int\") to str"
     ]
    }
   ],
   "source": [
    "adder(\"one\", 1)"
   ]
  },
  {
   "cell_type": "code",
   "execution_count": 104,
   "metadata": {},
   "outputs": [
    {
     "name": "stdout",
     "output_type": "stream",
     "text": [
      "-2.0\n"
     ]
    }
   ],
   "source": [
    "var = adder(-3, 1.0) # adder() returns the sum of its two arguments\n",
    "print(var)"
   ]
  },
  {
   "cell_type": "code",
   "execution_count": 105,
   "metadata": {},
   "outputs": [],
   "source": [
    "def add_ints(x, y):\n",
    "    # if x is int\n",
    "    if type(x) != int or type(y) != int:\n",
    "        result = None\n",
    "    else:\n",
    "        result = x + y\n",
    "    return result"
   ]
  },
  {
   "cell_type": "code",
   "execution_count": 107,
   "metadata": {},
   "outputs": [],
   "source": [
    "add_ints(1.0, 1)"
   ]
  },
  {
   "cell_type": "code",
   "execution_count": 109,
   "metadata": {},
   "outputs": [
    {
     "name": "stdout",
     "output_type": "stream",
     "text": [
      "Message started\n",
      "Message done\n",
      "3\n"
     ]
    },
    {
     "ename": "NameError",
     "evalue": "name 'add_stuff' is not defined",
     "output_type": "error",
     "traceback": [
      "\u001b[0;31m---------------------------------------------------------------------------\u001b[0m",
      "\u001b[0;31mNameError\u001b[0m                                 Traceback (most recent call last)",
      "\u001b[0;32m<ipython-input-109-3415fdf0bf02>\u001b[0m in \u001b[0;36m<module>\u001b[0;34m\u001b[0m\n\u001b[1;32m      7\u001b[0m \u001b[0;34m\u001b[0m\u001b[0m\n\u001b[1;32m      8\u001b[0m \u001b[0mprint\u001b[0m\u001b[0;34m(\u001b[0m\u001b[0mwrapper_function\u001b[0m\u001b[0;34m(\u001b[0m\u001b[0;34m'Message'\u001b[0m\u001b[0;34m,\u001b[0m \u001b[0;36m1\u001b[0m\u001b[0;34m,\u001b[0m \u001b[0;36m2\u001b[0m\u001b[0;34m)\u001b[0m\u001b[0;34m)\u001b[0m\u001b[0;34m\u001b[0m\u001b[0;34m\u001b[0m\u001b[0m\n\u001b[0;32m----> 9\u001b[0;31m \u001b[0madd_stuff\u001b[0m\u001b[0;34m(\u001b[0m\u001b[0;36m1\u001b[0m\u001b[0;34m,\u001b[0m \u001b[0;36m2\u001b[0m\u001b[0;34m)\u001b[0m\u001b[0;34m\u001b[0m\u001b[0;34m\u001b[0m\u001b[0m\n\u001b[0m",
      "\u001b[0;31mNameError\u001b[0m: name 'add_stuff' is not defined"
     ]
    }
   ],
   "source": [
    "def wrapper_function(message, x, y):\n",
    "    print(message, 'started')\n",
    "    def add_stuff(x, y):\n",
    "        return x + y\n",
    "    print(message, 'done')\n",
    "    return add_stuff(x, y)\n",
    "\n",
    "print(wrapper_function('Message', 1, 2))\n",
    "add_stuff(1, 2)"
   ]
  },
  {
   "cell_type": "markdown",
   "metadata": {
    "slideshow": {
     "slide_type": "subslide"
    }
   },
   "source": [
    "## Boolean Functions\n",
    "* functions can return any datatype, but let's consider the class of functions that return a Boolean value, i.e., __`True`__ or __`False`__ \n",
    "* these functions can be used to make our code more readable, especially if we name them __`is_...()`__"
   ]
  },
  {
   "cell_type": "code",
   "execution_count": 111,
   "metadata": {},
   "outputs": [
    {
     "name": "stdout",
     "output_type": "stream",
     "text": [
      "Enter a number: 45\n",
      "45 is an ODD number\n"
     ]
    }
   ],
   "source": [
    "def is_even(number):\n",
    "    return number % 2 == 0\n",
    "\n",
    "num = int(input('Enter a number: '))\n",
    "if is_even(num):\n",
    "    print(num, 'is an even number')\n",
    "else:\n",
    "    print(num, 'is an ODD number')"
   ]
  },
  {
   "cell_type": "markdown",
   "metadata": {
    "slideshow": {
     "slide_type": "subslide"
    }
   },
   "source": [
    "## Functions Can Call Other Functions\n",
    "* ideally, when we write code to solve a problem, we break the problem down into subproblems, and then break those down further into subproblems, etc.\n",
    "* when the problems are \"small enough,\" we write functions to solve them\n",
    "* a good rule of thumb is that if your explanation of what a function does contains the word _and_, then it needs to be broken down even further\n",
    "* better to have too many functions than too few\n",
    "<pre>\n",
    "    <b>\n",
    "    def task1(arg1, arg2, ...):\n",
    "        statement(s)\n",
    "        task2(...)\n",
    "        statement(s)\n",
    "        \n",
    "    def task2(arg1, arg2, ...):\n",
    "        statement(s)\n",
    "        task3(...)\n",
    "        statement(s)\n",
    "        \n",
    "     def task3(arg1, arg2, ...):\n",
    "        statement(s)\n",
    "        \n",
    "     # Now call the first function\n",
    "     task1(...)   \n",
    "    </b>\n",
    "</pre>\n",
    "* in order for one function to call another, the function being called has to have been seen by the interpreter or Python won't know what it is\n",
    "* but as written above, it's fine, because the Python intepreter sees all three functions before the call of __`task1()`__ occurs"
   ]
  },
  {
   "cell_type": "markdown",
   "metadata": {
    "slideshow": {
     "slide_type": "subslide"
    }
   },
   "source": [
    "## Lab: Functions\n",
    "* write __max3__, a function to find the maximum of three values (first create a function that finds the maximum of two values and have __max3__ call it)\n",
    "* write a function to sum all of the numbers in a list\n",
    "* write a function which accepts a list as its argument and returns a new list with all of the duplicates removed (e.g., __remove_dupes([3, 1, 2, 3, 1, 3, 3, 4, 1])__ would return [3, 1, 2, 4])\n",
    "* write a function to check whether its string argument is a pangram (i.e., it contains all of the letters of the alphabet)\n",
    "* write a Boolean function which accepts a string argument and indicates whether it is a palindrome (i.e., it reads the same backwards and forwards–e.g., \"radar\")\n",
    " * once you get that, try to make it work even if the string contains spaces, e.g., \"Ten animals I slam in a net\"\n",
    " * try to use slices if you didn't already"
   ]
  },
  {
   "cell_type": "code",
   "execution_count": null,
   "metadata": {},
   "outputs": [],
   "source": []
  },
  {
   "cell_type": "markdown",
   "metadata": {
    "slideshow": {
     "slide_type": "slide"
    }
   },
   "source": [
    "\n",
    "# Modules"
   ]
  },
  {
   "cell_type": "markdown",
   "metadata": {
    "slideshow": {
     "slide_type": "subslide"
    }
   },
   "source": [
    "## What is a Module?\n",
    "* a module is file containing one or more related functions\n",
    "* we can _import_ the module into our program, giving us access to those functions\n",
    "* the __`string`__ module used to give us access to functions which manipulate strings, but  these functions have been built in to Python strings for a while\n",
    "  * the real value of the string module is the constants it defines\n",
    "* the __`math`__ module gives us access to math functions such as __`sqrt`__, __`sin`__, and __`factorial`__\n",
    "* the random module gives us access to functions that generate random numbers\n"
   ]
  },
  {
   "cell_type": "code",
   "execution_count": 112,
   "metadata": {},
   "outputs": [
    {
     "name": "stdout",
     "output_type": "stream",
     "text": [
      "0123456789\n",
      "!\"#$%&'()*+,-./:;<=>?@[\\]^_`{|}~\n",
      "ABCDEFGHIJKLMNOPQRSTUVWXYZ\n",
      "abcdefghijklmnopqrstuvwxyzABCDEFGHIJKLMNOPQRSTUVWXYZ\n"
     ]
    }
   ],
   "source": [
    "import string\n",
    "print(string.digits)\n",
    "print(string.punctuation)\n",
    "print(string.ascii_uppercase)\n",
    "print(string.ascii_letters)"
   ]
  },
  {
   "cell_type": "code",
   "execution_count": 113,
   "metadata": {},
   "outputs": [
    {
     "name": "stdout",
     "output_type": "stream",
     "text": [
      "1.4142135623730951\n",
      "0.9999999999932537\n",
      "80658175170943878571660636856403766975289505440883277824000000000000\n"
     ]
    }
   ],
   "source": [
    "import math\n",
    "print(math.sqrt(2))\n",
    "print(math.sin(1.5708)) # 90 degrees in radians\n",
    "print(math.factorial(52))"
   ]
  },
  {
   "cell_type": "code",
   "execution_count": 114,
   "metadata": {},
   "outputs": [
    {
     "name": "stdout",
     "output_type": "stream",
     "text": [
      "apple\n",
      "5\n"
     ]
    }
   ],
   "source": [
    "import random\n",
    "# random.choice() is a really useful function which randomly chooses an item from a sequence\n",
    "list_of_fruits = 'apple pear banana guava'.split()\n",
    "print(random.choice(list_of_fruits))\n",
    "# random.randint(a, b) returns a random integer between a and b (inclusive)\n",
    "print(random.randint(1, 100))"
   ]
  },
  {
   "cell_type": "code",
   "execution_count": 117,
   "metadata": {},
   "outputs": [
    {
     "data": {
      "text/plain": [
       "'/usr/lib64/python3.7/random.py'"
      ]
     },
     "execution_count": 117,
     "metadata": {},
     "output_type": "execute_result"
    }
   ],
   "source": [
    "dir(random)\n",
    "random.__file__"
   ]
  },
  {
   "cell_type": "code",
   "execution_count": null,
   "metadata": {},
   "outputs": [],
   "source": [
    "from random import choice as ch\n",
    "\n",
    "ch([1, 2, 3])"
   ]
  },
  {
   "cell_type": "code",
   "execution_count": 120,
   "metadata": {},
   "outputs": [
    {
     "ename": "ModuleNotFoundError",
     "evalue": "No module named 'regex'",
     "output_type": "error",
     "traceback": [
      "\u001b[0;31m---------------------------------------------------------------------------\u001b[0m",
      "\u001b[0;31mModuleNotFoundError\u001b[0m                       Traceback (most recent call last)",
      "\u001b[0;32m<ipython-input-120-09a170714100>\u001b[0m in \u001b[0;36m<module>\u001b[0;34m\u001b[0m\n\u001b[0;32m----> 1\u001b[0;31m \u001b[0;32mimport\u001b[0m \u001b[0mregex\u001b[0m\u001b[0;34m\u001b[0m\u001b[0;34m\u001b[0m\u001b[0m\n\u001b[0m\u001b[1;32m      2\u001b[0m \u001b[0mre\u001b[0m\u001b[0;34m.\u001b[0m\u001b[0mmatch\u001b[0m\u001b[0;34m(\u001b[0m\u001b[0;34m\"hello\"\u001b[0m\u001b[0;34m,\u001b[0m \u001b[0;34m\"hello world\"\u001b[0m\u001b[0;34m)\u001b[0m\u001b[0;34m\u001b[0m\u001b[0;34m\u001b[0m\u001b[0m\n",
      "\u001b[0;31mModuleNotFoundError\u001b[0m: No module named 'regex'"
     ]
    }
   ],
   "source": [
    "import regex\n",
    "re.match(\"hello\", \"hello world\")"
   ]
  },
  {
   "cell_type": "code",
   "execution_count": 122,
   "metadata": {},
   "outputs": [
    {
     "name": "stdout",
     "output_type": "stream",
     "text": [
      "\n",
      "Please wait a moment while I gather a list of all available modules...\n",
      "\n"
     ]
    },
    {
     "name": "stderr",
     "output_type": "stream",
     "text": [
      "/usr/lib64/python3.7/pkgutil.py:107: VisibleDeprecationWarning: zmq.eventloop.minitornado is deprecated in pyzmq 14.0 and will be removed.\n",
      "    Install tornado itself to use zmq with the tornado IOLoop.\n",
      "    \n",
      "  yield from walk_packages(path, info.name+'.', onerror)\n",
      "/usr/local/lib/python3.7/site-packages/IPython/kernel/__init__.py:13: ShimWarning: The `IPython.kernel` package has been deprecated since IPython 4.0.You should import from ipykernel or jupyter_client instead.\n",
      "  \"You should import from ipykernel or jupyter_client instead.\", ShimWarning)\n"
     ]
    },
    {
     "name": "stdout",
     "output_type": "stream",
     "text": [
      "IPython             brain_boto3         heapq               pytz\n",
      "__future__          brain_builtin_inference hmac                qtconsole\n",
      "_abc                brain_collections   html                queue\n",
      "_ast                brain_crypt         http                quopri\n",
      "_asyncio            brain_curses        idna                quorachallenge\n",
      "_bisect             brain_dataclasses   imagesize           random\n",
      "_blake2             brain_dateutil      imaplib             re\n",
      "_bootlocale         brain_fstrings      imghdr              readline\n",
      "_bz2                brain_functools     imp                 reprlib\n",
      "_cffi_backend       brain_gi            importlib           requests\n",
      "_codecs             brain_hashlib       importlib_metadata  resource\n",
      "_codecs_cn          brain_http          iniconfig           rlcompleter\n",
      "_codecs_hk          brain_io            inspect             rmagic\n",
      "_codecs_iso2022     brain_mechanize     invoke              rsa\n",
      "_codecs_jp          brain_multiprocessing io                  runpy\n",
      "_codecs_kr          brain_namedtuple_enum ipaddress           s3transfer\n",
      "_codecs_tw          brain_nose          ipykernel           sched\n",
      "_collections        brain_numpy_core_fromnumeric ipykernel_launcher  secrets\n",
      "_collections_abc    brain_numpy_core_function_base ipython_genutils    select\n",
      "_compat_pickle      brain_numpy_core_multiarray ipywidgets          selectors\n",
      "_compression        brain_numpy_core_numeric isort               send2trash\n",
      "_contextvars        brain_numpy_core_numerictypes itertools           setuptools\n",
      "_crypt              brain_numpy_core_umath itsdangerous        shelve\n",
      "_csv                brain_numpy_ndarray jedi                shlex\n",
      "_ctypes             brain_numpy_random_mtrand jinja2              shutil\n",
      "_curses             brain_numpy_utils   jinja2cli           signal\n",
      "_curses_panel       brain_pkg_resources jmespath            site\n",
      "_datetime           brain_pytest        json                six\n",
      "_dbm                brain_qt            jsonschema          smtpd\n",
      "_decimal            brain_random        jupyter             smtplib\n",
      "_dummy_thread       brain_re            jupyter_client      sndhdr\n",
      "_elementtree        brain_responses     jupyter_console     snowballstemmer\n",
      "_functools          brain_scipy_signal  jupyter_core        socket\n",
      "_gdbm               brain_six           keyword             socketserver\n",
      "_hashlib            brain_ssl           lazy_object_proxy   soupsieve\n",
      "_heapq              brain_subprocess    lib2to3             sphinx\n",
      "_imp                brain_threading     linecache           sphinx_rtd_theme\n",
      "_io                 brain_typing        locale              spwd\n",
      "_json               brain_uuid          logging             sqlite3\n",
      "_locale             bs4                 lzma                sqlparse\n",
      "_lsprof             bson                macpath             sre_compile\n",
      "_lzma               builtins            mailbox             sre_constants\n",
      "_markupbase         bz2                 mailcap             sre_parse\n",
      "_md5                cProfile            markupsafe          ssl\n",
      "_multibytecodec     calendar            marshal             stat\n",
      "_multiprocessing    certifi             math                statistics\n",
      "_opcode             cffi                mccabe              storemagic\n",
      "_operator           cgi                 mimetypes           string\n",
      "_osx_support        cgitb               mistune             stringprep\n",
      "_pickle             chardet             mmap                struct\n",
      "_posixsubprocess    chunk               modulefinder        subprocess\n",
      "_py_abc             click               more_itertools      sunau\n",
      "_pydecimal          cmath               multiprocessing     symbol\n",
      "_pyio               cmd                 nacl                sympyprinting\n",
      "_pyrsistent_version code                nbconvert           symtable\n",
      "_pytest             codecs              nbformat            sys\n",
      "_queue              codeop              netrc               sysconfig\n",
      "_random             collections         nis                 syslog\n",
      "_sha1               colorama            nntplib             tabnanny\n",
      "_sha256             colorsys            notebook            tarfile\n",
      "_sha3               compileall          ntpath              telnetlib\n",
      "_sha512             concurrent          nturl2path          tempfile\n",
      "_signal             configparser        numbers             terminado\n",
      "_sitebuiltins       contextlib          opcode              termios\n",
      "_socket             contextvars         operator            test\n",
      "_sqlite3            copy                optparse            testpath\n",
      "_sre                copyreg             os                  tests\n",
      "_ssl                coverage            ossaudiodev         textwrap\n",
      "_stat               crypt               packaging           this\n",
      "_string             cryptography        pandocfilters       threading\n",
      "_strptime           csv                 paramiko            time\n",
      "_struct             ctypes              parser              timeit\n",
      "_symtable           curses              parso               tkinter\n",
      "_sysconfigdata_dm_linux_x86_64-linux-gnu cythonmagic         pathlib             token\n",
      "_sysconfigdata_m_linux_x86_64-linux-gnu dataclasses         pathspec            tokenize\n",
      "_testmultiphase     datetime            pdb                 toml\n",
      "_thread             dateutil            pexpect             tornado\n",
      "_threading_local    dbm                 pickle              trace\n",
      "_tkinter            decimal             pickleshare         traceback\n",
      "_tracemalloc        decorator           pickletools         tracemalloc\n",
      "_uuid               defusedxml          pip                 traitlets\n",
      "_warnings           difflib             pipes               tty\n",
      "_weakref            dis                 pkg_resources       turtle\n",
      "_weakrefset         distutils           pkgutil             turtledemo\n",
      "abc                 django              platform            typed_ast\n",
      "aifc                doctest             plistlib            types\n",
      "alabaster           docutils            pluggy              typing\n",
      "ansible             dummy_threading     poplib              unicodedata\n",
      "antigravity         easy_install        posix               unittest\n",
      "argparse            email               posixpath           urllib\n",
      "array               encodings           pprint              urllib3\n",
      "asgiref             ensurepip           prettytable         uu\n",
      "asn1crypto          entrypoints         profile             uuid\n",
      "ast                 enum                prometheus_client   venv\n",
      "astroid             errno               prompt_toolkit      warnings\n",
      "asynchat            fabric              pstats              wave\n",
      "asyncio             faulthandler        pty                 wcwidth\n",
      "asyncore            fcntl               ptyprocess          weakref\n",
      "atexit              filecmp             pwd                 webbrowser\n",
      "attr                fileinput           py                  webencodings\n",
      "audioop             flake8              py_compile          werkzeug\n",
      "autoreload          flask               pyasn1              widgetsnbextension\n",
      "awscli              fnmatch             pyclbr              wrapt\n",
      "babel               formatter           pycodestyle         wsgiref\n",
      "backcall            fractions           pycparser           xdrlib\n",
      "base64              ftplib              pydoc               xml\n",
      "bcrypt              functools           pydoc_data          xmlrpc\n",
      "bdb                 gc                  pyexpat             xxlimited\n",
      "binascii            genericpath         pyflakes            xxsubtype\n",
      "binhex              getopt              pygments            yaml\n",
      "bisect              getpass             pylint              yamllint\n",
      "bleach              gettext             pymongo             zipapp\n",
      "boto                glob                pyparsing           zipfile\n",
      "boto3               gridfs              pyrsistent          zipimport\n",
      "botocore            grp                 pytest              zipp\n",
      "brain_argparse      gzip                pytest_cov          zlib\n",
      "brain_attrs         hashlib             pytest_mock         zmq\n",
      "\n",
      "Enter any module name to get more help.  Or, type \"modules spam\" to search\n",
      "for modules whose name or summary contain the string \"spam\".\n",
      "\n"
     ]
    }
   ],
   "source": [
    "help(\"modules\")"
   ]
  },
  {
   "cell_type": "code",
   "execution_count": 121,
   "metadata": {},
   "outputs": [
    {
     "data": {
      "text/plain": [
       "['/home/jr/code/iea-cohort-08/04_intro_to_programming',\n",
       " '/usr/lib64/python37.zip',\n",
       " '/usr/lib64/python3.7',\n",
       " '/usr/lib64/python3.7/lib-dynload',\n",
       " '',\n",
       " '/home/jr/.local/lib/python3.7/site-packages',\n",
       " '/usr/local/lib64/python3.7/site-packages',\n",
       " '/usr/local/lib/python3.7/site-packages',\n",
       " '/usr/lib64/python3.7/site-packages',\n",
       " '/usr/lib/python3.7/site-packages',\n",
       " '/usr/local/lib/python3.7/site-packages/IPython/extensions',\n",
       " '/home/jr/.ipython']"
      ]
     },
     "execution_count": 121,
     "metadata": {},
     "output_type": "execute_result"
    }
   ],
   "source": [
    "import sys\n",
    "sys.path"
   ]
  },
  {
   "cell_type": "markdown",
   "metadata": {},
   "source": [
    "# Object-Oriented Programming/Classes\n",
    "### A very brief introduction"
   ]
  },
  {
   "cell_type": "markdown",
   "metadata": {},
   "source": [
    "## Classes\n",
    "* so far we've looked at built-in types; now we're going to define a new type\n",
    "* class = programmer-defined type"
   ]
  },
  {
   "cell_type": "code",
   "execution_count": null,
   "metadata": {},
   "outputs": [],
   "source": [
    "# simplest class/object we can create\n",
    "class Person(object):\n",
    "    pass"
   ]
  },
  {
   "cell_type": "code",
   "execution_count": null,
   "metadata": {},
   "outputs": [],
   "source": [
    "# to instantiate, or create and object, you call the class as\n",
    "# if were a function\n",
    "somebody = Person()"
   ]
  },
  {
   "cell_type": "code",
   "execution_count": null,
   "metadata": {},
   "outputs": [],
   "source": [
    "somebody # somebody is an instance of the Person class"
   ]
  },
  {
   "cell_type": "code",
   "execution_count": null,
   "metadata": {},
   "outputs": [],
   "source": [
    "type(somebody), type(3)"
   ]
  },
  {
   "cell_type": "code",
   "execution_count": null,
   "metadata": {},
   "outputs": [],
   "source": [
    "type(Person), type(int)"
   ]
  },
  {
   "cell_type": "code",
   "execution_count": null,
   "metadata": {},
   "outputs": [],
   "source": [
    "class BankAccount(object):\n",
    "    # __init__ is like a constructor\n",
    "    # it is used to initialize the object that is created\n",
    "    def __init__(self, name, initial_balance):\n",
    "        self.name = name\n",
    "        self.balance = initial_balance\n",
    "        print('in __init__')\n",
    "        \n",
    "    # all methods (with some exceptions) must have self as a first parameter...\n",
    "    # ...even though you don't pass self when you call the method (Python does)\n",
    "    def deposit(self, amount):\n",
    "        if amount > 0:\n",
    "            self.balance += amount\n",
    "            return self.balance\n",
    "        else:\n",
    "            print(\"can't deposit nonpositive amount!\")\n",
    "\n",
    "    def withdraw(self, amount):\n",
    "        if amount > 0:\n",
    "            if amount <= self.balance:\n",
    "                self.balance -= amount\n",
    "                return self.balance\n",
    "            else:\n",
    "                print(\"can't withdraw\", amount, \"or you would be overdrawn!\")\n",
    "        else:\n",
    "            print(\"can't withdraw nonpositive amount!\")\n"
   ]
  },
  {
   "cell_type": "code",
   "execution_count": null,
   "metadata": {},
   "outputs": [],
   "source": [
    "account1 = BankAccount('Marc Benioff', 345)"
   ]
  },
  {
   "cell_type": "code",
   "execution_count": null,
   "metadata": {},
   "outputs": [],
   "source": [
    "# what is account1?\n",
    "account1"
   ]
  },
  {
   "cell_type": "code",
   "execution_count": null,
   "metadata": {},
   "outputs": [],
   "source": [
    "# we can inspect attributes of our newly-created object\n",
    "print(account1.name, account1.balance)"
   ]
  },
  {
   "cell_type": "code",
   "execution_count": null,
   "metadata": {},
   "outputs": [],
   "source": [
    "# we can deposit money\n",
    "account1.deposit(25)"
   ]
  },
  {
   "cell_type": "code",
   "execution_count": null,
   "metadata": {},
   "outputs": [],
   "source": [
    "# we can withdraw money\n",
    "account1.withdraw(5)"
   ]
  },
  {
   "cell_type": "markdown",
   "metadata": {},
   "source": [
    "## Classes: \"magic\" methods\n",
    "* __\\_\\_init\\_\\___ is a special initialization method that is invoked when the object is instantiated\n",
    "* __\\_\\_str\\_\\___ returns a string representation of the object (i.e., for humans), maps to str() function\n",
    "* __\\_\\_repr\\_\\___ returns unambiguous representation of the object which could be fed to Python interpreter to recreate the object, maps to repr() function"
   ]
  },
  {
   "cell_type": "code",
   "execution_count": null,
   "metadata": {},
   "outputs": [],
   "source": [
    "import datetime\n",
    "today = datetime.datetime.now()\n",
    "str(today), repr(today)"
   ]
  },
  {
   "cell_type": "markdown",
   "metadata": {},
   "source": [
    "## Let's add __\\_\\_`repr`\\_\\_ and __\\_\\_`str`\\_\\_ to our class"
   ]
  },
  {
   "cell_type": "code",
   "execution_count": null,
   "metadata": {},
   "outputs": [],
   "source": [
    "class BankAccount(object):\n",
    "    def __init__(self, name, initial_balance):\n",
    "        self.name = name\n",
    "        self.balance = initial_balance\n",
    "\n",
    "    '''representation of the object \"feedable\" to Python\n",
    "    interpreter'''\n",
    "    def __repr__(self):\n",
    "        return self.__class__.__name__ + '(' + repr(self.name) \\\n",
    "               + ', ' + repr(self.balance) + ')'\n",
    "\n",
    "    '''string representation of object, for humans\n",
    "    __repr__ is used if __str__ does not exist'''\n",
    "    def __str__(self):\n",
    "        print('in the __str__() function')\n",
    "        return self.name + ' ' + str(self.balance)\n",
    "\n",
    "    def __add__(self, other):\n",
    "        return BankAccount(self.name + ' ' + other.name,\n",
    "                    self.balance + other.balance)\n",
    "    \n",
    "    def deposit(self, amount):\n",
    "        if amount > 0:\n",
    "            self.balance += amount\n",
    "            return self.balance\n",
    "        else:\n",
    "            print(\"can't deposit nonpositive amount!\")\n",
    "\n",
    "    def withdraw(self, amount):\n",
    "        if amount > 0:\n",
    "            if amount <= self.balance:\n",
    "                self.balance -= amount\n",
    "                return self.balance\n",
    "            else:\n",
    "                print(\"can't withdraw\", amount, \"or you would be overdrawn!\")\n",
    "        else:\n",
    "            print(\"can't withdraw nonpositive amount!\")"
   ]
  },
  {
   "cell_type": "code",
   "execution_count": null,
   "metadata": {},
   "outputs": [],
   "source": [
    "account2 = BankAccount('Gutzon Borglum', 100.0)\n",
    "account3 = BankAccount('Marie Curie', 200.0)"
   ]
  },
  {
   "cell_type": "code",
   "execution_count": null,
   "metadata": {},
   "outputs": [],
   "source": [
    "# try repr()\n",
    "repr(account2)\n",
    "account3 = BankAccount('Gutzon Borglum', 100.0)\n",
    "print(account3)"
   ]
  },
  {
   "cell_type": "code",
   "execution_count": null,
   "metadata": {},
   "outputs": [],
   "source": [
    "dir(account3)\n",
    "print(account3.__dict__)"
   ]
  },
  {
   "cell_type": "code",
   "execution_count": null,
   "metadata": {},
   "outputs": [],
   "source": [
    "# try str()\n",
    "account2.__str__()"
   ]
  },
  {
   "cell_type": "markdown",
   "metadata": {},
   "source": [
    "## Other \"magic\" methods\n",
    "* __\\_\\_add\\_\\___ = add two objects together\n",
    "* __\\_\\_eq\\_\\___ = implementation of ==\n",
    "* __\\_\\_ne\\_\\___ = implementation of !=\n",
    "* __\\_\\_len\\_\\___ = implementation of len() method\n",
    "* many others!"
   ]
  },
  {
   "cell_type": "code",
   "execution_count": null,
   "metadata": {},
   "outputs": [],
   "source": []
  }
 ],
 "metadata": {
  "celltoolbar": "Slideshow",
  "kernelspec": {
   "display_name": "Python 3",
   "language": "python",
   "name": "python3"
  },
  "language_info": {
   "codemirror_mode": {
    "name": "ipython",
    "version": 3
   },
   "file_extension": ".py",
   "mimetype": "text/x-python",
   "name": "python",
   "nbconvert_exporter": "python",
   "pygments_lexer": "ipython3",
   "version": "3.7.10"
  }
 },
 "nbformat": 4,
 "nbformat_minor": 1
}
