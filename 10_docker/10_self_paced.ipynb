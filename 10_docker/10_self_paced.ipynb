{
 "cells": [
  {
   "cell_type": "markdown",
   "metadata": {},
   "source": [
    "# 10/24\n",
    "\n",
    "Since we're going to be spending the majority of this week on Docker, I've tried to find some useful cheatsheets for a quick reference for you.  Here's one for the docker command line:\n",
    "https://dockerlabs.collabnix.com/docker/cheatsheet/\n",
    " \n",
    "Here's one for building Dockerfiles:\n",
    "https://github.com/wsargent/docker-cheat-sheet#dockerfile\n",
    "\n",
    "You can of course also refer to the official docs:\n",
    "Docker CLI docs:  https://docs.docker.com/engine/reference/commandline/cli/\n",
    "Dockerfile reference docs:  https://docs.docker.com/engine/reference/builder/"
   ]
  },
  {
   "cell_type": "markdown",
   "metadata": {},
   "source": [
    "# 10/25\n",
    "\n",
    "Read the full guide on 12 Factor Apps that we went over together.  Jot down any notes or questions you might have so we can discuss tomorrow. https://12factor.net/\n",
    "\t\n",
    "Complete any of the prior Docker labs if you haven't already.\n",
    "\t\n",
    "Consider the ideals of the 12 Factor approach.  12 Factor doesn't specifically aim to adhere to DevOps principles, but how are they related?  What does 12 Factor design offer that supports the goals of DevOps we've discussed?\n",
    "\t\n",
    "Do you think a 12 Factor App is easier to test or harder to test than a traditional monolithic application?  Why or why not?  Consider how a testing environment might be set up for each time and what challenges you'd run into.\n",
    "\t\n",
    "A large portion of our time has been spent on discussing automation with regards to building, testing, and deploying applications.  Given the 12 Factor approach to designing an application, how might automation be used to automatically scale up / down applications based on metrics like requests per second, average latency of a request, or even time of day?\n",
    "\t\n",
    "I mentioned the Microservices architecture in conjunction with 12 Factor applications.  Read this excellent explanation of the concept by Martin Fowler (one of our Agile Manifesto signatories) and see if you can see how the concepts relate, especially with regards to scalability, upgrading, and downtime: https://martinfowler.com/articles/microservices.html\n",
    "\t\n",
    "Explore DockerHub for images built for tools you are familiar with from this class (Python, Ansible, AWX, Linux, Bamboo) and consider what configuration is available for them and whether they follow a 12 Factor approach or not.\n",
    "\t\n",
    "Work on a Python code kata to keep your skills sharp.\n",
    "\t\n",
    "Continue with your Docker Pluralsight videos"
   ]
  },
  {
   "cell_type": "markdown",
   "metadata": {},
   "source": [
    "# 10/26\n",
    "We studied Ansible in the past, and you may consider that now that we've learned about containers, you may no longer need Ansible to configure hosts.  However, Ansible is still useful for setting up container runtimes, deploying container images, and starting containers.  You can read more about Ansible's container support here:\n",
    "\thttps://docs.ansible.com/ansible/latest/collections/community/docker/docsite/scenario_guide.html\n",
    "\t\n",
    "The container image build process (using \"docker build\") makes it a lot more obvious what our \"build\" phase is vs. our \"release\" phase in our CI/CD pipelines.  Explore Bamboo and Github Actions support for building and publishing container images:\n",
    "\thttps://confluence.atlassian.com/bamboo/configuring-the-docker-task-in-bamboo-720411254.html\n",
    "\thttps://github.com/marketplace/actions/build-and-push-docker-images\n",
    "\n",
    "BONUS challenges for today's Containerization Lab:\n",
    "\n",
    "The edits the lab suggests you do are in order to make containerization easier by following the 12 factor approach.  Considering the changes you made, what would scaling this application look like if you had to support thousands and thousands of guests signing the guestbook every minute?\n",
    "\t\n",
    "If we wanted to persist our messages beyond the lifetime of the container, we could do something similar to what we did in the Ansible lab and set up a database - but you could do that in a container as well. Consider how you could change your app and Dockerfile to support using an external database - namely, how could you tell the container where to connect?\n",
    "\t\n",
    "Run several copies of your container image simultaneously with slight variations to your config (colors or fonts or whatever).  Ensure you can reach all the containers with your browser or with curl.  Use docker inspect to see how to reach the containers, or bind to the host with the -p option for each container."
   ]
  },
  {
   "cell_type": "markdown",
   "metadata": {},
   "source": [
    "# 10/27\n",
    "\n",
    "Finish any of the labs you have not yet completed (Containerization, Neworking tutorials)\n",
    "\t\n",
    "Start in on the \"Dockerize Astronomy App\" lab.  Make sure you take a look at the Docker task for running builds or pushing images in Bamboo.\n",
    "\thttps://confluence.atlassian.com/bamboo/configuring-the-docker-task-in-bamboo-720411254.html\n",
    "\tAlternately, you may choose to use Github Actions instead:\n",
    "\thttps://github.com/marketplace/actions/build-and-push-docker-images\n",
    "\t\n",
    "If you're interested, feel free to try out the \"overlay\" or \"macvlan\" networking tutorials.\n",
    "\tNOTE:  These may have additional setup steps or prereqs.\n",
    "\thttps://docs.docker.com/network/network-tutorial-overlay/\n",
    "\thttps://docs.docker.com/network/network-tutorial-macvlan/\n",
    "\t\n",
    "Explore Docker networking further by reading the guide on the various network types available to be configured.\n",
    "\thttps://docs.docker.com/network/\n",
    "\t\n",
    "If you're curious about how Linux manages these networking concepts under the hood, look into these topics:\n",
    "\t\n",
    "Linux kernel bridge networking: https://tldp.org/HOWTO/BRIDGE-STP-HOWTO/index.html\n",
    "\t\t\n",
    "Bridge command: https://man7.org/linux/man-pages/man8/bridge.8.html\n",
    "\t\t\n",
    "IPTables Linux firewall/routing rules: https://www.howtogeek.com/177621/the-beginners-guide-to-iptables-the-linux-firewall/\n",
    "\t\n",
    "For more complex applications, you may actually choose to deploy several different containers and several different components into separate networks to reduce traffic noise and improve security.  In these situations, you may need to use application-specific routing between these networks.  See if you can find container images on DockerHub for tools that may allow you to set up your own routing / proxy rules between networks.\n",
    "\t\n",
    "Try building an image locally, and manually pushing it to DockerHub.  Make sure it doesn't contain anything sensitive!\n",
    "\t\n",
    "Try a Python code kata to keep your skills sharp.  See if you can run it with the newly released Python 3.11 Docker image."
   ]
  },
  {
   "cell_type": "markdown",
   "metadata": {},
   "source": [
    "# 10/28\n",
    "\n",
    "Start on or continue on the Dockerize Astronomy App lab.  We'll try to go over solutions to this sometime next week.\n",
    "\t\n",
    "If you're interested in Docker Compose and multi-stage builds, try the more challenging optional lab \"Multi-stage compose\"\n",
    "\t\n",
    "Look through the Docker Compose file reference.  See if you can re-create the image, container, and settings we used in our Containerize lab using Docker Compose and a compose file."
   ]
  },
  {
   "cell_type": "markdown",
   "metadata": {},
   "source": []
  }
 ],
 "metadata": {
  "language_info": {
   "name": "python"
  },
  "orig_nbformat": 4
 },
 "nbformat": 4,
 "nbformat_minor": 2
}
