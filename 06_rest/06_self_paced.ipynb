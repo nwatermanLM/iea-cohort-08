{
 "cells": [
  {
   "cell_type": "markdown",
   "metadata": {},
   "source": [
    "# 9/28\n",
    "\n",
    "Finish any labs you did not complete today.\n",
    "\t\n",
    "Try the optional labs from our materials on classes, the standard library, or pip/virtualenv\n",
    "\t\n",
    "Review the lab document \"Calling REST APIs with Python\".  You may work on this lab for the remainder of the session, alone or in groups.  We will be going over solutions when we return in Session 3.\n",
    "\t\n",
    "Try using the \"curl\" tool on several popular websites.  Use Python and the requests library on the same websites.  Can you see the same information relayed in both tools?\n",
    "\t\n",
    "Explore popular APIs further - I briefly showed you the Github API and the Twilio API, but every major Software As A Service company typically publishes an API you can work with to integrate with their toolset.  You can create Discord bots that talk to Spotify or Youtube, or the like.  Feel free to try a few of these out to share with the class later.\n",
    "\tNOTE:  In most cases, you will need to sign up for an API authentication token, even if it is free, to prevent spammers and DDOS attacks.  Make sure to read the specific APIs documentation to see how to get a key and how to communicate it to the server.\n",
    "\t\n",
    "Look through the list of MIME types (now IANA types) to see what types of data outside of the ones we have discussed that you might get back from an HTTP request.  https://developer.mozilla.org/en-US/docs/Web/HTTP/Basics_of_HTTP/MIME_types\n",
    "\t\n",
    "Think about a service you or your team currently manage.  If you were to build an API for this service so that customers could use a self-service tool, what types of resources might it entail?  What fields would those resources have?  Which HTTP methods would be allowed on which resources?\n",
    "\t\n",
    "Code Kata Suggestion:  Bowling Game (https://codingdojo.org/kata/Bowling/)\n",
    "\t\n",
    "Previous Kata suggestions: Supermarket Pricing, Fizz Buzz, Look and Say, Anagrams, Valid Parentheses, Tom Swift Under the Milkwood, Word Chains, Harry Potter, Alphabet Cipher, Conway's Game of Life.\n",
    "\n",
    "Try any of the previous code kata resources I've suggested.\n",
    "\t\n",
    "Consider what we've learned so far about Python, including conditionals, loops, lists, and dictionaries. You should now have the tools to build yourself a small game as a practice exercise. Try looking at the rules for a classic board game or card game like Checkers, Go, \"War\" (card game), or Black Jack. Consider how you might model information about the pieces, the board, the players, etc. using the tools we've learned and start a text-only version of one of these games."
   ]
  }
 ],
 "metadata": {
  "language_info": {
   "name": "python"
  },
  "orig_nbformat": 4
 },
 "nbformat": 4,
 "nbformat_minor": 2
}
