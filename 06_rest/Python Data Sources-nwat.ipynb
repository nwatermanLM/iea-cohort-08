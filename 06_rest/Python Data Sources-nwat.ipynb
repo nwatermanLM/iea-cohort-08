{
 "cells": [
  {
   "cell_type": "markdown",
   "metadata": {},
   "source": [
    "# Getting Data into Python"
   ]
  },
  {
   "cell_type": "markdown",
   "metadata": {},
   "source": [
    "## Agenda\n",
    "* Network / HTTP concepts\n",
    "* REST API concepts\n",
    "* Calling APIs with Python\n",
    "* Web Scraping with BeautifulSoup\n",
    "* Connecting to Databases\n",
    "* Other data sources"
   ]
  },
  {
   "cell_type": "markdown",
   "metadata": {},
   "source": [
    "## Getting Data from the Web"
   ]
  },
  {
   "cell_type": "markdown",
   "metadata": {},
   "source": [
    "## Network Fundamentals\n",
    "* Networks communicate messages between **clients** and **servers**\n",
    "* Many different protocols throughout history\n",
    "* Dominant protocol today is **TCP/IP**\n",
    "* Web requests use **HyperText Transfer Protocol (HTTP)**"
   ]
  },
  {
   "cell_type": "markdown",
   "metadata": {},
   "source": [
    "# OSI Network Model![OSI Model](images/osi.png)"
   ]
  },
  {
   "cell_type": "markdown",
   "metadata": {},
   "source": [
    "### HyperText Transfer Protocol\n",
    "- This is the way our web browsers work!\n",
    "- Replaced older network protocols like gopher\n",
    "- Development of HTTP was initiated by Tim Berners-Lee at CERN in 1989\n",
    "- HTTP is a text-based protocol (not binary)\n",
    "- HTTP is *stateless* - every request must contain all contextual info!\n",
    "- HTTPS is simply HTTP over SSL (Secure Socket Layer) so that requests and responses are encrypted from client to server and back (but beware of DNS leaks!)\n",
    "- HTTP 1.1 Specification (good luck!): https://tools.ietf.org/html/rfc7231"
   ]
  },
  {
   "cell_type": "markdown",
   "metadata": {},
   "source": [
    "# HTTP Request\n",
    "![Network Request](images/client_server.png)"
   ]
  },
  {
   "cell_type": "code",
   "execution_count": null,
   "metadata": {},
   "outputs": [],
   "source": [
    "!curl -v https://xkcd.com/"
   ]
  },
  {
   "cell_type": "markdown",
   "metadata": {},
   "source": [
    "### HTTP Request components\n",
    "- URL\n",
    "- Verb\n",
    "- Headers (optional)\n",
    "- Body (optional)\n",
    "\n",
    "### HTTP Response components\n",
    "- Status Code\n",
    "- Headers (optional)\n",
    "- Body (optional)"
   ]
  },
  {
   "cell_type": "markdown",
   "metadata": {},
   "source": [
    "### HTTP Status Code Categories\n",
    "- 1xx Informational\n",
    "- 2xx Success\n",
    "- 3xx Redirection\n",
    "- 4xx Client Error / Invalid Request (User's Fault)\n",
    "- 5xx Server Error (Server's Fault)"
   ]
  },
  {
   "cell_type": "markdown",
   "metadata": {},
   "source": [
    "### Common REST Status Code meanings\n",
    "\n",
    "#### 2xx\n",
    "- 200 \"OK\" - General Success (often overused)\n",
    "- 201 \"Created\" - Created a new resource on the server (usually from POST)\n",
    "- 202 \"Accepted\" - Request was accepted, but may not yet be completed (long process)\n",
    "\n",
    "#### 3xx\n",
    "- 301 \"Moved Permanently\" - URL for a resource was changed\n",
    "- 302 \"Found\" - The resource was found at another URL (temporary redirect, \"canonical\" URLs)\n",
    "- 303 \"See Other\" - Often the same as a 302\n",
    "- 304 \"Not Modified\" - Resource has not changed since the last request, use cached value\n",
    "\n",
    "#### 4xx\n",
    "- 400 \"Bad Request\" - Malformed requests, bad parameters, invalid formats\n",
    "- 401 \"Unauthorized\" - The resource requires credentials to access (i.e. requires login)\n",
    "- 403 \"Forbidden\" - The client does not have permission to access the resource\n",
    "- 404 \"Not Found\" - No resource located at this URL\n",
    "- 409 \"Conflict\" - Cannot edit the resource due to a conflict\n",
    "- 429 \"Too Many Requests\" - Used for API rate limiting\n",
    "\n",
    "#### 5xx\n",
    "- 500 \"Internal Server Error\" - Generic, \"something went wrong\" message, might indicate a bug in server code.\n",
    "- 502 \"Bad Gateway\" - A load balancer or proxy got no response from a webserver\n",
    "- 503 \"Service Unavailable\" - The server is overloaded, or down for maintenance, etc."
   ]
  },
  {
   "cell_type": "markdown",
   "metadata": {},
   "source": [
    "## API (Application Programming Interface)\n",
    "* Interface specifically design for code to interact with\n",
    "* No one specification for APIs - it depends on who authors it\n",
    "* Network APIs can be binary or text, public or private, synchronous or asynchrous (and more)\n",
    "* HTTP-based APIs (\"web services\") have many forms - WDSL, SOAP, proprietary"
   ]
  },
  {
   "cell_type": "markdown",
   "metadata": {},
   "source": [
    "## REST APIs\n",
    "* __RE__presentational __S__tate __T__ransfer\n",
    "* Aims to use HTTP \"as intended\" to build the API\n",
    "* Familiar tools:\n",
    "    * URI (URL) uniquely identifies a \"resource\"\n",
    "    * HTTP verbs define what action is intended\n",
    "    * Status codes (200, 404, 500, etc) communicate results\n",
    "    * Headers provide extra info (data formats, encoding, compression)\n",
    "* Not a standard!\n",
    "    * Any data format - JSON, XML, CSV, plain text\n",
    "    * Any \"resource\" - Author's choice (read the docs!)"
   ]
  },
  {
   "cell_type": "markdown",
   "metadata": {},
   "source": [
    "| HTTP Method | Description | \"CRUD\" Action | Request Body | Response Body | Only Reads | Idempotent | Cacheable |\n",
    "| --- | --- | --- | --- | --- | --- | --- | --- |\n",
    "| **GET** | Retrieve a resource | Read | Optional | <span style=\"color: green;\">Yes</span> | <span style=\"color: green;\">Yes</span> | <span style=\"color: green;\">Yes</span> | <span style=\"color: green;\">Yes</span> |\n",
    "| **HEAD** | Retrieve headers for a resource | Read | Optional | <span style=\"color: red;\">No</span> | <span style=\"color: green;\">Yes</span> | <span style=\"color: green;\">Yes</span> | <span style=\"color: green;\">Yes</span> |\n",
    "| **POST** | Post data for a resource | Create | <span style=\"color: green;\">Yes</span> | <span style=\"color: green;\">Yes</span> | <span style=\"color: red;\">No</span> | <span style=\"color: red;\">No</span> | <span style=\"color: green;\">Yes</span> |\n",
    "| **PUT** | Post data (replace) and existing resource | Update | <span style=\"color: green;\">Yes</span> | <span style=\"color: green;\">Yes</span> | <span style=\"color: red;\">No</span> | <span style=\"color: green;\">Yes</span> | <span style=\"color: red;\">No</span> |\n",
    "| **DELETE** | Delete a resource | Delete | Optional | <span style=\"color: green;\">Yes</span> | <span style=\"color: red;\">No</span> | <span style=\"color: green;\">Yes</span> | <span style=\"color: red;\">No</span> |\n",
    "| **CONNECT** | Convert connection to a tunnel | N/A | Optional | <span style=\"color: green;\">Yes</span> | <span style=\"color: red;\">No</span> | <span style=\"color: red;\">No</span> | <span style=\"color: red;\">No</span> |\n",
    "| **OPTIONS** | Request the supported methods for a resource | N/A | Optional | <span style=\"color: green;\">Yes</span> | <span style=\"color: green;\">Yes</span> | <span style=\"color: green;\">Yes</span> | <span style=\"color: red;\">No</span> |\n",
    "| **TRACE** | Echo a client request for testing | N/A | <span style=\"color: red;\">No</span> | <span style=\"color: green;\">Yes</span> | <span style=\"color: green;\">Yes</span> | <span style=\"color: green;\">Yes</span> | <span style=\"color: red;\">No</span> |\n",
    "| **PATCH** | Update a resource with partial data | Update | <span style=\"color: green;\">Yes</span> | <span style=\"color: green;\">Yes</span> | <span style=\"color: red;\">No</span> | <span style=\"color: red;\">No</span> | <span style=\"color: red;\">No</span> |\n",
    "\n",
    "\n",
    "\n"
   ]
  },
  {
   "cell_type": "markdown",
   "metadata": {},
   "source": [
    "### Request / Response Bodies\n",
    "- The HTTP Specification does not address the format of the body\n",
    "- Requests and Responses can be sent in any format that both support\n",
    "- Common formats:  HTML, plain text, JSON, XML, YAML, etc.\n",
    "- See the **Accept** and **Content-Type** headers (and the API docs!)"
   ]
  },
  {
   "cell_type": "markdown",
   "metadata": {},
   "source": [
    "### Request / Response Headers\n",
    "\n",
    "- Headers are just key/value pairs (remind you of anything?)\n",
    "- Values are always just text\n",
    "- Many standard headers, but some APIs may add custom ones\n",
    "\n",
    "#### Common Headers\n",
    "\n",
    "- **Location:** Specify location of requested resource  \n",
    "  Example: `Location: http://www.google.com`  \n",
    "- **Content-Type:** Format of the request body  \n",
    "  Example: `Content-Type: application/json`\n",
    "- **Accept:** Tells the server which body format to return  \n",
    "  Example: `Accept: application/xml`\n",
    "- **User Agent:** Information about the application sending the request  \n",
    "  Example: `User-Agent: curl/7.58.0`\n",
    "- **Cookies:** Misc key-value pairs stored at the client and resent on each request  \n",
    "  Example: `set-cookie: NID=212=v2D4SUIJMhZuI9NWCSmaxWXm0KP01ydT-3ptgttKK3E0dn8_CoixMhU3ql1JotoZ79UbRTDThg7c9APBoipLJjSdLv0H4CLmz7ozxzzqf57Pel4bohmWDpuFcBYT7_h58lkm4-x3OPnZo09bxOJw-LJQGWkurHOnJHioz21Sd30; expires=Sat, 02-Oct-2021 12:09:52 GMT; path=/; domain=.google.com; HttpOnly`"
   ]
  },
  {
   "cell_type": "markdown",
   "metadata": {},
   "source": [
    "## Lab:  HTTP Requests\n",
    "Using the `curl` Linux command line tool (install it with yum if you don't have it), make some web requests to sites you know.  Use the `-v` option (verbose) to see the details of the request and response, and identify the HTTP Method, URL, and Headers.\n",
    "\n",
    "**Bonus:** Using the curl man page (or web search), find out how to send different HTTP Methods with `curl` and try a few out, even those you know may not work, to see what responses you get."
   ]
  },
  {
   "cell_type": "markdown",
   "metadata": {
    "slideshow": {
     "slide_type": "slide"
    }
   },
   "source": [
    "## REST APIs in Python"
   ]
  },
  {
   "cell_type": "markdown",
   "metadata": {},
   "source": [
    "## To talk to a REST API in Python, we need to:\n",
    "* Make a web request\n",
    "* Parse the information it gives us\n",
    "* Luckily, Python gives us both in the standard library!"
   ]
  },
  {
   "cell_type": "markdown",
   "metadata": {},
   "source": [
    "## urllib: Package of modules for making and dealing with HTTP"
   ]
  },
  {
   "cell_type": "code",
   "execution_count": null,
   "metadata": {},
   "outputs": [],
   "source": [
    "from urllib.request import urlopen\n",
    "SECRET_KEY = '1d8c58ed1d54f96f939e706c788650f1'\n",
    "\n",
    "lat, long = (33.8840,-84.5144)  # Smyrna, GA\n",
    "\n",
    "url = 'https://api.darksky.net/forecast/{key}/{lat},{long}'.format(\n",
    "    key=SECRET_KEY, lat=lat, long=long)\n",
    "response = urlopen(url)  # Defaults to a GET request\n",
    "# Returns a file-like Response object, so we can read it just like File I/O\n",
    "print(response)\n",
    "print(dir(response))"
   ]
  },
  {
   "cell_type": "code",
   "execution_count": null,
   "metadata": {},
   "outputs": [],
   "source": [
    "forecast_data = response.read()\n",
    "print(forecast_data)"
   ]
  },
  {
   "cell_type": "markdown",
   "metadata": {},
   "source": [
    "## json: Parsing and creating JSON-formatted data"
   ]
  },
  {
   "cell_type": "code",
   "execution_count": null,
   "metadata": {},
   "outputs": [],
   "source": [
    "import json\n",
    "\n",
    "msg = json.loads('{\"language\": \"en\", \"name\": \"Fred\", \"color\": \"blue\"}')\n",
    "print(msg, type(msg))\n",
    "print(msg['color'])\n",
    "\n",
    "msg['color'] = 'green'\n",
    "s = json.dumps(msg)\n",
    "print(s, type(s))"
   ]
  },
  {
   "cell_type": "code",
   "execution_count": null,
   "metadata": {},
   "outputs": [],
   "source": [
    "forecast = json.loads(forecast_data)\n",
    "# Depending on the API, this can get really deep!  Consider breaking things down\n",
    "print(type(forecast))\n",
    "time = forecast['currently']['time']\n",
    "temp = forecast['currently']['temperature']\n",
    "print(time, temp)\n",
    "\n",
    "today = forecast['daily']['data'][0]\n",
    "\n",
    "print('Today - High: {high}, Low: {low}'.format(\n",
    "    high=today['temperatureHigh'], low=today['temperatureLow']))"
   ]
  },
  {
   "cell_type": "code",
   "execution_count": null,
   "metadata": {},
   "outputs": [],
   "source": [
    "from pprint import pprint\n",
    "pprint(forecast)"
   ]
  },
  {
   "cell_type": "markdown",
   "metadata": {},
   "source": [
    "## Advanced API tools:  Requests\n",
    "* Requests - HTTP for Humans:  http://docs.python-requests.org/en/master/\n",
    "* Nice methods for each HTTP verb\n",
    "* Easy response handling for most common data formats\n",
    "* Can handle cookies, authentication, streaming downloads\n",
    "* Lots of community support for advanced usage:  OAuth, Caching, Async"
   ]
  },
  {
   "cell_type": "code",
   "execution_count": null,
   "metadata": {},
   "outputs": [],
   "source": [
    "import requests"
   ]
  },
  {
   "cell_type": "code",
   "execution_count": null,
   "metadata": {},
   "outputs": [],
   "source": [
    "!pip3 install requests\n",
    "# OR python3 -m pip install requests"
   ]
  },
  {
   "cell_type": "code",
   "execution_count": null,
   "metadata": {},
   "outputs": [],
   "source": [
    "import requests\n",
    "response = requests.get('https://xkcd.com')\n",
    "print(response.text)\n",
    "print(response.headers)\n",
    "print(response.status_code)"
   ]
  },
  {
   "cell_type": "code",
   "execution_count": null,
   "metadata": {},
   "outputs": [],
   "source": [
    "help(requests.get)"
   ]
  },
  {
   "cell_type": "markdown",
   "metadata": {},
   "source": [
    "## Common API Response formats"
   ]
  },
  {
   "cell_type": "markdown",
   "metadata": {},
   "source": [
    "## CSV (Comma-Separated Values) / Delimited text\n",
    "* One of the simplest forms of data transfer formats\n",
    "* Often simply a direct dump from a database or spreadsheet\n",
    "* Very efficient data transfer (little metadata)\n",
    "* Popular in government data sources and data science\n",
    "* Has a few problems that make it less popular on the client side\n",
    "    * No data type support - everything is a string\n",
    "    * Delimeters in text need to be handled specially (usually quoting)\n",
    "    * There are several subtley different \"dialects\" from various tools (no real specification)\n",
    "    * Not terribly human-readable either"
   ]
  },
  {
   "cell_type": "code",
   "execution_count": 5,
   "metadata": {},
   "outputs": [
    {
     "ename": "SSLError",
     "evalue": "HTTPSConnectionPool(host='earthquake.usgs.gov', port=443): Max retries exceeded with url: /earthquakes/feed/v1.0/summary/1.0_hour.csv (Caused by SSLError(SSLCertVerificationError(1, '[SSL: CERTIFICATE_VERIFY_FAILED] certificate verify failed: unable to get local issuer certificate (_ssl.c:997)')))",
     "output_type": "error",
     "traceback": [
      "\u001b[0;31m---------------------------------------------------------------------------\u001b[0m",
      "\u001b[0;31mSSLCertVerificationError\u001b[0m                  Traceback (most recent call last)",
      "File \u001b[0;32m/Library/Frameworks/Python.framework/Versions/3.10/lib/python3.10/site-packages/urllib3/connectionpool.py:703\u001b[0m, in \u001b[0;36mHTTPConnectionPool.urlopen\u001b[0;34m(self, method, url, body, headers, retries, redirect, assert_same_host, timeout, pool_timeout, release_conn, chunked, body_pos, **response_kw)\u001b[0m\n\u001b[1;32m    702\u001b[0m \u001b[39m# Make the request on the httplib connection object.\u001b[39;00m\n\u001b[0;32m--> 703\u001b[0m httplib_response \u001b[39m=\u001b[39m \u001b[39mself\u001b[39;49m\u001b[39m.\u001b[39;49m_make_request(\n\u001b[1;32m    704\u001b[0m     conn,\n\u001b[1;32m    705\u001b[0m     method,\n\u001b[1;32m    706\u001b[0m     url,\n\u001b[1;32m    707\u001b[0m     timeout\u001b[39m=\u001b[39;49mtimeout_obj,\n\u001b[1;32m    708\u001b[0m     body\u001b[39m=\u001b[39;49mbody,\n\u001b[1;32m    709\u001b[0m     headers\u001b[39m=\u001b[39;49mheaders,\n\u001b[1;32m    710\u001b[0m     chunked\u001b[39m=\u001b[39;49mchunked,\n\u001b[1;32m    711\u001b[0m )\n\u001b[1;32m    713\u001b[0m \u001b[39m# If we're going to release the connection in ``finally:``, then\u001b[39;00m\n\u001b[1;32m    714\u001b[0m \u001b[39m# the response doesn't need to know about the connection. Otherwise\u001b[39;00m\n\u001b[1;32m    715\u001b[0m \u001b[39m# it will also try to release it and we'll have a double-release\u001b[39;00m\n\u001b[1;32m    716\u001b[0m \u001b[39m# mess.\u001b[39;00m\n",
      "File \u001b[0;32m/Library/Frameworks/Python.framework/Versions/3.10/lib/python3.10/site-packages/urllib3/connectionpool.py:386\u001b[0m, in \u001b[0;36mHTTPConnectionPool._make_request\u001b[0;34m(self, conn, method, url, timeout, chunked, **httplib_request_kw)\u001b[0m\n\u001b[1;32m    385\u001b[0m \u001b[39mtry\u001b[39;00m:\n\u001b[0;32m--> 386\u001b[0m     \u001b[39mself\u001b[39;49m\u001b[39m.\u001b[39;49m_validate_conn(conn)\n\u001b[1;32m    387\u001b[0m \u001b[39mexcept\u001b[39;00m (SocketTimeout, BaseSSLError) \u001b[39mas\u001b[39;00m e:\n\u001b[1;32m    388\u001b[0m     \u001b[39m# Py2 raises this as a BaseSSLError, Py3 raises it as socket timeout.\u001b[39;00m\n",
      "File \u001b[0;32m/Library/Frameworks/Python.framework/Versions/3.10/lib/python3.10/site-packages/urllib3/connectionpool.py:1042\u001b[0m, in \u001b[0;36mHTTPSConnectionPool._validate_conn\u001b[0;34m(self, conn)\u001b[0m\n\u001b[1;32m   1041\u001b[0m \u001b[39mif\u001b[39;00m \u001b[39mnot\u001b[39;00m \u001b[39mgetattr\u001b[39m(conn, \u001b[39m\"\u001b[39m\u001b[39msock\u001b[39m\u001b[39m\"\u001b[39m, \u001b[39mNone\u001b[39;00m):  \u001b[39m# AppEngine might not have  `.sock`\u001b[39;00m\n\u001b[0;32m-> 1042\u001b[0m     conn\u001b[39m.\u001b[39;49mconnect()\n\u001b[1;32m   1044\u001b[0m \u001b[39mif\u001b[39;00m \u001b[39mnot\u001b[39;00m conn\u001b[39m.\u001b[39mis_verified:\n",
      "File \u001b[0;32m/Library/Frameworks/Python.framework/Versions/3.10/lib/python3.10/site-packages/urllib3/connection.py:414\u001b[0m, in \u001b[0;36mHTTPSConnection.connect\u001b[0;34m(self)\u001b[0m\n\u001b[1;32m    412\u001b[0m     context\u001b[39m.\u001b[39mload_default_certs()\n\u001b[0;32m--> 414\u001b[0m \u001b[39mself\u001b[39m\u001b[39m.\u001b[39msock \u001b[39m=\u001b[39m ssl_wrap_socket(\n\u001b[1;32m    415\u001b[0m     sock\u001b[39m=\u001b[39;49mconn,\n\u001b[1;32m    416\u001b[0m     keyfile\u001b[39m=\u001b[39;49m\u001b[39mself\u001b[39;49m\u001b[39m.\u001b[39;49mkey_file,\n\u001b[1;32m    417\u001b[0m     certfile\u001b[39m=\u001b[39;49m\u001b[39mself\u001b[39;49m\u001b[39m.\u001b[39;49mcert_file,\n\u001b[1;32m    418\u001b[0m     key_password\u001b[39m=\u001b[39;49m\u001b[39mself\u001b[39;49m\u001b[39m.\u001b[39;49mkey_password,\n\u001b[1;32m    419\u001b[0m     ca_certs\u001b[39m=\u001b[39;49m\u001b[39mself\u001b[39;49m\u001b[39m.\u001b[39;49mca_certs,\n\u001b[1;32m    420\u001b[0m     ca_cert_dir\u001b[39m=\u001b[39;49m\u001b[39mself\u001b[39;49m\u001b[39m.\u001b[39;49mca_cert_dir,\n\u001b[1;32m    421\u001b[0m     ca_cert_data\u001b[39m=\u001b[39;49m\u001b[39mself\u001b[39;49m\u001b[39m.\u001b[39;49mca_cert_data,\n\u001b[1;32m    422\u001b[0m     server_hostname\u001b[39m=\u001b[39;49mserver_hostname,\n\u001b[1;32m    423\u001b[0m     ssl_context\u001b[39m=\u001b[39;49mcontext,\n\u001b[1;32m    424\u001b[0m     tls_in_tls\u001b[39m=\u001b[39;49mtls_in_tls,\n\u001b[1;32m    425\u001b[0m )\n\u001b[1;32m    427\u001b[0m \u001b[39m# If we're using all defaults and the connection\u001b[39;00m\n\u001b[1;32m    428\u001b[0m \u001b[39m# is TLSv1 or TLSv1.1 we throw a DeprecationWarning\u001b[39;00m\n\u001b[1;32m    429\u001b[0m \u001b[39m# for the host.\u001b[39;00m\n",
      "File \u001b[0;32m/Library/Frameworks/Python.framework/Versions/3.10/lib/python3.10/site-packages/urllib3/util/ssl_.py:449\u001b[0m, in \u001b[0;36mssl_wrap_socket\u001b[0;34m(sock, keyfile, certfile, cert_reqs, ca_certs, server_hostname, ssl_version, ciphers, ssl_context, ca_cert_dir, key_password, ca_cert_data, tls_in_tls)\u001b[0m\n\u001b[1;32m    448\u001b[0m \u001b[39mif\u001b[39;00m send_sni:\n\u001b[0;32m--> 449\u001b[0m     ssl_sock \u001b[39m=\u001b[39m _ssl_wrap_socket_impl(\n\u001b[1;32m    450\u001b[0m         sock, context, tls_in_tls, server_hostname\u001b[39m=\u001b[39;49mserver_hostname\n\u001b[1;32m    451\u001b[0m     )\n\u001b[1;32m    452\u001b[0m \u001b[39melse\u001b[39;00m:\n",
      "File \u001b[0;32m/Library/Frameworks/Python.framework/Versions/3.10/lib/python3.10/site-packages/urllib3/util/ssl_.py:493\u001b[0m, in \u001b[0;36m_ssl_wrap_socket_impl\u001b[0;34m(sock, ssl_context, tls_in_tls, server_hostname)\u001b[0m\n\u001b[1;32m    492\u001b[0m \u001b[39mif\u001b[39;00m server_hostname:\n\u001b[0;32m--> 493\u001b[0m     \u001b[39mreturn\u001b[39;00m ssl_context\u001b[39m.\u001b[39;49mwrap_socket(sock, server_hostname\u001b[39m=\u001b[39;49mserver_hostname)\n\u001b[1;32m    494\u001b[0m \u001b[39melse\u001b[39;00m:\n",
      "File \u001b[0;32m/Library/Frameworks/Python.framework/Versions/3.10/lib/python3.10/ssl.py:513\u001b[0m, in \u001b[0;36mSSLContext.wrap_socket\u001b[0;34m(self, sock, server_side, do_handshake_on_connect, suppress_ragged_eofs, server_hostname, session)\u001b[0m\n\u001b[1;32m    507\u001b[0m \u001b[39mdef\u001b[39;00m \u001b[39mwrap_socket\u001b[39m(\u001b[39mself\u001b[39m, sock, server_side\u001b[39m=\u001b[39m\u001b[39mFalse\u001b[39;00m,\n\u001b[1;32m    508\u001b[0m                 do_handshake_on_connect\u001b[39m=\u001b[39m\u001b[39mTrue\u001b[39;00m,\n\u001b[1;32m    509\u001b[0m                 suppress_ragged_eofs\u001b[39m=\u001b[39m\u001b[39mTrue\u001b[39;00m,\n\u001b[1;32m    510\u001b[0m                 server_hostname\u001b[39m=\u001b[39m\u001b[39mNone\u001b[39;00m, session\u001b[39m=\u001b[39m\u001b[39mNone\u001b[39;00m):\n\u001b[1;32m    511\u001b[0m     \u001b[39m# SSLSocket class handles server_hostname encoding before it calls\u001b[39;00m\n\u001b[1;32m    512\u001b[0m     \u001b[39m# ctx._wrap_socket()\u001b[39;00m\n\u001b[0;32m--> 513\u001b[0m     \u001b[39mreturn\u001b[39;00m \u001b[39mself\u001b[39;49m\u001b[39m.\u001b[39;49msslsocket_class\u001b[39m.\u001b[39;49m_create(\n\u001b[1;32m    514\u001b[0m         sock\u001b[39m=\u001b[39;49msock,\n\u001b[1;32m    515\u001b[0m         server_side\u001b[39m=\u001b[39;49mserver_side,\n\u001b[1;32m    516\u001b[0m         do_handshake_on_connect\u001b[39m=\u001b[39;49mdo_handshake_on_connect,\n\u001b[1;32m    517\u001b[0m         suppress_ragged_eofs\u001b[39m=\u001b[39;49msuppress_ragged_eofs,\n\u001b[1;32m    518\u001b[0m         server_hostname\u001b[39m=\u001b[39;49mserver_hostname,\n\u001b[1;32m    519\u001b[0m         context\u001b[39m=\u001b[39;49m\u001b[39mself\u001b[39;49m,\n\u001b[1;32m    520\u001b[0m         session\u001b[39m=\u001b[39;49msession\n\u001b[1;32m    521\u001b[0m     )\n",
      "File \u001b[0;32m/Library/Frameworks/Python.framework/Versions/3.10/lib/python3.10/ssl.py:1071\u001b[0m, in \u001b[0;36mSSLSocket._create\u001b[0;34m(cls, sock, server_side, do_handshake_on_connect, suppress_ragged_eofs, server_hostname, context, session)\u001b[0m\n\u001b[1;32m   1070\u001b[0m             \u001b[39mraise\u001b[39;00m \u001b[39mValueError\u001b[39;00m(\u001b[39m\"\u001b[39m\u001b[39mdo_handshake_on_connect should not be specified for non-blocking sockets\u001b[39m\u001b[39m\"\u001b[39m)\n\u001b[0;32m-> 1071\u001b[0m         \u001b[39mself\u001b[39;49m\u001b[39m.\u001b[39;49mdo_handshake()\n\u001b[1;32m   1072\u001b[0m \u001b[39mexcept\u001b[39;00m (\u001b[39mOSError\u001b[39;00m, \u001b[39mValueError\u001b[39;00m):\n",
      "File \u001b[0;32m/Library/Frameworks/Python.framework/Versions/3.10/lib/python3.10/ssl.py:1342\u001b[0m, in \u001b[0;36mSSLSocket.do_handshake\u001b[0;34m(self, block)\u001b[0m\n\u001b[1;32m   1341\u001b[0m         \u001b[39mself\u001b[39m\u001b[39m.\u001b[39msettimeout(\u001b[39mNone\u001b[39;00m)\n\u001b[0;32m-> 1342\u001b[0m     \u001b[39mself\u001b[39;49m\u001b[39m.\u001b[39;49m_sslobj\u001b[39m.\u001b[39;49mdo_handshake()\n\u001b[1;32m   1343\u001b[0m \u001b[39mfinally\u001b[39;00m:\n",
      "\u001b[0;31mSSLCertVerificationError\u001b[0m: [SSL: CERTIFICATE_VERIFY_FAILED] certificate verify failed: unable to get local issuer certificate (_ssl.c:997)",
      "\nDuring handling of the above exception, another exception occurred:\n",
      "\u001b[0;31mMaxRetryError\u001b[0m                             Traceback (most recent call last)",
      "File \u001b[0;32m/Library/Frameworks/Python.framework/Versions/3.10/lib/python3.10/site-packages/requests/adapters.py:489\u001b[0m, in \u001b[0;36mHTTPAdapter.send\u001b[0;34m(self, request, stream, timeout, verify, cert, proxies)\u001b[0m\n\u001b[1;32m    488\u001b[0m \u001b[39mif\u001b[39;00m \u001b[39mnot\u001b[39;00m chunked:\n\u001b[0;32m--> 489\u001b[0m     resp \u001b[39m=\u001b[39m conn\u001b[39m.\u001b[39;49murlopen(\n\u001b[1;32m    490\u001b[0m         method\u001b[39m=\u001b[39;49mrequest\u001b[39m.\u001b[39;49mmethod,\n\u001b[1;32m    491\u001b[0m         url\u001b[39m=\u001b[39;49murl,\n\u001b[1;32m    492\u001b[0m         body\u001b[39m=\u001b[39;49mrequest\u001b[39m.\u001b[39;49mbody,\n\u001b[1;32m    493\u001b[0m         headers\u001b[39m=\u001b[39;49mrequest\u001b[39m.\u001b[39;49mheaders,\n\u001b[1;32m    494\u001b[0m         redirect\u001b[39m=\u001b[39;49m\u001b[39mFalse\u001b[39;49;00m,\n\u001b[1;32m    495\u001b[0m         assert_same_host\u001b[39m=\u001b[39;49m\u001b[39mFalse\u001b[39;49;00m,\n\u001b[1;32m    496\u001b[0m         preload_content\u001b[39m=\u001b[39;49m\u001b[39mFalse\u001b[39;49;00m,\n\u001b[1;32m    497\u001b[0m         decode_content\u001b[39m=\u001b[39;49m\u001b[39mFalse\u001b[39;49;00m,\n\u001b[1;32m    498\u001b[0m         retries\u001b[39m=\u001b[39;49m\u001b[39mself\u001b[39;49m\u001b[39m.\u001b[39;49mmax_retries,\n\u001b[1;32m    499\u001b[0m         timeout\u001b[39m=\u001b[39;49mtimeout,\n\u001b[1;32m    500\u001b[0m     )\n\u001b[1;32m    502\u001b[0m \u001b[39m# Send the request.\u001b[39;00m\n\u001b[1;32m    503\u001b[0m \u001b[39melse\u001b[39;00m:\n",
      "File \u001b[0;32m/Library/Frameworks/Python.framework/Versions/3.10/lib/python3.10/site-packages/urllib3/connectionpool.py:787\u001b[0m, in \u001b[0;36mHTTPConnectionPool.urlopen\u001b[0;34m(self, method, url, body, headers, retries, redirect, assert_same_host, timeout, pool_timeout, release_conn, chunked, body_pos, **response_kw)\u001b[0m\n\u001b[1;32m    785\u001b[0m     e \u001b[39m=\u001b[39m ProtocolError(\u001b[39m\"\u001b[39m\u001b[39mConnection aborted.\u001b[39m\u001b[39m\"\u001b[39m, e)\n\u001b[0;32m--> 787\u001b[0m retries \u001b[39m=\u001b[39m retries\u001b[39m.\u001b[39;49mincrement(\n\u001b[1;32m    788\u001b[0m     method, url, error\u001b[39m=\u001b[39;49me, _pool\u001b[39m=\u001b[39;49m\u001b[39mself\u001b[39;49m, _stacktrace\u001b[39m=\u001b[39;49msys\u001b[39m.\u001b[39;49mexc_info()[\u001b[39m2\u001b[39;49m]\n\u001b[1;32m    789\u001b[0m )\n\u001b[1;32m    790\u001b[0m retries\u001b[39m.\u001b[39msleep()\n",
      "File \u001b[0;32m/Library/Frameworks/Python.framework/Versions/3.10/lib/python3.10/site-packages/urllib3/util/retry.py:592\u001b[0m, in \u001b[0;36mRetry.increment\u001b[0;34m(self, method, url, response, error, _pool, _stacktrace)\u001b[0m\n\u001b[1;32m    591\u001b[0m \u001b[39mif\u001b[39;00m new_retry\u001b[39m.\u001b[39mis_exhausted():\n\u001b[0;32m--> 592\u001b[0m     \u001b[39mraise\u001b[39;00m MaxRetryError(_pool, url, error \u001b[39mor\u001b[39;00m ResponseError(cause))\n\u001b[1;32m    594\u001b[0m log\u001b[39m.\u001b[39mdebug(\u001b[39m\"\u001b[39m\u001b[39mIncremented Retry for (url=\u001b[39m\u001b[39m'\u001b[39m\u001b[39m%s\u001b[39;00m\u001b[39m'\u001b[39m\u001b[39m): \u001b[39m\u001b[39m%r\u001b[39;00m\u001b[39m\"\u001b[39m, url, new_retry)\n",
      "\u001b[0;31mMaxRetryError\u001b[0m: HTTPSConnectionPool(host='earthquake.usgs.gov', port=443): Max retries exceeded with url: /earthquakes/feed/v1.0/summary/1.0_hour.csv (Caused by SSLError(SSLCertVerificationError(1, '[SSL: CERTIFICATE_VERIFY_FAILED] certificate verify failed: unable to get local issuer certificate (_ssl.c:997)')))",
      "\nDuring handling of the above exception, another exception occurred:\n",
      "\u001b[0;31mSSLError\u001b[0m                                  Traceback (most recent call last)",
      "Cell \u001b[0;32mIn [5], line 5\u001b[0m\n\u001b[1;32m      2\u001b[0m \u001b[38;5;28;01mimport\u001b[39;00m \u001b[38;5;21;01mcsv\u001b[39;00m\n\u001b[1;32m      4\u001b[0m \u001b[38;5;66;03m# Hourly earthquake data for earthquakes over 1.0 magnitude, per USGS\u001b[39;00m\n\u001b[0;32m----> 5\u001b[0m response \u001b[38;5;241m=\u001b[39m \u001b[43mrequests\u001b[49m\u001b[38;5;241;43m.\u001b[39;49m\u001b[43mget\u001b[49m\u001b[43m(\u001b[49m\u001b[38;5;124;43m'\u001b[39;49m\u001b[38;5;124;43mhttps://earthquake.usgs.gov/earthquakes/feed/v1.0/summary/1.0_hour.csv\u001b[39;49m\u001b[38;5;124;43m'\u001b[39;49m\u001b[43m)\u001b[49m\n\u001b[1;32m      6\u001b[0m \u001b[38;5;28mprint\u001b[39m(response\u001b[38;5;241m.\u001b[39mtext)\n\u001b[1;32m      7\u001b[0m \u001b[38;5;66;03m# Sometimes we have to deal with different data encodings (ASCII, UTF-8, etc.)\u001b[39;00m\n",
      "File \u001b[0;32m/Library/Frameworks/Python.framework/Versions/3.10/lib/python3.10/site-packages/requests/api.py:73\u001b[0m, in \u001b[0;36mget\u001b[0;34m(url, params, **kwargs)\u001b[0m\n\u001b[1;32m     62\u001b[0m \u001b[39mdef\u001b[39;00m \u001b[39mget\u001b[39m(url, params\u001b[39m=\u001b[39m\u001b[39mNone\u001b[39;00m, \u001b[39m*\u001b[39m\u001b[39m*\u001b[39mkwargs):\n\u001b[1;32m     63\u001b[0m     \u001b[39mr\u001b[39m\u001b[39m\"\"\"Sends a GET request.\u001b[39;00m\n\u001b[1;32m     64\u001b[0m \n\u001b[1;32m     65\u001b[0m \u001b[39m    :param url: URL for the new :class:`Request` object.\u001b[39;00m\n\u001b[0;32m   (...)\u001b[0m\n\u001b[1;32m     70\u001b[0m \u001b[39m    :rtype: requests.Response\u001b[39;00m\n\u001b[1;32m     71\u001b[0m \u001b[39m    \"\"\"\u001b[39;00m\n\u001b[0;32m---> 73\u001b[0m     \u001b[39mreturn\u001b[39;00m request(\u001b[39m\"\u001b[39;49m\u001b[39mget\u001b[39;49m\u001b[39m\"\u001b[39;49m, url, params\u001b[39m=\u001b[39;49mparams, \u001b[39m*\u001b[39;49m\u001b[39m*\u001b[39;49mkwargs)\n",
      "File \u001b[0;32m/Library/Frameworks/Python.framework/Versions/3.10/lib/python3.10/site-packages/requests/api.py:59\u001b[0m, in \u001b[0;36mrequest\u001b[0;34m(method, url, **kwargs)\u001b[0m\n\u001b[1;32m     55\u001b[0m \u001b[39m# By using the 'with' statement we are sure the session is closed, thus we\u001b[39;00m\n\u001b[1;32m     56\u001b[0m \u001b[39m# avoid leaving sockets open which can trigger a ResourceWarning in some\u001b[39;00m\n\u001b[1;32m     57\u001b[0m \u001b[39m# cases, and look like a memory leak in others.\u001b[39;00m\n\u001b[1;32m     58\u001b[0m \u001b[39mwith\u001b[39;00m sessions\u001b[39m.\u001b[39mSession() \u001b[39mas\u001b[39;00m session:\n\u001b[0;32m---> 59\u001b[0m     \u001b[39mreturn\u001b[39;00m session\u001b[39m.\u001b[39;49mrequest(method\u001b[39m=\u001b[39;49mmethod, url\u001b[39m=\u001b[39;49murl, \u001b[39m*\u001b[39;49m\u001b[39m*\u001b[39;49mkwargs)\n",
      "File \u001b[0;32m/Library/Frameworks/Python.framework/Versions/3.10/lib/python3.10/site-packages/requests/sessions.py:587\u001b[0m, in \u001b[0;36mSession.request\u001b[0;34m(self, method, url, params, data, headers, cookies, files, auth, timeout, allow_redirects, proxies, hooks, stream, verify, cert, json)\u001b[0m\n\u001b[1;32m    582\u001b[0m send_kwargs \u001b[39m=\u001b[39m {\n\u001b[1;32m    583\u001b[0m     \u001b[39m\"\u001b[39m\u001b[39mtimeout\u001b[39m\u001b[39m\"\u001b[39m: timeout,\n\u001b[1;32m    584\u001b[0m     \u001b[39m\"\u001b[39m\u001b[39mallow_redirects\u001b[39m\u001b[39m\"\u001b[39m: allow_redirects,\n\u001b[1;32m    585\u001b[0m }\n\u001b[1;32m    586\u001b[0m send_kwargs\u001b[39m.\u001b[39mupdate(settings)\n\u001b[0;32m--> 587\u001b[0m resp \u001b[39m=\u001b[39m \u001b[39mself\u001b[39;49m\u001b[39m.\u001b[39;49msend(prep, \u001b[39m*\u001b[39;49m\u001b[39m*\u001b[39;49msend_kwargs)\n\u001b[1;32m    589\u001b[0m \u001b[39mreturn\u001b[39;00m resp\n",
      "File \u001b[0;32m/Library/Frameworks/Python.framework/Versions/3.10/lib/python3.10/site-packages/requests/sessions.py:701\u001b[0m, in \u001b[0;36mSession.send\u001b[0;34m(self, request, **kwargs)\u001b[0m\n\u001b[1;32m    698\u001b[0m start \u001b[39m=\u001b[39m preferred_clock()\n\u001b[1;32m    700\u001b[0m \u001b[39m# Send the request\u001b[39;00m\n\u001b[0;32m--> 701\u001b[0m r \u001b[39m=\u001b[39m adapter\u001b[39m.\u001b[39;49msend(request, \u001b[39m*\u001b[39;49m\u001b[39m*\u001b[39;49mkwargs)\n\u001b[1;32m    703\u001b[0m \u001b[39m# Total elapsed time of the request (approximately)\u001b[39;00m\n\u001b[1;32m    704\u001b[0m elapsed \u001b[39m=\u001b[39m preferred_clock() \u001b[39m-\u001b[39m start\n",
      "File \u001b[0;32m/Library/Frameworks/Python.framework/Versions/3.10/lib/python3.10/site-packages/requests/adapters.py:563\u001b[0m, in \u001b[0;36mHTTPAdapter.send\u001b[0;34m(self, request, stream, timeout, verify, cert, proxies)\u001b[0m\n\u001b[1;32m    559\u001b[0m         \u001b[39mraise\u001b[39;00m ProxyError(e, request\u001b[39m=\u001b[39mrequest)\n\u001b[1;32m    561\u001b[0m     \u001b[39mif\u001b[39;00m \u001b[39misinstance\u001b[39m(e\u001b[39m.\u001b[39mreason, _SSLError):\n\u001b[1;32m    562\u001b[0m         \u001b[39m# This branch is for urllib3 v1.22 and later.\u001b[39;00m\n\u001b[0;32m--> 563\u001b[0m         \u001b[39mraise\u001b[39;00m SSLError(e, request\u001b[39m=\u001b[39mrequest)\n\u001b[1;32m    565\u001b[0m     \u001b[39mraise\u001b[39;00m \u001b[39mConnectionError\u001b[39;00m(e, request\u001b[39m=\u001b[39mrequest)\n\u001b[1;32m    567\u001b[0m \u001b[39mexcept\u001b[39;00m ClosedPoolError \u001b[39mas\u001b[39;00m e:\n",
      "\u001b[0;31mSSLError\u001b[0m: HTTPSConnectionPool(host='earthquake.usgs.gov', port=443): Max retries exceeded with url: /earthquakes/feed/v1.0/summary/1.0_hour.csv (Caused by SSLError(SSLCertVerificationError(1, '[SSL: CERTIFICATE_VERIFY_FAILED] certificate verify failed: unable to get local issuer certificate (_ssl.c:997)')))"
     ]
    }
   ],
   "source": [
    "import requests\n",
    "import csv\n",
    "\n",
    "# Hourly earthquake data for earthquakes over 1.0 magnitude, per USGS\n",
    "response = requests.get('https://earthquake.usgs.gov/earthquakes/feed/v1.0/summary/1.0_hour.csv')\n",
    "print(response.text)\n",
    "# Sometimes we have to deal with different data encodings (ASCII, UTF-8, etc.)\n",
    "reader = csv.DictReader(response.iter_lines(decode_unicode=True))\n",
    "for row in reader:\n",
    "    print(row['time'], row['place'], row['mag'])"
   ]
  },
  {
   "cell_type": "markdown",
   "metadata": {},
   "source": [
    "## XML (eXtensible Markup Language)\n",
    "* Became popular as the Web took off (late 1990s)\n",
    "* Intended to be very easy for humans to read (compared to binary formats)\n",
    "* Text only - once again to avoid prior binary protocols\n",
    "* No data types - everything is a string\n",
    "* Very verbose format - not great efficiency for very large files\n",
    "* Not really streamable (there are workarounds)\n",
    "* Official spec (but there are many extensions):\n",
    "* Still very popular as a configuration format (C#, Java, etc)"
   ]
  },
  {
   "cell_type": "code",
   "execution_count": null,
   "metadata": {},
   "outputs": [],
   "source": [
    "import requests\n",
    "from xml.etree import ElementTree as ET\n",
    "\n",
    "response = requests.get('https://earthquake.usgs.gov/earthquakes/feed/v1.0/summary/1.0_week_age_link.kml')\n",
    "\n",
    "print(response.text)\n",
    "print()\n",
    "root = ET.fromstring(response.text)\n",
    "print(root.tag)\n",
    "document = root.find('{http://www.opengis.net/kml/2.2}Document')\n",
    "for child in document:\n",
    "    print(child.tag)\n",
    "    print(child.text)"
   ]
  },
  {
   "cell_type": "markdown",
   "metadata": {},
   "source": [
    "## JSON (JavaScript Object Notation)\n",
    "* Syntax is valid, literal JavaScript objects\n",
    "* Gained rapid popularity because it is simple concise, and easy to deal with in JavaScript\n",
    "* Translates easily to Python objects\n",
    "* Still pretty human readable\n",
    "* Supports a limited set of data types (number, string, boolean, \"object\", and array)\n",
    "* Has an official specification:  https://www.json.org/json-en.html"
   ]
  },
  {
   "cell_type": "code",
   "execution_count": null,
   "metadata": {
    "scrolled": true
   },
   "outputs": [],
   "source": [
    "import requests\n",
    "\n",
    "response = requests.get('https://earthquake.usgs.gov/earthquakes/feed/v1.0/summary/1.0_hour.geojson')\n",
    "\n",
    "data = response.json()\n",
    "print(data)\n",
    "print()\n",
    "for record in data['features']:\n",
    "    print(record['properties']['time'], record['properties']['place'], record['properties']['mag'])"
   ]
  },
  {
   "cell_type": "markdown",
   "metadata": {},
   "source": [
    "## Lab: API Requests\n",
    "\n",
    "* Using the `requests` package, and the API key above, write a function that makes a request for your own location to the DarkSky API, and print out the response data."
   ]
  },
  {
   "cell_type": "code",
   "execution_count": null,
   "metadata": {},
   "outputs": [],
   "source": []
  },
  {
   "cell_type": "markdown",
   "metadata": {},
   "source": [
    "## Other API concerns\n",
    "* Not all APIs are RESTful - you may need to deal with a proprietary protocol or simply request files\n",
    "* Authorization - many APIs require keys, tokens, or other credentials\n",
    "* Network outages\n",
    "* Rate limiting, tiering of access"
   ]
  },
  {
   "cell_type": "markdown",
   "metadata": {},
   "source": [
    "## But what if the site or web app doesn't offer an API?"
   ]
  },
  {
   "cell_type": "markdown",
   "metadata": {},
   "source": [
    "# Web Scraping\n",
    "\n",
    "### Requesting web pages built to render displays for HUMANS and extracting the information we want"
   ]
  },
  {
   "cell_type": "markdown",
   "metadata": {},
   "source": [
    "## Why should web scraping be a fallback?\n",
    "* More manual trial and error up front\n",
    "* Pages meant for humans may change frequently for any reason\n",
    "* Pages meant for display may have data scattered or buried\n",
    "* Popularity of Javascript frameworks may make data even harder to find"
   ]
  },
  {
   "cell_type": "markdown",
   "metadata": {},
   "source": [
    "## BeautifulSoup - Python package for parsing HTML\n",
    "* Offers support for various parsers (html, xml, lxml)\n",
    "* Provides easy methods and properties for navigating the markup \"tree\"\n",
    "* Search by HTML tags, attributes, CSS class, etc.\n",
    "* Regular expression support"
   ]
  },
  {
   "cell_type": "code",
   "execution_count": null,
   "metadata": {},
   "outputs": [],
   "source": [
    "import requests\n",
    "import bs4\n",
    "\n",
    "response = requests.get('https://cnn.com')\n",
    "soup = bs4.BeautifulSoup(response.text)\n",
    "soup"
   ]
  },
  {
   "cell_type": "code",
   "execution_count": null,
   "metadata": {},
   "outputs": [],
   "source": [
    "soup.title"
   ]
  },
  {
   "cell_type": "code",
   "execution_count": null,
   "metadata": {},
   "outputs": [],
   "source": [
    "soup.body.div"
   ]
  },
  {
   "cell_type": "code",
   "execution_count": null,
   "metadata": {},
   "outputs": [],
   "source": [
    "for child in soup.body.children:\n",
    "    print(child)"
   ]
  },
  {
   "cell_type": "code",
   "execution_count": null,
   "metadata": {},
   "outputs": [],
   "source": [
    "soup.find_all('a')"
   ]
  },
  {
   "cell_type": "markdown",
   "metadata": {},
   "source": [
    "## That's a mess - but sometimes we can cheat a little..."
   ]
  },
  {
   "cell_type": "code",
   "execution_count": null,
   "metadata": {},
   "outputs": [],
   "source": [
    "response = requests.get('http://rss.cnn.com/rss/cnn_topstories.rss')\n",
    "soup = bs4.BeautifulSoup(response.text)\n",
    "\n",
    "soup.rss.find_all('title')"
   ]
  },
  {
   "cell_type": "code",
   "execution_count": null,
   "metadata": {},
   "outputs": [],
   "source": [
    "headlines = [node.string for node in soup.rss.find_all('title')]\n",
    "headlines"
   ]
  },
  {
   "cell_type": "markdown",
   "metadata": {},
   "source": [
    "## Bonus Lab:  Web Scraping\n",
    "\n",
    "Using BeautifulSoup4, scrap the Wikipedia page for the History Python to obtain the following information:\n",
    "* What is the sum total length of support time for each major version of Python (i.e. 0.x, 1.x, 2.x, 3.x)\n",
    "* How much time was each major version supported after the next major version appeared?\n",
    "* Display the list of the final version for each major version"
   ]
  },
  {
   "cell_type": "markdown",
   "metadata": {},
   "source": [
    "## Python and Databases"
   ]
  },
  {
   "cell_type": "markdown",
   "metadata": {},
   "source": [
    "## DBAPI2:  The Python way to handle databases\n",
    "\n",
    "DBAPI2 is an API specification (https://www.python.org/dev/peps/pep-0249/) that defines a set of Python objects that are available when querying database engines.  While there are a very large number of database engines, and several database connectivity standards (ODBC, JDBC, etc), the DBAPI2 objects are what you see on the Python side.\n",
    "\n",
    "DBAPI2 **is**:\n",
    "* A common interface in Python that makes it simpler to switch databases\n",
    "* Provided by Python database driver packages\n",
    "* Simple and straightforward\n",
    "\n",
    "DBAPI2 **is not**:\n",
    "* A translation layer for SQL queries\n",
    "* An Object-Relational Mapper\n",
    "* A Python implementation of any database-specific features"
   ]
  },
  {
   "cell_type": "markdown",
   "metadata": {},
   "source": [
    "## `sqlite3` - The built-in database\n",
    "* Open-source database engine\n",
    "* Simple file-based storage\n",
    "* Great for prototyping\n",
    "* SQL compliant (almost)\n",
    "* Does NOT support parallel access (don't put it in production web apps!)"
   ]
  },
  {
   "cell_type": "code",
   "execution_count": null,
   "metadata": {},
   "outputs": [],
   "source": [
    "query = \"\"\"\n",
    "CREATE TABLE users (user_id INTEGER, username TEXT, email TEXT, pto_days REAL)\n",
    "\"\"\""
   ]
  },
  {
   "cell_type": "code",
   "execution_count": null,
   "metadata": {},
   "outputs": [],
   "source": [
    "import sqlite3\n",
    "\n",
    "# \"Connect\" to the database\n",
    "conn = sqlite3.connect('example.db')\n",
    "\n",
    "# Get a cursor from the connection\n",
    "cursor = conn.cursor()\n",
    "\n",
    "# Execute a SQL query\n",
    "cursor.execute(query)\n",
    "\n",
    "# Inspect the results, if any\n",
    "result = cursor.fetchone()\n",
    "print(result)\n",
    "\n",
    "\n",
    "# Commit the changes\n",
    "conn.commit()\n",
    "# Close the connection\n",
    "conn.close()"
   ]
  },
  {
   "cell_type": "code",
   "execution_count": null,
   "metadata": {},
   "outputs": [],
   "source": [
    "!ls -al *.db"
   ]
  },
  {
   "cell_type": "code",
   "execution_count": null,
   "metadata": {},
   "outputs": [],
   "source": [
    "insert_query = \"\"\"\n",
    "INSERT INTO users\n",
    "VALUES\n",
    "(1, \"jrrickerson\", \"jrrickerson@redrivetstudios.com\", 15.0),\n",
    "(2, \"dave\", \"dws@developintelligence.com\", 20.0),\n",
    "(3, \"ace\", \"ace@developintelligence.com\", 11.5);\n",
    "\"\"\"\n",
    "\n",
    "conn = sqlite3.connect('example.db')\n",
    "cursor = conn.cursor()\n",
    "cursor.execute(insert_query)\n",
    "result = cursor.fetchone()\n",
    "print(result)\n",
    "\n",
    "conn.commit()\n",
    "conn.close()"
   ]
  },
  {
   "cell_type": "code",
   "execution_count": null,
   "metadata": {},
   "outputs": [],
   "source": [
    "# Support for \"with\"\n",
    "\n",
    "with sqlite3.connect('example.db') as conn:\n",
    "    query = 'SELECT * FROM users'\n",
    "    cursor = conn.cursor()\n",
    "    cursor.execute(query)\n",
    "    result = cursor.fetchall()\n",
    "    print(result)"
   ]
  },
  {
   "cell_type": "code",
   "execution_count": null,
   "metadata": {},
   "outputs": [],
   "source": [
    "# Cursors support iteration\n",
    "\n",
    "with sqlite3.connect('example.db') as conn:\n",
    "    query = 'SELECT * FROM users'\n",
    "    cursor = conn.cursor()\n",
    "    for row in cursor.execute(query):\n",
    "        print(row[1], row[3])"
   ]
  },
  {
   "cell_type": "code",
   "execution_count": null,
   "metadata": {},
   "outputs": [],
   "source": [
    "# Row objects allow column lookups\n",
    "\n",
    "with sqlite3.connect('example.db') as conn:\n",
    "    query = 'SELECT * FROM users'\n",
    "    conn.row_factory = sqlite3.Row\n",
    "    cursor = conn.cursor()\n",
    "    cursor.execute(query)\n",
    "    for row in cursor:\n",
    "        print(row['username'], row['pto_days'])\n",
    "    print(row.keys())"
   ]
  },
  {
   "cell_type": "code",
   "execution_count": null,
   "metadata": {},
   "outputs": [],
   "source": [
    "query = \"\"\"\n",
    "INSERT INTO users\n",
    "VALUES\n",
    "    (?, ?, ?, ?)\"\"\""
   ]
  },
  {
   "cell_type": "code",
   "execution_count": null,
   "metadata": {},
   "outputs": [],
   "source": [
    "username = input('Enter username: ')\n",
    "email = input('Enter email: ')\n",
    "userid = input('Enter ID: ')\n",
    "days = input('Enter PTO: ')"
   ]
  },
  {
   "cell_type": "code",
   "execution_count": null,
   "metadata": {},
   "outputs": [],
   "source": [
    "with sqlite3.connect('example.db') as conn:\n",
    "    cursor = conn.cursor()\n",
    "    cursor.execute(query, (userid, username, email, days))\n",
    "    for row in cursor.execute('SELECT * from users'):\n",
    "        print(row)"
   ]
  },
  {
   "cell_type": "markdown",
   "metadata": {},
   "source": [
    "## Bonus Lab:  DBAPI2\n",
    "\n",
    "Create your own sqlite3 database (HINT:  You can use the filename `:memory:` if you cannot create a file) and execute some SQL queries on it.  Try creating a table and adding a few rows, and then retrieving those rows."
   ]
  },
  {
   "cell_type": "markdown",
   "metadata": {},
   "source": [
    "## More On Databases\n",
    "\n",
    "- Python has drivers for PostgreSQL, MySQL, MS-SQL, Oracle, and more!\n",
    "- Additional support for No-SQL databases, but they may not follow the DBAPI2 spec\n",
    "- If you need to do a LOT of database work, an ORM may help you - look at `sqlalchemy`\n",
    "- Database connectivity comes with a lot of gotchas!  Be especially careful when executing within loops.  There's often a better way!"
   ]
  },
  {
   "cell_type": "markdown",
   "metadata": {},
   "source": [
    "## Lab:  Astronomy API Client\n",
    "Look for the file **01_calling_apis_with_python.pdf** in your materials for instructions, and build your own standlone script that utilizes the Astronomy API at https://astronomyapi.com"
   ]
  },
  {
   "cell_type": "code",
   "execution_count": null,
   "metadata": {},
   "outputs": [],
   "source": []
  }
 ],
 "metadata": {
  "celltoolbar": "Slideshow",
  "kernelspec": {
   "display_name": "Python 3.10.7 64-bit",
   "language": "python",
   "name": "python3"
  },
  "language_info": {
   "codemirror_mode": {
    "name": "ipython",
    "version": 3
   },
   "file_extension": ".py",
   "mimetype": "text/x-python",
   "name": "python",
   "nbconvert_exporter": "python",
   "pygments_lexer": "ipython3",
   "version": "3.10.7"
  },
  "vscode": {
   "interpreter": {
    "hash": "aee8b7b246df8f9039afb4144a1f6fd8d2ca17a180786b69acc140d282b71a49"
   }
  }
 },
 "nbformat": 4,
 "nbformat_minor": 4
}
