{
 "cells": [
  {
   "cell_type": "markdown",
   "metadata": {},
   "source": [
    "# Getting Data into Python"
   ]
  },
  {
   "cell_type": "markdown",
   "metadata": {},
   "source": [
    "## Agenda\n",
    "* Network / HTTP concepts\n",
    "* REST API concepts\n",
    "* Calling APIs with Python\n",
    "* Web Scraping with BeautifulSoup\n",
    "* Connecting to Databases\n",
    "* Other data sources"
   ]
  },
  {
   "cell_type": "markdown",
   "metadata": {},
   "source": [
    "## Getting Data from the Web"
   ]
  },
  {
   "cell_type": "markdown",
   "metadata": {},
   "source": [
    "## Network Fundamentals\n",
    "* Networks communicate messages between **clients** and **servers**\n",
    "* Many different protocols throughout history\n",
    "* Dominant protocol today is **TCP/IP**\n",
    "* Web requests use **HyperText Transfer Protocol (HTTP)**"
   ]
  },
  {
   "cell_type": "markdown",
   "metadata": {},
   "source": [
    "# OSI Network Model![OSI Model](images/osi.png)"
   ]
  },
  {
   "cell_type": "markdown",
   "metadata": {},
   "source": [
    "### HyperText Transfer Protocol\n",
    "- This is the way our web browsers work!\n",
    "- Replaced older network protocols like gopher\n",
    "- Development of HTTP was initiated by Tim Berners-Lee at CERN in 1989\n",
    "- HTTP is a text-based protocol (not binary)\n",
    "- HTTP is *stateless* - every request must contain all contextual info!\n",
    "- HTTPS is simply HTTP over SSL (Secure Socket Layer) so that requests and responses are encrypted from client to server and back (but beware of DNS leaks!)\n",
    "- HTTP 1.1 Specification (good luck!): https://tools.ietf.org/html/rfc7231"
   ]
  },
  {
   "cell_type": "markdown",
   "metadata": {},
   "source": [
    "# HTTP Request\n",
    "![Network Request](images/client_server.png)"
   ]
  },
  {
   "cell_type": "code",
   "execution_count": null,
   "metadata": {},
   "outputs": [],
   "source": [
    "!curl -v https://xkcd.com/"
   ]
  },
  {
   "cell_type": "markdown",
   "metadata": {},
   "source": [
    "### HTTP Request components\n",
    "- URL\n",
    "- Verb\n",
    "- Headers (optional)\n",
    "- Body (optional)\n",
    "\n",
    "### HTTP Response components\n",
    "- Status Code\n",
    "- Headers (optional)\n",
    "- Body (optional)"
   ]
  },
  {
   "cell_type": "markdown",
   "metadata": {},
   "source": [
    "### HTTP Status Code Categories\n",
    "- 1xx Informational\n",
    "- 2xx Success\n",
    "- 3xx Redirection\n",
    "- 4xx Client Error / Invalid Request (User's Fault)\n",
    "- 5xx Server Error (Server's Fault)"
   ]
  },
  {
   "cell_type": "markdown",
   "metadata": {},
   "source": [
    "### Common REST Status Code meanings\n",
    "\n",
    "#### 2xx\n",
    "- 200 \"OK\" - General Success (often overused)\n",
    "- 201 \"Created\" - Created a new resource on the server (usually from POST)\n",
    "- 202 \"Accepted\" - Request was accepted, but may not yet be completed (long process)\n",
    "\n",
    "#### 3xx\n",
    "- 301 \"Moved Permanently\" - URL for a resource was changed\n",
    "- 302 \"Found\" - The resource was found at another URL (temporary redirect, \"canonical\" URLs)\n",
    "- 303 \"See Other\" - Often the same as a 302\n",
    "- 304 \"Not Modified\" - Resource has not changed since the last request, use cached value\n",
    "\n",
    "#### 4xx\n",
    "- 400 \"Bad Request\" - Malformed requests, bad parameters, invalid formats\n",
    "- 401 \"Unauthorized\" - The resource requires credentials to access (i.e. requires login)\n",
    "- 403 \"Forbidden\" - The client does not have permission to access the resource\n",
    "- 404 \"Not Found\" - No resource located at this URL\n",
    "- 409 \"Conflict\" - Cannot edit the resource due to a conflict\n",
    "- 429 \"Too Many Requests\" - Used for API rate limiting\n",
    "\n",
    "#### 5xx\n",
    "- 500 \"Internal Server Error\" - Generic, \"something went wrong\" message, might indicate a bug in server code.\n",
    "- 502 \"Bad Gateway\" - A load balancer or proxy got no response from a webserver\n",
    "- 503 \"Service Unavailable\" - The server is overloaded, or down for maintenance, etc."
   ]
  },
  {
   "cell_type": "markdown",
   "metadata": {},
   "source": [
    "## API (Application Programming Interface)\n",
    "* Interface specifically design for code to interact with\n",
    "* No one specification for APIs - it depends on who authors it\n",
    "* Network APIs can be binary or text, public or private, synchronous or asynchrous (and more)\n",
    "* HTTP-based APIs (\"web services\") have many forms - WDSL, SOAP, proprietary"
   ]
  },
  {
   "cell_type": "markdown",
   "metadata": {},
   "source": [
    "## REST APIs\n",
    "* __RE__presentational __S__tate __T__ransfer\n",
    "* Aims to use HTTP \"as intended\" to build the API\n",
    "* Familiar tools:\n",
    "    * URI (URL) uniquely identifies a \"resource\"\n",
    "    * HTTP verbs define what action is intended\n",
    "    * Status codes (200, 404, 500, etc) communicate results\n",
    "    * Headers provide extra info (data formats, encoding, compression)\n",
    "* Not a standard!\n",
    "    * Any data format - JSON, XML, CSV, plain text\n",
    "    * Any \"resource\" - Author's choice (read the docs!)"
   ]
  },
  {
   "cell_type": "markdown",
   "metadata": {},
   "source": [
    "| HTTP Method | Description | \"CRUD\" Action | Request Body | Response Body | Only Reads | Idempotent | Cacheable |\n",
    "| --- | --- | --- | --- | --- | --- | --- | --- |\n",
    "| **GET** | Retrieve a resource | Read | Optional | <span style=\"color: green;\">Yes</span> | <span style=\"color: green;\">Yes</span> | <span style=\"color: green;\">Yes</span> | <span style=\"color: green;\">Yes</span> |\n",
    "| **HEAD** | Retrieve headers for a resource | Read | Optional | <span style=\"color: red;\">No</span> | <span style=\"color: green;\">Yes</span> | <span style=\"color: green;\">Yes</span> | <span style=\"color: green;\">Yes</span> |\n",
    "| **POST** | Post data for a resource | Create | <span style=\"color: green;\">Yes</span> | <span style=\"color: green;\">Yes</span> | <span style=\"color: red;\">No</span> | <span style=\"color: red;\">No</span> | <span style=\"color: green;\">Yes</span> |\n",
    "| **PUT** | Post data (replace) and existing resource | Update | <span style=\"color: green;\">Yes</span> | <span style=\"color: green;\">Yes</span> | <span style=\"color: red;\">No</span> | <span style=\"color: green;\">Yes</span> | <span style=\"color: red;\">No</span> |\n",
    "| **DELETE** | Delete a resource | Delete | Optional | <span style=\"color: green;\">Yes</span> | <span style=\"color: red;\">No</span> | <span style=\"color: green;\">Yes</span> | <span style=\"color: red;\">No</span> |\n",
    "| **CONNECT** | Convert connection to a tunnel | N/A | Optional | <span style=\"color: green;\">Yes</span> | <span style=\"color: red;\">No</span> | <span style=\"color: red;\">No</span> | <span style=\"color: red;\">No</span> |\n",
    "| **OPTIONS** | Request the supported methods for a resource | N/A | Optional | <span style=\"color: green;\">Yes</span> | <span style=\"color: green;\">Yes</span> | <span style=\"color: green;\">Yes</span> | <span style=\"color: red;\">No</span> |\n",
    "| **TRACE** | Echo a client request for testing | N/A | <span style=\"color: red;\">No</span> | <span style=\"color: green;\">Yes</span> | <span style=\"color: green;\">Yes</span> | <span style=\"color: green;\">Yes</span> | <span style=\"color: red;\">No</span> |\n",
    "| **PATCH** | Update a resource with partial data | Update | <span style=\"color: green;\">Yes</span> | <span style=\"color: green;\">Yes</span> | <span style=\"color: red;\">No</span> | <span style=\"color: red;\">No</span> | <span style=\"color: red;\">No</span> |\n",
    "\n",
    "\n",
    "\n"
   ]
  },
  {
   "cell_type": "markdown",
   "metadata": {},
   "source": [
    "### Request / Response Bodies\n",
    "- The HTTP Specification does not address the format of the body\n",
    "- Requests and Responses can be sent in any format that both support\n",
    "- Common formats:  HTML, plain text, JSON, XML, YAML, etc.\n",
    "- See the **Accept** and **Content-Type** headers (and the API docs!)"
   ]
  },
  {
   "cell_type": "markdown",
   "metadata": {},
   "source": [
    "### Request / Response Headers\n",
    "\n",
    "- Headers are just key/value pairs (remind you of anything?)\n",
    "- Values are always just text\n",
    "- Many standard headers, but some APIs may add custom ones\n",
    "\n",
    "#### Common Headers\n",
    "\n",
    "- **Location:** Specify location of requested resource  \n",
    "  Example: `Location: http://www.google.com`  \n",
    "- **Content-Type:** Format of the request body  \n",
    "  Example: `Content-Type: application/json`\n",
    "- **Accept:** Tells the server which body format to return  \n",
    "  Example: `Accept: application/xml`\n",
    "- **User Agent:** Information about the application sending the request  \n",
    "  Example: `User-Agent: curl/7.58.0`\n",
    "- **Cookies:** Misc key-value pairs stored at the client and resent on each request  \n",
    "  Example: `set-cookie: NID=212=v2D4SUIJMhZuI9NWCSmaxWXm0KP01ydT-3ptgttKK3E0dn8_CoixMhU3ql1JotoZ79UbRTDThg7c9APBoipLJjSdLv0H4CLmz7ozxzzqf57Pel4bohmWDpuFcBYT7_h58lkm4-x3OPnZo09bxOJw-LJQGWkurHOnJHioz21Sd30; expires=Sat, 02-Oct-2021 12:09:52 GMT; path=/; domain=.google.com; HttpOnly`"
   ]
  },
  {
   "cell_type": "markdown",
   "metadata": {},
   "source": [
    "## Lab:  HTTP Requests\n",
    "Using the `curl` Linux command line tool (install it with yum if you don't have it), make some web requests to sites you know.  Use the `-v` option (verbose) to see the details of the request and response, and identify the HTTP Method, URL, and Headers.\n",
    "\n",
    "**Bonus:** Using the curl man page (or web search), find out how to send different HTTP Methods with `curl` and try a few out, even those you know may not work, to see what responses you get."
   ]
  },
  {
   "cell_type": "markdown",
   "metadata": {
    "slideshow": {
     "slide_type": "slide"
    }
   },
   "source": [
    "## REST APIs in Python"
   ]
  },
  {
   "cell_type": "markdown",
   "metadata": {},
   "source": [
    "## To talk to a REST API in Python, we need to:\n",
    "* Make a web request\n",
    "* Parse the information it gives us\n",
    "* Luckily, Python gives us both in the standard library!"
   ]
  },
  {
   "cell_type": "markdown",
   "metadata": {},
   "source": [
    "## urllib: Package of modules for making and dealing with HTTP"
   ]
  },
  {
   "cell_type": "code",
   "execution_count": 4,
   "metadata": {},
   "outputs": [
    {
     "name": "stdout",
     "output_type": "stream",
     "text": [
      "<http.client.HTTPResponse object at 0x7f2220b34670>\n",
      "['__abstractmethods__', '__class__', '__del__', '__delattr__', '__dict__', '__dir__', '__doc__', '__enter__', '__eq__', '__exit__', '__format__', '__ge__', '__getattribute__', '__gt__', '__hash__', '__init__', '__init_subclass__', '__iter__', '__le__', '__lt__', '__module__', '__ne__', '__new__', '__next__', '__reduce__', '__reduce_ex__', '__repr__', '__setattr__', '__sizeof__', '__str__', '__subclasshook__', '_abc_impl', '_checkClosed', '_checkReadable', '_checkSeekable', '_checkWritable', '_check_close', '_close_conn', '_get_chunk_left', '_method', '_peek_chunked', '_read1_chunked', '_read_and_discard_trailer', '_read_next_chunk_size', '_read_status', '_readall_chunked', '_readinto_chunked', '_safe_read', '_safe_readinto', 'begin', 'chunk_left', 'chunked', 'close', 'closed', 'code', 'debuglevel', 'detach', 'fileno', 'flush', 'fp', 'getcode', 'getheader', 'getheaders', 'geturl', 'headers', 'info', 'isatty', 'isclosed', 'length', 'msg', 'peek', 'read', 'read1', 'readable', 'readinto', 'readinto1', 'readline', 'readlines', 'reason', 'seek', 'seekable', 'status', 'tell', 'truncate', 'url', 'version', 'will_close', 'writable', 'write', 'writelines']\n"
     ]
    }
   ],
   "source": [
    "from urllib.request import urlopen\n",
    "SECRET_KEY = '1d8c58ed1d54f96f939e706c788650f1'\n",
    "\n",
    "lat, long = (33.8840,-84.5144)  # Smyrna, GA\n",
    "\n",
    "url = 'https://api.darksky.net/forecast/{key}/{lat},{long}'.format(\n",
    "    key=SECRET_KEY, lat=lat, long=long)\n",
    "response = urlopen(url)  # Defaults to a GET request\n",
    "# Returns a file-like Response object, so we can read it just like File I/O\n",
    "print(response)\n",
    "print(dir(response))"
   ]
  },
  {
   "cell_type": "code",
   "execution_count": 5,
   "metadata": {},
   "outputs": [
    {
     "name": "stdout",
     "output_type": "stream",
     "text": [
      "b'{\"latitude\":33.884,\"longitude\":-84.5144,\"timezone\":\"America/New_York\",\"currently\":{\"time\":1664415288,\"summary\":\"Clear\",\"icon\":\"clear-night\",\"nearestStormDistance\":31,\"nearestStormBearing\":189,\"precipIntensity\":0,\"precipProbability\":0,\"temperature\":61.55,\"apparentTemperature\":61.55,\"dewPoint\":38.45,\"humidity\":0.42,\"pressure\":1021.7,\"windSpeed\":5.59,\"windGust\":12.33,\"windBearing\":15,\"cloudCover\":0.22,\"uvIndex\":0,\"visibility\":10,\"ozone\":274.3},\"minutely\":{\"summary\":\"Clear for the hour.\",\"icon\":\"clear-night\",\"data\":[{\"time\":1664415240,\"precipIntensity\":0,\"precipProbability\":0},{\"time\":1664415300,\"precipIntensity\":0,\"precipProbability\":0},{\"time\":1664415360,\"precipIntensity\":0,\"precipProbability\":0},{\"time\":1664415420,\"precipIntensity\":0,\"precipProbability\":0},{\"time\":1664415480,\"precipIntensity\":0,\"precipProbability\":0},{\"time\":1664415540,\"precipIntensity\":0,\"precipProbability\":0},{\"time\":1664415600,\"precipIntensity\":0,\"precipProbability\":0},{\"time\":1664415660,\"precipIntensity\":0,\"precipProbability\":0},{\"time\":1664415720,\"precipIntensity\":0,\"precipProbability\":0},{\"time\":1664415780,\"precipIntensity\":0,\"precipProbability\":0},{\"time\":1664415840,\"precipIntensity\":0,\"precipProbability\":0},{\"time\":1664415900,\"precipIntensity\":0,\"precipProbability\":0},{\"time\":1664415960,\"precipIntensity\":0,\"precipProbability\":0},{\"time\":1664416020,\"precipIntensity\":0,\"precipProbability\":0},{\"time\":1664416080,\"precipIntensity\":0,\"precipProbability\":0},{\"time\":1664416140,\"precipIntensity\":0,\"precipProbability\":0},{\"time\":1664416200,\"precipIntensity\":0,\"precipProbability\":0},{\"time\":1664416260,\"precipIntensity\":0,\"precipProbability\":0},{\"time\":1664416320,\"precipIntensity\":0,\"precipProbability\":0},{\"time\":1664416380,\"precipIntensity\":0,\"precipProbability\":0},{\"time\":1664416440,\"precipIntensity\":0,\"precipProbability\":0},{\"time\":1664416500,\"precipIntensity\":0,\"precipProbability\":0},{\"time\":1664416560,\"precipIntensity\":0,\"precipProbability\":0},{\"time\":1664416620,\"precipIntensity\":0,\"precipProbability\":0},{\"time\":1664416680,\"precipIntensity\":0,\"precipProbability\":0},{\"time\":1664416740,\"precipIntensity\":0,\"precipProbability\":0},{\"time\":1664416800,\"precipIntensity\":0,\"precipProbability\":0},{\"time\":1664416860,\"precipIntensity\":0,\"precipProbability\":0},{\"time\":1664416920,\"precipIntensity\":0,\"precipProbability\":0},{\"time\":1664416980,\"precipIntensity\":0,\"precipProbability\":0},{\"time\":1664417040,\"precipIntensity\":0,\"precipProbability\":0},{\"time\":1664417100,\"precipIntensity\":0,\"precipProbability\":0},{\"time\":1664417160,\"precipIntensity\":0,\"precipProbability\":0},{\"time\":1664417220,\"precipIntensity\":0,\"precipProbability\":0},{\"time\":1664417280,\"precipIntensity\":0,\"precipProbability\":0},{\"time\":1664417340,\"precipIntensity\":0,\"precipProbability\":0},{\"time\":1664417400,\"precipIntensity\":0,\"precipProbability\":0},{\"time\":1664417460,\"precipIntensity\":0,\"precipProbability\":0},{\"time\":1664417520,\"precipIntensity\":0,\"precipProbability\":0},{\"time\":1664417580,\"precipIntensity\":0,\"precipProbability\":0},{\"time\":1664417640,\"precipIntensity\":0,\"precipProbability\":0},{\"time\":1664417700,\"precipIntensity\":0,\"precipProbability\":0},{\"time\":1664417760,\"precipIntensity\":0,\"precipProbability\":0},{\"time\":1664417820,\"precipIntensity\":0,\"precipProbability\":0},{\"time\":1664417880,\"precipIntensity\":0,\"precipProbability\":0},{\"time\":1664417940,\"precipIntensity\":0,\"precipProbability\":0},{\"time\":1664418000,\"precipIntensity\":0,\"precipProbability\":0},{\"time\":1664418060,\"precipIntensity\":0,\"precipProbability\":0},{\"time\":1664418120,\"precipIntensity\":0,\"precipProbability\":0},{\"time\":1664418180,\"precipIntensity\":0,\"precipProbability\":0},{\"time\":1664418240,\"precipIntensity\":0,\"precipProbability\":0},{\"time\":1664418300,\"precipIntensity\":0,\"precipProbability\":0},{\"time\":1664418360,\"precipIntensity\":0,\"precipProbability\":0},{\"time\":1664418420,\"precipIntensity\":0,\"precipProbability\":0},{\"time\":1664418480,\"precipIntensity\":0,\"precipProbability\":0},{\"time\":1664418540,\"precipIntensity\":0,\"precipProbability\":0},{\"time\":1664418600,\"precipIntensity\":0,\"precipProbability\":0},{\"time\":1664418660,\"precipIntensity\":0,\"precipProbability\":0},{\"time\":1664418720,\"precipIntensity\":0,\"precipProbability\":0},{\"time\":1664418780,\"precipIntensity\":0,\"precipProbability\":0},{\"time\":1664418840,\"precipIntensity\":0,\"precipProbability\":0}]},\"hourly\":{\"summary\":\"Clear throughout the day.\",\"icon\":\"clear-day\",\"data\":[{\"time\":1664413200,\"summary\":\"Clear\",\"icon\":\"clear-night\",\"precipIntensity\":0,\"precipProbability\":0,\"temperature\":62.67,\"apparentTemperature\":62.67,\"dewPoint\":38,\"humidity\":0.4,\"pressure\":1021.3,\"windSpeed\":5.9,\"windGust\":12.96,\"windBearing\":5,\"cloudCover\":0.18,\"uvIndex\":0,\"visibility\":10,\"ozone\":274.1},{\"time\":1664416800,\"summary\":\"Clear\",\"icon\":\"clear-night\",\"precipIntensity\":0,\"precipProbability\":0,\"temperature\":60.93,\"apparentTemperature\":60.93,\"dewPoint\":38.74,\"humidity\":0.44,\"pressure\":1021.9,\"windSpeed\":5.62,\"windGust\":12.48,\"windBearing\":24,\"cloudCover\":0.24,\"uvIndex\":0,\"visibility\":10,\"ozone\":274.4},{\"time\":1664420400,\"summary\":\"Clear\",\"icon\":\"clear-night\",\"precipIntensity\":0,\"precipProbability\":0,\"temperature\":60.28,\"apparentTemperature\":60.28,\"dewPoint\":39.34,\"humidity\":0.46,\"pressure\":1022.3,\"windSpeed\":6.93,\"windGust\":16.59,\"windBearing\":45,\"cloudCover\":0.15,\"uvIndex\":0,\"visibility\":10,\"ozone\":274.5},{\"time\":1664424000,\"summary\":\"Clear\",\"icon\":\"clear-night\",\"precipIntensity\":0,\"precipProbability\":0,\"temperature\":59.59,\"apparentTemperature\":59.59,\"dewPoint\":38.75,\"humidity\":0.46,\"pressure\":1022,\"windSpeed\":7.9,\"windGust\":19.03,\"windBearing\":46,\"cloudCover\":0.11,\"uvIndex\":0,\"visibility\":10,\"ozone\":274.5},{\"time\":1664427600,\"summary\":\"Clear\",\"icon\":\"clear-night\",\"precipIntensity\":0,\"precipProbability\":0,\"temperature\":58.82,\"apparentTemperature\":58.82,\"dewPoint\":38.05,\"humidity\":0.46,\"pressure\":1021.7,\"windSpeed\":8.25,\"windGust\":20.21,\"windBearing\":47,\"cloudCover\":0.11,\"uvIndex\":0,\"visibility\":10,\"ozone\":274.8},{\"time\":1664431200,\"summary\":\"Clear\",\"icon\":\"clear-night\",\"precipIntensity\":0,\"precipProbability\":0,\"temperature\":58.15,\"apparentTemperature\":58.15,\"dewPoint\":37.27,\"humidity\":0.46,\"pressure\":1021.2,\"windSpeed\":8.79,\"windGust\":21.87,\"windBearing\":45,\"cloudCover\":0.11,\"uvIndex\":0,\"visibility\":10,\"ozone\":274.1},{\"time\":1664434800,\"summary\":\"Clear\",\"icon\":\"clear-night\",\"precipIntensity\":0,\"precipProbability\":0,\"temperature\":57.23,\"apparentTemperature\":57.23,\"dewPoint\":36.29,\"humidity\":0.45,\"pressure\":1021.3,\"windSpeed\":8.78,\"windGust\":23.1,\"windBearing\":44,\"cloudCover\":0.11,\"uvIndex\":0,\"visibility\":10,\"ozone\":274.4},{\"time\":1664438400,\"summary\":\"Clear\",\"icon\":\"clear-night\",\"precipIntensity\":0,\"precipProbability\":0,\"temperature\":56.04,\"apparentTemperature\":56.04,\"dewPoint\":35.25,\"humidity\":0.45,\"pressure\":1021.2,\"windSpeed\":8.79,\"windGust\":23.64,\"windBearing\":38,\"cloudCover\":0.11,\"uvIndex\":0,\"visibility\":10,\"ozone\":273.8},{\"time\":1664442000,\"summary\":\"Clear\",\"icon\":\"clear-night\",\"precipIntensity\":0,\"precipProbability\":0,\"temperature\":54.59,\"apparentTemperature\":54.59,\"dewPoint\":34.13,\"humidity\":0.46,\"pressure\":1020.8,\"windSpeed\":8.58,\"windGust\":23.21,\"windBearing\":39,\"cloudCover\":0.11,\"uvIndex\":0,\"visibility\":10,\"ozone\":274},{\"time\":1664445600,\"summary\":\"Clear\",\"icon\":\"clear-night\",\"precipIntensity\":0,\"precipProbability\":0,\"temperature\":53.5,\"apparentTemperature\":53.5,\"dewPoint\":33.99,\"humidity\":0.47,\"pressure\":1021.3,\"windSpeed\":8.56,\"windGust\":24.27,\"windBearing\":38,\"cloudCover\":0.11,\"uvIndex\":0,\"visibility\":10,\"ozone\":274.3},{\"time\":1664449200,\"summary\":\"Clear\",\"icon\":\"clear-night\",\"precipIntensity\":0,\"precipProbability\":0,\"temperature\":52.84,\"apparentTemperature\":52.84,\"dewPoint\":34.62,\"humidity\":0.5,\"pressure\":1021.2,\"windSpeed\":9.36,\"windGust\":25.86,\"windBearing\":44,\"cloudCover\":0.11,\"uvIndex\":0,\"visibility\":10,\"ozone\":275.2},{\"time\":1664452800,\"summary\":\"Clear\",\"icon\":\"clear-day\",\"precipIntensity\":0,\"precipProbability\":0,\"temperature\":53.01,\"apparentTemperature\":53.01,\"dewPoint\":37.39,\"humidity\":0.55,\"pressure\":1021.7,\"windSpeed\":9.88,\"windGust\":26.36,\"windBearing\":48,\"cloudCover\":0.12,\"uvIndex\":0,\"visibility\":10,\"ozone\":276.4},{\"time\":1664456400,\"summary\":\"Clear\",\"icon\":\"clear-day\",\"precipIntensity\":0,\"precipProbability\":0,\"temperature\":57.38,\"apparentTemperature\":57.38,\"dewPoint\":39.86,\"humidity\":0.52,\"pressure\":1022.1,\"windSpeed\":12.37,\"windGust\":33.61,\"windBearing\":55,\"cloudCover\":0.12,\"uvIndex\":1,\"visibility\":10,\"ozone\":277.1},{\"time\":1664460000,\"summary\":\"Clear\",\"icon\":\"clear-day\",\"precipIntensity\":0,\"precipProbability\":0,\"temperature\":61.12,\"apparentTemperature\":61.12,\"dewPoint\":41.31,\"humidity\":0.48,\"pressure\":1022.4,\"windSpeed\":14.4,\"windGust\":31.92,\"windBearing\":59,\"cloudCover\":0.12,\"uvIndex\":2,\"visibility\":10,\"ozone\":277},{\"time\":1664463600,\"summary\":\"Clear\",\"icon\":\"clear-day\",\"precipIntensity\":0,\"precipProbability\":0,\"temperature\":64.1,\"apparentTemperature\":64.1,\"dewPoint\":42.23,\"humidity\":0.45,\"pressure\":1023,\"windSpeed\":14.44,\"windGust\":28.5,\"windBearing\":60,\"cloudCover\":0.16,\"uvIndex\":4,\"visibility\":10,\"ozone\":276.5},{\"time\":1664467200,\"summary\":\"Clear\",\"icon\":\"clear-day\",\"precipIntensity\":0,\"precipProbability\":0,\"temperature\":66.96,\"apparentTemperature\":66.96,\"dewPoint\":43.26,\"humidity\":0.42,\"pressure\":1022.6,\"windSpeed\":14.41,\"windGust\":25.92,\"windBearing\":60,\"cloudCover\":0.15,\"uvIndex\":6,\"visibility\":10,\"ozone\":275.5},{\"time\":1664470800,\"summary\":\"Clear\",\"icon\":\"clear-day\",\"precipIntensity\":0,\"precipProbability\":0,\"temperature\":69.16,\"apparentTemperature\":69.16,\"dewPoint\":42.91,\"humidity\":0.39,\"pressure\":1022.1,\"windSpeed\":14.07,\"windGust\":23.79,\"windBearing\":59,\"cloudCover\":0.15,\"uvIndex\":7,\"visibility\":10,\"ozone\":274.9},{\"time\":1664474400,\"summary\":\"Clear\",\"icon\":\"clear-day\",\"precipIntensity\":0,\"precipProbability\":0,\"temperature\":71.38,\"apparentTemperature\":71.38,\"dewPoint\":41.73,\"humidity\":0.34,\"pressure\":1020.9,\"windSpeed\":13.93,\"windGust\":22.35,\"windBearing\":58,\"cloudCover\":0.16,\"uvIndex\":7,\"visibility\":10,\"ozone\":275.9},{\"time\":1664478000,\"summary\":\"Clear\",\"icon\":\"clear-day\",\"precipIntensity\":0,\"precipProbability\":0,\"temperature\":72.99,\"apparentTemperature\":72.99,\"dewPoint\":40.77,\"humidity\":0.31,\"pressure\":1020.6,\"windSpeed\":13.69,\"windGust\":21.42,\"windBearing\":56,\"cloudCover\":0.16,\"uvIndex\":6,\"visibility\":10,\"ozone\":275.5},{\"time\":1664481600,\"summary\":\"Clear\",\"icon\":\"clear-day\",\"precipIntensity\":0,\"precipProbability\":0,\"temperature\":73.7,\"apparentTemperature\":73.7,\"dewPoint\":40.08,\"humidity\":0.3,\"pressure\":1019.9,\"windSpeed\":13.72,\"windGust\":20.97,\"windBearing\":56,\"cloudCover\":0.16,\"uvIndex\":4,\"visibility\":10,\"ozone\":275},{\"time\":1664485200,\"summary\":\"Clear\",\"icon\":\"clear-day\",\"precipIntensity\":0,\"precipProbability\":0,\"temperature\":73.3,\"apparentTemperature\":73.3,\"dewPoint\":40.3,\"humidity\":0.3,\"pressure\":1019.5,\"windSpeed\":13.73,\"windGust\":21.09,\"windBearing\":57,\"cloudCover\":0.17,\"uvIndex\":2,\"visibility\":10,\"ozone\":274.5},{\"time\":1664488800,\"summary\":\"Clear\",\"icon\":\"clear-day\",\"precipIntensity\":0.0003,\"precipProbability\":0.01,\"precipType\":\"rain\",\"temperature\":71.93,\"apparentTemperature\":71.93,\"dewPoint\":41.3,\"humidity\":0.33,\"pressure\":1019.8,\"windSpeed\":12.95,\"windGust\":21.66,\"windBearing\":60,\"cloudCover\":0.16,\"uvIndex\":1,\"visibility\":10,\"ozone\":274.4},{\"time\":1664492400,\"summary\":\"Clear\",\"icon\":\"clear-day\",\"precipIntensity\":0.0009,\"precipProbability\":0.02,\"precipType\":\"rain\",\"temperature\":69.2,\"apparentTemperature\":69.2,\"dewPoint\":43.35,\"humidity\":0.39,\"pressure\":1019.9,\"windSpeed\":11.96,\"windGust\":24.12,\"windBearing\":63,\"cloudCover\":0.16,\"uvIndex\":0,\"visibility\":10,\"ozone\":274.5},{\"time\":1664496000,\"summary\":\"Clear\",\"icon\":\"clear-night\",\"precipIntensity\":0.0003,\"precipProbability\":0.01,\"precipType\":\"rain\",\"temperature\":66.61,\"apparentTemperature\":66.61,\"dewPoint\":43.97,\"humidity\":0.44,\"pressure\":1020.1,\"windSpeed\":12.03,\"windGust\":26.57,\"windBearing\":66,\"cloudCover\":0.16,\"uvIndex\":0,\"visibility\":10,\"ozone\":273.4},{\"time\":1664499600,\"summary\":\"Clear\",\"icon\":\"clear-night\",\"precipIntensity\":0.0004,\"precipProbability\":0.02,\"precipType\":\"rain\",\"temperature\":65.07,\"apparentTemperature\":65.07,\"dewPoint\":44.41,\"humidity\":0.47,\"pressure\":1020.2,\"windSpeed\":11.99,\"windGust\":29.28,\"windBearing\":63,\"cloudCover\":0.16,\"uvIndex\":0,\"visibility\":10,\"ozone\":274.7},{\"time\":1664503200,\"summary\":\"Clear\",\"icon\":\"clear-night\",\"precipIntensity\":0.0007,\"precipProbability\":0.02,\"precipType\":\"rain\",\"temperature\":64.18,\"apparentTemperature\":64.18,\"dewPoint\":44.65,\"humidity\":0.49,\"pressure\":1020.3,\"windSpeed\":11.98,\"windGust\":30.32,\"windBearing\":62,\"cloudCover\":0.16,\"uvIndex\":0,\"visibility\":10,\"ozone\":275.9},{\"time\":1664506800,\"summary\":\"Clear\",\"icon\":\"clear-night\",\"precipIntensity\":0.0009,\"precipProbability\":0.03,\"precipType\":\"rain\",\"temperature\":63.48,\"apparentTemperature\":63.48,\"dewPoint\":44.78,\"humidity\":0.51,\"pressure\":1020.2,\"windSpeed\":11.95,\"windGust\":30.84,\"windBearing\":58,\"cloudCover\":0.16,\"uvIndex\":0,\"visibility\":10,\"ozone\":276.3},{\"time\":1664510400,\"summary\":\"Clear\",\"icon\":\"clear-night\",\"precipIntensity\":0.001,\"precipProbability\":0.03,\"precipType\":\"rain\",\"temperature\":62.73,\"apparentTemperature\":62.73,\"dewPoint\":44.68,\"humidity\":0.52,\"pressure\":1019.5,\"windSpeed\":11.83,\"windGust\":31.06,\"windBearing\":57,\"cloudCover\":0.27,\"uvIndex\":0,\"visibility\":10,\"ozone\":276.6},{\"time\":1664514000,\"summary\":\"Partly Cloudy\",\"icon\":\"partly-cloudy-night\",\"precipIntensity\":0.001,\"precipProbability\":0.03,\"precipType\":\"rain\",\"temperature\":62.29,\"apparentTemperature\":62.29,\"dewPoint\":44.41,\"humidity\":0.52,\"pressure\":1019.2,\"windSpeed\":11.85,\"windGust\":31.31,\"windBearing\":55,\"cloudCover\":0.33,\"uvIndex\":0,\"visibility\":10,\"ozone\":275.9},{\"time\":1664517600,\"summary\":\"Clear\",\"icon\":\"clear-night\",\"precipIntensity\":0.0006,\"precipProbability\":0.03,\"precipType\":\"rain\",\"temperature\":61.92,\"apparentTemperature\":61.92,\"dewPoint\":44.19,\"humidity\":0.52,\"pressure\":1018.6,\"windSpeed\":11.65,\"windGust\":30.75,\"windBearing\":52,\"cloudCover\":0.31,\"uvIndex\":0,\"visibility\":10,\"ozone\":275.9},{\"time\":1664521200,\"summary\":\"Clear\",\"icon\":\"clear-night\",\"precipIntensity\":0.0007,\"precipProbability\":0.03,\"precipType\":\"rain\",\"temperature\":61.04,\"apparentTemperature\":61.04,\"dewPoint\":44.52,\"humidity\":0.55,\"pressure\":1018.3,\"windSpeed\":11.44,\"windGust\":31.2,\"windBearing\":48,\"cloudCover\":0.3,\"uvIndex\":0,\"visibility\":10,\"ozone\":274.8},{\"time\":1664524800,\"summary\":\"Partly Cloudy\",\"icon\":\"partly-cloudy-night\",\"precipIntensity\":0.0011,\"precipProbability\":0.03,\"precipType\":\"rain\",\"temperature\":60.31,\"apparentTemperature\":60.31,\"dewPoint\":44.9,\"humidity\":0.57,\"pressure\":1017.9,\"windSpeed\":11.45,\"windGust\":32.13,\"windBearing\":45,\"cloudCover\":0.39,\"uvIndex\":0,\"visibility\":10,\"ozone\":274.5},{\"time\":1664528400,\"summary\":\"Partly Cloudy\",\"icon\":\"partly-cloudy-night\",\"precipIntensity\":0.0017,\"precipProbability\":0.04,\"precipType\":\"rain\",\"temperature\":59.33,\"apparentTemperature\":59.33,\"dewPoint\":44.96,\"humidity\":0.59,\"pressure\":1017.2,\"windSpeed\":11.44,\"windGust\":33,\"windBearing\":40,\"cloudCover\":0.38,\"uvIndex\":0,\"visibility\":10,\"ozone\":274.8},{\"time\":1664532000,\"summary\":\"Partly Cloudy\",\"icon\":\"partly-cloudy-night\",\"precipIntensity\":0.0027,\"precipProbability\":0.04,\"precipType\":\"rain\",\"temperature\":58,\"apparentTemperature\":58,\"dewPoint\":45.46,\"humidity\":0.63,\"pressure\":1017.4,\"windSpeed\":11.33,\"windGust\":32.45,\"windBearing\":39,\"cloudCover\":0.38,\"uvIndex\":0,\"visibility\":10,\"ozone\":274.6},{\"time\":1664535600,\"summary\":\"Partly Cloudy\",\"icon\":\"partly-cloudy-night\",\"precipIntensity\":0.0043,\"precipProbability\":0.05,\"precipType\":\"rain\",\"temperature\":56.86,\"apparentTemperature\":56.86,\"dewPoint\":45.71,\"humidity\":0.66,\"pressure\":1017.3,\"windSpeed\":10.96,\"windGust\":31.7,\"windBearing\":33,\"cloudCover\":0.44,\"uvIndex\":0,\"visibility\":10,\"ozone\":275.2},{\"time\":1664539200,\"summary\":\"Mostly Cloudy\",\"icon\":\"partly-cloudy-day\",\"precipIntensity\":0.0008,\"precipProbability\":0.02,\"precipType\":\"rain\",\"temperature\":57.78,\"apparentTemperature\":57.78,\"dewPoint\":46.58,\"humidity\":0.66,\"pressure\":1017,\"windSpeed\":10.39,\"windGust\":29.92,\"windBearing\":32,\"cloudCover\":0.63,\"uvIndex\":0,\"visibility\":10,\"ozone\":278.1},{\"time\":1664542800,\"summary\":\"Partly Cloudy\",\"icon\":\"partly-cloudy-day\",\"precipIntensity\":0.0008,\"precipProbability\":0.02,\"precipType\":\"rain\",\"temperature\":59.44,\"apparentTemperature\":59.44,\"dewPoint\":47.96,\"humidity\":0.66,\"pressure\":1017.3,\"windSpeed\":11.21,\"windGust\":30.69,\"windBearing\":33,\"cloudCover\":0.47,\"uvIndex\":1,\"visibility\":10,\"ozone\":277.1},{\"time\":1664546400,\"summary\":\"Partly Cloudy\",\"icon\":\"partly-cloudy-day\",\"precipIntensity\":0.001,\"precipProbability\":0.02,\"precipType\":\"rain\",\"temperature\":62.72,\"apparentTemperature\":62.72,\"dewPoint\":50.18,\"humidity\":0.64,\"pressure\":1017.1,\"windSpeed\":12.36,\"windGust\":29.77,\"windBearing\":40,\"cloudCover\":0.4,\"uvIndex\":2,\"visibility\":10,\"ozone\":276},{\"time\":1664550000,\"summary\":\"Partly Cloudy\",\"icon\":\"partly-cloudy-day\",\"precipIntensity\":0.0021,\"precipProbability\":0.04,\"precipType\":\"rain\",\"temperature\":65.2,\"apparentTemperature\":65.2,\"dewPoint\":52.49,\"humidity\":0.63,\"pressure\":1016.4,\"windSpeed\":12.48,\"windGust\":28.74,\"windBearing\":40,\"cloudCover\":0.57,\"uvIndex\":4,\"visibility\":10,\"ozone\":275.3},{\"time\":1664553600,\"summary\":\"Partly Cloudy\",\"icon\":\"partly-cloudy-day\",\"precipIntensity\":0.0012,\"precipProbability\":0.03,\"precipType\":\"rain\",\"temperature\":67.54,\"apparentTemperature\":67.54,\"dewPoint\":53.78,\"humidity\":0.61,\"pressure\":1015.9,\"windSpeed\":12.63,\"windGust\":27.06,\"windBearing\":40,\"cloudCover\":0.5,\"uvIndex\":5,\"visibility\":10,\"ozone\":274.7},{\"time\":1664557200,\"summary\":\"Mostly Cloudy\",\"icon\":\"partly-cloudy-day\",\"precipIntensity\":0.0014,\"precipProbability\":0.05,\"precipType\":\"rain\",\"temperature\":68.95,\"apparentTemperature\":68.95,\"dewPoint\":55,\"humidity\":0.61,\"pressure\":1015.3,\"windSpeed\":12.45,\"windGust\":25.74,\"windBearing\":37,\"cloudCover\":0.63,\"uvIndex\":6,\"visibility\":10,\"ozone\":273.8},{\"time\":1664560800,\"summary\":\"Mostly Cloudy\",\"icon\":\"partly-cloudy-day\",\"precipIntensity\":0.0021,\"precipProbability\":0.05,\"precipType\":\"rain\",\"temperature\":71.42,\"apparentTemperature\":71.42,\"dewPoint\":56.26,\"humidity\":0.59,\"pressure\":1014.2,\"windSpeed\":12.59,\"windGust\":22.56,\"windBearing\":37,\"cloudCover\":0.68,\"uvIndex\":5,\"visibility\":10,\"ozone\":272.5},{\"time\":1664564400,\"summary\":\"Mostly Cloudy\",\"icon\":\"partly-cloudy-day\",\"precipIntensity\":0,\"precipProbability\":0,\"temperature\":71.47,\"apparentTemperature\":71.47,\"dewPoint\":56.32,\"humidity\":0.59,\"pressure\":1013.5,\"windSpeed\":12.07,\"windGust\":21.62,\"windBearing\":35,\"cloudCover\":0.87,\"uvIndex\":4,\"visibility\":10,\"ozone\":271.9},{\"time\":1664568000,\"summary\":\"Mostly Cloudy\",\"icon\":\"partly-cloudy-day\",\"precipIntensity\":0.001,\"precipProbability\":0.04,\"precipType\":\"rain\",\"temperature\":70.94,\"apparentTemperature\":70.94,\"dewPoint\":56.3,\"humidity\":0.6,\"pressure\":1012.8,\"windSpeed\":11.24,\"windGust\":21.07,\"windBearing\":30,\"cloudCover\":0.87,\"uvIndex\":3,\"visibility\":10,\"ozone\":271.7},{\"time\":1664571600,\"summary\":\"Mostly Cloudy\",\"icon\":\"partly-cloudy-day\",\"precipIntensity\":0,\"precipProbability\":0,\"temperature\":70.76,\"apparentTemperature\":70.76,\"dewPoint\":56.76,\"humidity\":0.61,\"pressure\":1011.5,\"windSpeed\":10.58,\"windGust\":21.67,\"windBearing\":24,\"cloudCover\":0.87,\"uvIndex\":2,\"visibility\":10,\"ozone\":271.8},{\"time\":1664575200,\"summary\":\"Mostly Cloudy\",\"icon\":\"partly-cloudy-day\",\"precipIntensity\":0.0013,\"precipProbability\":0.05,\"precipType\":\"rain\",\"temperature\":69.34,\"apparentTemperature\":69.34,\"dewPoint\":56.29,\"humidity\":0.63,\"pressure\":1011.6,\"windSpeed\":10.76,\"windGust\":23.74,\"windBearing\":20,\"cloudCover\":0.87,\"uvIndex\":1,\"visibility\":10,\"ozone\":272},{\"time\":1664578800,\"summary\":\"Overcast\",\"icon\":\"cloudy\",\"precipIntensity\":0.0013,\"precipProbability\":0.05,\"precipType\":\"rain\",\"temperature\":67.9,\"apparentTemperature\":67.9,\"dewPoint\":56.35,\"humidity\":0.67,\"pressure\":1011.5,\"windSpeed\":10.77,\"windGust\":26.72,\"windBearing\":13,\"cloudCover\":0.94,\"uvIndex\":0,\"visibility\":10,\"ozone\":272.1},{\"time\":1664582400,\"summary\":\"Mostly Cloudy\",\"icon\":\"partly-cloudy-night\",\"precipIntensity\":0.0005,\"precipProbability\":0.03,\"precipType\":\"rain\",\"temperature\":67.02,\"apparentTemperature\":67.02,\"dewPoint\":55.85,\"humidity\":0.67,\"pressure\":1011.4,\"windSpeed\":11.57,\"windGust\":28.97,\"windBearing\":5,\"cloudCover\":0.77,\"uvIndex\":0,\"visibility\":10,\"ozone\":272.4},{\"time\":1664586000,\"summary\":\"Mostly Cloudy\",\"icon\":\"partly-cloudy-night\",\"precipIntensity\":0.0005,\"precipProbability\":0.04,\"precipType\":\"rain\",\"temperature\":65.61,\"apparentTemperature\":65.61,\"dewPoint\":55.83,\"humidity\":0.71,\"pressure\":1011.2,\"windSpeed\":11.23,\"windGust\":29.17,\"windBearing\":5,\"cloudCover\":0.77,\"uvIndex\":0,\"visibility\":10,\"ozone\":272.6}]},\"daily\":{\"summary\":\"Rain over the weekend.\",\"icon\":\"rain\",\"data\":[{\"time\":1664337600,\"summary\":\"Clear throughout the day.\",\"icon\":\"clear-day\",\"sunriseTime\":1664364720,\"sunsetTime\":1664407680,\"moonPhase\":0.11,\"precipIntensity\":0,\"precipIntensityMax\":0,\"precipProbability\":0,\"temperatureHigh\":74.06,\"temperatureHighTime\":1664392920,\"temperatureLow\":52.35,\"temperatureLowTime\":1664449200,\"apparentTemperatureHigh\":73.56,\"apparentTemperatureHighTime\":1664392920,\"apparentTemperatureLow\":52.84,\"apparentTemperatureLowTime\":1664449200,\"dewPoint\":37.79,\"humidity\":0.43,\"pressure\":1021.2,\"windSpeed\":5.74,\"windGust\":19.03,\"windGustTime\":1664424000,\"windBearing\":4,\"cloudCover\":0.13,\"uvIndex\":7,\"uvIndexTime\":1664385840,\"visibility\":10,\"ozone\":276,\"temperatureMin\":49.64,\"temperatureMinTime\":1664365560,\"temperatureMax\":74.06,\"temperatureMaxTime\":1664392920,\"apparentTemperatureMin\":50.13,\"apparentTemperatureMinTime\":1664365560,\"apparentTemperatureMax\":73.56,\"apparentTemperatureMaxTime\":1664392920},{\"time\":1664424000,\"summary\":\"Clear throughout the day.\",\"icon\":\"clear-day\",\"sunriseTime\":1664451120,\"sunsetTime\":1664494020,\"moonPhase\":0.14,\"precipIntensity\":0.0002,\"precipIntensityMax\":0.001,\"precipIntensityMaxTime\":1664510400,\"precipProbability\":0.06,\"precipType\":\"rain\",\"temperatureHigh\":74.21,\"temperatureHighTime\":1664482080,\"temperatureLow\":56.37,\"temperatureLowTime\":1664535600,\"apparentTemperatureHigh\":73.71,\"apparentTemperatureHighTime\":1664482080,\"apparentTemperatureLow\":56.86,\"apparentTemperatureLowTime\":1664535600,\"dewPoint\":40.15,\"humidity\":0.43,\"pressure\":1021,\"windSpeed\":11.61,\"windGust\":33.88,\"windGustTime\":1664457120,\"windBearing\":55,\"cloudCover\":0.14,\"uvIndex\":7,\"uvIndexTime\":1664472300,\"visibility\":10,\"ozone\":275.1,\"temperatureMin\":52.11,\"temperatureMinTime\":1664451300,\"temperatureMax\":74.21,\"temperatureMaxTime\":1664482080,\"apparentTemperatureMin\":52.6,\"apparentTemperatureMinTime\":1664451300,\"apparentTemperatureMax\":73.71,\"apparentTemperatureMaxTime\":1664482080},{\"time\":1664510400,\"summary\":\"Possible light rain overnight.\",\"icon\":\"partly-cloudy-day\",\"sunriseTime\":1664537580,\"sunsetTime\":1664580300,\"moonPhase\":0.18,\"precipIntensity\":0.0013,\"precipIntensityMax\":0.0044,\"precipIntensityMaxTime\":1664535240,\"precipProbability\":0.35,\"precipType\":\"rain\",\"temperatureHigh\":72.14,\"temperatureHighTime\":1664562240,\"temperatureLow\":57.31,\"temperatureLowTime\":1664622000,\"apparentTemperatureHigh\":71.64,\"apparentTemperatureHighTime\":1664562240,\"apparentTemperatureLow\":57.8,\"apparentTemperatureLowTime\":1664622000,\"dewPoint\":51.33,\"humidity\":0.62,\"pressure\":1014.9,\"windSpeed\":11.54,\"windGust\":33,\"windGustTime\":1664528640,\"windBearing\":31,\"cloudCover\":0.61,\"uvIndex\":6,\"uvIndexTime\":1664558280,\"visibility\":10,\"ozone\":274,\"temperatureMin\":56.37,\"temperatureMinTime\":1664535720,\"temperatureMax\":72.14,\"temperatureMaxTime\":1664562240,\"apparentTemperatureMin\":56.86,\"apparentTemperatureMinTime\":1664535720,\"apparentTemperatureMax\":71.64,\"apparentTemperatureMaxTime\":1664562240},{\"time\":1664596800,\"summary\":\"Rain throughout the day.\",\"icon\":\"rain\",\"sunriseTime\":1664624040,\"sunsetTime\":1664666640,\"moonPhase\":0.22,\"precipIntensity\":0.0234,\"precipIntensityMax\":0.067,\"precipIntensityMaxTime\":1664627760,\"precipProbability\":0.95,\"precipType\":\"rain\",\"temperatureHigh\":65.27,\"temperatureHighTime\":1664653320,\"temperatureLow\":57.16,\"temperatureLowTime\":1664701620,\"apparentTemperatureHigh\":64.77,\"apparentTemperatureHighTime\":1664653320,\"apparentTemperatureLow\":57.65,\"apparentTemperatureLowTime\":1664701620,\"dewPoint\":55.48,\"humidity\":0.8,\"pressure\":1008.5,\"windSpeed\":10.94,\"windGust\":28.96,\"windGustTime\":1664627160,\"windBearing\":330,\"cloudCover\":0.77,\"uvIndex\":6,\"uvIndexTime\":1664645100,\"visibility\":9.453,\"ozone\":269.6,\"temperatureMin\":56.63,\"temperatureMinTime\":1664625300,\"temperatureMax\":65.27,\"temperatureMaxTime\":1664653320,\"apparentTemperatureMin\":57.12,\"apparentTemperatureMinTime\":1664625300,\"apparentTemperatureMax\":64.77,\"apparentTemperatureMaxTime\":1664653320},{\"time\":1664683200,\"summary\":\"Rain in the morning.\",\"icon\":\"rain\",\"sunriseTime\":1664710500,\"sunsetTime\":1664752920,\"moonPhase\":0.25,\"precipIntensity\":0.0078,\"precipIntensityMax\":0.0422,\"precipIntensityMaxTime\":1664694540,\"precipProbability\":0.71,\"precipType\":\"rain\",\"temperatureHigh\":67.15,\"temperatureHighTime\":1664743320,\"temperatureLow\":59.39,\"temperatureLowTime\":1664793540,\"apparentTemperatureHigh\":66.65,\"apparentTemperatureHighTime\":1664743320,\"apparentTemperatureLow\":59.88,\"apparentTemperatureLowTime\":1664793540,\"dewPoint\":56.85,\"humidity\":0.85,\"pressure\":1012.9,\"windSpeed\":7.45,\"windGust\":17.86,\"windGustTime\":1664683200,\"windBearing\":322,\"cloudCover\":0.96,\"uvIndex\":4,\"uvIndexTime\":1664731380,\"visibility\":9.919,\"ozone\":276.2,\"temperatureMin\":57.16,\"temperatureMinTime\":1664701620,\"temperatureMax\":67.15,\"temperatureMaxTime\":1664743320,\"apparentTemperatureMin\":57.65,\"apparentTemperatureMinTime\":1664701620,\"apparentTemperatureMax\":66.65,\"apparentTemperatureMaxTime\":1664743320},{\"time\":1664769600,\"summary\":\"Overcast throughout the day.\",\"icon\":\"cloudy\",\"sunriseTime\":1664796900,\"sunsetTime\":1664839260,\"moonPhase\":0.29,\"precipIntensity\":0.0006,\"precipIntensityMax\":0.0039,\"precipIntensityMaxTime\":1664856000,\"precipProbability\":0.25,\"precipType\":\"rain\",\"temperatureHigh\":66.79,\"temperatureHighTime\":1664830020,\"temperatureLow\":57.45,\"temperatureLowTime\":1664881200,\"apparentTemperatureHigh\":66.29,\"apparentTemperatureHighTime\":1664830080,\"apparentTemperatureLow\":57.94,\"apparentTemperatureLowTime\":1664881200,\"dewPoint\":57.24,\"humidity\":0.84,\"pressure\":1017.2,\"windSpeed\":4.52,\"windGust\":15.17,\"windGustTime\":1664856000,\"windBearing\":43,\"cloudCover\":0.91,\"uvIndex\":4,\"uvIndexTime\":1664818020,\"visibility\":10,\"ozone\":273,\"temperatureMin\":59.39,\"temperatureMinTime\":1664793540,\"temperatureMax\":66.79,\"temperatureMaxTime\":1664830020,\"apparentTemperatureMin\":59.88,\"apparentTemperatureMinTime\":1664793540,\"apparentTemperatureMax\":66.29,\"apparentTemperatureMaxTime\":1664830080},{\"time\":1664856000,\"summary\":\"Overcast throughout the day.\",\"icon\":\"cloudy\",\"sunriseTime\":1664883360,\"sunsetTime\":1664925600,\"moonPhase\":0.33,\"precipIntensity\":0.0007,\"precipIntensityMax\":0.0042,\"precipIntensityMaxTime\":1664859360,\"precipProbability\":0.2,\"precipType\":\"rain\",\"temperatureHigh\":69.43,\"temperatureHighTime\":1664916480,\"temperatureLow\":54.45,\"temperatureLowTime\":1664966280,\"apparentTemperatureHigh\":68.93,\"apparentTemperatureHighTime\":1664916480,\"apparentTemperatureLow\":54.94,\"apparentTemperatureLowTime\":1664966280,\"dewPoint\":57.56,\"humidity\":0.83,\"pressure\":1017.8,\"windSpeed\":4.01,\"windGust\":18.38,\"windGustTime\":1664871780,\"windBearing\":56,\"cloudCover\":0.94,\"uvIndex\":4,\"uvIndexTime\":1664904240,\"visibility\":10,\"ozone\":274,\"temperatureMin\":57.28,\"temperatureMinTime\":1664883300,\"temperatureMax\":69.43,\"temperatureMaxTime\":1664916480,\"apparentTemperatureMin\":57.77,\"apparentTemperatureMinTime\":1664883300,\"apparentTemperatureMax\":68.93,\"apparentTemperatureMaxTime\":1664916480},{\"time\":1664942400,\"summary\":\"Overcast throughout the day.\",\"icon\":\"cloudy\",\"sunriseTime\":1664969820,\"sunsetTime\":1665011880,\"moonPhase\":0.36,\"precipIntensity\":0,\"precipIntensityMax\":0,\"precipIntensityMaxTime\":1664971200,\"precipProbability\":0,\"temperatureHigh\":73.46,\"temperatureHighTime\":1665001200,\"temperatureLow\":51.96,\"temperatureLowTime\":1665054000,\"apparentTemperatureHigh\":72.96,\"apparentTemperatureHighTime\":1665001200,\"apparentTemperatureLow\":52.45,\"apparentTemperatureLowTime\":1665054000,\"dewPoint\":55.87,\"humidity\":0.8,\"pressure\":1018.3,\"windSpeed\":2.22,\"windGust\":6.34,\"windGustTime\":1664942400,\"windBearing\":312,\"cloudCover\":0.93,\"uvIndex\":4,\"uvIndexTime\":1664990700,\"visibility\":10,\"ozone\":274.8,\"temperatureMin\":54.45,\"temperatureMinTime\":1664966280,\"temperatureMax\":73.46,\"temperatureMaxTime\":1665001200,\"apparentTemperatureMin\":54.94,\"apparentTemperatureMinTime\":1664966280,\"apparentTemperatureMax\":72.96,\"apparentTemperatureMaxTime\":1665001200}]},\"flags\":{\"sources\":[\"nwspa\",\"cmc\",\"gfs\",\"hrrr\",\"icon\",\"isd\",\"madis\",\"nam\",\"sref\",\"darksky\",\"nearest-precip\"],\"nearest-station\":2.16,\"units\":\"us\"},\"offset\":-4}\\n'\n"
     ]
    }
   ],
   "source": [
    "forecast_data = response.read()\n",
    "print(forecast_data)"
   ]
  },
  {
   "cell_type": "markdown",
   "metadata": {},
   "source": [
    "## json: Parsing and creating JSON-formatted data"
   ]
  },
  {
   "cell_type": "code",
   "execution_count": 7,
   "metadata": {},
   "outputs": [
    {
     "name": "stdout",
     "output_type": "stream",
     "text": [
      "{'language': 'en', 'name': 'Fred', 'color': 'blue'} <class 'dict'>\n",
      "blue\n",
      "{\"language\": \"en\", \"name\": \"Fred\", \"color\": \"green\"} <class 'str'>\n"
     ]
    }
   ],
   "source": [
    "import json\n",
    "\n",
    "msg = json.loads('{\"language\": \"en\", \"name\": \"Fred\", \"color\": \"blue\"}')\n",
    "print(msg, type(msg))\n",
    "print(msg['color'])\n",
    "\n",
    "msg['color'] = 'green'\n",
    "s = json.dumps(msg)\n",
    "print(s, type(s))"
   ]
  },
  {
   "cell_type": "code",
   "execution_count": null,
   "metadata": {},
   "outputs": [],
   "source": [
    "forecast = json.loads(forecast_data)\n",
    "# Depending on the API, this can get really deep!  Consider breaking things down\n",
    "print(type(forecast))\n",
    "time = forecast['currently']['time']\n",
    "temp = forecast['currently']['temperature']\n",
    "print(time, temp)\n",
    "\n",
    "today = forecast['daily']['data'][0]\n",
    "\n",
    "print('Today - High: {high}, Low: {low}'.format(\n",
    "    high=today['temperatureHigh'], low=today['temperatureLow']))"
   ]
  },
  {
   "cell_type": "code",
   "execution_count": null,
   "metadata": {},
   "outputs": [],
   "source": [
    "from pprint import pprint\n",
    "pprint(forecast)"
   ]
  },
  {
   "cell_type": "markdown",
   "metadata": {},
   "source": [
    "## Advanced API tools:  Requests\n",
    "* Requests - HTTP for Humans:  http://docs.python-requests.org/en/master/\n",
    "* Nice methods for each HTTP verb\n",
    "* Easy response handling for most common data formats\n",
    "* Can handle cookies, authentication, streaming downloads\n",
    "* Lots of community support for advanced usage:  OAuth, Caching, Async"
   ]
  },
  {
   "cell_type": "code",
   "execution_count": 2,
   "metadata": {},
   "outputs": [],
   "source": [
    "import requests"
   ]
  },
  {
   "cell_type": "code",
   "execution_count": null,
   "metadata": {},
   "outputs": [],
   "source": [
    "!pip3 install requests\n",
    "# OR python3 -m pip install requests"
   ]
  },
  {
   "cell_type": "code",
   "execution_count": null,
   "metadata": {},
   "outputs": [],
   "source": [
    "import requests\n",
    "response = requests.get('https://xkcd.com')\n",
    "print(response.text)\n",
    "print(response.headers)\n",
    "print(response.status_code)"
   ]
  },
  {
   "cell_type": "code",
   "execution_count": 3,
   "metadata": {},
   "outputs": [
    {
     "name": "stdout",
     "output_type": "stream",
     "text": [
      "Help on function get in module requests.api:\n",
      "\n",
      "get(url, params=None, **kwargs)\n",
      "    Sends a GET request.\n",
      "    \n",
      "    :param url: URL for the new :class:`Request` object.\n",
      "    :param params: (optional) Dictionary, list of tuples or bytes to send\n",
      "        in the query string for the :class:`Request`.\n",
      "    :param \\*\\*kwargs: Optional arguments that ``request`` takes.\n",
      "    :return: :class:`Response <Response>` object\n",
      "    :rtype: requests.Response\n",
      "\n"
     ]
    }
   ],
   "source": [
    "help(requests.get)"
   ]
  },
  {
   "cell_type": "markdown",
   "metadata": {},
   "source": [
    "## Common API Response formats"
   ]
  },
  {
   "cell_type": "markdown",
   "metadata": {},
   "source": [
    "## CSV (Comma-Separated Values) / Delimited text\n",
    "* One of the simplest forms of data transfer formats\n",
    "* Often simply a direct dump from a database or spreadsheet\n",
    "* Very efficient data transfer (little metadata)\n",
    "* Popular in government data sources and data science\n",
    "* Has a few problems that make it less popular on the client side\n",
    "    * No data type support - everything is a string\n",
    "    * Delimeters in text need to be handled specially (usually quoting)\n",
    "    * There are several subtley different \"dialects\" from various tools (no real specification)\n",
    "    * Not terribly human-readable either"
   ]
  },
  {
   "cell_type": "code",
   "execution_count": null,
   "metadata": {},
   "outputs": [],
   "source": [
    "import requests\n",
    "import csv\n",
    "\n",
    "# Hourly earthquake data for earthquakes over 1.0 magnitude, per USGS\n",
    "response = requests.get('https://earthquake.usgs.gov/earthquakes/feed/v1.0/summary/1.0_hour.csv')\n",
    "print(response.text)\n",
    "# Sometimes we have to deal with different data encodings (ASCII, UTF-8, etc.)\n",
    "reader = csv.DictReader(response.iter_lines(decode_unicode=True))\n",
    "for row in reader:\n",
    "    print(row['time'], row['place'], row['mag'])"
   ]
  },
  {
   "cell_type": "markdown",
   "metadata": {},
   "source": [
    "## XML (eXtensible Markup Language)\n",
    "* Became popular as the Web took off (late 1990s)\n",
    "* Intended to be very easy for humans to read (compared to binary formats)\n",
    "* Text only - once again to avoid prior binary protocols\n",
    "* No data types - everything is a string\n",
    "* Very verbose format - not great efficiency for very large files\n",
    "* Not really streamable (there are workarounds)\n",
    "* Official spec (but there are many extensions):\n",
    "* Still very popular as a configuration format (C#, Java, etc)"
   ]
  },
  {
   "cell_type": "code",
   "execution_count": null,
   "metadata": {},
   "outputs": [],
   "source": [
    "import requests\n",
    "from xml.etree import ElementTree as ET\n",
    "\n",
    "response = requests.get('https://earthquake.usgs.gov/earthquakes/feed/v1.0/summary/1.0_week_age_link.kml')\n",
    "\n",
    "print(response.text)\n",
    "print()\n",
    "root = ET.fromstring(response.text)\n",
    "print(root.tag)\n",
    "document = root.find('{http://www.opengis.net/kml/2.2}Document')\n",
    "for child in document:\n",
    "    print(child.tag)\n",
    "    print(child.text)"
   ]
  },
  {
   "cell_type": "markdown",
   "metadata": {},
   "source": [
    "## JSON (JavaScript Object Notation)\n",
    "* Syntax is valid, literal JavaScript objects\n",
    "* Gained rapid popularity because it is simple concise, and easy to deal with in JavaScript\n",
    "* Translates easily to Python objects\n",
    "* Still pretty human readable\n",
    "* Supports a limited set of data types (number, string, boolean, \"object\", and array)\n",
    "* Has an official specification:  https://www.json.org/json-en.html"
   ]
  },
  {
   "cell_type": "code",
   "execution_count": null,
   "metadata": {
    "scrolled": true
   },
   "outputs": [],
   "source": [
    "import requests\n",
    "\n",
    "response = requests.get('https://earthquake.usgs.gov/earthquakes/feed/v1.0/summary/1.0_hour.geojson')\n",
    "\n",
    "data = response.json()\n",
    "print(data)\n",
    "print()\n",
    "for record in data['features']:\n",
    "    print(record['properties']['time'], record['properties']['place'], record['properties']['mag'])"
   ]
  },
  {
   "cell_type": "markdown",
   "metadata": {},
   "source": [
    "## Lab: API Requests\n",
    "\n",
    "* Using the `requests` package, and the API key above, write a function that makes a request for your own location to the DarkSky API, and print out the response data."
   ]
  },
  {
   "cell_type": "code",
   "execution_count": null,
   "metadata": {},
   "outputs": [],
   "source": []
  },
  {
   "cell_type": "markdown",
   "metadata": {},
   "source": [
    "## Other API concerns\n",
    "* Not all APIs are RESTful - you may need to deal with a proprietary protocol or simply request files\n",
    "* Authorization - many APIs require keys, tokens, or other credentials\n",
    "* Network outages\n",
    "* Rate limiting, tiering of access"
   ]
  },
  {
   "cell_type": "markdown",
   "metadata": {},
   "source": [
    "## But what if the site or web app doesn't offer an API?"
   ]
  },
  {
   "cell_type": "markdown",
   "metadata": {},
   "source": [
    "# Web Scraping\n",
    "\n",
    "### Requesting web pages built to render displays for HUMANS and extracting the information we want"
   ]
  },
  {
   "cell_type": "markdown",
   "metadata": {},
   "source": [
    "## Why should web scraping be a fallback?\n",
    "* More manual trial and error up front\n",
    "* Pages meant for humans may change frequently for any reason\n",
    "* Pages meant for display may have data scattered or buried\n",
    "* Popularity of Javascript frameworks may make data even harder to find"
   ]
  },
  {
   "cell_type": "markdown",
   "metadata": {},
   "source": [
    "## BeautifulSoup - Python package for parsing HTML\n",
    "* Offers support for various parsers (html, xml, lxml)\n",
    "* Provides easy methods and properties for navigating the markup \"tree\"\n",
    "* Search by HTML tags, attributes, CSS class, etc.\n",
    "* Regular expression support"
   ]
  },
  {
   "cell_type": "code",
   "execution_count": null,
   "metadata": {},
   "outputs": [],
   "source": [
    "import requests\n",
    "import bs4\n",
    "\n",
    "response = requests.get('https://cnn.com')\n",
    "soup = bs4.BeautifulSoup(response.text)\n",
    "soup"
   ]
  },
  {
   "cell_type": "code",
   "execution_count": null,
   "metadata": {},
   "outputs": [],
   "source": [
    "soup.title"
   ]
  },
  {
   "cell_type": "code",
   "execution_count": null,
   "metadata": {},
   "outputs": [],
   "source": [
    "soup.body.div"
   ]
  },
  {
   "cell_type": "code",
   "execution_count": null,
   "metadata": {},
   "outputs": [],
   "source": [
    "for child in soup.body.children:\n",
    "    print(child)"
   ]
  },
  {
   "cell_type": "code",
   "execution_count": null,
   "metadata": {},
   "outputs": [],
   "source": [
    "soup.find_all('a')"
   ]
  },
  {
   "cell_type": "markdown",
   "metadata": {},
   "source": [
    "## That's a mess - but sometimes we can cheat a little..."
   ]
  },
  {
   "cell_type": "code",
   "execution_count": null,
   "metadata": {},
   "outputs": [],
   "source": [
    "response = requests.get('http://rss.cnn.com/rss/cnn_topstories.rss')\n",
    "soup = bs4.BeautifulSoup(response.text)\n",
    "\n",
    "soup.rss.find_all('title')"
   ]
  },
  {
   "cell_type": "code",
   "execution_count": null,
   "metadata": {},
   "outputs": [],
   "source": [
    "headlines = [node.string for node in soup.rss.find_all('title')]\n",
    "headlines"
   ]
  },
  {
   "cell_type": "markdown",
   "metadata": {},
   "source": [
    "## Bonus Lab:  Web Scraping\n",
    "\n",
    "Using BeautifulSoup4, scrap the Wikipedia page for the History Python to obtain the following information:\n",
    "* What is the sum total length of support time for each major version of Python (i.e. 0.x, 1.x, 2.x, 3.x)\n",
    "* How much time was each major version supported after the next major version appeared?\n",
    "* Display the list of the final version for each major version"
   ]
  },
  {
   "cell_type": "markdown",
   "metadata": {},
   "source": [
    "## Python and Databases"
   ]
  },
  {
   "cell_type": "markdown",
   "metadata": {},
   "source": [
    "## DBAPI2:  The Python way to handle databases\n",
    "\n",
    "DBAPI2 is an API specification (https://www.python.org/dev/peps/pep-0249/) that defines a set of Python objects that are available when querying database engines.  While there are a very large number of database engines, and several database connectivity standards (ODBC, JDBC, etc), the DBAPI2 objects are what you see on the Python side.\n",
    "\n",
    "DBAPI2 **is**:\n",
    "* A common interface in Python that makes it simpler to switch databases\n",
    "* Provided by Python database driver packages\n",
    "* Simple and straightforward\n",
    "\n",
    "DBAPI2 **is not**:\n",
    "* A translation layer for SQL queries\n",
    "* An Object-Relational Mapper\n",
    "* A Python implementation of any database-specific features"
   ]
  },
  {
   "cell_type": "markdown",
   "metadata": {},
   "source": [
    "## `sqlite3` - The built-in database\n",
    "* Open-source database engine\n",
    "* Simple file-based storage\n",
    "* Great for prototyping\n",
    "* SQL compliant (almost)\n",
    "* Does NOT support parallel access (don't put it in production web apps!)"
   ]
  },
  {
   "cell_type": "code",
   "execution_count": 1,
   "metadata": {},
   "outputs": [],
   "source": [
    "query = \"\"\"\n",
    "CREATE TABLE users (user_id INTEGER, username TEXT, email TEXT, pto_days REAL)\n",
    "\"\"\""
   ]
  },
  {
   "cell_type": "code",
   "execution_count": 2,
   "metadata": {},
   "outputs": [
    {
     "name": "stdout",
     "output_type": "stream",
     "text": [
      "None\n"
     ]
    }
   ],
   "source": [
    "import sqlite3\n",
    "\n",
    "# \"Connect\" to the database\n",
    "conn = sqlite3.connect('example.db')\n",
    "\n",
    "# Get a cursor from the connection\n",
    "cursor = conn.cursor()\n",
    "\n",
    "# Execute a SQL query\n",
    "cursor.execute(query)\n",
    "\n",
    "# Inspect the results, if any\n",
    "result = cursor.fetchone()\n",
    "print(result)\n",
    "\n",
    "\n",
    "# Commit the changes\n",
    "conn.commit()\n",
    "# Close the connection\n",
    "conn.close()"
   ]
  },
  {
   "cell_type": "code",
   "execution_count": 3,
   "metadata": {},
   "outputs": [
    {
     "name": "stdout",
     "output_type": "stream",
     "text": [
      "-rw-r--r-- 1 CORP\\nwaterman CORP\\domain users 2048 Sep 29 10:42 example.db\n"
     ]
    }
   ],
   "source": [
    "!ls -al *.db"
   ]
  },
  {
   "cell_type": "code",
   "execution_count": 4,
   "metadata": {},
   "outputs": [
    {
     "name": "stdout",
     "output_type": "stream",
     "text": [
      "None\n"
     ]
    }
   ],
   "source": [
    "insert_query = \"\"\"\n",
    "INSERT INTO users\n",
    "VALUES\n",
    "(1, \"jrrickerson\", \"jrrickerson@redrivetstudios.com\", 15.0),\n",
    "(2, \"dave\", \"dws@developintelligence.com\", 20.0),\n",
    "(3, \"ace\", \"ace@developintelligence.com\", 11.5);\n",
    "\"\"\"\n",
    "\n",
    "conn = sqlite3.connect('example.db')\n",
    "cursor = conn.cursor()\n",
    "cursor.execute(insert_query)\n",
    "result = cursor.fetchone()\n",
    "print(result)\n",
    "\n",
    "conn.commit()\n",
    "conn.close()"
   ]
  },
  {
   "cell_type": "code",
   "execution_count": 5,
   "metadata": {},
   "outputs": [
    {
     "name": "stdout",
     "output_type": "stream",
     "text": [
      "[(1, 'jrrickerson', 'jrrickerson@redrivetstudios.com', 15.0), (2, 'dave', 'dws@developintelligence.com', 20.0), (3, 'ace', 'ace@developintelligence.com', 11.5)]\n"
     ]
    }
   ],
   "source": [
    "# Support for \"with\"\n",
    "\n",
    "with sqlite3.connect('example.db') as conn:\n",
    "    query = 'SELECT * FROM users'\n",
    "    cursor = conn.cursor()\n",
    "    cursor.execute(query)\n",
    "    result = cursor.fetchall()\n",
    "    print(result)"
   ]
  },
  {
   "cell_type": "code",
   "execution_count": 6,
   "metadata": {},
   "outputs": [
    {
     "name": "stdout",
     "output_type": "stream",
     "text": [
      "jrrickerson 15.0\n",
      "dave 20.0\n",
      "ace 11.5\n"
     ]
    }
   ],
   "source": [
    "# Cursors support iteration\n",
    "\n",
    "with sqlite3.connect('example.db') as conn:\n",
    "    query = 'SELECT * FROM users'\n",
    "    cursor = conn.cursor()\n",
    "    for row in cursor.execute(query):\n",
    "        print(row[1], row[3])"
   ]
  },
  {
   "cell_type": "code",
   "execution_count": 7,
   "metadata": {},
   "outputs": [
    {
     "name": "stdout",
     "output_type": "stream",
     "text": [
      "jrrickerson 15.0\n",
      "dave 20.0\n",
      "ace 11.5\n",
      "['user_id', 'username', 'email', 'pto_days']\n"
     ]
    }
   ],
   "source": [
    "# Row objects allow column lookups\n",
    "\n",
    "with sqlite3.connect('example.db') as conn:\n",
    "    query = 'SELECT * FROM users'\n",
    "    conn.row_factory = sqlite3.Row\n",
    "    cursor = conn.cursor()\n",
    "    cursor.execute(query)\n",
    "    for row in cursor:\n",
    "        print(row['username'], row['pto_days'])\n",
    "    print(row.keys())"
   ]
  },
  {
   "cell_type": "code",
   "execution_count": 8,
   "metadata": {},
   "outputs": [],
   "source": [
    "query = \"\"\"\n",
    "INSERT INTO users\n",
    "VALUES\n",
    "    (?, ?, ?, ?)\"\"\""
   ]
  },
  {
   "cell_type": "code",
   "execution_count": 9,
   "metadata": {},
   "outputs": [],
   "source": [
    "username = input('Enter username: ')\n",
    "email = input('Enter email: ')\n",
    "userid = input('Enter ID: ')\n",
    "days = input('Enter PTO: ')"
   ]
  },
  {
   "cell_type": "code",
   "execution_count": 10,
   "metadata": {},
   "outputs": [
    {
     "name": "stdout",
     "output_type": "stream",
     "text": [
      "(1, 'jrrickerson', 'jrrickerson@redrivetstudios.com', 15.0)\n",
      "(2, 'dave', 'dws@developintelligence.com', 20.0)\n",
      "(3, 'ace', 'ace@developintelligence.com', 11.5)\n",
      "('nw4tp9', 'nwat', 'n@wat.py', 42.0)\n"
     ]
    }
   ],
   "source": [
    "with sqlite3.connect('example.db') as conn:\n",
    "    cursor = conn.cursor()\n",
    "    cursor.execute(query, (userid, username, email, days))\n",
    "    for row in cursor.execute('SELECT * from users'):\n",
    "        print(row)"
   ]
  },
  {
   "cell_type": "markdown",
   "metadata": {},
   "source": [
    "## Bonus Lab:  DBAPI2\n",
    "\n",
    "Create your own sqlite3 database (HINT:  You can use the filename `:memory:` if you cannot create a file) and execute some SQL queries on it.  Try creating a table and adding a few rows, and then retrieving those rows."
   ]
  },
  {
   "cell_type": "markdown",
   "metadata": {},
   "source": [
    "## More On Databases\n",
    "\n",
    "- Python has drivers for PostgreSQL, MySQL, MS-SQL, Oracle, and more!\n",
    "- Additional support for No-SQL databases, but they may not follow the DBAPI2 spec\n",
    "- If you need to do a LOT of database work, an ORM may help you - look at `sqlalchemy`\n",
    "- Database connectivity comes with a lot of gotchas!  Be especially careful when executing within loops.  There's often a better way!"
   ]
  },
  {
   "cell_type": "markdown",
   "metadata": {},
   "source": [
    "## Lab:  Astronomy API Client\n",
    "Look for the file **01_calling_apis_with_python.pdf** in your materials for instructions, and build your own standlone script that utilizes the Astronomy API at https://astronomyapi.com"
   ]
  },
  {
   "cell_type": "code",
   "execution_count": null,
   "metadata": {},
   "outputs": [],
   "source": []
  }
 ],
 "metadata": {
  "celltoolbar": "Slideshow",
  "kernelspec": {
   "display_name": "Python 3.7.10 64-bit",
   "language": "python",
   "name": "python3"
  },
  "language_info": {
   "codemirror_mode": {
    "name": "ipython",
    "version": 3
   },
   "file_extension": ".py",
   "mimetype": "text/x-python",
   "name": "python",
   "nbconvert_exporter": "python",
   "pygments_lexer": "ipython3",
   "version": "3.7.10"
  },
  "vscode": {
   "interpreter": {
    "hash": "916dbcbb3f70747c44a77c7bcd40155683ae19c65e1c03b4aa3499c5328201f1"
   }
  }
 },
 "nbformat": 4,
 "nbformat_minor": 4
}
