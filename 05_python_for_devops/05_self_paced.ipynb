{
 "cells": [
  {
   "cell_type": "markdown",
   "metadata": {},
   "source": [
    "# 9/15\n",
    "\n",
    "For extra practice, try some of the labs we skipped during our lecture: List Management / Sorting, Word Counting (note the bonuses!), Mastermind / Cows and Bulls, or Functions\n",
    "\t\n",
    "If you've not yet done your presentation, you'll get the opportunity tomorrow.  Have it ready for the morning!\n",
    "\t\n",
    "Consider what we've learned so far about Python, including conditionals, loops, lists, and dictionaries. You should now have the tools to build yourself a small game as a practice exercise. Try looking at the rules for a classic board game or card game like Checkers, Go, \"War\" (card game), or Black Jack. Consider how you might model information about the pieces, the board, the players, etc. using the tools we've learned and start a text-only version of one of these games.\n",
    "\t\n",
    "I mentioned today that functions are an object, just like integers, floats, lists, etc.  Think about the things you can do with \"regular\" objects - assignment, passing them as arguments, printing them, storing them in lists.  Can you do the same thing with functions?  Experiment and find out!\n",
    "\t\n",
    "Try writing a function and running it inside the Python Tutor tool to see if you understand the way scoping works.  It's good for debugging loops as well!\n",
    "\thttps://pythontutor.com/\n",
    "\t\n",
    "Code Kata Suggestion:  Anagrams http://codekata.com/kata/kata06-anagrams/"
   ]
  },
  {
   "cell_type": "markdown",
   "metadata": {},
   "source": [
    "# 9/19\n",
    "\n",
    "If you'd like more practice with list manipulation or the list methods we discussed, try the optional list labs:\n",
    "\n",
    "List Management\n",
    "\t\t\n",
    "Deduplicating Lists\n",
    "\t\t\n",
    "More List Management\n",
    "\t\n",
    "Look over the documentation on String Methods, found here:  https://docs.python.org/3/library/stdtypes.html#string-methods\n",
    "\tThere are even more string methods we didn't have time to cover - experiment and try them out!\n",
    "\t\n",
    "We reviewed Lists today and took a look at more of the functionality available to them.  Lists are considered a \"Mutable Sequence Type\" and share some functionality with a few other types.  You can see their documented capabilities here:  https://docs.python.org/3/library/stdtypes.html#sequence-types-list-tuple-range\n",
    "\t\n",
    "Explore more with https://pythontutor.com and create some lists to make sure you understand WHEN lists are copied and when they are NOT copied.  This can have a profound effect on your code!\n",
    "\t\n",
    "On the whiteboard today, we explored using Lists as different data structures called Stacks or Queues.  See if you can find some algorithms where Stacks and Queues are used.  Can you think of when these might have been useful for some automation your team used or built?\n",
    "\t\n",
    "Code Kata Suggestion:  Valid Parentheses (https://www.codewars.com/kata/52774a314c2333f0a7000688)"
   ]
  },
  {
   "cell_type": "markdown",
   "metadata": {},
   "source": [
    "# 9/20\n",
    "\n",
    "Try the optional List labs if you'd like more practice with Lists, or do the Roman Numerals (reverse) lab if you would like practice with dictionaries.\n",
    "\t\n",
    "For an extra challenge, try the Extra Dictionary Lab below.\n",
    "\t\n",
    "Today we discussed some new syntax - list comprehensions and dictionary comprehensions.  Look at our previous labs and see if you find any places where the comprehension syntax might make your code simpler or more readable.\n",
    "\t\n",
    "If you want some more practice with building algorithms, try looking at our previous labs or code katas and solving them again with extra conditions.  For example, if you've completed the \"Fizz Buzz\" kata, try doing it again, but avoid using an if statement, or build it with functions, or avoid using looping.  This can be a great way to stretch your mental muscles.\n",
    "\t\n",
    "Code Kata Suggestion:  Tom Swift Under the Milkwood (http://codekata.com/kata/kata14-tom-swift-under-the-milkwood/)"
   ]
  },
  {
   "cell_type": "markdown",
   "metadata": {},
   "source": [
    "# 9/21\n",
    "\n",
    "Try the optional List labs or the File I/O + dicts lab if you want some extra practice.\n",
    "\t\n",
    "Look ahead to our Functions lab.  We'll have some time to work on this tomorrow morning.\n",
    "\t\n",
    "We spent some time with File I/O techniques and methods today, but we still didn't cover all of what you can do with file in Python.  Check out the \"io\" module for a list of the methods and properties of \"file-like\" objects in Python: https://docs.python.org/3/library/io.html#\n",
    "\t\n",
    "Explore the io module further, and look at the \"StringIO\" type.  This type allows you to create an object that can treat an ordinary string as if it were a file (it is kept in memory, not written to disk).  Can you think of some interesting use cases for this type?\n",
    "\thttps://docs.python.org/3/library/io.html#io.StringIO\n",
    "\t\n",
    "We focused on text files in our labs, but it's almost as easy to read binary files in Python.  Try reading in an image file from our class materials and see if you can understand the data written into the header (You'll probably need to look at the image format specs for this).\n",
    "\t\n",
    "Code Kata suggestion: Word Chains (http://codekata.com/kata/kata19-word-chains/)"
   ]
  },
  {
   "cell_type": "markdown",
   "metadata": {},
   "source": [
    "# 9/22\n",
    "\n",
    "For extra practice with exceptions, try the second \"Exceptions\" lab to add the log operation to your calculator.  Remember that you may need to do a little research to figure out which exceptions the operation can throw.\n",
    "\t\n",
    "Explore exceptions further.  Try different operations in Python and use bad input or incorrect functions on purpose to see what exceptions they throw.  Catch the exceptions and inspect the exception objects to see what information they contain.\n",
    "\t\n",
    "Go back to our prior labs from Session 1.  Try to solve them again, this time by creating functions.  Try to make your functions as descriptive as possible, and see how close your code looks to the pseudocode for the problem.\n",
    "\t\n",
    "Programmers have created a lot of different paradigms over the years.  One popular concept is the idea of functional programming.  In Functional programming, the programmer tries to create a program where all of the code is in functions, and functions may only use variables passed in as arguments, created inside the function, or returned from another function.  Read about Functional programming here, and see if you can solve one of our prior labs using functional programming.\n",
    "\thttps://towardsdatascience.com/why-developers-are-falling-in-love-with-functional-programming-13514df4048e\n",
    "\t\n",
    "BONUS Lab: Functions that call themselves are called recursive functions.  Many algorithms can be expressed more simply when expressed as a recursive function.  One of our early labs was to calculate a factorial, where factorial was defined as N! = N * N -1 * N - 2 * N -3 and so on until reaching 1.  For instance, 5! = 5 * 4 * 3 * 2 * 1.  But, because 4! = 4 * 3 * 2 * 1, you could ALSO say that 5! = 5 * 4! (\"5 factorial is 5 times 4 factorial\").  Problems that can be stated in terms of themselves like this indicate that you can use recursion.  See if you can write a recursive function to calculate factorial.\n",
    "\t\n",
    "Code Kata Suggestion: Harry Potter (https://github.com/garora/TDD-Katas/blob/main/KatasReadme.md#harry-potter-)"
   ]
  },
  {
   "cell_type": "markdown",
   "metadata": {},
   "source": [
    "# 9/23\n",
    "\n",
    "Take a look at the optional Command-Line Args lab and the Modules lab.  We can discuss these on Monday morning.\n",
    "\t\n",
    "If you completed the Functions lab, try re-implementing the functions in a different way than you initially did to see if you can understand the difference between recursion and iteration.\n",
    "\t\n",
    "We discussed Modules again today, and the first place you typically begin importing modules from is the Python Standard Library.  We'll highlight a few modules next week, but you can browse the list of them here to see if you find any interesting:\n",
    "\thttps://docs.python.org/3/library/index.html\n",
    "\t\n",
    "Considering that modules are just objects, and imports are just regular lines of Python code, what do you think you could do if you needed to write some cross-platform automation that imported one module on Windows but a different module on Linux?\n",
    "\t\n",
    "If you've written functions for some of your labs so far, try putting them into a module.  Import the module from another module or from your Jupyter notebook and run the functions.\n",
    "\t\n",
    "A common idiom in Python is to put, at the bottom of a module, the line if _name_ == \"_main_\".  This allows us to detect in our code whether or not the current module is being run as a script, or whether it has been import.  Import a few modules and inspect their properties to try to understand better how this works.\n",
    "\t\n",
    "BONUS Lab: Functions that call themselves are called recursive functions. Many algorithms can be expressed more simply when expressed as a recursive function. One of our early labs was to calculate a factorial, where factorial was defined as N! = N * N -1 * N - 2 * N -3 and so on until reaching 1. For instance, 5! = 5 * 4 * 3 * 2 * 1. But, because 4! = 4 * 3 * 2 * 1, you could ALSO say that 5! = 5 * 4! (\"5 factorial is 5 times 4 factorial\"). Problems that can be stated in terms of themselves like this indicate that you can use recursion. See if you can write a recursive function to calculate factorial.\n",
    "\t\n",
    "Code Kata Suggestion: Alphabet Cipher (https://github.com/gigasquid/wonderland-clojure-katas/tree/master/alphabet-cipher#alphabet-cipher)"
   ]
  },
  {
   "cell_type": "markdown",
   "metadata": {},
   "source": [
    "# 9/26\n",
    "\n",
    "Work on the optional labs I've suggested on command line args, classes, or the standard library modules we covered today.\n",
    "\t\n",
    "We discussed Classes this morning and the standard library this afternoon.  Import some of the modules we've dsicssed in the Standard Library and use the module _file_ property to see where the file is stored on disk (or look on Github).  See if you can find any class definitions in those standard library modules.\n",
    "\t\n",
    "Explore the \"magic\" methods more.  Try building your own simple class that uses them and see what behaviors you can add.  https://docs.python.org/3/reference/datamodel.html#special-method-names\n",
    "\t\n",
    "Look through the standard library and see if you can find a module that interests you.  We'll examine several more as we progress, but if there's one you have questions about, don't hestitate to bring it up!\n",
    "\t\n",
    "Look over the \"Python 3 Module of the Week\" blog by Doug Hellman if you want to see more detailed descriptions and examples.  For instance, he has provided a lot of good examples for datetime (https://pymotw.com/3/datetime/index.html) and collections (https://pymotw.com/3/collections/index.html)\n",
    "\t\n",
    "Code Kata Suggestion:  Conway's Game of Life - https://codingdojo.org/kata/GameOfLife/"
   ]
  }
 ],
 "metadata": {
  "language_info": {
   "name": "python"
  },
  "orig_nbformat": 4
 },
 "nbformat": 4,
 "nbformat_minor": 2
}
