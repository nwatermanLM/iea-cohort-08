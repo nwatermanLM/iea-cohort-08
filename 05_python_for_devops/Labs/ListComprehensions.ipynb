{
 "cells": [
  {
   "cell_type": "markdown",
   "metadata": {},
   "source": [
    "## Lab: List Comprehensions\n",
    "*  Start with Cartesian product example (colors x sizes of t-shirts) and add a third list, __`sleeves = ['short', 'long']`__ then write a new listcomp which generates the Cartesian product colors x sizes x sleeves.  \n",
    "__`tshirts`__ should look like this:\n",
    "```\n",
    "    [['black', 'S', 'short'],\n",
    "     ['black', 'S', 'long'],\n",
    "     ['black', 'M', 'short'],\n",
    "     ['black', 'M', 'long'],\n",
    "     ['black', 'L', 'short'],\n",
    "     ['black', 'L', 'long'],\n",
    "     ['white', 'S', 'short'],\n",
    "     ['white', 'S', 'long'],\n",
    "     ['white', 'M', 'short'],\n",
    "     ['white', 'M', 'long'],\n",
    "     ['white', 'L', 'short'],\n",
    "     ['white', 'L', 'long']]\n",
    "```\n",
    "* Use a list comprehension to create a list of the squares of the integers from 1 to 25 (i.e, 1, 4, 9, 16, …, 625)\n",
    "* Given a list of words, create a second list which contains all the words from the first list which do NOT end with a vowel\n",
    "* Use a list comprehension to create a list of the integers from 1 to 100 which are not evenly divisible by 5"
   ]
  },
  {
   "cell_type": "code",
   "execution_count": 3,
   "metadata": {},
   "outputs": [
    {
     "data": {
      "text/plain": [
       "[['black', 'S'],\n",
       " ['black', 'M'],\n",
       " ['black', 'L'],\n",
       " ['white', 'S'],\n",
       " ['white', 'M'],\n",
       " ['white', 'L']]"
      ]
     },
     "execution_count": 3,
     "metadata": {},
     "output_type": "execute_result"
    }
   ],
   "source": [
    "colors = ['black', 'white']\n",
    "sizes = ['S', 'M', 'L']\n",
    "tshirts = [[color, size] for color in colors\n",
    "                         for size in sizes]\n",
    "tshirts"
   ]
  },
  {
   "cell_type": "code",
   "execution_count": 5,
   "metadata": {},
   "outputs": [
    {
     "data": {
      "text/plain": [
       "[[['black', 'S'], 'short'],\n",
       " [['black', 'S'], 'long'],\n",
       " [['black', 'M'], 'short'],\n",
       " [['black', 'M'], 'long'],\n",
       " [['black', 'L'], 'short'],\n",
       " [['black', 'L'], 'long'],\n",
       " [['white', 'S'], 'short'],\n",
       " [['white', 'S'], 'long'],\n",
       " [['white', 'M'], 'short'],\n",
       " [['white', 'M'], 'long'],\n",
       " [['white', 'L'], 'short'],\n",
       " [['white', 'L'], 'long']]"
      ]
     },
     "execution_count": 5,
     "metadata": {},
     "output_type": "execute_result"
    }
   ],
   "source": [
    "colors = ['black', 'white']\n",
    "sizes = ['S', 'M', 'L']\n",
    "shirt = [[color, size] for color in colors\n",
    "                         for size in sizes]\n",
    "sleeve = ['short', 'long']\n",
    "ShirtChoice = [[shirts, sleeves] for shirts in shirt\n",
    "                                for sleeves in sleeve]\n",
    "ShirtChoice\n"
   ]
  },
  {
   "cell_type": "code",
   "execution_count": 7,
   "metadata": {},
   "outputs": [
    {
     "data": {
      "text/plain": [
       "[['black', 'S', 'short'],\n",
       " ['black', 'S', 'long'],\n",
       " ['black', 'M', 'short'],\n",
       " ['black', 'M', 'long'],\n",
       " ['black', 'L', 'short'],\n",
       " ['black', 'L', 'long'],\n",
       " ['white', 'S', 'short'],\n",
       " ['white', 'S', 'long'],\n",
       " ['white', 'M', 'short'],\n",
       " ['white', 'M', 'long'],\n",
       " ['white', 'L', 'short'],\n",
       " ['white', 'L', 'long']]"
      ]
     },
     "execution_count": 7,
     "metadata": {},
     "output_type": "execute_result"
    }
   ],
   "source": [
    "# Be more Pythonic \n",
    "colors = ['black', 'white']\n",
    "sizes = ['S', 'M', 'L']\n",
    "sleeves = ['short', 'long']\n",
    "shirt = [[color, size, sleeve] for color in colors\n",
    "                         for size in sizes\n",
    "                         for sleeve in sleeves]\n",
    "shirt"
   ]
  },
  {
   "cell_type": "code",
   "execution_count": 45,
   "metadata": {},
   "outputs": [
    {
     "name": "stdout",
     "output_type": "stream",
     "text": [
      "My list of integers:  [1, 2, 3, 4, 5, 6, 7, 8, 9, 10, 11, 12, 13, 14, 15, 16, 17, 18, 19, 20, 21, 22, 23, 24, 25]\n",
      "My list of squares:  [1, 4, 9, 16, 25, 36, 49, 64, 81, 100, 121, 144, 169, 196, 225, 256, 289, 324, 361, 400, 441, 484, 529, 576, 625]\n"
     ]
    }
   ],
   "source": [
    "# Use a list comprehension to create a list of the squares of the integers from 1 to 25 (i.e, 1, 4, 9, 16, …, 625)\n",
    "\n",
    "intList = []\n",
    "for int in range(1, 26):\n",
    "    if int not in intList:\n",
    "        intList.append(int)\n",
    "    if int in intList:\n",
    "        pass\n",
    "print('My list of integers: ', intList)\n",
    "\n",
    "squareList = [num ** 2 for num in intList]\n",
    "print('My list of squares: ', squareList)\n",
    "\n",
    "\n",
    "\n",
    "    # print(item)\n",
    "    # StrInt = str(int)\n",
    "    # ListRange = StrInt.split()\n",
    "    # print(ListRange)\n",
    "\n",
    "# Squared = [[index, range] for num in myrange]\n",
    "# print(Squared)\n",
    "\n",
    "# IntRanges = \n",
    "# Squares = int **\n",
    "# SquaredInt = [[Int, Square] for Int in IntRanges\n",
    "                                 #for Square in Squares]\n",
    "# print(SquaredInt)"
   ]
  },
  {
   "cell_type": "code",
   "execution_count": null,
   "metadata": {},
   "outputs": [],
   "source": [
    "# Given a list of words, create a second list which contains all the words from the first list which do NOT end with a vowel\n",
    "\n",
    "import listofwords.txt\n"
   ]
  },
  {
   "cell_type": "code",
   "execution_count": null,
   "metadata": {},
   "outputs": [],
   "source": [
    "# instructor solution\n",
    "\n",
    "list_of_fruits\n",
    "\n",
    "[word for word in list_of_fruits\n",
    " if word[-1] not in 'aeiou']"
   ]
  },
  {
   "cell_type": "code",
   "execution_count": 50,
   "metadata": {},
   "outputs": [
    {
     "name": "stdout",
     "output_type": "stream",
     "text": [
      "[5, 10, 15, 20, 25, 30, 35, 40, 45, 50, 55, 60, 65, 70, 75, 80, 85, 90, 95, 100]\n"
     ]
    }
   ],
   "source": [
    "# Use a list comprehension to create a list of the integers from 1 to 100 which are not evenly divisible by 5\n",
    "\n",
    "intList = []\n",
    "for int in range(1, 101):\n",
    "    if int not in intList:\n",
    "        intList.append(int)\n",
    "    if int in intList:\n",
    "        pass\n",
    "\n",
    "Divis5 = list(filter(lambda x: (x % 5 == 0), intList))\n",
    "print(Divis5)"
   ]
  },
  {
   "cell_type": "code",
   "execution_count": null,
   "metadata": {},
   "outputs": [],
   "source": [
    "#instructor solution\n",
    "\n"
   ]
  }
 ],
 "metadata": {
  "kernelspec": {
   "display_name": "Python 3.10.7 64-bit",
   "language": "python",
   "name": "python3"
  },
  "language_info": {
   "codemirror_mode": {
    "name": "ipython",
    "version": 3
   },
   "file_extension": ".py",
   "mimetype": "text/x-python",
   "name": "python",
   "nbconvert_exporter": "python",
   "pygments_lexer": "ipython3",
   "version": "3.10.7"
  },
  "orig_nbformat": 4,
  "vscode": {
   "interpreter": {
    "hash": "aee8b7b246df8f9039afb4144a1f6fd8d2ca17a180786b69acc140d282b71a49"
   }
  }
 },
 "nbformat": 4,
 "nbformat_minor": 2
}
