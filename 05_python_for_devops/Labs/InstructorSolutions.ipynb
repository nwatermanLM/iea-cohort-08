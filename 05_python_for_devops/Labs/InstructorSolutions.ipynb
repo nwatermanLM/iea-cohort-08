{
 "cells": [
  {
   "cell_type": "code",
   "execution_count": 2,
   "metadata": {},
   "outputs": [
    {
     "name": "stdout",
     "output_type": "stream",
     "text": [
      "THISisasTRINgoftEXTOfalpHACHars\n"
     ]
    }
   ],
   "source": [
    "# String Functions Lab\n",
    "\n",
    "# Given a user string and stride, uppercase and lowercase alternating strides\n",
    "# - Ask for user input for a string\n",
    "# - Store user input in a variable\n",
    "user_string = input(\"Please enter a string:\")\n",
    "# - Ask for user input for a stride\n",
    "# - Change user input to an integer\n",
    "# - Store integer stride in a variable\n",
    "stride = int(input(\"Please enter a stride:\"))\n",
    "# - Loop over the string\n",
    "#     - Start at position 0\n",
    "#     - Increment by stride * 2 each iteration\n",
    "# - Extract two strides from the string\n",
    "#     - First stride - current position to current position + stride\n",
    "#     - Uppercase first stride, and add to result\n",
    "#     - Second stride - current position + stride to current position + 2 * stride\n",
    "#     - Lowercase the second stride, and add to result\n",
    "# - After loop, print out the result\n",
    "result = ''\n",
    "for position in range(0, len(user_string), stride * 2):\n",
    "    first_chunk = user_string[position:position+stride].upper()\n",
    "    second_chunk = user_string[position+stride:position + stride * 2].lower()\n",
    "    result += first_chunk + second_chunk\n",
    "print(result)"
   ]
  },
  {
   "cell_type": "code",
   "execution_count": 1,
   "metadata": {},
   "outputs": [
    {
     "name": "stdout",
     "output_type": "stream",
     "text": [
      "Arabic:  3036\n"
     ]
    }
   ],
   "source": [
    "# Roman Numeral Lab\n",
    "\n",
    "# Instructor solution\n",
    "# Given a user input in Roman numerals, convert to the equivalent Arabic numerals\n",
    "# - Create a constant table of Roman Numeral values\n",
    "# - Get user input string\n",
    "# - Loop through the user string one character at a time\n",
    "#     - Look up the value in the dictionary\n",
    "#     - If there was a previous value and it was lower than the current value,\n",
    "#       subtract the previous value from the current value twice, because we added it\n",
    "#       on the previous iteration instead of subtracting it\n",
    "#     - Otherwise, just add the current value to the total\n",
    "#     - Set the previous value to the current value for the next iteration\n",
    "# - Print out the total value result.\n",
    "# All caps indicates a constant (unchanging) variable\n",
    "ROMAN = {\n",
    "    'M': 1000,\n",
    "    'D': 500,\n",
    "    'C': 100,\n",
    "    'L': 50,\n",
    "    'X': 10,\n",
    "    'V': 5,\n",
    "    'I': 1,\n",
    "}\n",
    "roman_string = input('Please enter a roman numeral string: ')\n",
    "# Set total and previous value initially to zero\n",
    "prev_value = 0\n",
    "total = 0\n",
    "# Loop through character by character\n",
    "for digit in roman_string:\n",
    "    # Look up the value\n",
    "    value = ROMAN[digit]\n",
    "    # If we had a previous value (every time but the first iteration)\n",
    "    # and it was smaller than this value, that's our special case.\n",
    "    # Subtract twice, because we would have added on the previous iteration.\n",
    "    # Otherwise, just add our value to our total.\n",
    "    if prev_value and prev_value < value:\n",
    "        total += value - (2 * prev_value)\n",
    "    else:\n",
    "        total += value\n",
    "    # Remember this value for the next iteration\n",
    "    prev_value = value\n",
    "print('Arabic: ', total)"
   ]
  },
  {
   "cell_type": "code",
   "execution_count": null,
   "metadata": {},
   "outputs": [],
   "source": [
    "# FileIO lab\n",
    "\n",
    "# Instructor solution\n",
    "# Open a file, reverse the lines, and write the reversed lines out to a new file\n",
    "# - Prompt the user for a filename\n",
    "# - Open the filename provided by the user (read mode)\n",
    "# - Read the file in line by line\n",
    "# - Create a list of the lines\n",
    "# - Reverse the list of lines\n",
    "# - Create a new filename\n",
    "# - Open the output file from the new filename (write/overwrite)\n",
    "# - Loop through the list of lines and write each line to the file\n",
    "# - Close the files\n",
    "filename = input(\"Please enter a file path:\")\n",
    "#infile = open(filename, \"r\")\n",
    "with open(filename, \"r\") as infile:\n",
    "    lines = []\n",
    "    for line in infile:\n",
    "        lines.append(line)\n",
    "# lines = infile.readlines()\n",
    "# lines = [line for line in infile]\n",
    "infile.close()\n",
    "lines.reverse()\n",
    "out_filename = filename + \".reversed\"\n",
    "outfile = open(out_filename, \"w\")\n",
    "for line in lines:\n",
    "    outfile.write(line)\n",
    "outfile.close()"
   ]
  }
 ],
 "metadata": {
  "kernelspec": {
   "display_name": "Python 3.10.7 64-bit",
   "language": "python",
   "name": "python3"
  },
  "language_info": {
   "codemirror_mode": {
    "name": "ipython",
    "version": 3
   },
   "file_extension": ".py",
   "mimetype": "text/x-python",
   "name": "python",
   "nbconvert_exporter": "python",
   "pygments_lexer": "ipython3",
   "version": "3.10.7"
  },
  "orig_nbformat": 4,
  "vscode": {
   "interpreter": {
    "hash": "aee8b7b246df8f9039afb4144a1f6fd8d2ca17a180786b69acc140d282b71a49"
   }
  }
 },
 "nbformat": 4,
 "nbformat_minor": 2
}
