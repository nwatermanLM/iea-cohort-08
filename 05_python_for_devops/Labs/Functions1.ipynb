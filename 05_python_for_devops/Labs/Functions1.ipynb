{
 "cells": [
  {
   "cell_type": "markdown",
   "metadata": {},
   "source": [
    "## Lab: functions\n",
    "* Write a function __`calculate`__ which is passed two operands and an operator and returns the calculated result, e.g., __`calculate(2, 4, '+')`__ would return 6"
   ]
  },
  {
   "cell_type": "code",
   "execution_count": 31,
   "metadata": {},
   "outputs": [
    {
     "name": "stdout",
     "output_type": "stream",
     "text": [
      "0.05\n"
     ]
    }
   ],
   "source": [
    "def calculate(num1, num2, oper):\n",
    "    answer = \"\"\n",
    "    # while oper == '+' or '-' or '*' or '/':\n",
    "    if oper == '+':\n",
    "        answer = num1 + num2\n",
    "    if oper == '-':\n",
    "        answer = num1 - num2\n",
    "    if oper == '*':\n",
    "        answer = num1 * num2\n",
    "    if oper == '/':\n",
    "        answer = num1 / num2\n",
    "    return answer \n",
    "\n",
    "print(calculate(5, 100, '/'))"
   ]
  },
  {
   "cell_type": "code",
   "execution_count": null,
   "metadata": {},
   "outputs": [],
   "source": [
    "#instructor solution\n",
    "def addition(x, y):\n",
    "    return x + y\n",
    "\n",
    "OPERATORS = {\n",
    "'+': addition,\n",
    "}\n",
    "\n",
    "import operator\n",
    "\n",
    "Operatorfunct = {\n",
    "    \"+\": operator.add,\n",
    "    }"
   ]
  },
  {
   "cell_type": "markdown",
   "metadata": {},
   "source": [
    "* Write a function which takes an integer as a parameter, and sums up its digits. If the resulting sum contains more than 1 digit, the function should sum the digits again, e.g., __`sumdigits(1235)`__ should compute the sum of 1, 2, 3, and 5 (11), then compute the sum of 1 and 1, returning 2."
   ]
  },
  {
   "cell_type": "code",
   "execution_count": null,
   "metadata": {},
   "outputs": [],
   "source": [
    "\n",
    "   #numstride = 0\n",
    "    #xstr = str(x)\n",
    "    #xint = int(xstr[numstride])\n",
    "    #answer0 = 0\n",
    "    #answer1 = 0\n",
    "    #answer2 = 0\n",
    "    #answer3 = 0\n",
    "    #while numstride != 4:\n",
    "        #if answer0 + xint <= 9:\n",
    "            #answer0 += xint\n",
    "            #numstride += 1\n",
    "        #if answer1 + xint >= 10:\n",
    "            #answer1 += xint\n",
    "            #numstride += 1\n",
    "        #if answer2 + xint >= 10:\n",
    "            #answer2 += xint\n",
    "            #numstride += 1\n",
    "        #if answer3 + xint >= 10:\n",
    "            #answer3 += xint\n",
    "            # numstride += 1\n",
    "\n",
    "    # return answer0, answer1, answer2, answer3\n",
    "            #if numstride <= len(x):\n",
    "                # numstride += 1\n",
    "            #if more then 1 digit, sum the digits again\n",
    "   # if len(answer[answerstride]) != len(1):\n",
    "       # new_answer = ansint(x[numstride]) >= 10:\n",
    "       # answer + int(x[numstride]\n",
    "\n",
    "            # for num in x:\n",
    "\n",
    "def getSum(n):\n",
    "    \n",
    "    sum = 0\n",
    "    for digit in str(n): \n",
    "      sum += int(digit)\n",
    "    if sum >= 10:\n",
    "        for digit in (str(sum)):\n",
    "            sum += int(digit) \n",
    "    return sum\n",
    "\n",
    "def sumdigits(x):\n",
    "    numstride = 0\n",
    "    numstr = str(x)\n",
    "    numlist = []\n",
    "    sum0 = 0\n",
    "    sum1 = 0\n",
    "    \n",
    "    for digit in numstr:\n",
    "        if digit not in numlist:\n",
    "            numlist.append(int(digit))\n",
    "\n",
    "    while numstride <= len(numstr):\n",
    "        if sum0 + numlist[numstride] + numlist[numstride + 1] <= len(str(0)):\n",
    "            sum0 = sum0 + numlist[numstride] + numlist[numstride + 1]\n",
    "            numstride += 1\n",
    "        else:\n",
    "            sum0 = sum0 + numlist[numstride] + numlist[numstride + 1]\n",
    "            numstride += 2\n",
    "            sum1 = sum0 - 9\n",
    "        if sum1 + numlist[numstride] + numlist[numstride + 1] <= len(str(10)):\n",
    "            sum0 = sum0 + numlist[numstride] + numlist[numstride + 1]\n",
    "    \n",
    "    sum0 += int(digit)\n",
    "            numstride += 1\n",
    "\n",
    "            sum1 += sum0 + int(digit)\n",
    "    return sum0, sum1\n",
    "\n",
    "# str(x[:0]), str(x[-1])\n",
    "sumdigits(754)\n",
    "        \n",
    "\n",
    "\n",
    "\n"
   ]
  },
  {
   "cell_type": "code",
   "execution_count": 52,
   "metadata": {},
   "outputs": [
    {
     "ename": "IndentationError",
     "evalue": "expected an indented block (794667458.py, line 18)",
     "output_type": "error",
     "traceback": [
      "\u001b[0;36m  Cell \u001b[0;32mIn [52], line 18\u001b[0;36m\u001b[0m\n\u001b[0;31m    return sum\u001b[0m\n\u001b[0m    ^\u001b[0m\n\u001b[0;31mIndentationError\u001b[0m\u001b[0;31m:\u001b[0m expected an indented block\n"
     ]
    }
   ],
   "source": [
    "def getSum(n):\n",
    "    sum = 0\n",
    "    digitlist = []\n",
    "    listcursor = 0\n",
    "\n",
    "    for digit in str(n):\n",
    "        if digit not in digitlist:\n",
    "            digitlist.append(digit)\n",
    "\n",
    "    if digitlist[listcursor] + digitlist[listcursor + 1] >= 10:\n",
    "        sum += digitlist[listcursor] + digitlist[listcursor + 1]\n",
    "    if digitlist[listcursor] + digitlist[listcursor + 1] >= 10:\n",
    "\n",
    "        # for digit in str(sum):\n",
    "            # sum += int(digit)\n",
    "\n",
    "        \n",
    "\n",
    "    return sum\n",
    "\n",
    "getSum(1235)"
   ]
  },
  {
   "cell_type": "markdown",
   "metadata": {},
   "source": [
    "* Write a function which takes a number as a parameter and returns a string version of the number with commas representing thousands, e.g., __`add_commas(12345)`__ would return \"12,345\""
   ]
  },
  {
   "cell_type": "code",
   "execution_count": null,
   "metadata": {},
   "outputs": [],
   "source": []
  },
  {
   "cell_type": "markdown",
   "metadata": {},
   "source": [
    "* Write a function to demonstrate the Collatz Conjecture:\n",
    "  * for integer n > 1\n",
    "    * if n is even, then __`n = n // 2`__\n",
    "    * if n is odd, then __`n = n * 3 + 1`__\n",
    "  * ...will always converge to 1\n",
    "  * (your function should take n and keep printing new value of n until n is 1)"
   ]
  },
  {
   "cell_type": "code",
   "execution_count": null,
   "metadata": {},
   "outputs": [],
   "source": []
  },
  {
   "cell_type": "markdown",
   "metadata": {},
   "source": [
    "## Lab: Exceptions\n",
    "* modify your calculate function to catch the __`ZeroDivisionError`__ exception and print an informative message if the user tries to divide by zero"
   ]
  },
  {
   "cell_type": "code",
   "execution_count": 54,
   "metadata": {},
   "outputs": [
    {
     "name": "stdout",
     "output_type": "stream",
     "text": [
      "Can't divide by Zero!\n"
     ]
    }
   ],
   "source": [
    "def calculate(num1, num2, oper):\n",
    "    answer = None\n",
    "    if oper == '+':\n",
    "        answer = num1 + num2\n",
    "    if oper == '-':\n",
    "        answer = num1 - num2\n",
    "    if oper == '*':\n",
    "        answer = num1 * num2\n",
    "    if oper == '/':\n",
    "        try:\n",
    "            answer = num1 / num2\n",
    "        except ZeroDivisionError:\n",
    "            print('Can\\'t divide by Zero!')\n",
    "    # try:\n",
    "    return answer\n",
    "    # except UnboundLocalError:\n",
    "        # print('Fix your math!')\n",
    "\n",
    "PrintResults = calculate(10, 0, '/')\n",
    "if PrintResults is not None:\n",
    "    print(PrintResults)"
   ]
  },
  {
   "cell_type": "markdown",
   "metadata": {},
   "source": [
    "* extend your calculator to allow 'log' as an operator\n",
    "  * the second argument is the base, i.e,. __`calculate(49.0, 7, 'log')`__ = __`log7(49.0)`__ = __`2.0`__\n",
    "  * remember that __`logb(x) = loga(x)/loga(b))`__\n",
    "  * for details see: https://docs.python.org/3/library/math.html#math.log\n",
    "* use a __`try/except/else`__ block around your code that computes the log"
   ]
  },
  {
   "cell_type": "code",
   "execution_count": null,
   "metadata": {},
   "outputs": [],
   "source": []
  }
 ],
 "metadata": {
  "kernelspec": {
   "display_name": "Python 3.8.10 64-bit",
   "language": "python",
   "name": "python3"
  },
  "language_info": {
   "codemirror_mode": {
    "name": "ipython",
    "version": 3
   },
   "file_extension": ".py",
   "mimetype": "text/x-python",
   "name": "python",
   "nbconvert_exporter": "python",
   "pygments_lexer": "ipython3",
   "version": "3.8.10"
  },
  "orig_nbformat": 4,
  "vscode": {
   "interpreter": {
    "hash": "916dbcbb3f70747c44a77c7bcd40155683ae19c65e1c03b4aa3499c5328201f1"
   }
  }
 },
 "nbformat": 4,
 "nbformat_minor": 2
}
