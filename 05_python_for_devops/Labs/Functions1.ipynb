{
 "cells": [
  {
   "cell_type": "markdown",
   "metadata": {},
   "source": [
    "## Lab: functions\n",
    "* Write a function __`calculate`__ which is passed two operands and an operator and returns the calculated result, e.g., __`calculate(2, 4, '+')`__ would return 6"
   ]
  },
  {
   "cell_type": "code",
   "execution_count": 31,
   "metadata": {},
   "outputs": [
    {
     "name": "stdout",
     "output_type": "stream",
     "text": [
      "0.05\n"
     ]
    }
   ],
   "source": [
    "def calculate(num1, num2, oper):\n",
    "    answer = \"\"\n",
    "    # while oper == '+' or '-' or '*' or '/':\n",
    "    if oper == '+':\n",
    "        answer = num1 + num2\n",
    "    if oper == '-':\n",
    "        answer = num1 - num2\n",
    "    if oper == '*':\n",
    "        answer = num1 * num2\n",
    "    if oper == '/':\n",
    "        answer = num1 / num2\n",
    "    return answer \n",
    "\n",
    "print(calculate(5, 100, '/'))"
   ]
  },
  {
   "cell_type": "code",
   "execution_count": null,
   "metadata": {},
   "outputs": [],
   "source": [
    "#instructor solution\n",
    "def addition(x, y):\n",
    "    return x + y\n",
    "\n",
    "OPERATORS = {\n",
    "'+': addition,\n",
    "}\n",
    "\n",
    "import operator\n",
    "\n",
    "Operatorfunct = {\n",
    "    \"+\": operator.add,\n",
    "    }"
   ]
  },
  {
   "cell_type": "markdown",
   "metadata": {},
   "source": [
    "* Write a function which takes an integer as a parameter, and sums up its digits. If the resulting sum contains more than 1 digit, the function should sum the digits again, e.g., __`sumdigits(1235)`__ should compute the sum of 1, 2, 3, and 5 (11), then compute the sum of 1 and 1, returning 2."
   ]
  },
  {
   "cell_type": "code",
   "execution_count": null,
   "metadata": {},
   "outputs": [],
   "source": [
    "def sumdigits(x):\n",
    "    numstride = 0\n",
    "    answer = 0\n",
    "    if x[numstride] != '9':\n",
    "        answer += int(x[numstride])\n",
    "        if numstride <= len(x):\n",
    "            numstride += 1\n",
    "    \n",
    "\n",
    "\n",
    "\n",
    "            # for num in x:\n",
    "        \n",
    "\n",
    "\n",
    "\n"
   ]
  },
  {
   "cell_type": "markdown",
   "metadata": {},
   "source": [
    "* Write a function which takes a number as a parameter and returns a string version of the number with commas representing thousands, e.g., __`add_commas(12345)`__ would return \"12,345\""
   ]
  },
  {
   "cell_type": "code",
   "execution_count": null,
   "metadata": {},
   "outputs": [],
   "source": []
  },
  {
   "cell_type": "markdown",
   "metadata": {},
   "source": [
    "* Write a function to demonstrate the Collatz Conjecture:\n",
    "  * for integer n > 1\n",
    "    * if n is even, then __`n = n // 2`__\n",
    "    * if n is odd, then __`n = n * 3 + 1`__\n",
    "  * ...will always converge to 1\n",
    "  * (your function should take n and keep printing new value of n until n is 1)"
   ]
  },
  {
   "cell_type": "code",
   "execution_count": null,
   "metadata": {},
   "outputs": [],
   "source": []
  },
  {
   "cell_type": "markdown",
   "metadata": {},
   "source": [
    "## Lab: Exceptions\n",
    "* modify your calculate function to catch the __`ZeroDivisionError`__ exception and print an informative message if the user tries to divide by zero"
   ]
  },
  {
   "cell_type": "code",
   "execution_count": 54,
   "metadata": {},
   "outputs": [
    {
     "name": "stdout",
     "output_type": "stream",
     "text": [
      "Can't divide by Zero!\n"
     ]
    }
   ],
   "source": [
    "def calculate(num1, num2, oper):\n",
    "    answer = None\n",
    "    if oper == '+':\n",
    "        answer = num1 + num2\n",
    "    if oper == '-':\n",
    "        answer = num1 - num2\n",
    "    if oper == '*':\n",
    "        answer = num1 * num2\n",
    "    if oper == '/':\n",
    "        try:\n",
    "            answer = num1 / num2\n",
    "        except ZeroDivisionError:\n",
    "            print('Can\\'t divide by Zero!')\n",
    "    # try:\n",
    "    return answer\n",
    "    # except UnboundLocalError:\n",
    "        # print('Fix your math!')\n",
    "\n",
    "PrintResults = calculate(10, 0, '/')\n",
    "if PrintResults is not None:\n",
    "    print(PrintResults)"
   ]
  }
 ],
 "metadata": {
  "kernelspec": {
   "display_name": "Python 3.10.7 64-bit",
   "language": "python",
   "name": "python3"
  },
  "language_info": {
   "codemirror_mode": {
    "name": "ipython",
    "version": 3
   },
   "file_extension": ".py",
   "mimetype": "text/x-python",
   "name": "python",
   "nbconvert_exporter": "python",
   "pygments_lexer": "ipython3",
   "version": "3.10.7"
  },
  "orig_nbformat": 4,
  "vscode": {
   "interpreter": {
    "hash": "aee8b7b246df8f9039afb4144a1f6fd8d2ca17a180786b69acc140d282b71a49"
   }
  }
 },
 "nbformat": 4,
 "nbformat_minor": 2
}
