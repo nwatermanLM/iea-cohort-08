{
 "cells": [
  {
   "cell_type": "markdown",
   "metadata": {},
   "source": [
    "# The Python Ecosystem - Packages, tools, distributions"
   ]
  },
  {
   "cell_type": "markdown",
   "metadata": {},
   "source": [
    "## The Python Package Index\n",
    "* https://pypi.python.org\n",
    "* Online repository of packages submitted by the community\n",
    "* Buyer Beware!\n",
    "* Organizations can set up their own internal mirror of the index https://packaging.python.org/en/latest/guides/hosting-your-own-index/"
   ]
  },
  {
   "cell_type": "markdown",
   "metadata": {},
   "source": [
    "## Installing Python Packages\n",
    "The `pip` tool is the most common way to install Python packages.  It's easy to install if not already pre-installed with your Python installation, and easy to use.  It has a lot of capability for installing from different locations, but by default installs from the Python Package Index"
   ]
  },
  {
   "cell_type": "code",
   "execution_count": null,
   "metadata": {},
   "outputs": [],
   "source": [
    "%%bash\n",
    "# Install the \"requests\" package (latest version)\n",
    "pip install requests"
   ]
  },
  {
   "cell_type": "markdown",
   "metadata": {},
   "source": [
    "### Pip Defaults to:\n",
    "- Installing packages from the Python Package Index\n",
    "- Installing package to your system-wide Python directory (if root)\n",
    "- Installing packages for the version of Python pip was installed with"
   ]
  },
  {
   "cell_type": "code",
   "execution_count": null,
   "metadata": {},
   "outputs": [],
   "source": [
    "%%bash\n",
    "# Install the \"requests\" package into your own home directory (in a .local directory by default)\n",
    "pip install --user requests"
   ]
  },
  {
   "cell_type": "code",
   "execution_count": null,
   "metadata": {},
   "outputs": [],
   "source": [
    "%%bash\n",
    "# \"Downgrade\" requests to a specific version\n",
    "pip install --upgrade --user requests==2.24.0"
   ]
  },
  {
   "cell_type": "code",
   "execution_count": null,
   "metadata": {},
   "outputs": [],
   "source": [
    "%%bash\n",
    "# Remove requests package\n",
    "pip remove --user requests"
   ]
  },
  {
   "cell_type": "code",
   "execution_count": null,
   "metadata": {},
   "outputs": [],
   "source": [
    "%%bash\n",
    "# Ensure you're installing for a specific version of Python (3.7 in this case)\n",
    "python3.7 -m pip install --user requests==2.25.1"
   ]
  },
  {
   "cell_type": "markdown",
   "metadata": {},
   "source": [
    "### Pip can specify versions in a lot of ways\n",
    "* Minimums:  requests>=2.25\n",
    "* Maximums:  requests<3.0\n",
    "* Ranges:    requests>=2.0,<=3.0\n",
    "* Specific version:  requests==2.25.1\n",
    "\n",
    "There are several combinations of these available.  Pip follows a PEP standard way of specifying version numbers, found here:  https://www.python.org/dev/peps/pep-0440/#version-specifiers"
   ]
  },
  {
   "cell_type": "markdown",
   "metadata": {},
   "source": [
    "### What if you need multiple packages?  With specific versions of some?\n",
    "pip can accept multiple packages (as many as you like) for the install command"
   ]
  },
  {
   "cell_type": "code",
   "execution_count": null,
   "metadata": {},
   "outputs": [],
   "source": [
    "%%bash\n",
    "pip install --user requests>=2.25 pytest==6.2.3 pytest-mock==3.5.1 dateutil"
   ]
  },
  {
   "cell_type": "markdown",
   "metadata": {},
   "source": [
    "### That works well, but imagine your project now has 10 dependencies... or 20... or 30\n",
    "Specifying and installing packages manually for every project, or every new machine you want to use a project on is tedious and error prone.  There's got to be a better way!"
   ]
  },
  {
   "cell_type": "markdown",
   "metadata": {},
   "source": [
    "### requirements.txt - The Better Way\n",
    "The requirements.txt file is a simple way to specify the requirements of your projects so they can be easily reproduced by whomever is using your package on any machine where you want to run it.\n",
    "The file is simply a list of the packages to install, one per line, with version specifiers the same way pip uses them."
   ]
  },
  {
   "cell_type": "code",
   "execution_count": null,
   "metadata": {},
   "outputs": [],
   "source": [
    "!cat requirements.txt"
   ]
  },
  {
   "cell_type": "code",
   "execution_count": null,
   "metadata": {},
   "outputs": [],
   "source": [
    "%%bash\n",
    "# Install all requirements from a requirements.txt file \n",
    "# NOTE: It doesn't actually have to be named \"requirements.txt\"\n",
    "pip install --user -r requirements.txt"
   ]
  },
  {
   "cell_type": "code",
   "execution_count": null,
   "metadata": {},
   "outputs": [],
   "source": [
    "%%bash\n",
    "# Didn't start with a requirements.txt, but you need one now?  No problem!\n",
    "# List off packages, with versions, that have been installed.\n",
    "pip freeze"
   ]
  },
  {
   "cell_type": "code",
   "execution_count": null,
   "metadata": {},
   "outputs": [],
   "source": [
    "%%bash\n",
    "# Use it to generate your requirements.txt\n",
    "pip freeze > requirements-captured.txt\n",
    "cat requirements-captured.txt"
   ]
  },
  {
   "cell_type": "markdown",
   "metadata": {},
   "source": [
    "### A note about pip freeze...\n",
    "This will pin every version by default, and show sub-dependencies, so you may need to edit and clean up a bit!  Try to capture just your project's DIRECT dependencies and let pip do the rest"
   ]
  },
  {
   "cell_type": "markdown",
   "metadata": {},
   "source": [
    "### Why pin versions at all?\n",
    "- Ensure different developers are working on the same packages\n",
    "- No surprises if a package drops support for your Python version or removes a feature\n",
    "- Deterministic Builds\n",
    "- Also, Deterministic Builds\n",
    "- Did I mention Deterministic Builds?"
   ]
  },
  {
   "cell_type": "markdown",
   "metadata": {},
   "source": [
    "### Versioning and Packages\n",
    "- **Semantic Versioning**\n",
    "    - Versions specified as MAJOR.MINOR.PATCH (and occasionally a fourth value for a build number)\n",
    "    - Each \"segment\" is independent and increases independently\n",
    "    - **Major** version increment indicates large, possibly backward-incompatible changes (Python 2.7 -> 3.6)\n",
    "    - **Minor** version increment indicates smaller changes, usually backward compatible. (Python 3.6 -> Python 3.7)\n",
    "    - **Patch** version increment indicates bug fixes, security updates, etc. - no functional changes\n",
    "    - Most Python packages are versioned this way\n",
    "    - https://semver.org/\n",
    "- **Calendar Versioning**\n",
    "    - Version numbers are based on a release schedule (usually year and month)\n",
    "    - Ex. Ubuntu 20.04 ->  Released in April, 2020\n",
    "    - No indication of what is contained in the version (but nothing misleading either!)\n",
    "    - https://calver.org/"
   ]
  },
  {
   "cell_type": "markdown",
   "metadata": {},
   "source": [
    "## Alternatives to pip\n",
    "- **pipenv** - Attempts to remove the problem of dependency conflicts in pip\n",
    "- **poetry** - Designed primarily to handle dependies for publishing packages\n",
    "- **conda** - Basically pip, but for the Anaconda Python Distribution"
   ]
  },
  {
   "cell_type": "markdown",
   "metadata": {},
   "source": [
    "### So now you've got dependencies handled for your project...\n",
    "### But what happens when you set up the next one?"
   ]
  },
  {
   "cell_type": "markdown",
   "metadata": {},
   "source": [
    "## Dependency Hell\n",
    "![Tech Loops](images/tech_loops_2x.png)"
   ]
  },
  {
   "cell_type": "markdown",
   "metadata": {},
   "source": [
    "## Enter Virtualenv - isolated dependencies for Python projects\n",
    "- Virtualenv (\"virtual environment\") is a Python package\n",
    "- Distributed as the \"venv\" module in modern Python versions\n",
    "- Uses environment settings, paths, and a few other \"tricks\" to isolate a project from the system, and from each other!\n",
    "- Despite the name, NOT a virtual machine or emulation layer"
   ]
  },
  {
   "cell_type": "code",
   "execution_count": 1,
   "metadata": {},
   "outputs": [],
   "source": [
    "%%bash\n",
    "# Create a new virtualenv\n",
    "python3 -m venv myproject"
   ]
  },
  {
   "cell_type": "code",
   "execution_count": 2,
   "metadata": {},
   "outputs": [
    {
     "name": "stdout",
     "output_type": "stream",
     "text": [
      "total 8\n",
      "drwxr-xr-x   6 n0282780  staff  192 Sep 27 14:13 .\n",
      "drwxr-xr-x  18 n0282780  staff  576 Sep 27 14:13 ..\n",
      "drwxr-xr-x  12 n0282780  staff  384 Sep 27 14:14 bin\n",
      "drwxr-xr-x   2 n0282780  staff   64 Sep 27 14:13 include\n",
      "drwxr-xr-x   3 n0282780  staff   96 Sep 27 14:13 lib\n",
      "-rw-r--r--   1 n0282780  staff   76 Sep 27 14:13 pyvenv.cfg\n"
     ]
    }
   ],
   "source": [
    "%%bash\n",
    "# Take a peek in the virtualenv\n",
    "ls -al myproject"
   ]
  },
  {
   "cell_type": "code",
   "execution_count": 3,
   "metadata": {},
   "outputs": [
    {
     "name": "stdout",
     "output_type": "stream",
     "text": [
      "total 72\n",
      "drwxr-xr-x  12 n0282780  staff   384 Sep 27 14:14 .\n",
      "drwxr-xr-x   6 n0282780  staff   192 Sep 27 14:13 ..\n",
      "-rw-rw-r--   1 n0282780  staff  9033 Sep 27 14:14 Activate.ps1\n",
      "-rw-rw-r--   1 n0282780  staff  2057 Sep 27 14:14 activate\n",
      "-rw-rw-r--   1 n0282780  staff   983 Sep 27 14:14 activate.csh\n",
      "-rw-rw-r--   1 n0282780  staff  2125 Sep 27 14:14 activate.fish\n",
      "-rwxr-xr-x   1 n0282780  staff   332 Sep 27 14:14 pip\n",
      "-rwxr-xr-x   1 n0282780  staff   332 Sep 27 14:14 pip3\n",
      "-rwxr-xr-x   1 n0282780  staff   332 Sep 27 14:14 pip3.10\n",
      "lrwxr-xr-x   1 n0282780  staff     7 Sep 27 14:13 python -> python3\n",
      "lrwxr-xr-x   1 n0282780  staff    22 Sep 27 14:13 python3 -> /usr/local/bin/python3\n",
      "lrwxr-xr-x   1 n0282780  staff     7 Sep 27 14:13 python3.10 -> python3\n"
     ]
    }
   ],
   "source": [
    "%%bash\n",
    "# What was installed that we can now use?\n",
    "ls -al myproject/bin"
   ]
  },
  {
   "cell_type": "code",
   "execution_count": 4,
   "metadata": {},
   "outputs": [
    {
     "name": "stdout",
     "output_type": "stream",
     "text": [
      "Show Python Path\n",
      "/Users/n0282780/Documents/Git Repos/iea-cohort-08/05_python_for_devops/myproject/bin/python\n",
      "Python 3.10.7\n"
     ]
    },
    {
     "name": "stderr",
     "output_type": "stream",
     "text": [
      "bash: line 6: deactivate: No such file or directory\n"
     ]
    },
    {
     "ename": "CalledProcessError",
     "evalue": "Command 'b'# Activate the virtualenv and then check which Python we\\'re using\\nsource myproject/bin/activate\\necho \"Show Python Path\"\\nwhich python\\npython --version\\nsource deactivate\\n'' returned non-zero exit status 1.",
     "output_type": "error",
     "traceback": [
      "\u001b[0;31m---------------------------------------------------------------------------\u001b[0m",
      "\u001b[0;31mCalledProcessError\u001b[0m                        Traceback (most recent call last)",
      "Cell \u001b[0;32mIn [4], line 1\u001b[0m\n\u001b[0;32m----> 1\u001b[0m \u001b[43mget_ipython\u001b[49m\u001b[43m(\u001b[49m\u001b[43m)\u001b[49m\u001b[38;5;241;43m.\u001b[39;49m\u001b[43mrun_cell_magic\u001b[49m\u001b[43m(\u001b[49m\u001b[38;5;124;43m'\u001b[39;49m\u001b[38;5;124;43mbash\u001b[39;49m\u001b[38;5;124;43m'\u001b[39;49m\u001b[43m,\u001b[49m\u001b[43m \u001b[49m\u001b[38;5;124;43m'\u001b[39;49m\u001b[38;5;124;43m'\u001b[39;49m\u001b[43m,\u001b[49m\u001b[43m \u001b[49m\u001b[38;5;124;43m'\u001b[39;49m\u001b[38;5;124;43m# Activate the virtualenv and then check which Python we\u001b[39;49m\u001b[38;5;130;43;01m\\'\u001b[39;49;00m\u001b[38;5;124;43mre using\u001b[39;49m\u001b[38;5;130;43;01m\\n\u001b[39;49;00m\u001b[38;5;124;43msource myproject/bin/activate\u001b[39;49m\u001b[38;5;130;43;01m\\n\u001b[39;49;00m\u001b[38;5;124;43mecho \u001b[39;49m\u001b[38;5;124;43m\"\u001b[39;49m\u001b[38;5;124;43mShow Python Path\u001b[39;49m\u001b[38;5;124;43m\"\u001b[39;49m\u001b[38;5;130;43;01m\\n\u001b[39;49;00m\u001b[38;5;124;43mwhich python\u001b[39;49m\u001b[38;5;130;43;01m\\n\u001b[39;49;00m\u001b[38;5;124;43mpython --version\u001b[39;49m\u001b[38;5;130;43;01m\\n\u001b[39;49;00m\u001b[38;5;124;43msource deactivate\u001b[39;49m\u001b[38;5;130;43;01m\\n\u001b[39;49;00m\u001b[38;5;124;43m'\u001b[39;49m\u001b[43m)\u001b[49m\n",
      "File \u001b[0;32m~/Library/Python/3.10/lib/python/site-packages/IPython/core/interactiveshell.py:2362\u001b[0m, in \u001b[0;36mInteractiveShell.run_cell_magic\u001b[0;34m(self, magic_name, line, cell)\u001b[0m\n\u001b[1;32m   2360\u001b[0m \u001b[39mwith\u001b[39;00m \u001b[39mself\u001b[39m\u001b[39m.\u001b[39mbuiltin_trap:\n\u001b[1;32m   2361\u001b[0m     args \u001b[39m=\u001b[39m (magic_arg_s, cell)\n\u001b[0;32m-> 2362\u001b[0m     result \u001b[39m=\u001b[39m fn(\u001b[39m*\u001b[39;49margs, \u001b[39m*\u001b[39;49m\u001b[39m*\u001b[39;49mkwargs)\n\u001b[1;32m   2363\u001b[0m \u001b[39mreturn\u001b[39;00m result\n",
      "File \u001b[0;32m~/Library/Python/3.10/lib/python/site-packages/IPython/core/magics/script.py:153\u001b[0m, in \u001b[0;36mScriptMagics._make_script_magic.<locals>.named_script_magic\u001b[0;34m(line, cell)\u001b[0m\n\u001b[1;32m    151\u001b[0m \u001b[39melse\u001b[39;00m:\n\u001b[1;32m    152\u001b[0m     line \u001b[39m=\u001b[39m script\n\u001b[0;32m--> 153\u001b[0m \u001b[39mreturn\u001b[39;00m \u001b[39mself\u001b[39;49m\u001b[39m.\u001b[39;49mshebang(line, cell)\n",
      "File \u001b[0;32m~/Library/Python/3.10/lib/python/site-packages/IPython/core/magics/script.py:305\u001b[0m, in \u001b[0;36mScriptMagics.shebang\u001b[0;34m(self, line, cell)\u001b[0m\n\u001b[1;32m    300\u001b[0m \u001b[39mif\u001b[39;00m args\u001b[39m.\u001b[39mraise_error \u001b[39mand\u001b[39;00m p\u001b[39m.\u001b[39mreturncode \u001b[39m!=\u001b[39m \u001b[39m0\u001b[39m:\n\u001b[1;32m    301\u001b[0m     \u001b[39m# If we get here and p.returncode is still None, we must have\u001b[39;00m\n\u001b[1;32m    302\u001b[0m     \u001b[39m# killed it but not yet seen its return code. We don't wait for it,\u001b[39;00m\n\u001b[1;32m    303\u001b[0m     \u001b[39m# in case it's stuck in uninterruptible sleep. -9 = SIGKILL\u001b[39;00m\n\u001b[1;32m    304\u001b[0m     rc \u001b[39m=\u001b[39m p\u001b[39m.\u001b[39mreturncode \u001b[39mor\u001b[39;00m \u001b[39m-\u001b[39m\u001b[39m9\u001b[39m\n\u001b[0;32m--> 305\u001b[0m     \u001b[39mraise\u001b[39;00m CalledProcessError(rc, cell)\n",
      "\u001b[0;31mCalledProcessError\u001b[0m: Command 'b'# Activate the virtualenv and then check which Python we\\'re using\\nsource myproject/bin/activate\\necho \"Show Python Path\"\\nwhich python\\npython --version\\nsource deactivate\\n'' returned non-zero exit status 1."
     ]
    }
   ],
   "source": [
    "%%bash\n",
    "# Activate the virtualenv and then check which Python we're using\n",
    "source myproject/bin/activate\n",
    "echo \"Show Python Path\"\n",
    "which python\n",
    "python --version\n",
    "source deactivate"
   ]
  },
  {
   "cell_type": "code",
   "execution_count": 5,
   "metadata": {},
   "outputs": [
    {
     "name": "stdout",
     "output_type": "stream",
     "text": [
      "Collecting requests\n",
      "  Downloading requests-2.28.1-py3-none-any.whl (62 kB)\n",
      "     ━━━━━━━━━━━━━━━━━━━━━━━━━━━━━━━━━━━━━━━━ 62.8/62.8 kB 1.3 MB/s eta 0:00:00\n",
      "Collecting pytest\n",
      "  Downloading pytest-7.1.3-py3-none-any.whl (298 kB)\n",
      "     ━━━━━━━━━━━━━━━━━━━━━━━━━━━━━━━━━━━━━━━ 298.2/298.2 kB 6.1 MB/s eta 0:00:00\n",
      "Collecting python-dateutil\n",
      "  Using cached python_dateutil-2.8.2-py2.py3-none-any.whl (247 kB)\n",
      "Collecting idna<4,>=2.5\n",
      "  Downloading idna-3.4-py3-none-any.whl (61 kB)\n",
      "     ━━━━━━━━━━━━━━━━━━━━━━━━━━━━━━━━━━━━━━━━ 61.5/61.5 kB 7.0 MB/s eta 0:00:00\n",
      "Collecting certifi>=2017.4.17\n",
      "  Downloading certifi-2022.9.24-py3-none-any.whl (161 kB)\n",
      "     ━━━━━━━━━━━━━━━━━━━━━━━━━━━━━━━━━━━━━━ 161.1/161.1 kB 13.2 MB/s eta 0:00:00\n",
      "Collecting charset-normalizer<3,>=2\n",
      "  Downloading charset_normalizer-2.1.1-py3-none-any.whl (39 kB)\n",
      "Collecting urllib3<1.27,>=1.21.1\n",
      "  Downloading urllib3-1.26.12-py2.py3-none-any.whl (140 kB)\n",
      "     ━━━━━━━━━━━━━━━━━━━━━━━━━━━━━━━━━━━━━━ 140.4/140.4 kB 16.2 MB/s eta 0:00:00\n",
      "Collecting py>=1.8.2\n",
      "  Downloading py-1.11.0-py2.py3-none-any.whl (98 kB)\n",
      "     ━━━━━━━━━━━━━━━━━━━━━━━━━━━━━━━━━━━━━━━━ 98.7/98.7 kB 7.2 MB/s eta 0:00:00\n",
      "Collecting tomli>=1.0.0\n",
      "  Downloading tomli-2.0.1-py3-none-any.whl (12 kB)\n",
      "Collecting attrs>=19.2.0\n",
      "  Downloading attrs-22.1.0-py2.py3-none-any.whl (58 kB)\n",
      "     ━━━━━━━━━━━━━━━━━━━━━━━━━━━━━━━━━━━━━━━━ 58.8/58.8 kB 2.6 MB/s eta 0:00:00\n",
      "Collecting packaging\n",
      "  Using cached packaging-21.3-py3-none-any.whl (40 kB)\n",
      "Collecting pluggy<2.0,>=0.12\n",
      "  Downloading pluggy-1.0.0-py2.py3-none-any.whl (13 kB)\n",
      "Collecting iniconfig\n",
      "  Downloading iniconfig-1.1.1-py2.py3-none-any.whl (5.0 kB)\n",
      "Collecting six>=1.5\n",
      "  Using cached six-1.16.0-py2.py3-none-any.whl (11 kB)\n",
      "Collecting pyparsing!=3.0.5,>=2.0.2\n",
      "  Using cached pyparsing-3.0.9-py3-none-any.whl (98 kB)\n",
      "Installing collected packages: iniconfig, urllib3, tomli, six, pyparsing, py, pluggy, idna, charset-normalizer, certifi, attrs, requests, python-dateutil, packaging, pytest\n",
      "Successfully installed attrs-22.1.0 certifi-2022.9.24 charset-normalizer-2.1.1 idna-3.4 iniconfig-1.1.1 packaging-21.3 pluggy-1.0.0 py-1.11.0 pyparsing-3.0.9 pytest-7.1.3 python-dateutil-2.8.2 requests-2.28.1 six-1.16.0 tomli-2.0.1 urllib3-1.26.12\n",
      "Inside the virtualenv\n",
      "attrs==22.1.0\n",
      "certifi==2022.9.24\n",
      "charset-normalizer==2.1.1\n",
      "idna==3.4\n",
      "iniconfig==1.1.1\n",
      "packaging==21.3\n",
      "pluggy==1.0.0\n",
      "py==1.11.0\n",
      "pyparsing==3.0.9\n",
      "pytest==7.1.3\n",
      "python-dateutil==2.8.2\n",
      "requests==2.28.1\n",
      "six==1.16.0\n",
      "tomli==2.0.1\n",
      "urllib3==1.26.12\n"
     ]
    },
    {
     "name": "stderr",
     "output_type": "stream",
     "text": [
      "bash: line 6: deactivate: No such file or directory\n"
     ]
    },
    {
     "ename": "CalledProcessError",
     "evalue": "Command 'b'# Install things in JUST the virtual environment (not system wide)\\nsource myproject/bin/activate\\npython -m pip install requests pytest python-dateutil\\necho \"Inside the virtualenv\"\\npython -m pip freeze\\nsource deactivate\\n'' returned non-zero exit status 1.",
     "output_type": "error",
     "traceback": [
      "\u001b[0;31m---------------------------------------------------------------------------\u001b[0m",
      "\u001b[0;31mCalledProcessError\u001b[0m                        Traceback (most recent call last)",
      "Cell \u001b[0;32mIn [5], line 1\u001b[0m\n\u001b[0;32m----> 1\u001b[0m \u001b[43mget_ipython\u001b[49m\u001b[43m(\u001b[49m\u001b[43m)\u001b[49m\u001b[38;5;241;43m.\u001b[39;49m\u001b[43mrun_cell_magic\u001b[49m\u001b[43m(\u001b[49m\u001b[38;5;124;43m'\u001b[39;49m\u001b[38;5;124;43mbash\u001b[39;49m\u001b[38;5;124;43m'\u001b[39;49m\u001b[43m,\u001b[49m\u001b[43m \u001b[49m\u001b[38;5;124;43m'\u001b[39;49m\u001b[38;5;124;43m'\u001b[39;49m\u001b[43m,\u001b[49m\u001b[43m \u001b[49m\u001b[38;5;124;43m'\u001b[39;49m\u001b[38;5;124;43m# Install things in JUST the virtual environment (not system wide)\u001b[39;49m\u001b[38;5;130;43;01m\\n\u001b[39;49;00m\u001b[38;5;124;43msource myproject/bin/activate\u001b[39;49m\u001b[38;5;130;43;01m\\n\u001b[39;49;00m\u001b[38;5;124;43mpython -m pip install requests pytest python-dateutil\u001b[39;49m\u001b[38;5;130;43;01m\\n\u001b[39;49;00m\u001b[38;5;124;43mecho \u001b[39;49m\u001b[38;5;124;43m\"\u001b[39;49m\u001b[38;5;124;43mInside the virtualenv\u001b[39;49m\u001b[38;5;124;43m\"\u001b[39;49m\u001b[38;5;130;43;01m\\n\u001b[39;49;00m\u001b[38;5;124;43mpython -m pip freeze\u001b[39;49m\u001b[38;5;130;43;01m\\n\u001b[39;49;00m\u001b[38;5;124;43msource deactivate\u001b[39;49m\u001b[38;5;130;43;01m\\n\u001b[39;49;00m\u001b[38;5;124;43m'\u001b[39;49m\u001b[43m)\u001b[49m\n",
      "File \u001b[0;32m~/Library/Python/3.10/lib/python/site-packages/IPython/core/interactiveshell.py:2362\u001b[0m, in \u001b[0;36mInteractiveShell.run_cell_magic\u001b[0;34m(self, magic_name, line, cell)\u001b[0m\n\u001b[1;32m   2360\u001b[0m \u001b[39mwith\u001b[39;00m \u001b[39mself\u001b[39m\u001b[39m.\u001b[39mbuiltin_trap:\n\u001b[1;32m   2361\u001b[0m     args \u001b[39m=\u001b[39m (magic_arg_s, cell)\n\u001b[0;32m-> 2362\u001b[0m     result \u001b[39m=\u001b[39m fn(\u001b[39m*\u001b[39;49margs, \u001b[39m*\u001b[39;49m\u001b[39m*\u001b[39;49mkwargs)\n\u001b[1;32m   2363\u001b[0m \u001b[39mreturn\u001b[39;00m result\n",
      "File \u001b[0;32m~/Library/Python/3.10/lib/python/site-packages/IPython/core/magics/script.py:153\u001b[0m, in \u001b[0;36mScriptMagics._make_script_magic.<locals>.named_script_magic\u001b[0;34m(line, cell)\u001b[0m\n\u001b[1;32m    151\u001b[0m \u001b[39melse\u001b[39;00m:\n\u001b[1;32m    152\u001b[0m     line \u001b[39m=\u001b[39m script\n\u001b[0;32m--> 153\u001b[0m \u001b[39mreturn\u001b[39;00m \u001b[39mself\u001b[39;49m\u001b[39m.\u001b[39;49mshebang(line, cell)\n",
      "File \u001b[0;32m~/Library/Python/3.10/lib/python/site-packages/IPython/core/magics/script.py:305\u001b[0m, in \u001b[0;36mScriptMagics.shebang\u001b[0;34m(self, line, cell)\u001b[0m\n\u001b[1;32m    300\u001b[0m \u001b[39mif\u001b[39;00m args\u001b[39m.\u001b[39mraise_error \u001b[39mand\u001b[39;00m p\u001b[39m.\u001b[39mreturncode \u001b[39m!=\u001b[39m \u001b[39m0\u001b[39m:\n\u001b[1;32m    301\u001b[0m     \u001b[39m# If we get here and p.returncode is still None, we must have\u001b[39;00m\n\u001b[1;32m    302\u001b[0m     \u001b[39m# killed it but not yet seen its return code. We don't wait for it,\u001b[39;00m\n\u001b[1;32m    303\u001b[0m     \u001b[39m# in case it's stuck in uninterruptible sleep. -9 = SIGKILL\u001b[39;00m\n\u001b[1;32m    304\u001b[0m     rc \u001b[39m=\u001b[39m p\u001b[39m.\u001b[39mreturncode \u001b[39mor\u001b[39;00m \u001b[39m-\u001b[39m\u001b[39m9\u001b[39m\n\u001b[0;32m--> 305\u001b[0m     \u001b[39mraise\u001b[39;00m CalledProcessError(rc, cell)\n",
      "\u001b[0;31mCalledProcessError\u001b[0m: Command 'b'# Install things in JUST the virtual environment (not system wide)\\nsource myproject/bin/activate\\npython -m pip install requests pytest python-dateutil\\necho \"Inside the virtualenv\"\\npython -m pip freeze\\nsource deactivate\\n'' returned non-zero exit status 1."
     ]
    }
   ],
   "source": [
    "%%bash\n",
    "# Install things in JUST the virtual environment (not system wide)\n",
    "source myproject/bin/activate\n",
    "python -m pip install requests pytest python-dateutil\n",
    "echo \"Inside the virtualenv\"\n",
    "python -m pip freeze\n",
    "source deactivate"
   ]
  },
  {
   "cell_type": "code",
   "execution_count": 6,
   "metadata": {},
   "outputs": [
    {
     "name": "stdout",
     "output_type": "stream",
     "text": [
      "Outside the virtualenv\n"
     ]
    },
    {
     "name": "stderr",
     "output_type": "stream",
     "text": [
      "bash: line 2: python: command not found\n"
     ]
    },
    {
     "ename": "CalledProcessError",
     "evalue": "Command 'b'echo \"Outside the virtualenv\"\\npython -m pip freeze\\n'' returned non-zero exit status 127.",
     "output_type": "error",
     "traceback": [
      "\u001b[0;31m---------------------------------------------------------------------------\u001b[0m",
      "\u001b[0;31mCalledProcessError\u001b[0m                        Traceback (most recent call last)",
      "Cell \u001b[0;32mIn [6], line 1\u001b[0m\n\u001b[0;32m----> 1\u001b[0m \u001b[43mget_ipython\u001b[49m\u001b[43m(\u001b[49m\u001b[43m)\u001b[49m\u001b[38;5;241;43m.\u001b[39;49m\u001b[43mrun_cell_magic\u001b[49m\u001b[43m(\u001b[49m\u001b[38;5;124;43m'\u001b[39;49m\u001b[38;5;124;43mbash\u001b[39;49m\u001b[38;5;124;43m'\u001b[39;49m\u001b[43m,\u001b[49m\u001b[43m \u001b[49m\u001b[38;5;124;43m'\u001b[39;49m\u001b[38;5;124;43m'\u001b[39;49m\u001b[43m,\u001b[49m\u001b[43m \u001b[49m\u001b[38;5;124;43m'\u001b[39;49m\u001b[38;5;124;43mecho \u001b[39;49m\u001b[38;5;124;43m\"\u001b[39;49m\u001b[38;5;124;43mOutside the virtualenv\u001b[39;49m\u001b[38;5;124;43m\"\u001b[39;49m\u001b[38;5;130;43;01m\\n\u001b[39;49;00m\u001b[38;5;124;43mpython -m pip freeze\u001b[39;49m\u001b[38;5;130;43;01m\\n\u001b[39;49;00m\u001b[38;5;124;43m'\u001b[39;49m\u001b[43m)\u001b[49m\n",
      "File \u001b[0;32m~/Library/Python/3.10/lib/python/site-packages/IPython/core/interactiveshell.py:2362\u001b[0m, in \u001b[0;36mInteractiveShell.run_cell_magic\u001b[0;34m(self, magic_name, line, cell)\u001b[0m\n\u001b[1;32m   2360\u001b[0m \u001b[39mwith\u001b[39;00m \u001b[39mself\u001b[39m\u001b[39m.\u001b[39mbuiltin_trap:\n\u001b[1;32m   2361\u001b[0m     args \u001b[39m=\u001b[39m (magic_arg_s, cell)\n\u001b[0;32m-> 2362\u001b[0m     result \u001b[39m=\u001b[39m fn(\u001b[39m*\u001b[39;49margs, \u001b[39m*\u001b[39;49m\u001b[39m*\u001b[39;49mkwargs)\n\u001b[1;32m   2363\u001b[0m \u001b[39mreturn\u001b[39;00m result\n",
      "File \u001b[0;32m~/Library/Python/3.10/lib/python/site-packages/IPython/core/magics/script.py:153\u001b[0m, in \u001b[0;36mScriptMagics._make_script_magic.<locals>.named_script_magic\u001b[0;34m(line, cell)\u001b[0m\n\u001b[1;32m    151\u001b[0m \u001b[39melse\u001b[39;00m:\n\u001b[1;32m    152\u001b[0m     line \u001b[39m=\u001b[39m script\n\u001b[0;32m--> 153\u001b[0m \u001b[39mreturn\u001b[39;00m \u001b[39mself\u001b[39;49m\u001b[39m.\u001b[39;49mshebang(line, cell)\n",
      "File \u001b[0;32m~/Library/Python/3.10/lib/python/site-packages/IPython/core/magics/script.py:305\u001b[0m, in \u001b[0;36mScriptMagics.shebang\u001b[0;34m(self, line, cell)\u001b[0m\n\u001b[1;32m    300\u001b[0m \u001b[39mif\u001b[39;00m args\u001b[39m.\u001b[39mraise_error \u001b[39mand\u001b[39;00m p\u001b[39m.\u001b[39mreturncode \u001b[39m!=\u001b[39m \u001b[39m0\u001b[39m:\n\u001b[1;32m    301\u001b[0m     \u001b[39m# If we get here and p.returncode is still None, we must have\u001b[39;00m\n\u001b[1;32m    302\u001b[0m     \u001b[39m# killed it but not yet seen its return code. We don't wait for it,\u001b[39;00m\n\u001b[1;32m    303\u001b[0m     \u001b[39m# in case it's stuck in uninterruptible sleep. -9 = SIGKILL\u001b[39;00m\n\u001b[1;32m    304\u001b[0m     rc \u001b[39m=\u001b[39m p\u001b[39m.\u001b[39mreturncode \u001b[39mor\u001b[39;00m \u001b[39m-\u001b[39m\u001b[39m9\u001b[39m\n\u001b[0;32m--> 305\u001b[0m     \u001b[39mraise\u001b[39;00m CalledProcessError(rc, cell)\n",
      "\u001b[0;31mCalledProcessError\u001b[0m: Command 'b'echo \"Outside the virtualenv\"\\npython -m pip freeze\\n'' returned non-zero exit status 127."
     ]
    }
   ],
   "source": [
    "%%bash\n",
    "echo \"Outside the virtualenv\"\n",
    "python -m pip freeze"
   ]
  },
  {
   "cell_type": "markdown",
   "metadata": {},
   "source": [
    "### Virtualenv has a lot of options\n",
    "- Specify the Python version in the virtualenv\n",
    "- Specify the directory to create the virtualenv\n",
    "- Whether or not to install pip by default"
   ]
  },
  {
   "cell_type": "code",
   "execution_count": 7,
   "metadata": {},
   "outputs": [
    {
     "name": "stdout",
     "output_type": "stream",
     "text": [
      "usage: venv [-h] [--system-site-packages] [--symlinks | --copies] [--clear]\n",
      "            [--upgrade] [--without-pip] [--prompt PROMPT] [--upgrade-deps]\n",
      "            ENV_DIR [ENV_DIR ...]\n",
      "\n",
      "Creates virtual Python environments in one or more target directories.\n",
      "\n",
      "positional arguments:\n",
      "  ENV_DIR               A directory to create the environment in.\n",
      "\n",
      "options:\n",
      "  -h, --help            show this help message and exit\n",
      "  --system-site-packages\n",
      "                        Give the virtual environment access to the system\n",
      "                        site-packages dir.\n",
      "  --symlinks            Try to use symlinks rather than copies, when symlinks\n",
      "                        are not the default for the platform.\n",
      "  --copies              Try to use copies rather than symlinks, even when\n",
      "                        symlinks are the default for the platform.\n",
      "  --clear               Delete the contents of the environment directory if it\n",
      "                        already exists, before environment creation.\n",
      "  --upgrade             Upgrade the environment directory to use this version\n",
      "                        of Python, assuming Python has been upgraded in-place.\n",
      "  --without-pip         Skips installing or upgrading pip in the virtual\n",
      "                        environment (pip is bootstrapped by default)\n",
      "  --prompt PROMPT       Provides an alternative prompt prefix for this\n",
      "                        environment.\n",
      "  --upgrade-deps        Upgrade core dependencies: pip setuptools to the\n",
      "                        latest version in PyPI\n",
      "\n",
      "Once an environment has been created, you may wish to activate it, e.g. by\n",
      "sourcing an activate script in its bin directory.\n"
     ]
    }
   ],
   "source": [
    "!python3 -m venv --help"
   ]
  },
  {
   "cell_type": "code",
   "execution_count": 8,
   "metadata": {},
   "outputs": [],
   "source": [
    "### If you don't need it anymore, just delete it!\n",
    "### Virtualenvs are just directories, nothing magical\n",
    "!rm -rf ./myproject"
   ]
  },
  {
   "cell_type": "markdown",
   "metadata": {},
   "source": [
    "## Lab: Setting up a new Python project\n",
    "Create a new Python project and install some dependencies to get started.\n",
    "* Create a new directory for your project (choose any name you like) and create a virtualenv named `venv` inside it.  Make sure you set it up with Python 3!\n",
    "* Activate and install the following packages in your virtualenv:  \n",
    "    * `requests`\n",
    "    * `black`\n",
    "    * `pytest`\n",
    "* Use pip to generate a `requirements.txt` file for your project\n",
    "* BONUS:  Figure out what you should add to your `.gitignore` file if you wanted to put this new project into git, but exclude the virtualenv."
   ]
  },
  {
   "cell_type": "markdown",
   "metadata": {},
   "source": [
    "## Digging Deeper - More tools to explore"
   ]
  },
  {
   "cell_type": "markdown",
   "metadata": {},
   "source": [
    "### setuptools - Python tools for building and distributing packages\n",
    "- Provides standard configuration files to specify project names, version, dependencies, etc.\n",
    "- Allows on-installation scripts to run if your package needs to be setup\n",
    "- Well established and supported by the Python community:  \n",
    "- https://setuptools.readthedocs.io/en/latest/"
   ]
  },
  {
   "cell_type": "markdown",
   "metadata": {},
   "source": [
    "### virtualenvwrapper - A set of scripts for managing multiple virtual environments on a system\n",
    "- Easily set up new virtualenvs for projects in a single, well-defined directory\n",
    "- Tools to easily switch projects by changing directories and activating virtualenvs for you\n",
    "- List off existing virtualenvs, remove them, etc.\n",
    "- https://virtualenvwrapper.readthedocs.io/en/latest/index.html"
   ]
  },
  {
   "cell_type": "markdown",
   "metadata": {},
   "source": [
    "## Best Practices for avoiding Dependency Hell\n",
    "- When you start a new project, or clone an existing one for the first time, set up a virtualenv\n",
    "- Only install dependencies to the system that will be used everywhere (like virtualenv itself, or pip)\n",
    "- Always run your project in a virtualenv, even if it's the only tool on the system\n",
    "- Use tools to upgrade your dependencies in development, but always pin for deployments!\n",
    "- Be explicit in your project about which versions of Python you support, and which versions of packages, so everyone can set up their environment correctly.\n",
    "- Need different dependencies for dev/test vs. prod?  Make multiple requirements.txt files and multiple virtualenvs!"
   ]
  },
  {
   "cell_type": "code",
   "execution_count": null,
   "metadata": {},
   "outputs": [],
   "source": []
  }
 ],
 "metadata": {
  "celltoolbar": "Slideshow",
  "kernelspec": {
   "display_name": "Python 3.10.7 64-bit",
   "language": "python",
   "name": "python3"
  },
  "language_info": {
   "codemirror_mode": {
    "name": "ipython",
    "version": 3
   },
   "file_extension": ".py",
   "mimetype": "text/x-python",
   "name": "python",
   "nbconvert_exporter": "python",
   "pygments_lexer": "ipython3",
   "version": "3.10.7"
  },
  "vscode": {
   "interpreter": {
    "hash": "aee8b7b246df8f9039afb4144a1f6fd8d2ca17a180786b69acc140d282b71a49"
   }
  }
 },
 "nbformat": 4,
 "nbformat_minor": 5
}
