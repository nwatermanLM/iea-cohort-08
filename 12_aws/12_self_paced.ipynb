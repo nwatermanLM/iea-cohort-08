{
 "cells": [
  {
   "cell_type": "markdown",
   "metadata": {},
   "source": [
    "## 11/8\n",
    "\n",
    "Yesterday we introduced the concept of AWS regions and availability zones.  Take a look at some of the existing and upcoming regions here:\n",
    "\thttps://aws.amazon.com/about-aws/global-infrastructure/\n",
    "\t\n",
    "AWS Availability zones essentially equate to data centers. Take a look at the details of what availability zones guarentee for us here:\n",
    "\thttps://aws.amazon.com/about-aws/global-infrastructure/regions_az/?p=ngi&loc=2\n",
    "\t\n",
    "Consider a workload you or your team currently run on-prem or in a data center.  What would need to be involved to move that workload to the cloud?  What services might be required?  Is there anything preventing you from doing so and could it be corrected?\n",
    "\t\n",
    "We discussed IAM this morning - IAM is the core service that manages users and permissions for the rest of the AWS API.  Explore IAM further by examing the Policy Generator tool to create a policy JSON document outside of AWS here:\n",
    "\thttps://awspolicygen.s3.amazonaws.com/policygen.html\n",
    "\t\n",
    "You can test policies and permissions in IAM using the AWS Policy Simulator, which will let you know whether or not you can perform certain actions, given a set of policies in place.  You can read about the policy simulator and try it if you have access to an AWS account here:\n",
    "\thttps://docs.aws.amazon.com/IAM/latest/UserGuide/access_policies_testing-policies.html\n",
    "\t\n",
    "Everything we've discussed is available via the AWS REST API, which you can read about in the AWS docs.  Here's an example of the REST API reference for EC2:  https://docs.aws.amazon.com/AWSEC2/latest/APIReference/Welcome.html\n",
    "\t\n",
    "Create a virualenv on your Workspace and use pip to install the \"boto3\" Python SDK.  We don't have an AWS Key ID or Secret Key yet to make actual calls, but you can explore the tool and its documentation here:  https://aws.amazon.com/sdk-for-python/\n",
    "\t\n",
    "Examine the AMI Marketplace for EC2, and see if you can find software we've covered in this course or that you use in your daily work:\n",
    "\thttps://aws.amazon.com/marketplace\n",
    "\t\n",
    "We previously covered Ansible playbooks.  Ansible has support for a variety of AWS services, allowing you to provision or configure those services in an automated fashion.  Explore the Ansible AWS modules here:  https://docs.ansible.com/ansible/latest/collections/amazon/aws/index.html"
   ]
  },
  {
   "cell_type": "markdown",
   "metadata": {},
   "source": [
    "## 11/9\n",
    "\n",
    "Complete any of the Qwiklabs you did not complete today.\n",
    "\t\n",
    "If you would like, you can try the optional labs I've suggested on additional features of EC2 like Autoscaling Groups.\n",
    "\t\n",
    "Verify that you can log into the DevelopIntelligence/Pluralsight AWS account and get into the web console.  Try exploring some of the services we've discussed so far this week.\n",
    "\t\n",
    "Using IAM, try to create yourself an AWS Key ID and Secret Key.  Remember that you can only download or view these once!  Once you have done so, try using aws configure to configure the key and secret and make some API calls into the AWS account.  Remember that you can upgrade your AWS CLI tool just by installing with pip if need be. See the README for v1 here: https://github.com/aws/aws-cli\n",
    "\t\n",
    "If you have correctly created and configured your AWS credentials, they should now be available to use in the Python SDK, \"boto3\".  You can easily install it with pip into a virtualenv or your user directory, and then begin using it simply by importing \"boto3\".  Follow the installation instructions and user guide in the docs here:  https://boto3.amazonaws.com/v1/documentation/api/latest/index.html\n",
    "\t\n",
    "See if you can create a small script in Python using boto3 to start a t2.micro EC2 instance with port 22 exposed for SSH.  Pay attention in the docs to which parameters of the boto3 functions are required and which are optional and can be defaulted.  Have your script print out the new external IP address of the instance if it completes successfully.\n",
    "\t\n",
    "Log in to the web console of the DI AWS Account and explore the AWS services you have permission to see.  We will not be covering the vast majority of them, but you may find some you'd like to explore further on your own.\n",
    "\t\n",
    "See if you can create an Ansible Playbook and use the AWS modules in Ansible to launch an EC2 instance:  https://docs.ansible.com/ansible/latest/collections/amazon/aws/ec2_instance_module.html#ansible-collections-amazon-aws-ec2-instance-module\n",
    "\tNOTE: Make sure you consider where you could store your credentials if you were going to use Ansible frequently for these types of tasks.\n",
    "\t\n",
    "I demonstrated how you can use AWS to create a new SSH keypair, but I mentioned that this breaks the \"rule\" of never transmitting your private key over the Internet.  AWS also supports importing just a public key from a keypair you create yourself using a tool like ssh-keygen, as we did before.  See if you can create a keypair on your Workspace and import just the public key to AWS, and then launch an EC2 instance using that keypair and successfully log into it.  Follow this guide:\n",
    "\thttps://docs.aws.amazon.com/AWSEC2/latest/UserGuide/create-key-pairs.html#how-to-generate-your-own-key-and-import-it-to-aws"
   ]
  },
  {
   "cell_type": "markdown",
   "metadata": {},
   "source": []
  }
 ],
 "metadata": {
  "kernelspec": {
   "display_name": "Python 3.10.7 64-bit",
   "language": "python",
   "name": "python3"
  },
  "language_info": {
   "name": "python",
   "version": "3.10.7"
  },
  "orig_nbformat": 4,
  "vscode": {
   "interpreter": {
    "hash": "aee8b7b246df8f9039afb4144a1f6fd8d2ca17a180786b69acc140d282b71a49"
   }
  }
 },
 "nbformat": 4,
 "nbformat_minor": 2
}
